{
 "cells": [
  {
   "cell_type": "markdown",
   "metadata": {},
   "source": [
    "# [CP-113A] Analyzing the ACS \n",
    "\n",
    "\n",
    "---\n",
    "\n",
    "\n",
    "### Professor: Sara Hinkley\n",
    "\n",
    "Welcome to Analyzing the ACS data! In this lab, we will introduce you to Jupyter Notebooks and the tools that you are going to use to conduct your data analysis of data from the American Community Survey (ACS). In the main part of this notebook, you will work with the ACS dataset using this Jupyter Notebook and learn how to read tabular datasets, interpret data visualizations, and compare various economic indicators. By the end of this notebook, you will also apply your knowledge to answer a set of short answer questions.\n",
    "\n",
    "Estimated Time: 1 Hour\n",
    "\n",
    "---\n",
    "\n",
    "\n",
    "## Table of Contents (TBD, will be updated later)\n",
    "\n",
    "1. \n",
    "\n",
    "---\n",
    "\n",
    "\n",
    "## Today's lab (TBD, will be updated later)\n",
    "\n",
    "\n",
    "1. Navigate the Jupyter Notebook \n",
    "\n",
    "\n"
   ]
  },
  {
   "cell_type": "markdown",
   "metadata": {},
   "source": [
    "# Part 1: The Jupyter Notebook <a id='section 0'></a>\n",
    "\n",
    "Before we start our lab, we want to give a brief introduction to Jupyter Notebooks (like this one) where you will work on conducting your survey analysis. \n",
    "\n",
    "**Jupyter notebooks** are documents that can contain a seamless compilation of text, code, visualizations, and more. A notebook is composed of two types of rectangular **cells**:  markdown and code. A **markdown cell**, such as this one, contains text. A **code cell** contains code. All of the code in this notebook is in a programming language called **Python**. You can select any cell by clicking it once. After a cell is selected, you can navigate the notebook using the up and down arrow keys or by simply scrolling.\n",
    "\n",
    "### 1.1 Run a cell <a id='subsection 0a'></a>\n",
    "To run a code cell once it's been selected, \n",
    "- press `Shift` + `Enter`, or\n",
    "- click the Run button in the toolbar at the top of the screen. \n",
    "\n",
    "If a code cell is running, you will see an asterisk (\\*) appear in the square brackets to the left of the cell. Once the cell has finished running, a number corresponding to the order in which the cell was run will replace the asterisk and any output from the code will appear under the cell."
   ]
  },
  {
   "cell_type": "markdown",
   "metadata": {},
   "source": [
    "### 1.2 Editing a cell <a id='subsection 0c'></a>\n",
    "\n",
    "**Question 1.2.1** You can edit a Markdown cell by clicking it twice. Text in Markdown cells is written in [**Markdown**](https://daringfireball.net/projects/markdown/), a formatting syntax for plain text, so you may see some funky symbols when you edit a text cell. Once you've made your changes, you can exit text editing mode by running the cell. Edit the next cell to fix the misspelling."
   ]
  },
  {
   "cell_type": "markdown",
   "metadata": {},
   "source": [
    "This is an analysis of economic survy data."
   ]
  },
  {
   "cell_type": "markdown",
   "metadata": {},
   "source": [
    "### 1.3 Saving and loading <a id='subsection 0d'></a>\n",
    "\n",
    "#### Saving and Loading\n",
    "\n",
    "Your notebook can record all of your text and code edits, as well as any graphs you generate or calculations you make. You can save the notebook in its current state by clicking `Control-S`/`Command-S`, clicking the **floppy disc icon** in the toolbar at the top of the page, or by navigating to **File > Save and Checkpoint** in the menu bar.\n",
    "\n",
    "The next time you open the notebook, it will look the same as when you last saved it.\n",
    "\n",
    "**Note:** After loading a notebook you will see all the outputs (graphs, computations, etc) from your last session, but you won't be able to use any variables you assigned or functions you defined. You can get the functions and variables back by re-running the cells where they were defined – the easiest way is to **highlight the cell where you left off work, then go to Cell > Run all above** in the menu bar. You can also use this menu to run all cells in the notebook by clicking **Run all**."
   ]
  },
  {
   "cell_type": "markdown",
   "metadata": {},
   "source": [
    "**Please run the cell below to load the modules we will be using throughout this notebook.**"
   ]
  },
  {
   "cell_type": "code",
   "execution_count": 1,
   "metadata": {},
   "outputs": [],
   "source": [
    "from datascience import *\n",
    "import pandas as pd\n",
    "import numpy as np\n",
    "import seaborn as sns \n",
    "import matplotlib.pyplot as plt\n",
    "%matplotlib inline\n",
    "import warnings\n",
    "\n",
    "from IPython.display import HTML\n",
    "\n",
    "# import the widgets module\n",
    "import ipywidgets as widgets\n",
    "from ipywidgets import interact, interactive, fixed, interact_manual\n",
    "\n",
    "warnings.filterwarnings(\"ignore\")\n",
    "sns.set(style=\"whitegrid\")"
   ]
  },
  {
   "cell_type": "markdown",
   "metadata": {},
   "source": [
    "# Part 2: Understanding the Dataset"
   ]
  },
  {
   "cell_type": "markdown",
   "metadata": {},
   "source": [
    "In today's lab, we will be analyzing data from the ASEC CPS, or the Annual Social and Economic Supplement of the Current Population Survey. In short, this is a source of official estimates of of poverty levels and rates and of widely used measures of income. In this part of the lab, we will get familiar with how to read tabular data and answer questions using statistical analysis. "
   ]
  },
  {
   "cell_type": "markdown",
   "metadata": {},
   "source": [
    "*First, run the cell below to get an idea of what our dataset looks like*"
   ]
  },
  {
   "cell_type": "code",
   "execution_count": 2,
   "metadata": {},
   "outputs": [
    {
     "data": {
      "text/html": [
       "<table border=\"1\" class=\"dataframe\">\n",
       "    <thead>\n",
       "        <tr>\n",
       "            <th>Year</th> <th>Household Weight</th> <th>State</th> <th>County</th> <th>City</th> <th>Ownership Status</th> <th>Household Income</th> <th>Foodstamp Recipient</th> <th>Age</th> <th>Race</th> <th>Hispanic</th> <th>Education Status</th> <th>Employment Status</th> <th>Part of Labor Force</th> <th>Occupation</th> <th>Industry</th> <th>Type of Worker</th> <th>Employment Sector</th> <th>Hours worked per week</th> <th>Personal Pre-Tax Income</th> <th>Pre-Tax Income</th> <th>Pre-Tax Wages</th> <th>Poverty Status</th>\n",
       "        </tr>\n",
       "    </thead>\n",
       "    <tbody>\n",
       "        <tr>\n",
       "            <td>2007</td> <td>266             </td> <td>California</td> <td>El Centro, CA           </td> <td>Not in identifiable city (or size group)</td> <td>Rented                      </td> <td>15000           </td> <td>No                 </td> <td>32  </td> <td>White</td> <td>Hispanic    </td> <td>No HS           </td> <td>Employed         </td> <td>Yes, in the labor force</td> <td>Farming, Fishing        </td> <td>Agriculture, Hunting, Forestry</td> <td>Works for wages</td> <td> non-profit      </td> <td>40                   </td> <td>15000                  </td> <td>15000         </td> <td>15000        </td> <td>Near Poverty  </td>\n",
       "        </tr>\n",
       "        <tr>\n",
       "            <td>2007</td> <td>67              </td> <td>California</td> <td>Not in identifiable area</td> <td>Not in identifiable city (or size group)</td> <td>Owned or being bought (loan)</td> <td>72000           </td> <td>No                 </td> <td>52  </td> <td>White</td> <td>Not hispanic</td> <td>Graduate        </td> <td>Employed         </td> <td>Yes, in the labor force</td> <td>Healthcare Practitioners</td> <td>Health Care                   </td> <td>Works for wages</td> <td> private         </td> <td>45                   </td> <td>70000                  </td> <td>72000         </td> <td>70000        </td> <td>Non-Poverty   </td>\n",
       "        </tr>\n",
       "    </tbody>\n",
       "</table>\n",
       "<p>... (367177 rows omitted)</p>"
      ],
      "text/plain": [
       "<IPython.core.display.HTML object>"
      ]
     },
     "metadata": {},
     "output_type": "display_data"
    }
   ],
   "source": [
    "asec_cps = Table().read_table('fulldata.csv')\n",
    "asec_cps.show(2)"
   ]
  },
  {
   "cell_type": "markdown",
   "metadata": {},
   "source": [
    "What you see above is a table which contains every survey response from the ASEC CPS survey. Each row of the table represents *an individual, unique response*. Along the top of the table are the columns: these represent *the questions that the survey asks* respondents about.\n",
    "\n",
    "Our dataset consists of two surveys of Californian residents, combined for the years 2007 and 2017. Our goal is to compare trends over time. "
   ]
  },
  {
   "cell_type": "markdown",
   "metadata": {},
   "source": [
    "**2.1 Task: Scroll through the table and write down any observations or questions you have.**"
   ]
  },
  {
   "cell_type": "markdown",
   "metadata": {},
   "source": [
    "[Double click on this cell and write your answer here]"
   ]
  },
  {
   "cell_type": "markdown",
   "metadata": {},
   "source": [
    "At the very bottom, notice that it tells us that ~360,000 rows have been omitted. This is because our dataset is really large. In fact, it's so large that it would be very difficult to visualize it in a single notebook! [1] \n",
    "\n",
    "This is why we turn to *computational analysis*. Instead of inspecting the data by hand, *we will write code to tell our computer to analyze the data* for us. \n",
    "\n",
    "In this notebook, we use tools like data visualizations to answer interesting questions based on our survey data. "
   ]
  },
  {
   "cell_type": "markdown",
   "metadata": {},
   "source": [
    "Here's a concrete example of the power of computation:\n",
    "\n",
    "Question: What percentage of all survey respondents are Foodstamp Recipients?\n",
    "\n",
    "Obviously, for a dataset with few entries, this would be pretty easy to answer. However, for our dataset of 360,000+ respondents, this would be very difficult to count by hand. However, with code, this is easy to answer! \n",
    "\n",
    "**Run the cell below to calculate the percent of Foodstamp Recipients in our dataset.**"
   ]
  },
  {
   "cell_type": "code",
   "execution_count": 3,
   "metadata": {},
   "outputs": [
    {
     "name": "stdout",
     "output_type": "stream",
     "text": [
      "5.76%\n"
     ]
    }
   ],
   "source": [
    "print(str(np.round(asec_cps.where('Foodstamp Recipient', 'Yes').num_rows/asec_cps.num_rows, 4)*100) + '%')"
   ]
  },
  {
   "cell_type": "markdown",
   "metadata": {},
   "source": [
    "In *one line of code*, we were able to get an idea of the demographics of a large population- this is the power of computational analysis!\n",
    "\n",
    "\n",
    "Now that you understand the idea behind computational analysis and , let's delve into the data analysis. "
   ]
  },
  {
   "cell_type": "markdown",
   "metadata": {},
   "source": [
    "# Part 3: Data Analysis"
   ]
  },
  {
   "cell_type": "markdown",
   "metadata": {},
   "source": [
    "## A) Wages by industry and occupation"
   ]
  },
  {
   "cell_type": "markdown",
   "metadata": {},
   "source": [
    "In this part, we will investigate trends in wages between various industries and occupations. First, we will examine wages, industry, and occupation separately, and then compare them against each other and other survey variables. \n",
    "\n",
    "**Run the cell below to load the relevant data sets.**"
   ]
  },
  {
   "cell_type": "code",
   "execution_count": 5,
   "metadata": {},
   "outputs": [],
   "source": [
    "industry_2007 = pd.read_csv('industry_2007.csv')\n",
    "industry_2017 = pd.read_csv('industry_2017.csv')\n",
    "occupation_2007 = pd.read_csv('occupation_2007.csv')\n",
    "occupation_2017 = pd.read_csv('occupation_2017.csv')\n",
    "poverty_2007 = pd.read_csv('poverty_2007.csv')\n",
    "poverty_2017 = pd.read_csv('poverty_2017.csv')\n",
    "education_2007 = pd.read_csv('education_2007.csv')\n",
    "education_2017 = pd.read_csv('education_2017.csv')\n",
    "emp_sector_2007 = pd.read_csv('emp_sector_2007.csv')\n",
    "emp_sector_2017 = pd.read_csv('emp_sector_2017.csv')"
   ]
  },
  {
   "cell_type": "markdown",
   "metadata": {},
   "source": [
    "### 1. Wages in 2007 vs. 2017"
   ]
  },
  {
   "cell_type": "markdown",
   "metadata": {},
   "source": [
    "One question we may ask is: How did average wages of Californians change between 2007 and 2017? Let's answer that question. "
   ]
  },
  {
   "cell_type": "markdown",
   "metadata": {},
   "source": [
    "**Run the cell below.**"
   ]
  },
  {
   "cell_type": "code",
   "execution_count": null,
   "metadata": {},
   "outputs": [],
   "source": [
    "average_wages_2007 = np.round(industry_2007['Pre-Tax Wages'].mean(), 2)\n",
    "average_wages_2017 = np.round(industry_2017['Pre-Tax Wages'].mean(), 2)\n",
    "change_wages = np.round(average_wages_2017 - average_wages_2007, 2)\n",
    "print('The average wage in California in 2007 was: {}'.format(average_wages_2007), '\\n')\n",
    "print('The average wage in California in 2017 was: {}'.format(average_wages_2017), '\\n')\n",
    "print('The change in wages from 2007 to 2017 was: {}'.format(change_wages))"
   ]
  },
  {
   "cell_type": "markdown",
   "metadata": {},
   "source": [
    "**3A.1.1 Task: Speculate on what might be responsible for this change. Does this number tell us anything about the state of the economy itself?**"
   ]
  },
  {
   "cell_type": "markdown",
   "metadata": {},
   "source": [
    "[Double click on this cell and write your answer here]"
   ]
  },
  {
   "cell_type": "markdown",
   "metadata": {},
   "source": [
    "Perhaps, a better question would be: What is the *distribution of wages* in California over the period from 2007 to 2017? To answer this question, we will use a graph called a histogram. It tells us about the *spread* of a variable. \n",
    "\n",
    "**Run the cells below.**"
   ]
  },
  {
   "cell_type": "code",
   "execution_count": null,
   "metadata": {},
   "outputs": [],
   "source": [
    "plt.figure(figsize = (15, 7))\n",
    "sns.distplot(industry_2007['Pre-Tax Wages'], label = 'Wages in 2007')\n",
    "plt.title('Histogram of Pre-Tax Wages in California in 2007')\n",
    "plt.xlabel('Pre-Tax Wages ($)');"
   ]
  },
  {
   "cell_type": "code",
   "execution_count": null,
   "metadata": {},
   "outputs": [],
   "source": [
    "plt.figure(figsize = (15, 7))\n",
    "sns.distplot(industry_2017['Pre-Tax Wages'], label = 'Wages in 2017')\n",
    "plt.title('Histogram of Pre-Tax Wages in California in 2017')\n",
    "plt.xlabel('Pre-Tax Wages ($)');"
   ]
  },
  {
   "cell_type": "markdown",
   "metadata": {},
   "source": [
    "**3A.1.2 Task: Compare these two histograms. Is there a significant difference in distribution of wages between 2007 and 2017?**"
   ]
  },
  {
   "cell_type": "markdown",
   "metadata": {},
   "source": [
    "[Double click on this cell and write your answer here]"
   ]
  },
  {
   "cell_type": "markdown",
   "metadata": {},
   "source": [
    "Now that we have gotten a taste for analyzing data and interpreting graphs, let's move on to looking at industries and occupations of workers. "
   ]
  },
  {
   "cell_type": "markdown",
   "metadata": {},
   "source": [
    "### 2. Top Industries & Occupations in 2007 vs. 2017"
   ]
  },
  {
   "cell_type": "markdown",
   "metadata": {},
   "source": [
    "What were the top 10 industries that survey respondents worked in between 2007 and 2017? \n",
    "\n",
    "**Run the cell below. Adjust the slider to select the **"
   ]
  },
  {
   "cell_type": "code",
   "execution_count": null,
   "metadata": {},
   "outputs": [],
   "source": [
    "(industry_2007['Industry'].value_counts(normalize = True) * 100)[0:10]"
   ]
  },
  {
   "cell_type": "code",
   "execution_count": null,
   "metadata": {},
   "outputs": [],
   "source": [
    "(industry_2017['Industry'].value_counts(normalize = True) * 100)[0:10]"
   ]
  },
  {
   "cell_type": "markdown",
   "metadata": {},
   "source": [
    "**3A.2.1 Task: How have the top 10 industries of workers between 2007 and 2017 changed?**"
   ]
  },
  {
   "cell_type": "markdown",
   "metadata": {},
   "source": [
    "[Double click on this cell and write your answer here]"
   ]
  },
  {
   "cell_type": "markdown",
   "metadata": {},
   "source": [
    "### Changes in Top 5 Occupations"
   ]
  },
  {
   "cell_type": "code",
   "execution_count": null,
   "metadata": {},
   "outputs": [],
   "source": [
    "#This cell reads our data into the notebook. Just run it.\n",
    "\n",
    "occupation_seven = pd.read_csv('occupation_2007.csv')\n",
    "occupation_seventeen = pd.read_csv('occupation_2017.csv')\n",
    "occupation = pd.concat([occupation_seven, occupation_seventeen])"
   ]
  },
  {
   "cell_type": "markdown",
   "metadata": {},
   "source": [
    "First, lets visualize any possible changes in the top 5 occupations from 2007 to 2017."
   ]
  },
  {
   "cell_type": "code",
   "execution_count": null,
   "metadata": {},
   "outputs": [],
   "source": [
    "plt.figure(figsize=(7, 7))\n",
    "p = sns.countplot(data=occupation_seven,\n",
    "                  x = 'Occupation',\n",
    "                  order=occupation_seven['Occupation'].value_counts(sort=True).index[0:5],\n",
    "                 palette = sns.color_palette(\"ch:2.5,-.2,dark=.3\"))\n",
    "p.set_xticklabels(p.get_xticklabels(), rotation=45, ha='right')\n",
    "p.set_title('Top 5 Occupations in 2007', fontdict = {'fontsize': 25});\n",
    "p.set_xlabel('Occupation');"
   ]
  },
  {
   "cell_type": "code",
   "execution_count": null,
   "metadata": {},
   "outputs": [],
   "source": [
    "plt.figure(figsize=(7, 7))\n",
    "ax = sns.countplot(data=occupation_seventeen,\n",
    "                  x = 'Occupation',\n",
    "                   order=occupation_seventeen['Occupation'].value_counts(sort=True).index[0:5], \n",
    "                  palette = sns.color_palette(\"ch:2.5,-.2,dark=.3\"))\n",
    "ax.set_xticklabels(ax.get_xticklabels(), rotation=45, ha='right')\n",
    "ax.set_title('Top 5 Occupations in 2017', fontdict = {'fontsize': 25});\n",
    "ax.set_xlabel('Occupations');"
   ]
  },
  {
   "cell_type": "markdown",
   "metadata": {},
   "source": [
    "<div class=\"alert alert-success\">\n",
    "<b> What changes do you see in the top 5 occupation from 2007 to 2017? If there are changes, what are the differences between 2007 and 2017? </b> \n",
    "</div>"
   ]
  },
  {
   "cell_type": "markdown",
   "metadata": {},
   "source": [
    "##### Your answer here"
   ]
  },
  {
   "cell_type": "markdown",
   "metadata": {},
   "source": [
    "Let's visualize the top 5 occupations for both years side by side."
   ]
  },
  {
   "cell_type": "code",
   "execution_count": null,
   "metadata": {},
   "outputs": [],
   "source": [
    "plt.figure(figsize=(10,10));\n",
    "p = sns.countplot(data=occupation,\n",
    "                  x = 'Occupation',\n",
    "                  hue = 'Year', order=occupation['Occupation'].value_counts(sort=True).index[0:5], \n",
    "                 palette = sns.color_palette(\"PiYG\", 10))\n",
    "p.set_xticklabels(p.get_xticklabels(), rotation=45, ha=\"right\")\n",
    "p.set_title('Top 5 Industries in 2007 & 2017', fontdict= {'fontsize' : 20});\n",
    "p.set_xlabel('Industries');"
   ]
  },
  {
   "cell_type": "markdown",
   "metadata": {},
   "source": [
    "<div class=\"alert alert-success\">\n",
    "<b> Does this graph help visualize the changes in top 5 industries in a better way? If so, how? </b> \n",
    "</div>"
   ]
  },
  {
   "cell_type": "markdown",
   "metadata": {},
   "source": [
    "##### Your answer here."
   ]
  },
  {
   "cell_type": "markdown",
   "metadata": {},
   "source": [
    "### Top 5 Occupations by County"
   ]
  },
  {
   "cell_type": "markdown",
   "metadata": {},
   "source": [
    "Run the cell below. You should see a drop-down menu that allows youo to select one of the counties that our dataset contains. If you are an LA native, pick your county and analyze what the top 5 occupations were in 2007 and 2017. "
   ]
  },
  {
   "cell_type": "code",
   "execution_count": null,
   "metadata": {},
   "outputs": [],
   "source": [
    "def plot_occupations(county):\n",
    "    plt.figure(figsize=(10,10));\n",
    "    county_top_5 = occupation[occupation['County'] == county]\n",
    "    p = sns.countplot(data=county_top_5,\n",
    "                  x = 'Occupation',\n",
    "                  hue = 'Year', order=county_top_5['Occupation'].value_counts(sort=True).index[0:5], \n",
    "                     palette = sns.color_palette(\"deep\", 10))\n",
    "    p.set_xticklabels(p.get_xticklabels(), rotation=45, ha='right')\n",
    "    p.set_title('Top 5 Occupations in 2007 & 2017 in ' + str(county));\n",
    "    p.set_xlabel('Occupations');\n",
    "    \n",
    "county_widget = widgets.Dropdown(\n",
    "    options=list(occupation['County'].value_counts().index),\n",
    "    value=list(occupation['County'].value_counts().index)[0],\n",
    "    description='Select County:',\n",
    "    disabled=False,\n",
    ")\n",
    "\n",
    "interact(plot_occupations, county=county_widget);"
   ]
  },
  {
   "cell_type": "markdown",
   "metadata": {},
   "source": [
    "<div class=\"alert alert-success\">\n",
    "<b> What difference, if any, do you see in the top 5 occupations in both years between our entire dataset and your county/the county you selected? How does this reflect the history of the county ? </b> \n",
    "</div>"
   ]
  },
  {
   "cell_type": "markdown",
   "metadata": {},
   "source": [
    "##### Your answer here."
   ]
  },
  {
   "cell_type": "markdown",
   "metadata": {},
   "source": [
    " "
   ]
  },
  {
   "cell_type": "markdown",
   "metadata": {},
   "source": [
    " "
   ]
  },
  {
   "cell_type": "markdown",
   "metadata": {},
   "source": [
    "## B) Income Distribution"
   ]
  },
  {
   "cell_type": "markdown",
   "metadata": {},
   "source": [
    "For this category, we will look at distributions of income with respect to other variables. First, we will simply compare the distribution of incomes for survey respondents. \n",
    "\n",
    "**Run the cells below.**"
   ]
  },
  {
   "cell_type": "markdown",
   "metadata": {},
   "source": [
    "### 1. Distributions of Income"
   ]
  },
  {
   "cell_type": "code",
   "execution_count": null,
   "metadata": {},
   "outputs": [],
   "source": [
    "plt.figure(figsize = (15, 7))\n",
    "sns.distplot(poverty_2007['Personal Pre-Tax Income'], label = 'Wages in 2007')\n",
    "plt.title('Histogram of Personal Pre-Tax Income in California in 2007')\n",
    "plt.xlabel('Pre-Tax Income ($)');"
   ]
  },
  {
   "cell_type": "code",
   "execution_count": null,
   "metadata": {},
   "outputs": [],
   "source": [
    "plt.figure(figsize = (15, 7))\n",
    "sns.distplot(industry_2007['Personal Pre-Tax Income'], label = 'Wages in 2007')\n",
    "plt.title('Histogram of Personal Pre-Tax Income in California in 2007')\n",
    "plt.xlabel('Pre-Tax Income ($)');"
   ]
  },
  {
   "cell_type": "markdown",
   "metadata": {},
   "source": [
    "**3B.1.1 Task: Analyze the shapes of these histograms. How are they similar/different? Compare them with their respective histogram for wages, which we generated earlier. Are there any differences? Why might these differences arise?**"
   ]
  },
  {
   "cell_type": "markdown",
   "metadata": {},
   "source": [
    "[Double click on this cell and write your answer here]"
   ]
  },
  {
   "cell_type": "markdown",
   "metadata": {},
   "source": [
    "### 2. Statistics "
   ]
  },
  {
   "cell_type": "markdown",
   "metadata": {},
   "source": [
    "Over the past decade, the issue of income inequality has increasingly manifested, across the United States. Let's see if our dataset can provide evidence for this claim. \n",
    "\n",
    "Specifically, let's test if the gap between bottom and top percentile incomes have increased or decreased over a span of a decade. \n",
    "\n",
    "**Run the cell below. **"
   ]
  },
  {
   "cell_type": "code",
   "execution_count": null,
   "metadata": {},
   "outputs": [],
   "source": [
    "first_2007 = np.percentile(poverty_2007['Personal Pre-Tax Income'], 1)\n",
    "tenth_2007 = np.percentile(poverty_2007['Personal Pre-Tax Income'], 10)\n",
    "twenty_fifth_2007 = np.percentile(poverty_2007['Personal Pre-Tax Income'], 25)\n",
    "seventy_fifth_2007 = np.percentile(poverty_2007['Personal Pre-Tax Income'], 75)\n",
    "ninety_2007 = np.percentile(poverty_2007['Personal Pre-Tax Income'], 90)\n",
    "ninety_ninth_2007 = np.percentile(poverty_2007['Personal Pre-Tax Income'], 99)\n",
    "diff_1 = np.round(seventy_fifth_2007 - twenty_fifth_2007, 2)\n",
    "diff_2 = np.round(ninety_2007 - tenth_2007, 2)\n",
    "diff_3 = np.round(ninety_ninth_2007 - first_2007, 2)\n",
    "print(\"The gap between the 75th and 25th percentile income is: {}\".format(diff_1))\n",
    "print(\"The gap between the 10th and 90th percentile income is: {}\".format(diff_2))\n",
    "print(\"The gap between the 1st and 99th percentile income is: {}\".format(diff_3))"
   ]
  },
  {
   "cell_type": "code",
   "execution_count": null,
   "metadata": {},
   "outputs": [],
   "source": [
    "first_2017 = np.percentile(poverty_2017['Personal Pre-Tax Income'], 1)\n",
    "tenth_2017 = np.percentile(poverty_2017['Personal Pre-Tax Income'], 10)\n",
    "twenty_fifth_2017 = np.percentile(poverty_2017['Personal Pre-Tax Income'], 25)\n",
    "seventy_fifth_2017 = np.percentile(poverty_2017['Personal Pre-Tax Income'], 75)\n",
    "ninety_2017 = np.percentile(poverty_2017['Personal Pre-Tax Income'], 90)\n",
    "ninety_ninth_2017 = np.percentile(poverty_2017['Personal Pre-Tax Income'], 99)\n",
    "diff_1 = np.round(seventy_fifth_2017 - twenty_fifth_2017, 2)\n",
    "diff_2 = np.round(ninety_2017 - tenth_2017, 2)\n",
    "diff_3 = np.round(ninety_ninth_2017 - first_2017, 2)\n",
    "print(\"The gap between the 75th and 25th percentile income is: {}\".format(diff_1))\n",
    "print(\"The gap between the 10th and 90th percentile income is: {}\".format(diff_2))\n",
    "print(\"The gap between the 1st and 99th percentile income is: {}\".format(diff_3))"
   ]
  },
  {
   "cell_type": "markdown",
   "metadata": {},
   "source": [
    "**Compare these statistics. Can we say that there has been a definite increase in income inequality from 2007 to 2017? Why might these numbers be misleading?**"
   ]
  },
  {
   "cell_type": "markdown",
   "metadata": {},
   "source": [
    "[Double click on this cell and write your answer here]\n"
   ]
  },
  {
   "cell_type": "markdown",
   "metadata": {},
   "source": [
    "### 3. Income by City"
   ]
  },
  {
   "cell_type": "code",
   "execution_count": null,
   "metadata": {},
   "outputs": [],
   "source": [
    "income_by_city = poverty_2007.groupby('City').mean()[['Personal Pre-Tax Income']].sort_values('Personal Pre-Tax Income')\n",
    "income_by_city"
   ]
  },
  {
   "cell_type": "code",
   "execution_count": null,
   "metadata": {},
   "outputs": [],
   "source": [
    "plt.figure(figsize = (15, 8))\n",
    "top_5_income_by_city = income_by_city.sort_values('Personal Pre-Tax Income', ascending = False)[0:5].reset_index()\n",
    "sns.barplot(x = 'City', y = 'Personal Pre-Tax Income', data = top_5_income_by_city)\n",
    "plt.title('Bar Plot of Top 5 Cities with Highest Pre-Tax Income');"
   ]
  },
  {
   "cell_type": "markdown",
   "metadata": {},
   "source": [
    "**Do some research into these cities. How may they be related and why might that explain their presence in the highest average incomes in California?**"
   ]
  },
  {
   "cell_type": "markdown",
   "metadata": {},
   "source": [
    "[Double click on this cell and write your answer here]\n"
   ]
  },
  {
   "cell_type": "code",
   "execution_count": null,
   "metadata": {},
   "outputs": [],
   "source": [
    "plt.figure(figsize = (15, 8))\n",
    "bottom_5_income_by_city = income_by_city.sort_values('Personal Pre-Tax Income', ascending = True)[0:5].reset_index()\n",
    "sns.barplot(x = 'City', y = 'Personal Pre-Tax Income', data = bottom_5_income_by_city)\n",
    "plt.title('Top 5 Cities with Highest Personal Pre-Tax Income');"
   ]
  },
  {
   "cell_type": "markdown",
   "metadata": {},
   "source": [
    "**Do some research into these cities. How may they be related and why might that explain their presence in the lowest average incomes in California?**"
   ]
  },
  {
   "cell_type": "markdown",
   "metadata": {},
   "source": [
    "[Double click on this cell and write your answer here]\n"
   ]
  },
  {
   "cell_type": "code",
   "execution_count": null,
   "metadata": {},
   "outputs": [],
   "source": [
    "plt.figure(figsize = (15, 8))\n",
    "income_by_city_2017 = poverty_2017.groupby('City').mean()[['Personal Pre-Tax Income']].sort_values('Personal Pre-Tax Income')\n",
    "top_5_income_by_city_2017 = income_by_city_2017.sort_values('Personal Pre-Tax Income', ascending = False)[0:5].reset_index()\n",
    "sns.barplot(x = 'City', y = 'Personal Pre-Tax Income', data = top_5_income_by_city_2017)\n",
    "plt.title('Bar Plot of Top 5 Cities with Highest Pre-Tax Income in 2017');"
   ]
  },
  {
   "cell_type": "code",
   "execution_count": null,
   "metadata": {},
   "outputs": [],
   "source": [
    "plt.figure(figsize = (15, 8))\n",
    "income_by_city_2017 = poverty_2017.groupby('City').mean()[['Personal Pre-Tax Income']].sort_values('Personal Pre-Tax Income')\n",
    "bottom_5_income_by_city_2017 = income_by_city_2017.sort_values('Personal Pre-Tax Income', ascending = True)[0:5].reset_index()\n",
    "sns.barplot(x = 'City', y = 'Personal Pre-Tax Income', data = bottom_5_income_by_city_2017)\n",
    "plt.title('Bar Plot of Top 5 Cities with Lowest Pre-Tax Income in 2017');"
   ]
  },
  {
   "cell_type": "markdown",
   "metadata": {},
   "source": [
    "### 4. Income by Type of Worker "
   ]
  },
  {
   "cell_type": "code",
   "execution_count": null,
   "metadata": {},
   "outputs": [],
   "source": [
    "tow_inc_2007 = poverty_2007.groupby('Type of Worker').mean()[['Personal Pre-Tax Income']]\n",
    "tow_inc_2007"
   ]
  },
  {
   "cell_type": "code",
   "execution_count": null,
   "metadata": {},
   "outputs": [],
   "source": [
    "tow_inc_2017 = poverty_2017.groupby('Type of Worker').mean()[['Personal Pre-Tax Income']]\n",
    "tow_inc_2017"
   ]
  },
  {
   "cell_type": "markdown",
   "metadata": {},
   "source": [
    "### 5. Income by Ownership Status"
   ]
  },
  {
   "cell_type": "code",
   "execution_count": null,
   "metadata": {},
   "outputs": [],
   "source": [
    "own_inc_2007 = poverty_2007.groupby('Ownership Status').mean()[['Personal Pre-Tax Income']]\n",
    "own_inc_2007"
   ]
  },
  {
   "cell_type": "code",
   "execution_count": null,
   "metadata": {},
   "outputs": [],
   "source": [
    "own_inc_2017 = poverty_2017.groupby('Ownership Status').mean()[['Personal Pre-Tax Income']]\n",
    "own_inc_2017"
   ]
  },
  {
   "cell_type": "code",
   "execution_count": null,
   "metadata": {},
   "outputs": [],
   "source": [
    "own_inc_2007 = poverty_2007.groupby(['Ownership Status', 'City']).mean()[['Personal Pre-Tax Income']]\n",
    "own_inc_2007"
   ]
  },
  {
   "cell_type": "code",
   "execution_count": null,
   "metadata": {},
   "outputs": [],
   "source": [
    "own_inc_2017 = poverty_2017.groupby(['Ownership Status', 'City']).mean()[['Personal Pre-Tax Income']]\n",
    "own_inc_2017"
   ]
  },
  {
   "cell_type": "markdown",
   "metadata": {},
   "source": [
    "### 6. Income by Race"
   ]
  },
  {
   "cell_type": "code",
   "execution_count": null,
   "metadata": {},
   "outputs": [],
   "source": [
    "race_inc_2007 = poverty_2007.groupby('Race').mean()[['Personal Pre-Tax Income']]\n",
    "race_inc_2007"
   ]
  },
  {
   "cell_type": "code",
   "execution_count": null,
   "metadata": {},
   "outputs": [],
   "source": [
    "race_inc_2017 = poverty_2017.groupby('Race').mean()[['Personal Pre-Tax Income']]\n",
    "race_inc_2017"
   ]
  },
  {
   "cell_type": "code",
   "execution_count": null,
   "metadata": {},
   "outputs": [],
   "source": [
    "plt.figure(figsize = (15, 8))\n",
    "race_income_2007 = race_inc_2007.reset_index()\n",
    "sns.barplot(x = 'Race', y = 'Personal Pre-Tax Income', data = race_income_2007)\n",
    "plt.title('Bar Plot of Income by Race: 2007');"
   ]
  },
  {
   "cell_type": "code",
   "execution_count": null,
   "metadata": {},
   "outputs": [],
   "source": [
    "plt.figure(figsize = (15, 8))\n",
    "race_income_2017 = race_inc_2017.reset_index()\n",
    "sns.barplot(x = 'Race', y = 'Personal Pre-Tax Income', data = race_income_2017)\n",
    "plt.title('Bar Plot of Income by Race: 2017');"
   ]
  },
  {
   "cell_type": "markdown",
   "metadata": {},
   "source": [
    " \n",
    "  \n",
    "  \n",
    "  \n",
    "  \n",
    "  "
   ]
  },
  {
   "cell_type": "markdown",
   "metadata": {},
   "source": [
    "  "
   ]
  },
  {
   "cell_type": "markdown",
   "metadata": {},
   "source": [
    "## C) Education level "
   ]
  },
  {
   "cell_type": "markdown",
   "metadata": {},
   "source": [
    "Simply run the cell below to load the education datasets."
   ]
  },
  {
   "cell_type": "code",
   "execution_count": null,
   "metadata": {},
   "outputs": [],
   "source": [
    "education_seven = pd.read_csv('education_2007.csv', dtype={'Hours worked per week': int})\n",
    "education_seventeen = pd.read_csv('education_2017.csv', dtype={'Hours worked per week': int})\n",
    "education = pd.concat([education_seven, education_seventeen])"
   ]
  },
  {
   "cell_type": "markdown",
   "metadata": {},
   "source": [
    "### Education and Income\n",
    "The graph below maps out the total income received based on education level. The education levels can be seen in the x-axis, while the y-axis represents the total income. "
   ]
  },
  {
   "cell_type": "code",
   "execution_count": null,
   "metadata": {},
   "outputs": [],
   "source": [
    "plt.figure(figsize=(15, 10))\n",
    "ax = sns.barplot(x='Education Status', y='Personal Pre-Tax Income', \n",
    "                 hue='Year', data=education, \n",
    "                palette = sns.color_palette(\"colorblind\", 10))\n",
    "ax.set_xlabel('Level of Education')\n",
    "ax.set_ylabel('Total Income')\n",
    "ax.set_title('Total Income for each Education Level', fontdict={'fontsize': 25});"
   ]
  },
  {
   "cell_type": "markdown",
   "metadata": {},
   "source": [
    "<div class=\"alert alert-success\">\n",
    "<b> Living wage is defined as the wage that a worker needs to fulfill their basic needs. This is not to be confused with minimum wage, which is the minimum an employer can pay its employees. According to livingwage.mit.edu, the living wage in America on 2017 was about $16.07/hour. For a regular 40 hour week, that means having an income of about 35K. \n",
    "\n",
    "According to this dataset, what level of education ensures a livable income?  </b> \n",
    "</div>"
   ]
  },
  {
   "cell_type": "markdown",
   "metadata": {},
   "source": [
    "##### Your answer here."
   ]
  },
  {
   "cell_type": "markdown",
   "metadata": {},
   "source": [
    "### Types of Workers\n",
    "\n",
    "Our dataset also tells us whether a person was self-employed or working for wages under an employer. Let's try to to find out what the average level of education is within self-employed workers."
   ]
  },
  {
   "cell_type": "code",
   "execution_count": null,
   "metadata": {},
   "outputs": [],
   "source": [
    "plt.figure(figsize=(7, 5))\n",
    "sns.countplot(education['Type of Worker']);\n",
    "plt.title('Count for Type of Workers');"
   ]
  },
  {
   "cell_type": "markdown",
   "metadata": {},
   "source": [
    "This countplot visualizes the amount of workers who are employed and the amount of workers who are self-employed in our dataset. We can see that there is significantly less self-employed workers. Now let's analyze what their education level is. "
   ]
  },
  {
   "cell_type": "code",
   "execution_count": null,
   "metadata": {},
   "outputs": [],
   "source": [
    "plt.figure(figsize=(15, 5))\n",
    "sns.countplot(education[education['Type of Worker'] == 'Self-employed']['Education Status']);\n",
    "plt.title('Education Status for Self-Employed Workers');"
   ]
  },
  {
   "cell_type": "markdown",
   "metadata": {},
   "source": [
    "<div class=\"alert alert-success\">\n",
    "<b>What does this graph tell us about the  level of education in self-employed workers? Are you surprised by the results? How did these data disprove what you believed was the truth? If this was a result you were expecting, how do these data back up your beliefs?</b>\n",
    "    </div>"
   ]
  },
  {
   "cell_type": "markdown",
   "metadata": {},
   "source": [
    "##### Your answer here."
   ]
  },
  {
   "cell_type": "markdown",
   "metadata": {},
   "source": [
    "The following graphs are called violin plots. They help us visualize the distribution for a given category. Read more here \"https://mode.com/blog/violin-plot-examples\" if you are interested in learning more about violin plots. For now, we will use violin plots in order to help us visualize the distribution in personal income based on education level for self-employed and employed workers."
   ]
  },
  {
   "cell_type": "markdown",
   "metadata": {},
   "source": [
    "<img src=\"https://images.ctfassets.net/fi0zmnwlsnja/sdfgtcRp16wTNOcRceGQm/5bfcb73d2261d49ff20dd7857e0152b1/Screen_Shot_2019-03-01_at_11.36.10_AM.png\" style=\"width:300px;height:300px;\"/>"
   ]
  },
  {
   "cell_type": "code",
   "execution_count": null,
   "metadata": {},
   "outputs": [],
   "source": [
    "plt.figure(figsize=(20, 10))\n",
    "sns.violinplot(x='Education Status', y='Personal Pre-Tax Income', \n",
    "              data=education, hue='Type of Worker', palette=sns.color_palette(\"Paired\"))\n",
    "plt.title(\"Distribution of Self-Employed & Employed Workers' Income by Education Status\", \n",
    "          fontdict={'fontsize': 15});"
   ]
  },
  {
   "cell_type": "markdown",
   "metadata": {},
   "source": [
    "The long tail in our violin plots mean that there are some people whose income reached those values. For example, for those self-employed workers who completed college, we can see that the tail of our violin plot reaches above 100,000. This means that there are some self-employed workers who completed college and are at or above an income of 100K. However, since this violin plot has most of its mass within the 0-20k income range, this scenario is not very likely, as the distribution of income is mostly found within the 0-20K range. \n",
    "\n",
    "\n",
    "<div class=\"alert alert-success\">\n",
    "<b>The graph above helps us see that it does not matter so much whether one is self-employed or employed, but that education level matters much more. How can we reach this conclusion based off the graph?</b>\n",
    "    </div>"
   ]
  },
  {
   "cell_type": "markdown",
   "metadata": {},
   "source": [
    "##### Your answer here."
   ]
  },
  {
   "cell_type": "markdown",
   "metadata": {},
   "source": [
    "### Race"
   ]
  },
  {
   "cell_type": "markdown",
   "metadata": {},
   "source": [
    "How are race and level of education related?"
   ]
  },
  {
   "cell_type": "code",
   "execution_count": null,
   "metadata": {},
   "outputs": [],
   "source": [
    "plt.figure(figsize=(10, 10))\n",
    "sns.countplot(x='Education Status', hue='Race', data=education);"
   ]
  },
  {
   "cell_type": "code",
   "execution_count": null,
   "metadata": {},
   "outputs": [],
   "source": [
    "plt.figure(figsize=(10, 15));\n",
    "ax = sns.catplot(x='Education Status', col='Race', \n",
    "            data=education, kind='count', col_wrap=3, orient=\"h\");"
   ]
  },
  {
   "cell_type": "markdown",
   "metadata": {},
   "source": [
    "<div class=\"alert alert-success\">\n",
    "<b> What do these visualizations tell you about the level of education that each race receives? Our dataset clearly has more White-identifying individuals so it helps to think about each bar in our bar graph as a proportion for that race. Thus, for Asian/Pacific Islanders, there is higher proportion of people who finish college than there is high school dropouts, but for those whose race is \"Other,\" there is a higher proportion of high school dropouts than there is college graduates. What do these graphs help tell us about our data? How can these observations help reinforce what we have found above?  </b> \n",
    "</div>"
   ]
  },
  {
   "cell_type": "markdown",
   "metadata": {},
   "source": [
    "##### Your answer here."
   ]
  },
  {
   "cell_type": "markdown",
   "metadata": {},
   "source": [
    "Our dataset contains a separate column for Hispanic-identifying individuals. We can display the same visualization for those in each category in the `Hispanic` column. "
   ]
  },
  {
   "cell_type": "code",
   "execution_count": null,
   "metadata": {},
   "outputs": [],
   "source": [
    "plt.figure(figsize=(10, 15));\n",
    "ax = sns.catplot(x='Education Status', col='Hispanic', \n",
    "            data=education, kind='count', col_wrap=3, orient=\"h\");"
   ]
  },
  {
   "cell_type": "markdown",
   "metadata": {},
   "source": [
    "<div class=\"alert alert-success\">\n",
    "<b> Are the results any different from the ones above? If so, what are the differences? </b> \n",
    "</div>"
   ]
  },
  {
   "cell_type": "markdown",
   "metadata": {},
   "source": [
    "##### Your answer here."
   ]
  },
  {
   "cell_type": "markdown",
   "metadata": {},
   "source": [
    "## D) Indicators of poverty"
   ]
  },
  {
   "cell_type": "markdown",
   "metadata": {},
   "source": [
    "What are the indicators of poverty? What relationship does poverty have with the other features (columns) in our dataset?"
   ]
  },
  {
   "cell_type": "code",
   "execution_count": null,
   "metadata": {},
   "outputs": [],
   "source": [
    "poverty_seven = pd.read_csv('poverty_2007.csv')\n",
    "poverty_seventeen = pd.read_csv('poverty_2017.csv')\n",
    "poverty = pd.concat([poverty_seven, poverty_seventeen])"
   ]
  },
  {
   "cell_type": "markdown",
   "metadata": {},
   "source": [
    "### Employment Status\n",
    "\n",
    "For poverty, our data categorizes an individual into one of three categories: `Near Poverty`, `Non-Poverty`, and `Poverty`. We will be looking at those who are in `Poverty` or `Near Poverty`."
   ]
  },
  {
   "cell_type": "code",
   "execution_count": null,
   "metadata": {},
   "outputs": [],
   "source": [
    "plt.figure(figsize=(15, 5))\n",
    "all_poverty = poverty[(poverty['Poverty Status'] == 'Poverty') | (poverty['Poverty Status'] == 'Near Poverty')]\n",
    "sns.countplot(x='Employment Status', data=all_poverty, hue='Poverty Status')\n",
    "plt.title('Amount of Individuals At or Near Poverty by Employment Status');"
   ]
  },
  {
   "cell_type": "markdown",
   "metadata": {},
   "source": [
    "### Cities and Occupations in High-Poverty Areas"
   ]
  },
  {
   "cell_type": "markdown",
   "metadata": {},
   "source": [
    "What are top 5 cities with the highest amount of poverty? Run the cell below, it should output the cities with most citizens at or near poverty."
   ]
  },
  {
   "cell_type": "code",
   "execution_count": null,
   "metadata": {},
   "outputs": [],
   "source": [
    "j = 1\n",
    "for i in all_poverty['City'].value_counts(sort=True).index[0:5]:\n",
    "    print(str(j)  + \" city: \" + str(i))\n",
    "    j+=1"
   ]
  },
  {
   "cell_type": "markdown",
   "metadata": {},
   "source": [
    "The top \"city\" regarding poverty in our dataset is not actually a city, so lets try that again. This time, we will ignore \"Not in indetifiable city\"."
   ]
  },
  {
   "cell_type": "code",
   "execution_count": null,
   "metadata": {},
   "outputs": [],
   "source": [
    "j = 1\n",
    "for i in all_poverty['City'].value_counts(sort=True).index[1:6]:\n",
    "    print(str(j)  + \" city: \" + str(i))\n",
    "    j+=1"
   ]
  },
  {
   "cell_type": "markdown",
   "metadata": {},
   "source": [
    "<div class=\"alert alert-success\">\n",
    "<b> What are the top 5 cities that contain the most poverty? Why do you think that is? </b> \n",
    "</div>"
   ]
  },
  {
   "cell_type": "markdown",
   "metadata": {},
   "source": [
    "##### Your answer here."
   ]
  },
  {
   "cell_type": "markdown",
   "metadata": {},
   "source": [
    "What are the top 5 occupations for people in poverty? Run the cell below, it should output the top 5 industries for those at OR near poverty."
   ]
  },
  {
   "cell_type": "code",
   "execution_count": null,
   "metadata": {},
   "outputs": [],
   "source": [
    "j = 1\n",
    "for i in occupation[(occupation['Poverty Status'] == 'Poverty') | \n",
    "                    (occupation['Poverty Status'] == 'Near Poverty')]['Occupation'].value_counts(\n",
    "    sort=True).index[0:5]:\n",
    "    print(j, 'Top Occupation:', i)\n",
    "    j +=1"
   ]
  },
  {
   "cell_type": "markdown",
   "metadata": {},
   "source": [
    "<div class=\"alert alert-success\">\n",
    "<b> What are the top 5 occupations for members in poverty? </b> \n",
    "</div>"
   ]
  },
  {
   "cell_type": "markdown",
   "metadata": {},
   "source": [
    "##### Your answer here."
   ]
  },
  {
   "cell_type": "markdown",
   "metadata": {},
   "source": [
    "The graph below maps out the average hours worked per week for each occupation. Look for the 5 occupations we found above."
   ]
  },
  {
   "cell_type": "code",
   "execution_count": null,
   "metadata": {},
   "outputs": [],
   "source": [
    "plt.figure(figsize=(20, 10))\n",
    "ax = sns.barplot(x='Occupation', y='Hours worked per week', data=poverty)\n",
    "ax.set_xticklabels(ax.get_xticklabels(), rotation=45, ha='right');\n",
    "plt.title('Hours Worked per Week by Occupation');"
   ]
  },
  {
   "cell_type": "markdown",
   "metadata": {},
   "source": [
    "<div class=\"alert alert-success\">\n",
    "<b> What do you notice in terms of hours worked per week for the top 5 industries for those in poverty? Are thse findings surprising? How does the graph above help explain why certain members in certain occupations are in poverty? How can these data help us see what possible indicators of poverty may be? </b> \n",
    "</div>"
   ]
  },
  {
   "cell_type": "markdown",
   "metadata": {},
   "source": [
    "##### Your answer here."
   ]
  },
  {
   "cell_type": "markdown",
   "metadata": {},
   "source": [
    "## E) Employment"
   ]
  },
  {
   "cell_type": "markdown",
   "metadata": {},
   "source": [
    "### 1. Total Employment Statistics by Year"
   ]
  },
  {
   "cell_type": "code",
   "execution_count": null,
   "metadata": {},
   "outputs": [],
   "source": [
    "employment_07 =emp_sector_2007.groupby('Employment Status').mean()[['Personal Pre-Tax Income']]\n",
    "employment_07"
   ]
  },
  {
   "cell_type": "code",
   "execution_count": null,
   "metadata": {},
   "outputs": [],
   "source": [
    "employment_17 = emp_sector_2017.groupby('Employment Status').mean()[['Personal Pre-Tax Income']]\n",
    "employment_17"
   ]
  },
  {
   "cell_type": "code",
   "execution_count": null,
   "metadata": {},
   "outputs": [],
   "source": [
    "change_in_wages_employed = employment_17['Personal Pre-Tax Income'][0] - employment_07['Personal Pre-Tax Income'][0]\n",
    "change_in_wages_employed"
   ]
  },
  {
   "cell_type": "markdown",
   "metadata": {},
   "source": [
    "### 2. Work Status and Foodstamp Recipient"
   ]
  },
  {
   "cell_type": "code",
   "execution_count": null,
   "metadata": {},
   "outputs": [],
   "source": [
    "employment_07 =emp_sector_2007.groupby(['Employment Status', 'Foodstamp Recipient']).count()[['Personal Pre-Tax Income']].rename(columns = {'Personal Pre-Tax Income':'Count'})\n",
    "employment_17 = emp_sector_2017.groupby(['Employment Status', 'Foodstamp Recipient']).count()[['Personal Pre-Tax Income']].rename(columns = {'Personal Pre-Tax Income':'Count'})\n",
    "display(employment_07, employment_17)"
   ]
  },
  {
   "cell_type": "markdown",
   "metadata": {},
   "source": [
    "### 3. Employment Sector vs. Personal Income"
   ]
  },
  {
   "cell_type": "code",
   "execution_count": null,
   "metadata": {},
   "outputs": [],
   "source": [
    "employment_income07 =emp_sector_2007.groupby('Employment Status').mean()[['Personal Pre-Tax Income']]\n",
    "employment_income17 = emp_sector_2017.groupby('Employment Status').mean()[['Personal Pre-Tax Income']]\n",
    "display(employment_income07, employment_income17)"
   ]
  },
  {
   "cell_type": "markdown",
   "metadata": {},
   "source": [
    "## Bibliography <a id = 'section7'></a>\n",
    "\n",
    "• https://www.census.gov/programs-surveys/saipe/guidance/model-input-data/cpsasec.html\n",
    "\n",
    "• https://en.wikipedia.org/wiki/Stratified_sampling\n",
    "\n",
    "• (TBD)\n",
    "\n",
    "• (TBD)"
   ]
  },
  {
   "cell_type": "markdown",
   "metadata": {},
   "source": [
    "___\n",
    "### Sidenotes:\n",
    "[1]: Since the size of the original dataset was too large, we are using Stratified Random Samples instead. Refer to the link in the bibliography for more information on our sampling approach. "
   ]
  },
  {
   "cell_type": "markdown",
   "metadata": {},
   "source": [
    "___\n",
    "### Getting extra help\n",
    "\n",
    "Interested in getting help with learning Python or applying computational analysis? Check out  [Data Peer Consulting](https://data.berkeley.edu/education/data-peer-consulting) in Moffitt library for drop-in, one-on-one questions. For additional workshops designed for people new to computational analysis, take a look at the workshops at [The Dlab](https://dlab.berkeley.edu) (free for Berkeley students!). \n",
    "\n",
    "Best  luck!"
   ]
  },
  {
   "cell_type": "markdown",
   "metadata": {},
   "source": [
    "------------------------------------------------------------------------------------------------------------------------\n",
    "\n",
    "### Feedback:\n",
    "Please let us know your thoughts on this notebook!\n",
    "\n",
    "Fill out the survey at this link: https://docs.google.com/forms/d/e/1FAIpQLSfahkYSKqlEEfC6WMKlaqeIxRVj0r7T4N5lgBf9bRVwRG58wQ/viewform"
   ]
  },
  {
   "cell_type": "markdown",
   "metadata": {},
   "source": [
    "------------------------------------------------------------------------------------------------------------------------\n",
    "Notebook developed by: Ritvik Iyer, Carlos Calderon\n",
    "\n",
    "Data Science Modules: http://data.berkeley.edu/education/modules"
   ]
  }
 ],
 "metadata": {
  "kernelspec": {
   "display_name": "Python 3",
   "language": "python",
   "name": "python3"
  },
  "language_info": {
   "codemirror_mode": {
    "name": "ipython",
    "version": 3
   },
   "file_extension": ".py",
   "mimetype": "text/x-python",
   "name": "python",
   "nbconvert_exporter": "python",
   "pygments_lexer": "ipython3",
   "version": "3.6.5"
  }
 },
 "nbformat": 4,
 "nbformat_minor": 2
}
