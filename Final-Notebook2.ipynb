{
 "cells": [
  {
   "cell_type": "markdown",
   "metadata": {},
   "source": [
    "# [CP-113A] Analyzing the ACS \n",
    "\n",
    "\n",
    "---\n",
    "\n",
    "\n",
    "### Professor: Sara Hinkley\n",
    "\n",
    "Welcome to Analyzing the ACS! In this lab, we will introduce you to Jupyter Notebooks and the tools that you are going to use to conduct your data analysis of the American Community Survey (ACS). In the main part of this notebook, you will learn how to read tabular datasets, interpret data visualizations, and compare various economic indicators. By the end of this notebook, you will also apply your knowledge to answer a set of short answer questions.\n",
    "\n",
    "Estimated Time: 1 Hour\n",
    "\n",
    "---\n",
    "\n",
    "\n",
    "## Table of Contents (TBD, will be updated later)\n",
    "\n",
    "1. \n",
    "\n",
    "---"
   ]
  },
  {
   "cell_type": "markdown",
   "metadata": {},
   "source": [
    "# Part 1: The Jupyter Notebook <a id='section 0'></a>\n",
    "\n",
    "Before we start our lab, we want to give a brief introduction to Jupyter Notebooks (like this one) where you will work on conducting your survey analysis. \n",
    "\n",
    "**Jupyter notebooks** are documents that can contain a seamless compilation of text, code, visualizations, and more. A notebook is composed of two types of rectangular **cells**:  markdown and code. A **markdown cell**, such as this one, contains text. A **code cell** contains code. All of the code in this notebook is written in a programming language called **Python**. You can select any cell by clicking it once. After a cell is selected, you can navigate the notebook using the up and down arrow keys or by simply scrolling.\n",
    "\n",
    "### 1.1 Run a cell <a id='subsection 0a'></a>\n",
    "To run a code cell once it's been selected, \n",
    "- press `Shift` + `Enter`, or\n",
    "- click the Run button in the toolbar at the top of the screen. \n",
    "\n",
    "If a code cell is running, you will see an asterisk (\\*) appear in the square brackets to the left of the cell. Once the cell has finished running, a number corresponding to the order in which the cell was run will replace the asterisk and any output from the code will appear under the cell."
   ]
  },
  {
   "cell_type": "markdown",
   "metadata": {},
   "source": [
    "### 1.2 Editing a cell <a id='subsection 0c'></a>\n",
    "\n",
    "**Question 1.2.1** You can edit a Markdown cell by clicking it twice. Text in Markdown cells is written in [**Markdown**](https://daringfireball.net/projects/markdown/), a formatting syntax for plain text, so you may see some funky symbols when you edit a text cell. Once you've made your changes, you can exit text editing mode by running the cell. \n",
    "\n",
    "**Task: Edit the next cell to fix the misspelling of the word, \"survey.\"**"
   ]
  },
  {
   "cell_type": "markdown",
   "metadata": {},
   "source": [
    "This is an analysis of economic survy data."
   ]
  },
  {
   "cell_type": "markdown",
   "metadata": {},
   "source": [
    "### 1.3 Saving and loading <a id='subsection 0d'></a>\n",
    "\n",
    "#### Saving and Loading\n",
    "\n",
    "Your notebook can record all of your text and code edits, as well as any graphs you generate or calculations you make. You can save the notebook in its current state by clicking `Control-S`/`Command-S`, clicking the **floppy disc icon** in the toolbar at the top of the page, or by navigating to **File > Save and Checkpoint** in the menu bar.\n",
    "\n",
    "The next time you open the notebook, it will look the same as when you last saved it.\n",
    "\n",
    "**Note:** After loading a notebook you will see all the outputs (graphs, computations, etc) from your last session, but you won't be able to use any variables you assigned or functions you defined. You can get the functions and variables back by re-running the cells where they were defined – the easiest way is to **highlight the cell where you left off work, then go to Cell > Run all above** in the menu bar. You can also use this menu to run all cells in the notebook by clicking **Run all**."
   ]
  },
  {
   "cell_type": "markdown",
   "metadata": {},
   "source": [
    "**Please run the cell below to load the modules we will be using throughout this notebook.**"
   ]
  },
  {
   "cell_type": "code",
   "execution_count": 2,
   "metadata": {},
   "outputs": [],
   "source": [
    "from datascience import *\n",
    "import pandas as pd\n",
    "import numpy as np\n",
    "import seaborn as sns \n",
    "import matplotlib.pyplot as plt\n",
    "%matplotlib inline\n",
    "import warnings\n",
    "from utils import dollar_formatter\n",
    "sns.set_palette(\"Blues_d\")\n",
    "\n",
    "from IPython.display import HTML\n",
    "\n",
    "# import the widgets module\n",
    "import ipywidgets as widgets\n",
    "from ipywidgets import interact, interactive, fixed, interact_manual\n",
    "\n",
    "warnings.filterwarnings(\"ignore\")\n",
    "sns.set(style=\"whitegrid\")"
   ]
  },
  {
   "cell_type": "markdown",
   "metadata": {},
   "source": [
    "# Part 2: Understanding the Dataset"
   ]
  },
  {
   "cell_type": "markdown",
   "metadata": {},
   "source": [
    "In this lab, we will be analyzing data from the American Community Survey (ACS). This is a sample survey of U.S. households, which asks questions about demographics, income, employment, education, and public assistance. "
   ]
  },
  {
   "cell_type": "markdown",
   "metadata": {},
   "source": [
    "*First, run the cell below to get an idea of what our dataset looks like*"
   ]
  },
  {
   "cell_type": "code",
   "execution_count": 3,
   "metadata": {},
   "outputs": [
    {
     "data": {
      "text/html": [
       "<table border=\"1\" class=\"dataframe\">\n",
       "    <thead>\n",
       "        <tr>\n",
       "            <th>Year</th> <th>State</th> <th>County</th> <th>City</th> <th>Ownership Status</th> <th>Household Income</th> <th>Foodstamp Recipient</th> <th>Age</th> <th>Race</th> <th>Hispanic</th> <th>Education Status</th> <th>Employment Status</th> <th>Part of Labor Force</th> <th>Occupation</th> <th>Industry</th> <th>Type of Worker</th> <th>Employment Sector</th> <th>Hours worked per week</th> <th>Pre-Tax Wages</th> <th>Poverty Status</th>\n",
       "        </tr>\n",
       "    </thead>\n",
       "    <tbody>\n",
       "        <tr>\n",
       "            <td>2007</td> <td>California</td> <td>El Centro, CA           </td> <td>Not in identifiable city (or size group)</td> <td>Rented                      </td> <td>15000           </td> <td>No                 </td> <td>32  </td> <td>White</td> <td>Hispanic    </td> <td>No HS           </td> <td>Employed         </td> <td>Yes, in the labor force</td> <td>Farming, Fishing        </td> <td>Agriculture, Hunting, Forestry</td> <td>Works for wages</td> <td> non-profit      </td> <td>40                   </td> <td>15000        </td> <td>Near Poverty  </td>\n",
       "        </tr>\n",
       "        <tr>\n",
       "            <td>2007</td> <td>California</td> <td>Not in identifiable area</td> <td>Not in identifiable city (or size group)</td> <td>Owned or being bought (loan)</td> <td>72000           </td> <td>No                 </td> <td>52  </td> <td>White</td> <td>Not hispanic</td> <td>Graduate        </td> <td>Employed         </td> <td>Yes, in the labor force</td> <td>Healthcare Practitioners</td> <td>Health Care                   </td> <td>Works for wages</td> <td> private         </td> <td>45                   </td> <td>70000        </td> <td>Non-Poverty   </td>\n",
       "        </tr>\n",
       "    </tbody>\n",
       "</table>\n",
       "<p>... (367177 rows omitted)</p>"
      ],
      "text/plain": [
       "<IPython.core.display.HTML object>"
      ]
     },
     "metadata": {},
     "output_type": "display_data"
    }
   ],
   "source": [
    "acs_data = Table().read_table('fulldata_v2.csv')\n",
    "acs_data.show(2)"
   ]
  },
  {
   "cell_type": "markdown",
   "metadata": {},
   "source": [
    "What you see above is a table which contains a random sample of every survey response from the ACS survey. Each row of the table represents *an individual, unique response*. Along the top of the table are the columns: these represent *the questions that the survey asks* respondents about.\n",
    "\n",
    "Our dataset consists of two surveys of Californian residents, combined for the years 2007 and 2017. Our goal is to compare trends over time. "
   ]
  },
  {
   "cell_type": "markdown",
   "metadata": {},
   "source": [
    "<div class=\"alert alert-success\">\n",
    "<b>  Scroll through the table and write down any observations or questions you have </b> \n",
    "</div>"
   ]
  },
  {
   "cell_type": "markdown",
   "metadata": {},
   "source": [
    "##### Double click this cell and write your answer here."
   ]
  },
  {
   "cell_type": "markdown",
   "metadata": {},
   "source": [
    "At the very bottom, notice that it tells us that ~360,000 rows have been omitted. This is because our dataset is really large. In fact, it's so large that it would be very difficult to visualize it in a single notebook! [1] \n",
    "\n",
    "This is why we turn to *computational analysis*. \n",
    "\n",
    "Instead of inspecting the data by hand, *we will write code to tell our computer to analyze the data* for us. In this notebook, we use tools like data visualizations to answer interesting questions based on our survey data. "
   ]
  },
  {
   "cell_type": "markdown",
   "metadata": {},
   "source": [
    "Here's a concrete example of the power of computation:\n",
    "\n",
    "Question: What percentage of all survey respondents are Foodstamp Recipients?\n",
    "\n",
    "Obviously, for a dataset with few entries, this would be pretty easy to answer. However, for our dataset of 360,000+ respondents, this would be very difficult to count by hand. However, with code, this is easy to answer! \n",
    "\n",
    "<div class=\"alert alert-success\">\n",
    "<b>  Run the cell below to calculate the percent of Foodstamp Recipients in our dataset. </b> \n",
    "</div>"
   ]
  },
  {
   "cell_type": "code",
   "execution_count": 9,
   "metadata": {},
   "outputs": [
    {
     "name": "stdout",
     "output_type": "stream",
     "text": [
      "5.76%\n"
     ]
    }
   ],
   "source": [
    "print(str(np.round(acs_data.where('Foodstamp Recipient', 'Yes').num_rows/acs_data.num_rows, 4)*100) + '%')"
   ]
  },
  {
   "cell_type": "markdown",
   "metadata": {},
   "source": [
    "In *one line of code*, we were able to get an idea of the demographics of a large population- this is the power of computational analysis!\n",
    "\n",
    "\n",
    "Now, let's delve into the data analysis."
   ]
  },
  {
   "cell_type": "markdown",
   "metadata": {},
   "source": [
    "# Part 3: Data Analysis"
   ]
  },
  {
   "cell_type": "markdown",
   "metadata": {},
   "source": [
    "## A) Wages by industry and occupation"
   ]
  },
  {
   "cell_type": "markdown",
   "metadata": {},
   "source": [
    "In this part, we will investigate trends in wages between various industries and occupations. First, we will examine wages, industry, and occupation separately, and then compare them against each other and other survey variables. \n",
    "\n",
    "**Run the cell below to load the relevant data sets.**"
   ]
  },
  {
   "cell_type": "code",
   "execution_count": 5,
   "metadata": {},
   "outputs": [],
   "source": [
    "industry_2007 = pd.read_csv('industry_2007.csv')\n",
    "industry_2017 = pd.read_csv('industry_2017.csv')\n",
    "occupation_2007 = pd.read_csv('occupation_2007.csv')\n",
    "occupation_2017 = pd.read_csv('occupation_2017.csv')\n",
    "poverty_2007 = pd.read_csv('poverty_2007.csv')\n",
    "poverty_2017 = pd.read_csv('poverty_2017.csv')\n",
    "education_2007 = pd.read_csv('education_2007.csv')\n",
    "education_2017 = pd.read_csv('education_2017.csv')\n",
    "emp_sector_2007 = pd.read_csv('emp_sector_2007.csv')\n",
    "emp_sector_2017 = pd.read_csv('emp_sector_2017.csv')"
   ]
  },
  {
   "cell_type": "markdown",
   "metadata": {},
   "source": [
    "### 1. Wages in 2007 vs. 2017"
   ]
  },
  {
   "cell_type": "markdown",
   "metadata": {},
   "source": [
    "One question we may ask is: How did average wages of Californians change between 2007 and 2017? Let's answer that question. "
   ]
  },
  {
   "cell_type": "markdown",
   "metadata": {},
   "source": [
    "**Run the cell below.**"
   ]
  },
  {
   "cell_type": "code",
   "execution_count": 6,
   "metadata": {},
   "outputs": [
    {
     "name": "stdout",
     "output_type": "stream",
     "text": [
      "The average wage in California in 2007 was: $42,909.33 \n",
      "\n",
      "The average wage in California in 2017 was: $54,084.16 \n",
      "\n",
      "The change in wages from 2007 to 2017 was: $11,174.84\n"
     ]
    }
   ],
   "source": [
    "average_wages_2007 = industry_2007['Pre-Tax Wages'].mean()\n",
    "average_wages_2017 = industry_2017['Pre-Tax Wages'].mean()\n",
    "change_wages = average_wages_2017 - average_wages_2007\n",
    "print('The average wage in California in 2007 was: {}'.format(dollar_formatter(average_wages_2007)), '\\n')\n",
    "print('The average wage in California in 2017 was: {}'.format(dollar_formatter(average_wages_2017)), '\\n')\n",
    "print('The change in wages from 2007 to 2017 was: {}'.format(dollar_formatter(change_wages)))"
   ]
  },
  {
   "cell_type": "markdown",
   "metadata": {},
   "source": [
    "<div class=\"alert alert-success\">\n",
    "<b> Speculate on what might be responsible for this change. Does this number tell us anything about the state of the economy itself? </b> \n",
    "</div>"
   ]
  },
  {
   "cell_type": "markdown",
   "metadata": {},
   "source": [
    "##### Double click this cell and write your answer here."
   ]
  },
  {
   "cell_type": "markdown",
   "metadata": {},
   "source": [
    "Perhaps, a better question would be: What is the *distribution of wages* in California over the period from 2007 to 2017? To answer this question, we will use a graph called a histogram. It tells us about the *spread* of a variable. \n",
    "\n",
    "**Run the cells below.**"
   ]
  },
  {
   "cell_type": "code",
   "execution_count": 7,
   "metadata": {},
   "outputs": [
    {
     "data": {
      "image/png": "[encoded data removed]",
      "text/plain": [
       "<Figure size 1080x504 with 1 Axes>"
      ]
     },
     "metadata": {},
     "output_type": "display_data"
    }
   ],
   "source": [
    "plt.figure(figsize = (15, 7))\n",
    "sns.distplot(industry_2007['Pre-Tax Wages'], label = 'Wages in 2007')\n",
    "plt.title('Histogram of Pre-Tax Wages in California in 2007')\n",
    "plt.xlabel('Pre-Tax Wages ($)')\n",
    "plt.ylabel('Proportion of Data');"
   ]
  },
  {
   "cell_type": "code",
   "execution_count": 10,
   "metadata": {},
   "outputs": [
    {
     "data": {
      "image/png": "[encoded data removed]",
      "text/plain": [
       "<Figure size 1080x504 with 1 Axes>"
      ]
     },
     "metadata": {},
     "output_type": "display_data"
    }
   ],
   "source": [
    "plt.figure(figsize = (15, 7))\n",
    "sns.distplot(industry_2017['Pre-Tax Wages'], label = 'Wages in 2017')\n",
    "plt.title('Histogram of Pre-Tax Wages in California in 2017')\n",
    "plt.xlabel('Pre-Tax Wages ($)')\n",
    "plt.ylabel('Proportion of Data');"
   ]
  },
  {
   "cell_type": "markdown",
   "metadata": {},
   "source": [
    "<div class=\"alert alert-success\">\n",
    "<b> Compare these two histograms. Is there a significant difference in distribution of wages between 2007 and 2017?</b> \n",
    "</div>"
   ]
  },
  {
   "cell_type": "markdown",
   "metadata": {},
   "source": [
    "##### Double click this cell and write your answer here."
   ]
  },
  {
   "cell_type": "markdown",
   "metadata": {},
   "source": [
    "One thing we may want to account for when measuring changes in dollar amounts over time is the *inflation rate*. A common way to measure this is through the Consumer Price Index, commonly denoted as the CPI. \n",
    "\n",
    "According to the Investopedia [2], \"The CPI measures the average change in prices over time that consumers pay for a basket of goods and services, commonly known as inflation. Essentially it attempts to [...] measure the purchasing power of a country's unit of currency.\" \n",
    "\n",
    "Given that the CPI in California in 2007 was *217.424* and the CPI in California in 2017 was *262.802*, let's adjust the wages of workers in 2017 for inflation to find the *real* change in wages. \n",
    "\n",
    "**Run the cell below.**"
   ]
  },
  {
   "cell_type": "markdown",
   "metadata": {},
   "source": [
    "<div class=\"alert alert-success\">\n",
    "<b> Use the CPI numbers above to adjust the average wage for Californian workers in 2017 for inflation. Explain how you got your answer. </b> \n",
    "</div>"
   ]
  },
  {
   "cell_type": "markdown",
   "metadata": {},
   "source": [
    "##### Double click this cell and write your answer here."
   ]
  },
  {
   "cell_type": "markdown",
   "metadata": {},
   "source": [
    "*Run the cell below to check your work.*"
   ]
  },
  {
   "cell_type": "code",
   "execution_count": 11,
   "metadata": {},
   "outputs": [
    {
     "name": "stdout",
     "output_type": "stream",
     "text": [
      "The inflation rate from 2007 to 2017 was 20.87%. \n",
      "\n",
      "The nominal average wage in California in 2017 was: $54,084.16 \n",
      "\n",
      "The real average wage in California in 2017 was: $44,745.45 \n",
      "\n",
      "The real change in average wages in California between 2007 and 2017 was: $1,836.13\n"
     ]
    }
   ],
   "source": [
    "cpi_2017 = 262.802\n",
    "cpi_2007 = 217.424\n",
    "inflation_rate = (cpi_2017 - cpi_2007)/cpi_2007 \n",
    "adjust_rate = 1 + inflation_rate\n",
    "\n",
    "print('The inflation rate from 2007 to 2017 was {}.'.format(str(np.round(inflation_rate, 4) * 100) + '%'), '\\n')\n",
    "print('The nominal average wage in California in 2017 was: {}'.format(dollar_formatter(average_wages_2017)), '\\n')\n",
    "print('The real average wage in California in 2017 was: {}'.format(dollar_formatter(average_wages_2017/adjust_rate)), '\\n')\n",
    "print('The real change in average wages in California between 2007 and 2017 was: {}'.format(dollar_formatter((average_wages_2017/adjust_rate) - average_wages_2007)))"
   ]
  },
  {
   "cell_type": "markdown",
   "metadata": {},
   "source": [
    "Great job! Now that we have gotten a taste for analyzing data and interpreting graphs, let's move on to looking at industries and occupations of workers. Note that we won't be adjusting all the dollar amounts below for inflation, so we need to keep that in mind as we do our analysis. "
   ]
  },
  {
   "cell_type": "markdown",
   "metadata": {},
   "source": [
    "### 2. Top Industries & Occupations in 2007 vs. 2017"
   ]
  },
  {
   "cell_type": "markdown",
   "metadata": {},
   "source": [
    "What were the top 10 industries that survey respondents worked in between 2007 and 2017? \n",
    "\n",
    "**Run the cell below.**"
   ]
  },
  {
   "cell_type": "code",
   "execution_count": 17,
   "metadata": {},
   "outputs": [
    {
     "data": {
      "text/html": [
       "<div>\n",
       "<style scoped>\n",
       "    .dataframe tbody tr th:only-of-type {\n",
       "        vertical-align: middle;\n",
       "    }\n",
       "\n",
       "    .dataframe tbody tr th {\n",
       "        vertical-align: top;\n",
       "    }\n",
       "\n",
       "    .dataframe thead th {\n",
       "        text-align: right;\n",
       "    }\n",
       "</style>\n",
       "<table border=\"1\" class=\"dataframe\">\n",
       "  <thead>\n",
       "    <tr style=\"text-align: right;\">\n",
       "      <th></th>\n",
       "      <th>Percentage of Workers Employed by Industry in 2007</th>\n",
       "    </tr>\n",
       "  </thead>\n",
       "  <tbody>\n",
       "    <tr>\n",
       "      <th>Transportation, Warehouse</th>\n",
       "      <td>11.83</td>\n",
       "    </tr>\n",
       "    <tr>\n",
       "      <th>Health Care</th>\n",
       "      <td>10.86</td>\n",
       "    </tr>\n",
       "    <tr>\n",
       "      <th>Retail Trade</th>\n",
       "      <td>10.75</td>\n",
       "    </tr>\n",
       "    <tr>\n",
       "      <th>Manufacturing</th>\n",
       "      <td>10.23</td>\n",
       "    </tr>\n",
       "    <tr>\n",
       "      <th>Educational Services</th>\n",
       "      <td>9.16</td>\n",
       "    </tr>\n",
       "    <tr>\n",
       "      <th>Company Management</th>\n",
       "      <td>7.98</td>\n",
       "    </tr>\n",
       "    <tr>\n",
       "      <th>Accomodation and Food Services</th>\n",
       "      <td>6.15</td>\n",
       "    </tr>\n",
       "    <tr>\n",
       "      <th>Other services</th>\n",
       "      <td>4.89</td>\n",
       "    </tr>\n",
       "    <tr>\n",
       "      <th>Finance and Insurance</th>\n",
       "      <td>4.72</td>\n",
       "    </tr>\n",
       "    <tr>\n",
       "      <th>Public Administration</th>\n",
       "      <td>4.50</td>\n",
       "    </tr>\n",
       "  </tbody>\n",
       "</table>\n",
       "</div>"
      ],
      "text/plain": [
       "                                Percentage of Workers Employed by Industry in 2007\n",
       "Transportation, Warehouse                                                   11.83 \n",
       "Health Care                                                                 10.86 \n",
       "Retail Trade                                                                10.75 \n",
       "Manufacturing                                                               10.23 \n",
       "Educational Services                                                         9.16 \n",
       "Company Management                                                           7.98 \n",
       "Accomodation and Food Services                                               6.15 \n",
       "Other services                                                               4.89 \n",
       "Finance and Insurance                                                        4.72 \n",
       "Public Administration                                                        4.50 "
      ]
     },
     "execution_count": 17,
     "metadata": {},
     "output_type": "execute_result"
    }
   ],
   "source": [
    "round((industry_2007['Industry'].value_counts(normalize = True))[0:10] * 100, 2).to_frame().rename(columns=\n",
    "                                                                                                     {'Industry': 'Percentage of Workers Employed by Industry in 2007'})"
   ]
  },
  {
   "cell_type": "code",
   "execution_count": 18,
   "metadata": {},
   "outputs": [
    {
     "data": {
      "text/html": [
       "<div>\n",
       "<style scoped>\n",
       "    .dataframe tbody tr th:only-of-type {\n",
       "        vertical-align: middle;\n",
       "    }\n",
       "\n",
       "    .dataframe tbody tr th {\n",
       "        vertical-align: top;\n",
       "    }\n",
       "\n",
       "    .dataframe thead th {\n",
       "        text-align: right;\n",
       "    }\n",
       "</style>\n",
       "<table border=\"1\" class=\"dataframe\">\n",
       "  <thead>\n",
       "    <tr style=\"text-align: right;\">\n",
       "      <th></th>\n",
       "      <th>Percentage of Workers Employed by Industry in 2017</th>\n",
       "    </tr>\n",
       "  </thead>\n",
       "  <tbody>\n",
       "    <tr>\n",
       "      <th>Health Care</th>\n",
       "      <td>12.40</td>\n",
       "    </tr>\n",
       "    <tr>\n",
       "      <th>Transportation, Warehouse</th>\n",
       "      <td>10.93</td>\n",
       "    </tr>\n",
       "    <tr>\n",
       "      <th>Retail Trade</th>\n",
       "      <td>9.99</td>\n",
       "    </tr>\n",
       "    <tr>\n",
       "      <th>Company Management</th>\n",
       "      <td>9.56</td>\n",
       "    </tr>\n",
       "    <tr>\n",
       "      <th>Educational Services</th>\n",
       "      <td>9.36</td>\n",
       "    </tr>\n",
       "    <tr>\n",
       "      <th>Manufacturing</th>\n",
       "      <td>9.32</td>\n",
       "    </tr>\n",
       "    <tr>\n",
       "      <th>Accomodation and Food Services</th>\n",
       "      <td>7.01</td>\n",
       "    </tr>\n",
       "    <tr>\n",
       "      <th>Other services</th>\n",
       "      <td>5.09</td>\n",
       "    </tr>\n",
       "    <tr>\n",
       "      <th>Public Administration</th>\n",
       "      <td>4.45</td>\n",
       "    </tr>\n",
       "    <tr>\n",
       "      <th>Waste Management</th>\n",
       "      <td>4.38</td>\n",
       "    </tr>\n",
       "  </tbody>\n",
       "</table>\n",
       "</div>"
      ],
      "text/plain": [
       "                                Percentage of Workers Employed by Industry in 2017\n",
       "Health Care                                                                 12.40 \n",
       "Transportation, Warehouse                                                   10.93 \n",
       "Retail Trade                                                                 9.99 \n",
       "Company Management                                                           9.56 \n",
       "Educational Services                                                         9.36 \n",
       "Manufacturing                                                                9.32 \n",
       "Accomodation and Food Services                                               7.01 \n",
       "Other services                                                               5.09 \n",
       "Public Administration                                                        4.45 \n",
       "Waste Management                                                             4.38 "
      ]
     },
     "execution_count": 18,
     "metadata": {},
     "output_type": "execute_result"
    }
   ],
   "source": [
    "round((industry_2017['Industry'].value_counts(normalize = True))[0:10] * 100, 2).to_frame().rename(columns=\n",
    "                                                                                                     {'Industry': 'Percentage of Workers Employed by Industry in 2017'})"
   ]
  },
  {
   "cell_type": "markdown",
   "metadata": {},
   "source": [
    "<div class=\"alert alert-success\">\n",
    "<b> How have the top 10 industries of workers between 2007 and 2017 changed? </b> \n",
    "</div>"
   ]
  },
  {
   "cell_type": "markdown",
   "metadata": {},
   "source": [
    "##### Double click this cell and write your answer here."
   ]
  },
  {
   "cell_type": "markdown",
   "metadata": {},
   "source": [
    "The top 5 industries depicted above represent the top 5 industries in all of California. Run the cell below and select your home couny or any other county that interests you to see the top 5 industries in that county."
   ]
  },
  {
   "cell_type": "code",
   "execution_count": null,
   "metadata": {},
   "outputs": [],
   "source": [
    "#Joining both 2007 and 2017 tables.\n",
    "industry = pd.concat([industry_2007, industry_2017])\n",
    "\n",
    "def plot_occupations(county):\n",
    "    plt.figure(figsize=(10,10));\n",
    "    county_top_5 = industry[industry['County'] == county]\n",
    "    p = sns.countplot(data=county_top_5,\n",
    "                  x = 'Industry',\n",
    "                  hue = 'Year', order=county_top_5['Occupation'].value_counts(sort=True).index[0:5], \n",
    "                     palette = sns.color_palette(\"twilight\"))\n",
    "    p.set_xticklabels(p.get_xticklabels(), rotation=45, ha='right')\n",
    "    p.set_title('Top 5 Occupations in 2007 & 2017 in ' + str(county));\n",
    "    p.set_xlabel('Occupations');\n",
    "    \n",
    "county_widget = widgets.Dropdown(\n",
    "    options=list(occupation['County'].value_counts().index),\n",
    "    value=list(occupation['County'].value_counts().index)[0],\n",
    "    description='Select County:',\n",
    "    disabled=False,\n",
    ")\n",
    "\n",
    "interact(plot_occupations, county=county_widget);"
   ]
  },
  {
   "cell_type": "markdown",
   "metadata": {},
   "source": [
    "Now, let's visualize any possible changes in the top 5 occupations from 2007 to 2017."
   ]
  },
  {
   "cell_type": "code",
   "execution_count": 21,
   "metadata": {},
   "outputs": [
    {
     "data": {
      "image/png": "[encoded data removed]",
      "text/plain": [
       "<Figure size 1080x576 with 1 Axes>"
      ]
     },
     "metadata": {},
     "output_type": "display_data"
    }
   ],
   "source": [
    "plt.figure(figsize=(15,8))\n",
    "p = sns.countplot(data=occupation_2007,\n",
    "                  x = 'Occupation',\n",
    "                  order=occupation_2007['Occupation'].value_counts(sort=True).index[0:5])\n",
    "p.set_xticklabels(p.get_xticklabels(), rotation=45, ha='right')\n",
    "p.set_title('Top 5 Occupations in 2007', fontdict = {'fontsize': 20});\n",
    "p.set_xlabel('Occupation');"
   ]
  },
  {
   "cell_type": "code",
   "execution_count": 22,
   "metadata": {},
   "outputs": [
    {
     "data": {
      "image/png": "[encoded data removed]",
      "text/plain": [
       "<Figure size 1080x576 with 1 Axes>"
      ]
     },
     "metadata": {},
     "output_type": "display_data"
    }
   ],
   "source": [
    "plt.figure(figsize=(15,8))\n",
    "ax = sns.countplot(data=occupation_2017,\n",
    "                  x = 'Occupation',\n",
    "                   order=occupation_2017['Occupation'].value_counts(sort=True).index[0:5])\n",
    "ax.set_xticklabels(ax.get_xticklabels(), rotation=45, ha='right')\n",
    "ax.set_title('Top 5 Occupations in 2017', fontdict = {'fontsize': 20});\n",
    "ax.set_xlabel('Occupations');"
   ]
  },
  {
   "cell_type": "markdown",
   "metadata": {},
   "source": [
    "Let's visualize the top 5 occupations for both years side by side."
   ]
  },
  {
   "cell_type": "code",
   "execution_count": 23,
   "metadata": {},
   "outputs": [
    {
     "data": {
      "image/png": "[encoded data removed]",
      "text/plain": [
       "<Figure size 1080x576 with 1 Axes>"
      ]
     },
     "metadata": {},
     "output_type": "display_data"
    }
   ],
   "source": [
    "occupation = pd.DataFrame()\n",
    "occupation = occupation.append(occupation_2007)\n",
    "occupation = occupation.append(occupation_2017)\n",
    "plt.figure(figsize=(15,8))\n",
    "p = sns.countplot(data=occupation,\n",
    "                  x = 'Occupation',\n",
    "                  hue = 'Year', order=occupation['Occupation'].value_counts(sort=True).index[0:5], \n",
    "                 palette = sns.color_palette(\"PiYG\", 10))\n",
    "p.set_xticklabels(p.get_xticklabels(), rotation=45, ha=\"right\")\n",
    "p.set_title('Top 5 Occupations in 2007 & 2017', fontdict= {'fontsize' : 20});\n",
    "p.set_xlabel('Industries');"
   ]
  },
  {
   "cell_type": "markdown",
   "metadata": {},
   "source": [
    "<div class=\"alert alert-success\">\n",
    "<b> What changes do you see in the top 5 occupation from 2007 to 2017? If there are changes, what are the differences between 2007 and 2017? </b> \n",
    "</div>"
   ]
  },
  {
   "cell_type": "markdown",
   "metadata": {},
   "source": [
    "##### Your answer here."
   ]
  },
  {
   "cell_type": "markdown",
   "metadata": {},
   "source": [
    "### Top 5 Occupations by County"
   ]
  },
  {
   "cell_type": "markdown",
   "metadata": {},
   "source": [
    "Run the cell below. You should see a drop-down menu that allows youo to select one of the counties that our dataset contains. If you are an LA native, pick your county and analyze what the top 5 occupations were in 2007 and 2017. "
   ]
  },
  {
   "cell_type": "code",
   "execution_count": 25,
   "metadata": {},
   "outputs": [
    {
     "data": {
      "application/vnd.jupyter.widget-view+json": {
       "model_id": "4c24a55813024bf0920bb9b6fa7477e1",
       "version_major": 2,
       "version_minor": 0
      },
      "text/plain": [
       "interactive(children=(Dropdown(description='Select County:', options=('Los Angeles-Long Beach-Anaheim, CA', 'S…"
      ]
     },
     "metadata": {},
     "output_type": "display_data"
    }
   ],
   "source": [
    "def plot_occupations(county):\n",
    "    plt.figure(figsize=(10,10));\n",
    "    county_top_5 = occupation[occupation['County'] == county]\n",
    "    p = sns.countplot(data=county_top_5,\n",
    "                  x = 'Occupation',\n",
    "                  hue = 'Year', order=county_top_5['Occupation'].value_counts(sort=True).index[0:5], \n",
    "                     palette = sns.color_palette(\"twilight\"))\n",
    "    p.set_xticklabels(p.get_xticklabels(), rotation=45, ha='right')\n",
    "    p.set_title('Top 5 Occupations in 2007 & 2017 in ' + str(county));\n",
    "    p.set_xlabel('Occupations');\n",
    "    \n",
    "county_widget = widgets.Dropdown(\n",
    "    options=list(occupation['County'].value_counts().index),\n",
    "    value=list(occupation['County'].value_counts().index)[0],\n",
    "    description='Select County:',\n",
    "    disabled=False,\n",
    ")\n",
    "\n",
    "interact(plot_occupations, county=county_widget);"
   ]
  },
  {
   "cell_type": "markdown",
   "metadata": {},
   "source": [
    "<div class=\"alert alert-success\">\n",
    "<b> What difference, if any, do you see in the top 5 occupations in both years between our entire dataset and your county/the county you selected? How does this reflect the history of the county ? </b> \n",
    "</div>"
   ]
  },
  {
   "cell_type": "markdown",
   "metadata": {},
   "source": [
    "##### Your answer here."
   ]
  },
  {
   "cell_type": "markdown",
   "metadata": {},
   "source": [
    " "
   ]
  },
  {
   "cell_type": "markdown",
   "metadata": {},
   "source": [
    " "
   ]
  },
  {
   "cell_type": "markdown",
   "metadata": {},
   "source": [
    "## B) Income Distribution"
   ]
  },
  {
   "cell_type": "markdown",
   "metadata": {},
   "source": [
    "For this category, we will look at distributions of income with respect to other variables. First, we will simply compare the distribution of household incomes for survey respondents. \n",
    "\n",
    "**Run the cells below.**"
   ]
  },
  {
   "cell_type": "markdown",
   "metadata": {},
   "source": [
    "### 1. Distributions of Household Income"
   ]
  },
  {
   "cell_type": "code",
   "execution_count": 71,
   "metadata": {},
   "outputs": [
    {
     "data": {
      "image/png": "[encoded data removed]",
      "text/plain": [
       "<Figure size 1080x576 with 1 Axes>"
      ]
     },
     "metadata": {},
     "output_type": "display_data"
    }
   ],
   "source": [
    "plt.figure(figsize=(15,8))\n",
    "sns.distplot(poverty_2007['Household Income'], label = 'Income in 2007')\n",
    "plt.title('Histogram of Household Income in California in 2007')\n",
    "plt.xlabel('Household Income ($)');"
   ]
  },
  {
   "cell_type": "code",
   "execution_count": 70,
   "metadata": {},
   "outputs": [
    {
     "data": {
      "image/png": "[encoded data removed]",
      "text/plain": [
       "<Figure size 1080x576 with 1 Axes>"
      ]
     },
     "metadata": {},
     "output_type": "display_data"
    }
   ],
   "source": [
    "plt.figure(figsize=(15,8))\n",
    "sns.distplot(poverty_2017['Household Income'], label = 'Income in 2017')\n",
    "plt.title('Histogram of Household Income in California in 2007')\n",
    "plt.xlabel('Pre-Tax Income ($)');"
   ]
  },
  {
   "cell_type": "markdown",
   "metadata": {},
   "source": [
    "**3B.1.1 Task: Analyze the shapes of these histograms. How are they similar/different? Compare them with their respective histogram for wages, which we generated earlier. Are there any differences? Why might these differences arise?**"
   ]
  },
  {
   "cell_type": "markdown",
   "metadata": {},
   "source": [
    "**[Double click on this cell and write your answer here]**"
   ]
  },
  {
   "cell_type": "markdown",
   "metadata": {},
   "source": [
    "### 2. Statistics "
   ]
  },
  {
   "cell_type": "markdown",
   "metadata": {},
   "source": [
    "Over the past decade, the issue of income inequality has increasingly manifested, across the United States. Let's see if our dataset can provide evidence for this claim. \n",
    "\n",
    "Specifically, let's test if the gap between bottom and top percentile incomes have increased or decreased over a span of a decade. \n",
    "\n",
    "**Run the cell below. **"
   ]
  },
  {
   "cell_type": "code",
   "execution_count": 77,
   "metadata": {},
   "outputs": [
    {
     "name": "stdout",
     "output_type": "stream",
     "text": [
      "The gap between the 75th and 25th percentile income is: $80,300.00\n",
      "The gap between the 10th and 90th percentile income is: $163,700.00\n",
      "The gap between the 1st and 99th percentile income is: $490,920.60\n"
     ]
    }
   ],
   "source": [
    "first_2007 = np.percentile(poverty_2007['Household Income'], 1)\n",
    "tenth_2007 = np.percentile(poverty_2007['Household Income'], 10)\n",
    "twenty_fifth_2007 = np.percentile(poverty_2007['Household Income'], 25)\n",
    "seventy_fifth_2007 = np.percentile(poverty_2007['Household Income'], 75)\n",
    "ninety_2007 = np.percentile(poverty_2007['Household Income'], 90)\n",
    "ninety_ninth_2007 = np.percentile(poverty_2007['Household Income'], 99)\n",
    "diff_1 = float(np.round(seventy_fifth_2007 - twenty_fifth_2007, 2))\n",
    "diff_2 = float(np.round(ninety_2007 - tenth_2007, 2))\n",
    "diff_3 = float(np.round(ninety_ninth_2007 - first_2007, 2))\n",
    "print(\"The gap between the 75th and 25th percentile income is: {}\".format(dollar_formatter(diff_1)))\n",
    "print(\"The gap between the 10th and 90th percentile income is: {}\".format(dollar_formatter(diff_2)))\n",
    "print(\"The gap between the 1st and 99th percentile income is: {}\".format(dollar_formatter(diff_3)))"
   ]
  },
  {
   "cell_type": "code",
   "execution_count": 78,
   "metadata": {},
   "outputs": [
    {
     "name": "stdout",
     "output_type": "stream",
     "text": [
      "The gap between the 75th and 25th percentile income is: $104,200.00\n",
      "The gap between the 10th and 90th percentile income is: $217,000.00\n",
      "The gap between the 1st and 99th percentile income is: $599,647.20\n"
     ]
    }
   ],
   "source": [
    "first_2017 = np.percentile(poverty_2017['Household Income'], 1)\n",
    "tenth_2017 = np.percentile(poverty_2017['Household Income'], 10)\n",
    "twenty_fifth_2017 = np.percentile(poverty_2017['Household Income'], 25)\n",
    "seventy_fifth_2017 = np.percentile(poverty_2017['Household Income'], 75)\n",
    "ninety_2017 = np.percentile(poverty_2017['Household Income'], 90)\n",
    "ninety_ninth_2017 = np.percentile(poverty_2017['Household Income'], 99)\n",
    "diff_1 = float(np.round(seventy_fifth_2017 - twenty_fifth_2017, 2))\n",
    "diff_2 = float(np.round(ninety_2017 - tenth_2017, 2))\n",
    "diff_3 = float(np.round(ninety_ninth_2017 - first_2017, 2))\n",
    "print(\"The gap between the 75th and 25th percentile income is: {}\".format(dollar_formatter(diff_1)))\n",
    "print(\"The gap between the 10th and 90th percentile income is: {}\".format(dollar_formatter(diff_2)))\n",
    "print(\"The gap between the 1st and 99th percentile income is: {}\".format(dollar_formatter(diff_3)))"
   ]
  },
  {
   "cell_type": "markdown",
   "metadata": {},
   "source": [
    "**Compare these statistics. Can we say that there has been a definite increase in income inequality from 2007 to 2017? Why might these numbers be misleading?**"
   ]
  },
  {
   "cell_type": "markdown",
   "metadata": {},
   "source": [
    "**[Double click on this cell and write your answer here]**\n"
   ]
  },
  {
   "cell_type": "markdown",
   "metadata": {},
   "source": [
    "### 3. Income by City"
   ]
  },
  {
   "cell_type": "code",
   "execution_count": 80,
   "metadata": {},
   "outputs": [
    {
     "data": {
      "text/html": [
       "<div>\n",
       "<style scoped>\n",
       "    .dataframe tbody tr th:only-of-type {\n",
       "        vertical-align: middle;\n",
       "    }\n",
       "\n",
       "    .dataframe tbody tr th {\n",
       "        vertical-align: top;\n",
       "    }\n",
       "\n",
       "    .dataframe thead th {\n",
       "        text-align: right;\n",
       "    }\n",
       "</style>\n",
       "<table border=\"1\" class=\"dataframe\">\n",
       "  <thead>\n",
       "    <tr style=\"text-align: right;\">\n",
       "      <th></th>\n",
       "      <th>Household Income</th>\n",
       "    </tr>\n",
       "    <tr>\n",
       "      <th>City</th>\n",
       "      <th></th>\n",
       "    </tr>\n",
       "  </thead>\n",
       "  <tbody>\n",
       "    <tr>\n",
       "      <th>East Los Angeles, CA</th>\n",
       "      <td>61080.452381</td>\n",
       "    </tr>\n",
       "    <tr>\n",
       "      <th>El Monte, CA</th>\n",
       "      <td>64028.446602</td>\n",
       "    </tr>\n",
       "    <tr>\n",
       "      <th>San Bernardino, CA</th>\n",
       "      <td>66487.127219</td>\n",
       "    </tr>\n",
       "    <tr>\n",
       "      <th>Inglewood, CA</th>\n",
       "      <td>71588.101828</td>\n",
       "    </tr>\n",
       "    <tr>\n",
       "      <th>Fresno, CA</th>\n",
       "      <td>73814.946477</td>\n",
       "    </tr>\n",
       "    <tr>\n",
       "      <th>Salinas, CA</th>\n",
       "      <td>74853.972656</td>\n",
       "    </tr>\n",
       "    <tr>\n",
       "      <th>Pomona, CA</th>\n",
       "      <td>77751.053381</td>\n",
       "    </tr>\n",
       "    <tr>\n",
       "      <th>Ontario, CA</th>\n",
       "      <td>78378.323181</td>\n",
       "    </tr>\n",
       "    <tr>\n",
       "      <th>Moreno Valley, CA</th>\n",
       "      <td>78527.778255</td>\n",
       "    </tr>\n",
       "    <tr>\n",
       "      <th>Santa Ana, CA</th>\n",
       "      <td>80128.686047</td>\n",
       "    </tr>\n",
       "    <tr>\n",
       "      <th>Lancaster, CA</th>\n",
       "      <td>80271.952741</td>\n",
       "    </tr>\n",
       "    <tr>\n",
       "      <th>Norwalk, CA</th>\n",
       "      <td>80464.149533</td>\n",
       "    </tr>\n",
       "    <tr>\n",
       "      <th>Stockton, CA</th>\n",
       "      <td>80560.914538</td>\n",
       "    </tr>\n",
       "    <tr>\n",
       "      <th>Modesto, CA</th>\n",
       "      <td>85273.241071</td>\n",
       "    </tr>\n",
       "    <tr>\n",
       "      <th>Bakersfield, CA</th>\n",
       "      <td>85757.084170</td>\n",
       "    </tr>\n",
       "    <tr>\n",
       "      <th>Long Beach, CA</th>\n",
       "      <td>86485.101305</td>\n",
       "    </tr>\n",
       "    <tr>\n",
       "      <th>Oxnard, CA</th>\n",
       "      <td>86511.745840</td>\n",
       "    </tr>\n",
       "    <tr>\n",
       "      <th>Sacramento, CA</th>\n",
       "      <td>86719.927326</td>\n",
       "    </tr>\n",
       "    <tr>\n",
       "      <th>Riverside, CA</th>\n",
       "      <td>86771.535862</td>\n",
       "    </tr>\n",
       "    <tr>\n",
       "      <th>Fontana, CA</th>\n",
       "      <td>86794.491525</td>\n",
       "    </tr>\n",
       "    <tr>\n",
       "      <th>Garden Grove, CA</th>\n",
       "      <td>89898.801902</td>\n",
       "    </tr>\n",
       "    <tr>\n",
       "      <th>Anaheim, CA</th>\n",
       "      <td>90034.422872</td>\n",
       "    </tr>\n",
       "    <tr>\n",
       "      <th>Palmdale, CA</th>\n",
       "      <td>90495.815041</td>\n",
       "    </tr>\n",
       "    <tr>\n",
       "      <th>Burbank, CA</th>\n",
       "      <td>92757.532584</td>\n",
       "    </tr>\n",
       "    <tr>\n",
       "      <th>Los Angeles, CA</th>\n",
       "      <td>94022.460004</td>\n",
       "    </tr>\n",
       "    <tr>\n",
       "      <th>Costa Mesa, CA</th>\n",
       "      <td>94245.158249</td>\n",
       "    </tr>\n",
       "    <tr>\n",
       "      <th>West Covina, CA</th>\n",
       "      <td>97279.844498</td>\n",
       "    </tr>\n",
       "    <tr>\n",
       "      <th>San Buenaventura (Ventura), CA</th>\n",
       "      <td>97998.687500</td>\n",
       "    </tr>\n",
       "    <tr>\n",
       "      <th>Downey, CA</th>\n",
       "      <td>98046.126126</td>\n",
       "    </tr>\n",
       "    <tr>\n",
       "      <th>Chula Vista, CA</th>\n",
       "      <td>99232.179433</td>\n",
       "    </tr>\n",
       "    <tr>\n",
       "      <th>Glendale, CA</th>\n",
       "      <td>104363.950456</td>\n",
       "    </tr>\n",
       "    <tr>\n",
       "      <th>Fullerton, CA</th>\n",
       "      <td>105544.130360</td>\n",
       "    </tr>\n",
       "    <tr>\n",
       "      <th>Not in identifiable city (or size group)</th>\n",
       "      <td>107143.114653</td>\n",
       "    </tr>\n",
       "    <tr>\n",
       "      <th>Rancho Cucamonga, CA</th>\n",
       "      <td>107916.059908</td>\n",
       "    </tr>\n",
       "    <tr>\n",
       "      <th>Oakland, CA</th>\n",
       "      <td>108810.869361</td>\n",
       "    </tr>\n",
       "    <tr>\n",
       "      <th>Santa Clarita, CA</th>\n",
       "      <td>111178.957160</td>\n",
       "    </tr>\n",
       "    <tr>\n",
       "      <th>Corona, CA</th>\n",
       "      <td>113357.517910</td>\n",
       "    </tr>\n",
       "    <tr>\n",
       "      <th>Torrance, CA</th>\n",
       "      <td>114416.772727</td>\n",
       "    </tr>\n",
       "    <tr>\n",
       "      <th>Pasadena, CA</th>\n",
       "      <td>117037.944700</td>\n",
       "    </tr>\n",
       "    <tr>\n",
       "      <th>Simi Valley, CA</th>\n",
       "      <td>123700.101587</td>\n",
       "    </tr>\n",
       "    <tr>\n",
       "      <th>Orange, CA</th>\n",
       "      <td>125880.230999</td>\n",
       "    </tr>\n",
       "    <tr>\n",
       "      <th>San Francisco, CA</th>\n",
       "      <td>127529.250000</td>\n",
       "    </tr>\n",
       "    <tr>\n",
       "      <th>Sunnyvale, CA</th>\n",
       "      <td>128645.119082</td>\n",
       "    </tr>\n",
       "    <tr>\n",
       "      <th>Huntington Beach, CA</th>\n",
       "      <td>128705.494485</td>\n",
       "    </tr>\n",
       "    <tr>\n",
       "      <th>Irvine, CA</th>\n",
       "      <td>133924.415430</td>\n",
       "    </tr>\n",
       "    <tr>\n",
       "      <th>Thousand Oaks, CA</th>\n",
       "      <td>143981.659542</td>\n",
       "    </tr>\n",
       "  </tbody>\n",
       "</table>\n",
       "</div>"
      ],
      "text/plain": [
       "                                          Household Income\n",
       "City                                                      \n",
       "East Los Angeles, CA                          61080.452381\n",
       "El Monte, CA                                  64028.446602\n",
       "San Bernardino, CA                            66487.127219\n",
       "Inglewood, CA                                 71588.101828\n",
       "Fresno, CA                                    73814.946477\n",
       "Salinas, CA                                   74853.972656\n",
       "Pomona, CA                                    77751.053381\n",
       "Ontario, CA                                   78378.323181\n",
       "Moreno Valley, CA                             78527.778255\n",
       "Santa Ana, CA                                 80128.686047\n",
       "Lancaster, CA                                 80271.952741\n",
       "Norwalk, CA                                   80464.149533\n",
       "Stockton, CA                                  80560.914538\n",
       "Modesto, CA                                   85273.241071\n",
       "Bakersfield, CA                               85757.084170\n",
       "Long Beach, CA                                86485.101305\n",
       "Oxnard, CA                                    86511.745840\n",
       "Sacramento, CA                                86719.927326\n",
       "Riverside, CA                                 86771.535862\n",
       "Fontana, CA                                   86794.491525\n",
       "Garden Grove, CA                              89898.801902\n",
       "Anaheim, CA                                   90034.422872\n",
       "Palmdale, CA                                  90495.815041\n",
       "Burbank, CA                                   92757.532584\n",
       "Los Angeles, CA                               94022.460004\n",
       "Costa Mesa, CA                                94245.158249\n",
       "West Covina, CA                               97279.844498\n",
       "San Buenaventura (Ventura), CA                97998.687500\n",
       "Downey, CA                                    98046.126126\n",
       "Chula Vista, CA                               99232.179433\n",
       "Glendale, CA                                 104363.950456\n",
       "Fullerton, CA                                105544.130360\n",
       "Not in identifiable city (or size group)     107143.114653\n",
       "Rancho Cucamonga, CA                         107916.059908\n",
       "Oakland, CA                                  108810.869361\n",
       "Santa Clarita, CA                            111178.957160\n",
       "Corona, CA                                   113357.517910\n",
       "Torrance, CA                                 114416.772727\n",
       "Pasadena, CA                                 117037.944700\n",
       "Simi Valley, CA                              123700.101587\n",
       "Orange, CA                                   125880.230999\n",
       "San Francisco, CA                            127529.250000\n",
       "Sunnyvale, CA                                128645.119082\n",
       "Huntington Beach, CA                         128705.494485\n",
       "Irvine, CA                                   133924.415430\n",
       "Thousand Oaks, CA                            143981.659542"
      ]
     },
     "execution_count": 80,
     "metadata": {},
     "output_type": "execute_result"
    }
   ],
   "source": [
    "income_by_city = poverty_2007.groupby('City').mean()[['Household Income']].sort_values('Household Income')\n",
    "income_by_city"
   ]
  },
  {
   "cell_type": "code",
   "execution_count": 82,
   "metadata": {},
   "outputs": [
    {
     "data": {
      "image/png": "[encoded data removed]",
      "text/plain": [
       "<Figure size 1080x576 with 1 Axes>"
      ]
     },
     "metadata": {},
     "output_type": "display_data"
    }
   ],
   "source": [
    "plt.figure(figsize = (15, 8))\n",
    "top_5_income_by_city = income_by_city.sort_values('Household Income', ascending = False)[0:5].reset_index()\n",
    "sns.barplot(x = 'City', y = 'Household Income', data = top_5_income_by_city)\n",
    "plt.title('Bar Plot of Top 5 Cities with Highest Household Income');"
   ]
  },
  {
   "cell_type": "markdown",
   "metadata": {},
   "source": [
    "**Do some research into these cities. How may they be related and why might that explain their presence in the highest average incomes in California?**"
   ]
  },
  {
   "cell_type": "markdown",
   "metadata": {},
   "source": [
    "**[Double click on this cell and write your answer here]**\n"
   ]
  },
  {
   "cell_type": "code",
   "execution_count": 86,
   "metadata": {},
   "outputs": [
    {
     "data": {
      "image/png": "[encoded data removed]",
      "text/plain": [
       "<Figure size 1080x576 with 1 Axes>"
      ]
     },
     "metadata": {},
     "output_type": "display_data"
    }
   ],
   "source": [
    "plt.figure(figsize = (15, 8))\n",
    "bottom_5_income_by_city = income_by_city.sort_values('Household Income', ascending = True)[0:5].reset_index()\n",
    "sns.barplot(x = 'City', y = 'Household Income', data = bottom_5_income_by_city)\n",
    "plt.title('Top 5 Cities with Lowest Household Income');"
   ]
  },
  {
   "cell_type": "markdown",
   "metadata": {},
   "source": [
    "**Do some research into these cities. How may they be related and why might that explain their presence in the lowest average incomes in California?**"
   ]
  },
  {
   "cell_type": "markdown",
   "metadata": {},
   "source": [
    "**[Double click on this cell and write your answer here]**\n"
   ]
  },
  {
   "cell_type": "markdown",
   "metadata": {},
   "source": [
    "Finally, let's examine how the lowest and higest household income cities have changed over a span of a decade.\n",
    "\n",
    "**Run the cells below.**"
   ]
  },
  {
   "cell_type": "code",
   "execution_count": 87,
   "metadata": {},
   "outputs": [
    {
     "data": {
      "image/png": "[encoded data removed]",
      "text/plain": [
       "<Figure size 1080x576 with 1 Axes>"
      ]
     },
     "metadata": {},
     "output_type": "display_data"
    }
   ],
   "source": [
    "plt.figure(figsize = (15, 8))\n",
    "income_by_city_2017 = poverty_2017.groupby('City').mean()[['Household Income']].sort_values('Household Income')\n",
    "top_5_income_by_city_2017 = income_by_city_2017.sort_values('Household Income', ascending = False)[0:5].reset_index()\n",
    "sns.barplot(x = 'City', y = 'Household Income', data = top_5_income_by_city_2017)\n",
    "plt.title('Bar Plot of Top 5 Cities with Highest Household in 2017');"
   ]
  },
  {
   "cell_type": "code",
   "execution_count": 88,
   "metadata": {},
   "outputs": [
    {
     "data": {
      "image/png": "[encoded data removed]",
      "text/plain": [
       "<Figure size 1080x576 with 1 Axes>"
      ]
     },
     "metadata": {},
     "output_type": "display_data"
    }
   ],
   "source": [
    "plt.figure(figsize = (15, 8))\n",
    "income_by_city_2017 = poverty_2017.groupby('City').mean()[['Household Income']].sort_values('Household Income')\n",
    "bottom_5_income_by_city_2017 = income_by_city_2017.sort_values('Household Income', ascending = True)[0:5].reset_index()\n",
    "sns.barplot(x = 'City', y = 'Household Income', data = bottom_5_income_by_city_2017)\n",
    "plt.title('Bar Plot of Top 5 Cities with Lowest Household Income in 2017');"
   ]
  },
  {
   "cell_type": "markdown",
   "metadata": {},
   "source": [
    "**Task: Write down any observations you have about these cities' placements, as well as how they have changed? Does income inequality have some geographical component?**"
   ]
  },
  {
   "cell_type": "markdown",
   "metadata": {},
   "source": [
    "**[Double click on this cell and write your answer here]**\n"
   ]
  },
  {
   "cell_type": "markdown",
   "metadata": {},
   "source": [
    "### 4. Wage by Type of Worker "
   ]
  },
  {
   "cell_type": "code",
   "execution_count": 90,
   "metadata": {},
   "outputs": [
    {
     "data": {
      "text/html": [
       "<div>\n",
       "<style scoped>\n",
       "    .dataframe tbody tr th:only-of-type {\n",
       "        vertical-align: middle;\n",
       "    }\n",
       "\n",
       "    .dataframe tbody tr th {\n",
       "        vertical-align: top;\n",
       "    }\n",
       "\n",
       "    .dataframe thead th {\n",
       "        text-align: right;\n",
       "    }\n",
       "</style>\n",
       "<table border=\"1\" class=\"dataframe\">\n",
       "  <thead>\n",
       "    <tr style=\"text-align: right;\">\n",
       "      <th></th>\n",
       "      <th>Pre-Tax Wages</th>\n",
       "    </tr>\n",
       "    <tr>\n",
       "      <th>Type of Worker</th>\n",
       "      <th></th>\n",
       "    </tr>\n",
       "  </thead>\n",
       "  <tbody>\n",
       "    <tr>\n",
       "      <th>Self-employed</th>\n",
       "      <td>27852.783005</td>\n",
       "    </tr>\n",
       "    <tr>\n",
       "      <th>Works for wages</th>\n",
       "      <td>45213.897402</td>\n",
       "    </tr>\n",
       "  </tbody>\n",
       "</table>\n",
       "</div>"
      ],
      "text/plain": [
       "                 Pre-Tax Wages\n",
       "Type of Worker                \n",
       "Self-employed     27852.783005\n",
       "Works for wages   45213.897402"
      ]
     },
     "execution_count": 90,
     "metadata": {},
     "output_type": "execute_result"
    }
   ],
   "source": [
    "tow_inc_2007 = poverty_2007.groupby('Type of Worker').mean()[['Pre-Tax Wages']]\n",
    "tow_inc_2007"
   ]
  },
  {
   "cell_type": "code",
   "execution_count": 91,
   "metadata": {},
   "outputs": [
    {
     "data": {
      "text/html": [
       "<div>\n",
       "<style scoped>\n",
       "    .dataframe tbody tr th:only-of-type {\n",
       "        vertical-align: middle;\n",
       "    }\n",
       "\n",
       "    .dataframe tbody tr th {\n",
       "        vertical-align: top;\n",
       "    }\n",
       "\n",
       "    .dataframe thead th {\n",
       "        text-align: right;\n",
       "    }\n",
       "</style>\n",
       "<table border=\"1\" class=\"dataframe\">\n",
       "  <thead>\n",
       "    <tr style=\"text-align: right;\">\n",
       "      <th></th>\n",
       "      <th>Pre-Tax Wages</th>\n",
       "    </tr>\n",
       "    <tr>\n",
       "      <th>Type of Worker</th>\n",
       "      <th></th>\n",
       "    </tr>\n",
       "  </thead>\n",
       "  <tbody>\n",
       "    <tr>\n",
       "      <th>Self-employed</th>\n",
       "      <td>32185.225359</td>\n",
       "    </tr>\n",
       "    <tr>\n",
       "      <th>Works for wages</th>\n",
       "      <td>57111.314665</td>\n",
       "    </tr>\n",
       "  </tbody>\n",
       "</table>\n",
       "</div>"
      ],
      "text/plain": [
       "                 Pre-Tax Wages\n",
       "Type of Worker                \n",
       "Self-employed     32185.225359\n",
       "Works for wages   57111.314665"
      ]
     },
     "execution_count": 91,
     "metadata": {},
     "output_type": "execute_result"
    }
   ],
   "source": [
    "tow_inc_2017 = poverty_2017.groupby('Type of Worker').mean()[['Pre-Tax Wages']]\n",
    "tow_inc_2017"
   ]
  },
  {
   "cell_type": "markdown",
   "metadata": {},
   "source": [
    "### 5. Wage by Ownership Status"
   ]
  },
  {
   "cell_type": "code",
   "execution_count": 93,
   "metadata": {},
   "outputs": [
    {
     "data": {
      "text/html": [
       "<div>\n",
       "<style scoped>\n",
       "    .dataframe tbody tr th:only-of-type {\n",
       "        vertical-align: middle;\n",
       "    }\n",
       "\n",
       "    .dataframe tbody tr th {\n",
       "        vertical-align: top;\n",
       "    }\n",
       "\n",
       "    .dataframe thead th {\n",
       "        text-align: right;\n",
       "    }\n",
       "</style>\n",
       "<table border=\"1\" class=\"dataframe\">\n",
       "  <thead>\n",
       "    <tr style=\"text-align: right;\">\n",
       "      <th></th>\n",
       "      <th>Pre-Tax Wages</th>\n",
       "    </tr>\n",
       "    <tr>\n",
       "      <th>Ownership Status</th>\n",
       "      <th></th>\n",
       "    </tr>\n",
       "  </thead>\n",
       "  <tbody>\n",
       "    <tr>\n",
       "      <th>Owned or being bought (loan)</th>\n",
       "      <td>49053.456376</td>\n",
       "    </tr>\n",
       "    <tr>\n",
       "      <th>Rented</th>\n",
       "      <td>31167.273307</td>\n",
       "    </tr>\n",
       "  </tbody>\n",
       "</table>\n",
       "</div>"
      ],
      "text/plain": [
       "                              Pre-Tax Wages\n",
       "Ownership Status                           \n",
       "Owned or being bought (loan)   49053.456376\n",
       "Rented                         31167.273307"
      ]
     },
     "execution_count": 93,
     "metadata": {},
     "output_type": "execute_result"
    }
   ],
   "source": [
    "own_inc_2007 = poverty_2007.groupby('Ownership Status').mean()[['Pre-Tax Wages']]\n",
    "own_inc_2007"
   ]
  },
  {
   "cell_type": "code",
   "execution_count": 94,
   "metadata": {},
   "outputs": [
    {
     "data": {
      "text/html": [
       "<div>\n",
       "<style scoped>\n",
       "    .dataframe tbody tr th:only-of-type {\n",
       "        vertical-align: middle;\n",
       "    }\n",
       "\n",
       "    .dataframe tbody tr th {\n",
       "        vertical-align: top;\n",
       "    }\n",
       "\n",
       "    .dataframe thead th {\n",
       "        text-align: right;\n",
       "    }\n",
       "</style>\n",
       "<table border=\"1\" class=\"dataframe\">\n",
       "  <thead>\n",
       "    <tr style=\"text-align: right;\">\n",
       "      <th></th>\n",
       "      <th>Pre-Tax Wages</th>\n",
       "    </tr>\n",
       "    <tr>\n",
       "      <th>Ownership Status</th>\n",
       "      <th></th>\n",
       "    </tr>\n",
       "  </thead>\n",
       "  <tbody>\n",
       "    <tr>\n",
       "      <th>Owned or being bought (loan)</th>\n",
       "      <td>62557.850940</td>\n",
       "    </tr>\n",
       "    <tr>\n",
       "      <th>Rented</th>\n",
       "      <td>40868.073399</td>\n",
       "    </tr>\n",
       "  </tbody>\n",
       "</table>\n",
       "</div>"
      ],
      "text/plain": [
       "                              Pre-Tax Wages\n",
       "Ownership Status                           \n",
       "Owned or being bought (loan)   62557.850940\n",
       "Rented                         40868.073399"
      ]
     },
     "execution_count": 94,
     "metadata": {},
     "output_type": "execute_result"
    }
   ],
   "source": [
    "own_inc_2017 = poverty_2017.groupby('Ownership Status').mean()[['Pre-Tax Wages']]\n",
    "own_inc_2017"
   ]
  },
  {
   "cell_type": "code",
   "execution_count": 95,
   "metadata": {},
   "outputs": [
    {
     "data": {
      "text/html": [
       "<div>\n",
       "<style scoped>\n",
       "    .dataframe tbody tr th:only-of-type {\n",
       "        vertical-align: middle;\n",
       "    }\n",
       "\n",
       "    .dataframe tbody tr th {\n",
       "        vertical-align: top;\n",
       "    }\n",
       "\n",
       "    .dataframe thead th {\n",
       "        text-align: right;\n",
       "    }\n",
       "</style>\n",
       "<table border=\"1\" class=\"dataframe\">\n",
       "  <thead>\n",
       "    <tr style=\"text-align: right;\">\n",
       "      <th></th>\n",
       "      <th></th>\n",
       "      <th>Pre-Tax Wages</th>\n",
       "    </tr>\n",
       "    <tr>\n",
       "      <th>Ownership Status</th>\n",
       "      <th>City</th>\n",
       "      <th></th>\n",
       "    </tr>\n",
       "  </thead>\n",
       "  <tbody>\n",
       "    <tr>\n",
       "      <th rowspan=\"30\" valign=\"top\">Owned or being bought (loan)</th>\n",
       "      <th>Anaheim, CA</th>\n",
       "      <td>43538.994325</td>\n",
       "    </tr>\n",
       "    <tr>\n",
       "      <th>Bakersfield, CA</th>\n",
       "      <td>40042.944325</td>\n",
       "    </tr>\n",
       "    <tr>\n",
       "      <th>Burbank, CA</th>\n",
       "      <td>46286.133333</td>\n",
       "    </tr>\n",
       "    <tr>\n",
       "      <th>Chula Vista, CA</th>\n",
       "      <td>43114.343122</td>\n",
       "    </tr>\n",
       "    <tr>\n",
       "      <th>Corona, CA</th>\n",
       "      <td>45755.333333</td>\n",
       "    </tr>\n",
       "    <tr>\n",
       "      <th>Costa Mesa, CA</th>\n",
       "      <td>45405.944056</td>\n",
       "    </tr>\n",
       "    <tr>\n",
       "      <th>Downey, CA</th>\n",
       "      <td>41898.084112</td>\n",
       "    </tr>\n",
       "    <tr>\n",
       "      <th>East Los Angeles, CA</th>\n",
       "      <td>29080.000000</td>\n",
       "    </tr>\n",
       "    <tr>\n",
       "      <th>El Monte, CA</th>\n",
       "      <td>27777.136364</td>\n",
       "    </tr>\n",
       "    <tr>\n",
       "      <th>Fontana, CA</th>\n",
       "      <td>34565.965583</td>\n",
       "    </tr>\n",
       "    <tr>\n",
       "      <th>Fresno, CA</th>\n",
       "      <td>37819.646341</td>\n",
       "    </tr>\n",
       "    <tr>\n",
       "      <th>Fullerton, CA</th>\n",
       "      <td>49631.335150</td>\n",
       "    </tr>\n",
       "    <tr>\n",
       "      <th>Garden Grove, CA</th>\n",
       "      <td>35518.290993</td>\n",
       "    </tr>\n",
       "    <tr>\n",
       "      <th>Glendale, CA</th>\n",
       "      <td>58717.628571</td>\n",
       "    </tr>\n",
       "    <tr>\n",
       "      <th>Huntington Beach, CA</th>\n",
       "      <td>58540.157274</td>\n",
       "    </tr>\n",
       "    <tr>\n",
       "      <th>Inglewood, CA</th>\n",
       "      <td>36924.606061</td>\n",
       "    </tr>\n",
       "    <tr>\n",
       "      <th>Irvine, CA</th>\n",
       "      <td>71851.577287</td>\n",
       "    </tr>\n",
       "    <tr>\n",
       "      <th>Lancaster, CA</th>\n",
       "      <td>39688.328841</td>\n",
       "    </tr>\n",
       "    <tr>\n",
       "      <th>Long Beach, CA</th>\n",
       "      <td>50339.132653</td>\n",
       "    </tr>\n",
       "    <tr>\n",
       "      <th>Los Angeles, CA</th>\n",
       "      <td>51302.674930</td>\n",
       "    </tr>\n",
       "    <tr>\n",
       "      <th>Modesto, CA</th>\n",
       "      <td>40989.442446</td>\n",
       "    </tr>\n",
       "    <tr>\n",
       "      <th>Moreno Valley, CA</th>\n",
       "      <td>35056.378987</td>\n",
       "    </tr>\n",
       "    <tr>\n",
       "      <th>Norwalk, CA</th>\n",
       "      <td>30606.736527</td>\n",
       "    </tr>\n",
       "    <tr>\n",
       "      <th>Not in identifiable city (or size group)</th>\n",
       "      <td>49473.964925</td>\n",
       "    </tr>\n",
       "    <tr>\n",
       "      <th>Oakland, CA</th>\n",
       "      <td>57539.578623</td>\n",
       "    </tr>\n",
       "    <tr>\n",
       "      <th>Ontario, CA</th>\n",
       "      <td>32365.230769</td>\n",
       "    </tr>\n",
       "    <tr>\n",
       "      <th>Orange, CA</th>\n",
       "      <td>58500.225873</td>\n",
       "    </tr>\n",
       "    <tr>\n",
       "      <th>Oxnard, CA</th>\n",
       "      <td>35410.392610</td>\n",
       "    </tr>\n",
       "    <tr>\n",
       "      <th>Palmdale, CA</th>\n",
       "      <td>41973.188776</td>\n",
       "    </tr>\n",
       "    <tr>\n",
       "      <th>Pasadena, CA</th>\n",
       "      <td>68539.814324</td>\n",
       "    </tr>\n",
       "    <tr>\n",
       "      <th>...</th>\n",
       "      <th>...</th>\n",
       "      <td>...</td>\n",
       "    </tr>\n",
       "    <tr>\n",
       "      <th rowspan=\"30\" valign=\"top\">Rented</th>\n",
       "      <th>Irvine, CA</th>\n",
       "      <td>45698.461538</td>\n",
       "    </tr>\n",
       "    <tr>\n",
       "      <th>Lancaster, CA</th>\n",
       "      <td>25892.405063</td>\n",
       "    </tr>\n",
       "    <tr>\n",
       "      <th>Long Beach, CA</th>\n",
       "      <td>26597.540107</td>\n",
       "    </tr>\n",
       "    <tr>\n",
       "      <th>Los Angeles, CA</th>\n",
       "      <td>27704.811731</td>\n",
       "    </tr>\n",
       "    <tr>\n",
       "      <th>Modesto, CA</th>\n",
       "      <td>26740.219298</td>\n",
       "    </tr>\n",
       "    <tr>\n",
       "      <th>Moreno Valley, CA</th>\n",
       "      <td>23485.722892</td>\n",
       "    </tr>\n",
       "    <tr>\n",
       "      <th>Norwalk, CA</th>\n",
       "      <td>27295.744681</td>\n",
       "    </tr>\n",
       "    <tr>\n",
       "      <th>Not in identifiable city (or size group)</th>\n",
       "      <td>31598.391496</td>\n",
       "    </tr>\n",
       "    <tr>\n",
       "      <th>Oakland, CA</th>\n",
       "      <td>32788.256131</td>\n",
       "    </tr>\n",
       "    <tr>\n",
       "      <th>Ontario, CA</th>\n",
       "      <td>24638.507463</td>\n",
       "    </tr>\n",
       "    <tr>\n",
       "      <th>Orange, CA</th>\n",
       "      <td>28467.880435</td>\n",
       "    </tr>\n",
       "    <tr>\n",
       "      <th>Oxnard, CA</th>\n",
       "      <td>25345.964912</td>\n",
       "    </tr>\n",
       "    <tr>\n",
       "      <th>Palmdale, CA</th>\n",
       "      <td>29079.300000</td>\n",
       "    </tr>\n",
       "    <tr>\n",
       "      <th>Pasadena, CA</th>\n",
       "      <td>35990.000000</td>\n",
       "    </tr>\n",
       "    <tr>\n",
       "      <th>Pomona, CA</th>\n",
       "      <td>21534.236453</td>\n",
       "    </tr>\n",
       "    <tr>\n",
       "      <th>Rancho Cucamonga, CA</th>\n",
       "      <td>33287.042254</td>\n",
       "    </tr>\n",
       "    <tr>\n",
       "      <th>Riverside, CA</th>\n",
       "      <td>28018.222812</td>\n",
       "    </tr>\n",
       "    <tr>\n",
       "      <th>Sacramento, CA</th>\n",
       "      <td>30375.297691</td>\n",
       "    </tr>\n",
       "    <tr>\n",
       "      <th>Salinas, CA</th>\n",
       "      <td>28257.030568</td>\n",
       "    </tr>\n",
       "    <tr>\n",
       "      <th>San Bernardino, CA</th>\n",
       "      <td>25106.334661</td>\n",
       "    </tr>\n",
       "    <tr>\n",
       "      <th>San Buenaventura (Ventura), CA</th>\n",
       "      <td>31274.705882</td>\n",
       "    </tr>\n",
       "    <tr>\n",
       "      <th>San Francisco, CA</th>\n",
       "      <td>47821.016525</td>\n",
       "    </tr>\n",
       "    <tr>\n",
       "      <th>Santa Ana, CA</th>\n",
       "      <td>22290.746269</td>\n",
       "    </tr>\n",
       "    <tr>\n",
       "      <th>Santa Clarita, CA</th>\n",
       "      <td>31248.087432</td>\n",
       "    </tr>\n",
       "    <tr>\n",
       "      <th>Simi Valley, CA</th>\n",
       "      <td>42740.350877</td>\n",
       "    </tr>\n",
       "    <tr>\n",
       "      <th>Stockton, CA</th>\n",
       "      <td>23587.402235</td>\n",
       "    </tr>\n",
       "    <tr>\n",
       "      <th>Sunnyvale, CA</th>\n",
       "      <td>58081.103896</td>\n",
       "    </tr>\n",
       "    <tr>\n",
       "      <th>Thousand Oaks, CA</th>\n",
       "      <td>42974.960630</td>\n",
       "    </tr>\n",
       "    <tr>\n",
       "      <th>Torrance, CA</th>\n",
       "      <td>43892.152466</td>\n",
       "    </tr>\n",
       "    <tr>\n",
       "      <th>West Covina, CA</th>\n",
       "      <td>28152.083333</td>\n",
       "    </tr>\n",
       "  </tbody>\n",
       "</table>\n",
       "<p>92 rows × 1 columns</p>\n",
       "</div>"
      ],
      "text/plain": [
       "                                                                       Pre-Tax Wages\n",
       "Ownership Status             City                                                   \n",
       "Owned or being bought (loan) Anaheim, CA                                43538.994325\n",
       "                             Bakersfield, CA                            40042.944325\n",
       "                             Burbank, CA                                46286.133333\n",
       "                             Chula Vista, CA                            43114.343122\n",
       "                             Corona, CA                                 45755.333333\n",
       "                             Costa Mesa, CA                             45405.944056\n",
       "                             Downey, CA                                 41898.084112\n",
       "                             East Los Angeles, CA                       29080.000000\n",
       "                             El Monte, CA                               27777.136364\n",
       "                             Fontana, CA                                34565.965583\n",
       "                             Fresno, CA                                 37819.646341\n",
       "                             Fullerton, CA                              49631.335150\n",
       "                             Garden Grove, CA                           35518.290993\n",
       "                             Glendale, CA                               58717.628571\n",
       "                             Huntington Beach, CA                       58540.157274\n",
       "                             Inglewood, CA                              36924.606061\n",
       "                             Irvine, CA                                 71851.577287\n",
       "                             Lancaster, CA                              39688.328841\n",
       "                             Long Beach, CA                             50339.132653\n",
       "                             Los Angeles, CA                            51302.674930\n",
       "                             Modesto, CA                                40989.442446\n",
       "                             Moreno Valley, CA                          35056.378987\n",
       "                             Norwalk, CA                                30606.736527\n",
       "                             Not in identifiable city (or size group)   49473.964925\n",
       "                             Oakland, CA                                57539.578623\n",
       "                             Ontario, CA                                32365.230769\n",
       "                             Orange, CA                                 58500.225873\n",
       "                             Oxnard, CA                                 35410.392610\n",
       "                             Palmdale, CA                               41973.188776\n",
       "                             Pasadena, CA                               68539.814324\n",
       "...                                                                              ...\n",
       "Rented                       Irvine, CA                                 45698.461538\n",
       "                             Lancaster, CA                              25892.405063\n",
       "                             Long Beach, CA                             26597.540107\n",
       "                             Los Angeles, CA                            27704.811731\n",
       "                             Modesto, CA                                26740.219298\n",
       "                             Moreno Valley, CA                          23485.722892\n",
       "                             Norwalk, CA                                27295.744681\n",
       "                             Not in identifiable city (or size group)   31598.391496\n",
       "                             Oakland, CA                                32788.256131\n",
       "                             Ontario, CA                                24638.507463\n",
       "                             Orange, CA                                 28467.880435\n",
       "                             Oxnard, CA                                 25345.964912\n",
       "                             Palmdale, CA                               29079.300000\n",
       "                             Pasadena, CA                               35990.000000\n",
       "                             Pomona, CA                                 21534.236453\n",
       "                             Rancho Cucamonga, CA                       33287.042254\n",
       "                             Riverside, CA                              28018.222812\n",
       "                             Sacramento, CA                             30375.297691\n",
       "                             Salinas, CA                                28257.030568\n",
       "                             San Bernardino, CA                         25106.334661\n",
       "                             San Buenaventura (Ventura), CA             31274.705882\n",
       "                             San Francisco, CA                          47821.016525\n",
       "                             Santa Ana, CA                              22290.746269\n",
       "                             Santa Clarita, CA                          31248.087432\n",
       "                             Simi Valley, CA                            42740.350877\n",
       "                             Stockton, CA                               23587.402235\n",
       "                             Sunnyvale, CA                              58081.103896\n",
       "                             Thousand Oaks, CA                          42974.960630\n",
       "                             Torrance, CA                               43892.152466\n",
       "                             West Covina, CA                            28152.083333\n",
       "\n",
       "[92 rows x 1 columns]"
      ]
     },
     "execution_count": 95,
     "metadata": {},
     "output_type": "execute_result"
    }
   ],
   "source": [
    "own_inc_2007 = poverty_2007.groupby(['Ownership Status', 'City']).mean()[['Pre-Tax Wages']]\n",
    "own_inc_2007"
   ]
  },
  {
   "cell_type": "code",
   "execution_count": 92,
   "metadata": {},
   "outputs": [
    {
     "data": {
      "text/html": [
       "<div>\n",
       "<style scoped>\n",
       "    .dataframe tbody tr th:only-of-type {\n",
       "        vertical-align: middle;\n",
       "    }\n",
       "\n",
       "    .dataframe tbody tr th {\n",
       "        vertical-align: top;\n",
       "    }\n",
       "\n",
       "    .dataframe thead th {\n",
       "        text-align: right;\n",
       "    }\n",
       "</style>\n",
       "<table border=\"1\" class=\"dataframe\">\n",
       "  <thead>\n",
       "    <tr style=\"text-align: right;\">\n",
       "      <th></th>\n",
       "      <th></th>\n",
       "      <th>Pre-Tax Wages</th>\n",
       "    </tr>\n",
       "    <tr>\n",
       "      <th>Ownership Status</th>\n",
       "      <th>City</th>\n",
       "      <th></th>\n",
       "    </tr>\n",
       "  </thead>\n",
       "  <tbody>\n",
       "    <tr>\n",
       "      <th rowspan=\"23\" valign=\"top\">Owned or being bought (loan)</th>\n",
       "      <th>Antioch, CA</th>\n",
       "      <td>48347.410359</td>\n",
       "    </tr>\n",
       "    <tr>\n",
       "      <th>Downey, CA</th>\n",
       "      <td>52022.448980</td>\n",
       "    </tr>\n",
       "    <tr>\n",
       "      <th>East Los Angeles, CA</th>\n",
       "      <td>32869.944444</td>\n",
       "    </tr>\n",
       "    <tr>\n",
       "      <th>Elk Grove, CA</th>\n",
       "      <td>57992.376033</td>\n",
       "    </tr>\n",
       "    <tr>\n",
       "      <th>Glendale, CA</th>\n",
       "      <td>70508.633540</td>\n",
       "    </tr>\n",
       "    <tr>\n",
       "      <th>Huntington Beach, CA</th>\n",
       "      <td>73107.682927</td>\n",
       "    </tr>\n",
       "    <tr>\n",
       "      <th>Inglewood, CA</th>\n",
       "      <td>45173.743842</td>\n",
       "    </tr>\n",
       "    <tr>\n",
       "      <th>Long Beach, CA</th>\n",
       "      <td>58610.019881</td>\n",
       "    </tr>\n",
       "    <tr>\n",
       "      <th>Los Angeles, CA</th>\n",
       "      <td>62346.852580</td>\n",
       "    </tr>\n",
       "    <tr>\n",
       "      <th>Moreno Valley, CA</th>\n",
       "      <td>40773.196881</td>\n",
       "    </tr>\n",
       "    <tr>\n",
       "      <th>Not in identifiable city (or size group)</th>\n",
       "      <td>62227.133381</td>\n",
       "    </tr>\n",
       "    <tr>\n",
       "      <th>Oakland, CA</th>\n",
       "      <td>81814.411492</td>\n",
       "    </tr>\n",
       "    <tr>\n",
       "      <th>Ontario, CA</th>\n",
       "      <td>41305.264423</td>\n",
       "    </tr>\n",
       "    <tr>\n",
       "      <th>Palmdale, CA</th>\n",
       "      <td>48906.619048</td>\n",
       "    </tr>\n",
       "    <tr>\n",
       "      <th>Pasadena, CA</th>\n",
       "      <td>84604.409222</td>\n",
       "    </tr>\n",
       "    <tr>\n",
       "      <th>Pomona, CA</th>\n",
       "      <td>41196.500000</td>\n",
       "    </tr>\n",
       "    <tr>\n",
       "      <th>Rancho Cucamonga, CA</th>\n",
       "      <td>55021.394422</td>\n",
       "    </tr>\n",
       "    <tr>\n",
       "      <th>Roseville, CA</th>\n",
       "      <td>67208.228700</td>\n",
       "    </tr>\n",
       "    <tr>\n",
       "      <th>Salinas, CA</th>\n",
       "      <td>40200.800000</td>\n",
       "    </tr>\n",
       "    <tr>\n",
       "      <th>San Francisco, CA</th>\n",
       "      <td>95116.205714</td>\n",
       "    </tr>\n",
       "    <tr>\n",
       "      <th>Santa Ana, CA</th>\n",
       "      <td>37327.275986</td>\n",
       "    </tr>\n",
       "    <tr>\n",
       "      <th>Sunnyvale, CA</th>\n",
       "      <td>125262.603878</td>\n",
       "    </tr>\n",
       "    <tr>\n",
       "      <th>Visalia, CA</th>\n",
       "      <td>49528.786765</td>\n",
       "    </tr>\n",
       "    <tr>\n",
       "      <th rowspan=\"23\" valign=\"top\">Rented</th>\n",
       "      <th>Antioch, CA</th>\n",
       "      <td>34755.238095</td>\n",
       "    </tr>\n",
       "    <tr>\n",
       "      <th>Downey, CA</th>\n",
       "      <td>36030.055866</td>\n",
       "    </tr>\n",
       "    <tr>\n",
       "      <th>East Los Angeles, CA</th>\n",
       "      <td>24141.512027</td>\n",
       "    </tr>\n",
       "    <tr>\n",
       "      <th>Elk Grove, CA</th>\n",
       "      <td>34269.290780</td>\n",
       "    </tr>\n",
       "    <tr>\n",
       "      <th>Glendale, CA</th>\n",
       "      <td>39553.995633</td>\n",
       "    </tr>\n",
       "    <tr>\n",
       "      <th>Huntington Beach, CA</th>\n",
       "      <td>44711.189802</td>\n",
       "    </tr>\n",
       "    <tr>\n",
       "      <th>Inglewood, CA</th>\n",
       "      <td>31759.670782</td>\n",
       "    </tr>\n",
       "    <tr>\n",
       "      <th>Long Beach, CA</th>\n",
       "      <td>34443.392030</td>\n",
       "    </tr>\n",
       "    <tr>\n",
       "      <th>Los Angeles, CA</th>\n",
       "      <td>36481.172338</td>\n",
       "    </tr>\n",
       "    <tr>\n",
       "      <th>Moreno Valley, CA</th>\n",
       "      <td>28057.366255</td>\n",
       "    </tr>\n",
       "    <tr>\n",
       "      <th>Not in identifiable city (or size group)</th>\n",
       "      <td>40068.872338</td>\n",
       "    </tr>\n",
       "    <tr>\n",
       "      <th>Oakland, CA</th>\n",
       "      <td>48297.099842</td>\n",
       "    </tr>\n",
       "    <tr>\n",
       "      <th>Ontario, CA</th>\n",
       "      <td>31298.470588</td>\n",
       "    </tr>\n",
       "    <tr>\n",
       "      <th>Palmdale, CA</th>\n",
       "      <td>32093.541667</td>\n",
       "    </tr>\n",
       "    <tr>\n",
       "      <th>Pasadena, CA</th>\n",
       "      <td>44603.615819</td>\n",
       "    </tr>\n",
       "    <tr>\n",
       "      <th>Pomona, CA</th>\n",
       "      <td>23948.553719</td>\n",
       "    </tr>\n",
       "    <tr>\n",
       "      <th>Rancho Cucamonga, CA</th>\n",
       "      <td>39929.756098</td>\n",
       "    </tr>\n",
       "    <tr>\n",
       "      <th>Roseville, CA</th>\n",
       "      <td>42162.222222</td>\n",
       "    </tr>\n",
       "    <tr>\n",
       "      <th>Salinas, CA</th>\n",
       "      <td>30106.327869</td>\n",
       "    </tr>\n",
       "    <tr>\n",
       "      <th>San Francisco, CA</th>\n",
       "      <td>77166.258642</td>\n",
       "    </tr>\n",
       "    <tr>\n",
       "      <th>Santa Ana, CA</th>\n",
       "      <td>27073.116279</td>\n",
       "    </tr>\n",
       "    <tr>\n",
       "      <th>Sunnyvale, CA</th>\n",
       "      <td>92156.586022</td>\n",
       "    </tr>\n",
       "    <tr>\n",
       "      <th>Visalia, CA</th>\n",
       "      <td>31959.124088</td>\n",
       "    </tr>\n",
       "  </tbody>\n",
       "</table>\n",
       "</div>"
      ],
      "text/plain": [
       "                                                                       Pre-Tax Wages\n",
       "Ownership Status             City                                                   \n",
       "Owned or being bought (loan) Antioch, CA                                48347.410359\n",
       "                             Downey, CA                                 52022.448980\n",
       "                             East Los Angeles, CA                       32869.944444\n",
       "                             Elk Grove, CA                              57992.376033\n",
       "                             Glendale, CA                               70508.633540\n",
       "                             Huntington Beach, CA                       73107.682927\n",
       "                             Inglewood, CA                              45173.743842\n",
       "                             Long Beach, CA                             58610.019881\n",
       "                             Los Angeles, CA                            62346.852580\n",
       "                             Moreno Valley, CA                          40773.196881\n",
       "                             Not in identifiable city (or size group)   62227.133381\n",
       "                             Oakland, CA                                81814.411492\n",
       "                             Ontario, CA                                41305.264423\n",
       "                             Palmdale, CA                               48906.619048\n",
       "                             Pasadena, CA                               84604.409222\n",
       "                             Pomona, CA                                 41196.500000\n",
       "                             Rancho Cucamonga, CA                       55021.394422\n",
       "                             Roseville, CA                              67208.228700\n",
       "                             Salinas, CA                                40200.800000\n",
       "                             San Francisco, CA                          95116.205714\n",
       "                             Santa Ana, CA                              37327.275986\n",
       "                             Sunnyvale, CA                             125262.603878\n",
       "                             Visalia, CA                                49528.786765\n",
       "Rented                       Antioch, CA                                34755.238095\n",
       "                             Downey, CA                                 36030.055866\n",
       "                             East Los Angeles, CA                       24141.512027\n",
       "                             Elk Grove, CA                              34269.290780\n",
       "                             Glendale, CA                               39553.995633\n",
       "                             Huntington Beach, CA                       44711.189802\n",
       "                             Inglewood, CA                              31759.670782\n",
       "                             Long Beach, CA                             34443.392030\n",
       "                             Los Angeles, CA                            36481.172338\n",
       "                             Moreno Valley, CA                          28057.366255\n",
       "                             Not in identifiable city (or size group)   40068.872338\n",
       "                             Oakland, CA                                48297.099842\n",
       "                             Ontario, CA                                31298.470588\n",
       "                             Palmdale, CA                               32093.541667\n",
       "                             Pasadena, CA                               44603.615819\n",
       "                             Pomona, CA                                 23948.553719\n",
       "                             Rancho Cucamonga, CA                       39929.756098\n",
       "                             Roseville, CA                              42162.222222\n",
       "                             Salinas, CA                                30106.327869\n",
       "                             San Francisco, CA                          77166.258642\n",
       "                             Santa Ana, CA                              27073.116279\n",
       "                             Sunnyvale, CA                              92156.586022\n",
       "                             Visalia, CA                                31959.124088"
      ]
     },
     "execution_count": 92,
     "metadata": {},
     "output_type": "execute_result"
    }
   ],
   "source": [
    "own_inc_2017 = poverty_2017.groupby(['Ownership Status', 'City']).mean()[['Pre-Tax Wages']]\n",
    "own_inc_2017"
   ]
  },
  {
   "cell_type": "markdown",
   "metadata": {},
   "source": [
    "### 6. Wage by Race"
   ]
  },
  {
   "cell_type": "code",
   "execution_count": 96,
   "metadata": {},
   "outputs": [
    {
     "data": {
      "text/html": [
       "<div>\n",
       "<style scoped>\n",
       "    .dataframe tbody tr th:only-of-type {\n",
       "        vertical-align: middle;\n",
       "    }\n",
       "\n",
       "    .dataframe tbody tr th {\n",
       "        vertical-align: top;\n",
       "    }\n",
       "\n",
       "    .dataframe thead th {\n",
       "        text-align: right;\n",
       "    }\n",
       "</style>\n",
       "<table border=\"1\" class=\"dataframe\">\n",
       "  <thead>\n",
       "    <tr style=\"text-align: right;\">\n",
       "      <th></th>\n",
       "      <th>Pre-Tax Wages</th>\n",
       "    </tr>\n",
       "    <tr>\n",
       "      <th>Race</th>\n",
       "      <th></th>\n",
       "    </tr>\n",
       "  </thead>\n",
       "  <tbody>\n",
       "    <tr>\n",
       "      <th>African American</th>\n",
       "      <td>37240.626016</td>\n",
       "    </tr>\n",
       "    <tr>\n",
       "      <th>American Indian or Alaska Native</th>\n",
       "      <td>33276.249045</td>\n",
       "    </tr>\n",
       "    <tr>\n",
       "      <th>Asian/Pacific Islander</th>\n",
       "      <td>47089.585483</td>\n",
       "    </tr>\n",
       "    <tr>\n",
       "      <th>Other</th>\n",
       "      <td>26568.210156</td>\n",
       "    </tr>\n",
       "    <tr>\n",
       "      <th>Two or more races</th>\n",
       "      <td>34074.176808</td>\n",
       "    </tr>\n",
       "    <tr>\n",
       "      <th>White</th>\n",
       "      <td>46397.121813</td>\n",
       "    </tr>\n",
       "  </tbody>\n",
       "</table>\n",
       "</div>"
      ],
      "text/plain": [
       "                                  Pre-Tax Wages\n",
       "Race                                           \n",
       "African American                   37240.626016\n",
       "American Indian or Alaska Native   33276.249045\n",
       "Asian/Pacific Islander             47089.585483\n",
       "Other                              26568.210156\n",
       "Two or more races                  34074.176808\n",
       "White                              46397.121813"
      ]
     },
     "execution_count": 96,
     "metadata": {},
     "output_type": "execute_result"
    }
   ],
   "source": [
    "race_inc_2007 = poverty_2007.groupby('Race').mean()[['Pre-Tax Wages']]\n",
    "race_inc_2007"
   ]
  },
  {
   "cell_type": "code",
   "execution_count": 97,
   "metadata": {},
   "outputs": [
    {
     "data": {
      "text/html": [
       "<div>\n",
       "<style scoped>\n",
       "    .dataframe tbody tr th:only-of-type {\n",
       "        vertical-align: middle;\n",
       "    }\n",
       "\n",
       "    .dataframe tbody tr th {\n",
       "        vertical-align: top;\n",
       "    }\n",
       "\n",
       "    .dataframe thead th {\n",
       "        text-align: right;\n",
       "    }\n",
       "</style>\n",
       "<table border=\"1\" class=\"dataframe\">\n",
       "  <thead>\n",
       "    <tr style=\"text-align: right;\">\n",
       "      <th></th>\n",
       "      <th>Pre-Tax Wages</th>\n",
       "    </tr>\n",
       "    <tr>\n",
       "      <th>Race</th>\n",
       "      <th></th>\n",
       "    </tr>\n",
       "  </thead>\n",
       "  <tbody>\n",
       "    <tr>\n",
       "      <th>African American</th>\n",
       "      <td>44362.293938</td>\n",
       "    </tr>\n",
       "    <tr>\n",
       "      <th>American Indian or Alaska Native</th>\n",
       "      <td>35259.563688</td>\n",
       "    </tr>\n",
       "    <tr>\n",
       "      <th>Asian/Pacific Islander</th>\n",
       "      <td>62767.118305</td>\n",
       "    </tr>\n",
       "    <tr>\n",
       "      <th>Other</th>\n",
       "      <td>31022.265614</td>\n",
       "    </tr>\n",
       "    <tr>\n",
       "      <th>Two or more races</th>\n",
       "      <td>47980.467808</td>\n",
       "    </tr>\n",
       "    <tr>\n",
       "      <th>White</th>\n",
       "      <td>57474.720622</td>\n",
       "    </tr>\n",
       "  </tbody>\n",
       "</table>\n",
       "</div>"
      ],
      "text/plain": [
       "                                  Pre-Tax Wages\n",
       "Race                                           \n",
       "African American                   44362.293938\n",
       "American Indian or Alaska Native   35259.563688\n",
       "Asian/Pacific Islander             62767.118305\n",
       "Other                              31022.265614\n",
       "Two or more races                  47980.467808\n",
       "White                              57474.720622"
      ]
     },
     "execution_count": 97,
     "metadata": {},
     "output_type": "execute_result"
    }
   ],
   "source": [
    "race_inc_2017 = poverty_2017.groupby('Race').mean()[['Pre-Tax Wages']]\n",
    "race_inc_2017"
   ]
  },
  {
   "cell_type": "code",
   "execution_count": 99,
   "metadata": {},
   "outputs": [
    {
     "data": {
      "image/png": "[encoded data removed]",
      "text/plain": [
       "<Figure size 1080x576 with 1 Axes>"
      ]
     },
     "metadata": {},
     "output_type": "display_data"
    }
   ],
   "source": [
    "plt.figure(figsize = (15, 8))\n",
    "race_income_2007 = race_inc_2007.reset_index()\n",
    "sns.barplot(x = 'Race', y = 'Pre-Tax Wages', data = race_income_2007)\n",
    "plt.title('Bar Plot of Wage by Race: 2007');"
   ]
  },
  {
   "cell_type": "code",
   "execution_count": 98,
   "metadata": {},
   "outputs": [
    {
     "data": {
      "image/png": "[encoded data removed]",
      "text/plain": [
       "<Figure size 1080x576 with 1 Axes>"
      ]
     },
     "metadata": {},
     "output_type": "display_data"
    }
   ],
   "source": [
    "plt.figure(figsize = (15, 8))\n",
    "race_income_2017 = race_inc_2017.reset_index()\n",
    "sns.barplot(x = 'Race', y = 'Pre-Tax Wages', data = race_income_2017)\n",
    "plt.title('Bar Plot of Wage by Race: 2017');"
   ]
  },
  {
   "cell_type": "markdown",
   "metadata": {},
   "source": [
    "## C) Education level "
   ]
  },
  {
   "cell_type": "markdown",
   "metadata": {},
   "source": [
    "Simply run the cell below to load the education datasets."
   ]
  },
  {
   "cell_type": "code",
   "execution_count": null,
   "metadata": {},
   "outputs": [],
   "source": [
    "education_seven = pd.read_csv('education_2007.csv', dtype={'Hours worked per week': int})\n",
    "education_seventeen = pd.read_csv('education_2017.csv', dtype={'Hours worked per week': int})\n",
    "education = pd.concat([education_seven, education_seventeen])"
   ]
  },
  {
   "cell_type": "markdown",
   "metadata": {},
   "source": [
    "### Education and Income\n",
    "The graph below maps out the total income received based on education level. The education levels can be seen in the x-axis, while the y-axis represents the total income. "
   ]
  },
  {
   "cell_type": "code",
   "execution_count": null,
   "metadata": {},
   "outputs": [],
   "source": [
    "plt.figure(figsize=(15, 10))\n",
    "ax = sns.barplot(x='Education Status', y='Personal Pre-Tax Income', \n",
    "                 hue='Year', data=education, \n",
    "                palette = sns.color_palette(\"colorblind\", 10))\n",
    "ax.set_xlabel('Level of Education')\n",
    "ax.set_ylabel('Total Income')\n",
    "ax.set_title('Total Income for each Education Level', fontdict={'fontsize': 25});"
   ]
  },
  {
   "cell_type": "markdown",
   "metadata": {},
   "source": [
    "<div class=\"alert alert-success\">\n",
    "<b> Living wage is defined as the wage that a worker needs to fulfill their basic needs. This is not to be confused with minimum wage, which is the minimum an employer can pay its employees. According to livingwage.mit.edu, the living wage in America on 2017 was about $16.07/hour. For a regular 40 hour week, that means having an income of about 35K. \n",
    "\n",
    "According to this dataset, what level of education ensures a livable income?  </b> \n",
    "</div>"
   ]
  },
  {
   "cell_type": "markdown",
   "metadata": {},
   "source": [
    "##### Your answer here."
   ]
  },
  {
   "cell_type": "markdown",
   "metadata": {},
   "source": [
    "### Types of Workers\n",
    "\n",
    "Our dataset also tells us whether a person was self-employed or working for wages under an employer. Let's try to to find out what the average level of education is within self-employed workers."
   ]
  },
  {
   "cell_type": "code",
   "execution_count": null,
   "metadata": {},
   "outputs": [],
   "source": [
    "plt.figure(figsize=(7, 5))\n",
    "sns.countplot(education['Type of Worker']);\n",
    "plt.title('Count for Type of Workers');"
   ]
  },
  {
   "cell_type": "markdown",
   "metadata": {},
   "source": [
    "This countplot visualizes the amount of workers who are employed and the amount of workers who are self-employed in our dataset. We can see that there is significantly less self-employed workers. Now let's analyze what their education level is. "
   ]
  },
  {
   "cell_type": "code",
   "execution_count": null,
   "metadata": {},
   "outputs": [],
   "source": [
    "plt.figure(figsize=(15, 5))\n",
    "sns.countplot(education[education['Type of Worker'] == 'Self-employed']['Education Status']);\n",
    "plt.title('Education Status for Self-Employed Workers');"
   ]
  },
  {
   "cell_type": "markdown",
   "metadata": {},
   "source": [
    "<div class=\"alert alert-success\">\n",
    "<b>What does this graph tell us about the  level of education in self-employed workers? Are you surprised by the results? How did these data disprove what you believed was the truth? If this was a result you were expecting, how do these data back up your beliefs?</b>\n",
    "    </div>"
   ]
  },
  {
   "cell_type": "markdown",
   "metadata": {},
   "source": [
    "##### Your answer here."
   ]
  },
  {
   "cell_type": "markdown",
   "metadata": {},
   "source": [
    "The following graphs are called violin plots. They help us visualize the distribution for a given category. Read more here \"https://mode.com/blog/violin-plot-examples\" if you are interested in learning more about violin plots. For now, we will use violin plots in order to help us visualize the distribution in personal income based on education level for self-employed and employed workers."
   ]
  },
  {
   "cell_type": "markdown",
   "metadata": {},
   "source": [
    "<img src=\"https://images.ctfassets.net/fi0zmnwlsnja/sdfgtcRp16wTNOcRceGQm/5bfcb73d2261d49ff20dd7857e0152b1/Screen_Shot_2019-03-01_at_11.36.10_AM.png\" style=\"width:300px;height:300px;\"/>"
   ]
  },
  {
   "cell_type": "code",
   "execution_count": null,
   "metadata": {},
   "outputs": [],
   "source": [
    "plt.figure(figsize=(20, 10))\n",
    "sns.violinplot(x='Education Status', y='Personal Pre-Tax Income', \n",
    "              data=education, hue='Type of Worker', palette=sns.color_palette(\"Paired\"))\n",
    "plt.title(\"Distribution of Self-Employed & Employed Workers' Income by Education Status\", \n",
    "          fontdict={'fontsize': 15});"
   ]
  },
  {
   "cell_type": "markdown",
   "metadata": {},
   "source": [
    "The long tail in our violin plots mean that there are some people whose income reached those values. For example, for those self-employed workers who completed college, we can see that the tail of our violin plot reaches above 100,000. This means that there are some self-employed workers who completed college and are at or above an income of 100K. However, since this violin plot has most of its mass within the 0-20k income range, this scenario is not very likely, as the distribution of income is mostly found within the 0-20K range. \n",
    "\n",
    "\n",
    "<div class=\"alert alert-success\">\n",
    "<b>The graph above helps us see that it does not matter so much whether one is self-employed or employed, but that education level matters much more. How can we reach this conclusion based off the graph?</b>\n",
    "    </div>"
   ]
  },
  {
   "cell_type": "markdown",
   "metadata": {},
   "source": [
    "##### Your answer here."
   ]
  },
  {
   "cell_type": "markdown",
   "metadata": {},
   "source": [
    "### Race"
   ]
  },
  {
   "cell_type": "markdown",
   "metadata": {},
   "source": [
    "How are race and level of education related?"
   ]
  },
  {
   "cell_type": "code",
   "execution_count": null,
   "metadata": {},
   "outputs": [],
   "source": [
    "plt.figure(figsize=(10, 10))\n",
    "sns.countplot(x='Education Status', hue='Race', data=education);"
   ]
  },
  {
   "cell_type": "code",
   "execution_count": null,
   "metadata": {},
   "outputs": [],
   "source": [
    "plt.figure(figsize=(10, 15));\n",
    "ax = sns.catplot(x='Education Status', col='Race', \n",
    "            data=education, kind='count', col_wrap=3, orient=\"h\");"
   ]
  },
  {
   "cell_type": "markdown",
   "metadata": {},
   "source": [
    "<div class=\"alert alert-success\">\n",
    "<b> What do these visualizations tell you about the level of education that each race receives? Our dataset clearly has more White-identifying individuals so it helps to think about each bar in our bar graph as a proportion for that race. Thus, for Asian/Pacific Islanders, there is higher proportion of people who finish college than there is high school dropouts, but for those whose race is \"Other,\" there is a higher proportion of high school dropouts than there is college graduates. What do these graphs help tell us about our data? How can these observations help reinforce what we have found above?  </b> \n",
    "</div>"
   ]
  },
  {
   "cell_type": "markdown",
   "metadata": {},
   "source": [
    "##### Your answer here."
   ]
  },
  {
   "cell_type": "markdown",
   "metadata": {},
   "source": [
    "Our dataset contains a separate column for Hispanic-identifying individuals. We can display the same visualization for those in each category in the `Hispanic` column. "
   ]
  },
  {
   "cell_type": "code",
   "execution_count": null,
   "metadata": {},
   "outputs": [],
   "source": [
    "plt.figure(figsize=(10, 15));\n",
    "ax = sns.catplot(x='Education Status', col='Hispanic', \n",
    "            data=education, kind='count', col_wrap=3, orient=\"h\");"
   ]
  },
  {
   "cell_type": "markdown",
   "metadata": {},
   "source": [
    "<div class=\"alert alert-success\">\n",
    "<b> Are the results any different from the ones above? If so, what are the differences? </b> \n",
    "</div>"
   ]
  },
  {
   "cell_type": "markdown",
   "metadata": {},
   "source": [
    "##### Your answer here."
   ]
  },
  {
   "cell_type": "markdown",
   "metadata": {},
   "source": [
    "## D) Indicators of poverty"
   ]
  },
  {
   "cell_type": "markdown",
   "metadata": {},
   "source": [
    "What are the indicators of poverty? What relationship does poverty have with the other features (columns) in our dataset?"
   ]
  },
  {
   "cell_type": "code",
   "execution_count": null,
   "metadata": {},
   "outputs": [],
   "source": [
    "poverty_seven = pd.read_csv('poverty_2007.csv')\n",
    "poverty_seventeen = pd.read_csv('poverty_2017.csv')\n",
    "poverty = pd.concat([poverty_seven, poverty_seventeen])"
   ]
  },
  {
   "cell_type": "markdown",
   "metadata": {},
   "source": [
    "### Employment Status\n",
    "\n",
    "For poverty, our data categorizes an individual into one of three categories: `Near Poverty`, `Non-Poverty`, and `Poverty`. We will be looking at those who are in `Poverty` or `Near Poverty`."
   ]
  },
  {
   "cell_type": "code",
   "execution_count": null,
   "metadata": {},
   "outputs": [],
   "source": [
    "plt.figure(figsize=(15, 5))\n",
    "all_poverty = poverty[(poverty['Poverty Status'] == 'Poverty') | (poverty['Poverty Status'] == 'Near Poverty')]\n",
    "sns.countplot(x='Employment Status', data=all_poverty, hue='Poverty Status')\n",
    "plt.title('Amount of Individuals At or Near Poverty by Employment Status');"
   ]
  },
  {
   "cell_type": "markdown",
   "metadata": {},
   "source": [
    "### Cities and Occupations in High-Poverty Areas"
   ]
  },
  {
   "cell_type": "markdown",
   "metadata": {},
   "source": [
    "What are top 5 cities with the highest amount of poverty? Run the cell below, it should output the cities with most citizens at or near poverty."
   ]
  },
  {
   "cell_type": "code",
   "execution_count": null,
   "metadata": {},
   "outputs": [],
   "source": [
    "j = 1\n",
    "for i in all_poverty['City'].value_counts(sort=True).index[0:5]:\n",
    "    print(str(j)  + \" city: \" + str(i))\n",
    "    j+=1"
   ]
  },
  {
   "cell_type": "markdown",
   "metadata": {},
   "source": [
    "The top \"city\" regarding poverty in our dataset is not actually a city, so lets try that again. This time, we will ignore \"Not in indetifiable city\"."
   ]
  },
  {
   "cell_type": "code",
   "execution_count": null,
   "metadata": {},
   "outputs": [],
   "source": [
    "j = 1\n",
    "for i in all_poverty['City'].value_counts(sort=True).index[1:6]:\n",
    "    print(str(j)  + \" city: \" + str(i))\n",
    "    j+=1"
   ]
  },
  {
   "cell_type": "markdown",
   "metadata": {},
   "source": [
    "<div class=\"alert alert-success\">\n",
    "<b> What are the top 5 cities that contain the most poverty? Why do you think that is? </b> \n",
    "</div>"
   ]
  },
  {
   "cell_type": "markdown",
   "metadata": {},
   "source": [
    "##### Your answer here."
   ]
  },
  {
   "cell_type": "markdown",
   "metadata": {},
   "source": [
    "What are the top 5 occupations for people in poverty? Run the cell below, it should output the top 5 industries for those at OR near poverty."
   ]
  },
  {
   "cell_type": "code",
   "execution_count": null,
   "metadata": {},
   "outputs": [],
   "source": [
    "j = 1\n",
    "for i in occupation[(occupation['Poverty Status'] == 'Poverty') | \n",
    "                    (occupation['Poverty Status'] == 'Near Poverty')]['Occupation'].value_counts(\n",
    "    sort=True).index[0:5]:\n",
    "    print(j, 'Top Occupation:', i)\n",
    "    j +=1"
   ]
  },
  {
   "cell_type": "markdown",
   "metadata": {},
   "source": [
    "<div class=\"alert alert-success\">\n",
    "<b> What are the top 5 occupations for members in poverty? </b> \n",
    "</div>"
   ]
  },
  {
   "cell_type": "markdown",
   "metadata": {},
   "source": [
    "##### Your answer here."
   ]
  },
  {
   "cell_type": "markdown",
   "metadata": {},
   "source": [
    "The graph below maps out the average hours worked per week for each occupation. Look for the 5 occupations we found above."
   ]
  },
  {
   "cell_type": "code",
   "execution_count": null,
   "metadata": {},
   "outputs": [],
   "source": [
    "plt.figure(figsize=(20, 10))\n",
    "ax = sns.barplot(x='Occupation', y='Hours worked per week', data=poverty)\n",
    "ax.set_xticklabels(ax.get_xticklabels(), rotation=45, ha='right');\n",
    "plt.title('Hours Worked per Week by Occupation');"
   ]
  },
  {
   "cell_type": "markdown",
   "metadata": {},
   "source": [
    "<div class=\"alert alert-success\">\n",
    "<b> What do you notice in terms of hours worked per week for the top 5 industries for those in poverty? Are thse findings surprising? How does the graph above help explain why certain members in certain occupations are in poverty? How can these data help us see what possible indicators of poverty may be? </b> \n",
    "</div>"
   ]
  },
  {
   "cell_type": "markdown",
   "metadata": {},
   "source": [
    "##### Your answer here."
   ]
  },
  {
   "cell_type": "markdown",
   "metadata": {},
   "source": [
    "## E) Employment"
   ]
  },
  {
   "cell_type": "markdown",
   "metadata": {},
   "source": [
    "### 1. Total Employment Statistics by Year"
   ]
  },
  {
   "cell_type": "code",
   "execution_count": 101,
   "metadata": {},
   "outputs": [
    {
     "data": {
      "text/html": [
       "<div>\n",
       "<style scoped>\n",
       "    .dataframe tbody tr th:only-of-type {\n",
       "        vertical-align: middle;\n",
       "    }\n",
       "\n",
       "    .dataframe tbody tr th {\n",
       "        vertical-align: top;\n",
       "    }\n",
       "\n",
       "    .dataframe thead th {\n",
       "        text-align: right;\n",
       "    }\n",
       "</style>\n",
       "<table border=\"1\" class=\"dataframe\">\n",
       "  <thead>\n",
       "    <tr style=\"text-align: right;\">\n",
       "      <th></th>\n",
       "      <th>Pre-Tax Wages</th>\n",
       "    </tr>\n",
       "    <tr>\n",
       "      <th>Employment Status</th>\n",
       "      <th></th>\n",
       "    </tr>\n",
       "  </thead>\n",
       "  <tbody>\n",
       "    <tr>\n",
       "      <th>Employed</th>\n",
       "      <td>46313.573078</td>\n",
       "    </tr>\n",
       "    <tr>\n",
       "      <th>Not in labor force</th>\n",
       "      <td>17704.986072</td>\n",
       "    </tr>\n",
       "    <tr>\n",
       "      <th>Unemployed</th>\n",
       "      <td>18373.795334</td>\n",
       "    </tr>\n",
       "  </tbody>\n",
       "</table>\n",
       "</div>"
      ],
      "text/plain": [
       "                    Pre-Tax Wages\n",
       "Employment Status                \n",
       "Employed             46313.573078\n",
       "Not in labor force   17704.986072\n",
       "Unemployed           18373.795334"
      ]
     },
     "execution_count": 101,
     "metadata": {},
     "output_type": "execute_result"
    }
   ],
   "source": [
    "employment_07 = emp_sector_2007.groupby('Employment Status').mean()[['Pre-Tax Wages']]\n",
    "employment_07"
   ]
  },
  {
   "cell_type": "code",
   "execution_count": 102,
   "metadata": {},
   "outputs": [
    {
     "data": {
      "text/html": [
       "<div>\n",
       "<style scoped>\n",
       "    .dataframe tbody tr th:only-of-type {\n",
       "        vertical-align: middle;\n",
       "    }\n",
       "\n",
       "    .dataframe tbody tr th {\n",
       "        vertical-align: top;\n",
       "    }\n",
       "\n",
       "    .dataframe thead th {\n",
       "        text-align: right;\n",
       "    }\n",
       "</style>\n",
       "<table border=\"1\" class=\"dataframe\">\n",
       "  <thead>\n",
       "    <tr style=\"text-align: right;\">\n",
       "      <th></th>\n",
       "      <th>Pre-Tax Wages</th>\n",
       "    </tr>\n",
       "    <tr>\n",
       "      <th>Employment Status</th>\n",
       "      <th></th>\n",
       "    </tr>\n",
       "  </thead>\n",
       "  <tbody>\n",
       "    <tr>\n",
       "      <th>Employed</th>\n",
       "      <td>57157.621113</td>\n",
       "    </tr>\n",
       "    <tr>\n",
       "      <th>Not in labor force</th>\n",
       "      <td>16461.246908</td>\n",
       "    </tr>\n",
       "    <tr>\n",
       "      <th>Unemployed</th>\n",
       "      <td>21291.770419</td>\n",
       "    </tr>\n",
       "  </tbody>\n",
       "</table>\n",
       "</div>"
      ],
      "text/plain": [
       "                    Pre-Tax Wages\n",
       "Employment Status                \n",
       "Employed             57157.621113\n",
       "Not in labor force   16461.246908\n",
       "Unemployed           21291.770419"
      ]
     },
     "execution_count": 102,
     "metadata": {},
     "output_type": "execute_result"
    }
   ],
   "source": [
    "employment_17 = emp_sector_2017.groupby('Employment Status').mean()[['Pre-Tax Wages']]\n",
    "employment_17"
   ]
  },
  {
   "cell_type": "code",
   "execution_count": 106,
   "metadata": {},
   "outputs": [
    {
     "name": "stdout",
     "output_type": "stream",
     "text": [
      "$10,844.05\n"
     ]
    }
   ],
   "source": [
    "change_in_wages_employed = employment_17['Pre-Tax Wages'][0] - employment_07['Pre-Tax Wages'][0]\n",
    "print(dollar_formatter(float(change_in_wages_employed)))"
   ]
  },
  {
   "cell_type": "markdown",
   "metadata": {},
   "source": [
    "### 2. Work Status and Foodstamp Recipient"
   ]
  },
  {
   "cell_type": "code",
   "execution_count": 108,
   "metadata": {},
   "outputs": [
    {
     "data": {
      "text/html": [
       "<div>\n",
       "<style scoped>\n",
       "    .dataframe tbody tr th:only-of-type {\n",
       "        vertical-align: middle;\n",
       "    }\n",
       "\n",
       "    .dataframe tbody tr th {\n",
       "        vertical-align: top;\n",
       "    }\n",
       "\n",
       "    .dataframe thead th {\n",
       "        text-align: right;\n",
       "    }\n",
       "</style>\n",
       "<table border=\"1\" class=\"dataframe\">\n",
       "  <thead>\n",
       "    <tr style=\"text-align: right;\">\n",
       "      <th></th>\n",
       "      <th></th>\n",
       "      <th>Count</th>\n",
       "    </tr>\n",
       "    <tr>\n",
       "      <th>Employment Status</th>\n",
       "      <th>Foodstamp Recipient</th>\n",
       "      <th></th>\n",
       "    </tr>\n",
       "  </thead>\n",
       "  <tbody>\n",
       "    <tr>\n",
       "      <th rowspan=\"2\" valign=\"top\">Employed</th>\n",
       "      <th>No</th>\n",
       "      <td>136996</td>\n",
       "    </tr>\n",
       "    <tr>\n",
       "      <th>Yes</th>\n",
       "      <td>4004</td>\n",
       "    </tr>\n",
       "    <tr>\n",
       "      <th rowspan=\"2\" valign=\"top\">Not in labor force</th>\n",
       "      <th>No</th>\n",
       "      <td>11927</td>\n",
       "    </tr>\n",
       "    <tr>\n",
       "      <th>Yes</th>\n",
       "      <td>638</td>\n",
       "    </tr>\n",
       "    <tr>\n",
       "      <th rowspan=\"2\" valign=\"top\">Unemployed</th>\n",
       "      <th>No</th>\n",
       "      <td>5777</td>\n",
       "    </tr>\n",
       "    <tr>\n",
       "      <th>Yes</th>\n",
       "      <td>653</td>\n",
       "    </tr>\n",
       "  </tbody>\n",
       "</table>\n",
       "</div>"
      ],
      "text/plain": [
       "                                         Count\n",
       "Employment Status  Foodstamp Recipient        \n",
       "Employed           No                   136996\n",
       "                   Yes                    4004\n",
       "Not in labor force No                    11927\n",
       "                   Yes                     638\n",
       "Unemployed         No                     5777\n",
       "                   Yes                     653"
      ]
     },
     "metadata": {},
     "output_type": "display_data"
    },
    {
     "data": {
      "text/html": [
       "<div>\n",
       "<style scoped>\n",
       "    .dataframe tbody tr th:only-of-type {\n",
       "        vertical-align: middle;\n",
       "    }\n",
       "\n",
       "    .dataframe tbody tr th {\n",
       "        vertical-align: top;\n",
       "    }\n",
       "\n",
       "    .dataframe thead th {\n",
       "        text-align: right;\n",
       "    }\n",
       "</style>\n",
       "<table border=\"1\" class=\"dataframe\">\n",
       "  <thead>\n",
       "    <tr style=\"text-align: right;\">\n",
       "      <th></th>\n",
       "      <th></th>\n",
       "      <th>Count</th>\n",
       "    </tr>\n",
       "    <tr>\n",
       "      <th>Employment Status</th>\n",
       "      <th>Foodstamp Recipient</th>\n",
       "      <th></th>\n",
       "    </tr>\n",
       "  </thead>\n",
       "  <tbody>\n",
       "    <tr>\n",
       "      <th rowspan=\"2\" valign=\"top\">Employed</th>\n",
       "      <th>No</th>\n",
       "      <td>135841</td>\n",
       "    </tr>\n",
       "    <tr>\n",
       "      <th>Yes</th>\n",
       "      <td>11216</td>\n",
       "    </tr>\n",
       "    <tr>\n",
       "      <th rowspan=\"2\" valign=\"top\">Not in labor force</th>\n",
       "      <th>No</th>\n",
       "      <td>7479</td>\n",
       "    </tr>\n",
       "    <tr>\n",
       "      <th>Yes</th>\n",
       "      <td>929</td>\n",
       "    </tr>\n",
       "    <tr>\n",
       "      <th rowspan=\"2\" valign=\"top\">Unemployed</th>\n",
       "      <th>No</th>\n",
       "      <td>3681</td>\n",
       "    </tr>\n",
       "    <tr>\n",
       "      <th>Yes</th>\n",
       "      <td>849</td>\n",
       "    </tr>\n",
       "  </tbody>\n",
       "</table>\n",
       "</div>"
      ],
      "text/plain": [
       "                                         Count\n",
       "Employment Status  Foodstamp Recipient        \n",
       "Employed           No                   135841\n",
       "                   Yes                   11216\n",
       "Not in labor force No                     7479\n",
       "                   Yes                     929\n",
       "Unemployed         No                     3681\n",
       "                   Yes                     849"
      ]
     },
     "metadata": {},
     "output_type": "display_data"
    }
   ],
   "source": [
    "employment_07 =emp_sector_2007.groupby(['Employment Status', 'Foodstamp Recipient']).count()[['Pre-Tax Wages']].rename(columns = {'Pre-Tax Wages':'Count'})\n",
    "employment_17 = emp_sector_2017.groupby(['Employment Status', 'Foodstamp Recipient']).count()[['Pre-Tax Wages']].rename(columns = {'Pre-Tax Wages':'Count'})\n",
    "display(employment_07, employment_17)"
   ]
  },
  {
   "cell_type": "markdown",
   "metadata": {},
   "source": [
    "### 3. Employment Sector vs. Personal Income"
   ]
  },
  {
   "cell_type": "code",
   "execution_count": 109,
   "metadata": {},
   "outputs": [
    {
     "data": {
      "text/html": [
       "<div>\n",
       "<style scoped>\n",
       "    .dataframe tbody tr th:only-of-type {\n",
       "        vertical-align: middle;\n",
       "    }\n",
       "\n",
       "    .dataframe tbody tr th {\n",
       "        vertical-align: top;\n",
       "    }\n",
       "\n",
       "    .dataframe thead th {\n",
       "        text-align: right;\n",
       "    }\n",
       "</style>\n",
       "<table border=\"1\" class=\"dataframe\">\n",
       "  <thead>\n",
       "    <tr style=\"text-align: right;\">\n",
       "      <th></th>\n",
       "      <th>Pre-Tax Wages</th>\n",
       "    </tr>\n",
       "    <tr>\n",
       "      <th>Employment Status</th>\n",
       "      <th></th>\n",
       "    </tr>\n",
       "  </thead>\n",
       "  <tbody>\n",
       "    <tr>\n",
       "      <th>Employed</th>\n",
       "      <td>46313.573078</td>\n",
       "    </tr>\n",
       "    <tr>\n",
       "      <th>Not in labor force</th>\n",
       "      <td>17704.986072</td>\n",
       "    </tr>\n",
       "    <tr>\n",
       "      <th>Unemployed</th>\n",
       "      <td>18373.795334</td>\n",
       "    </tr>\n",
       "  </tbody>\n",
       "</table>\n",
       "</div>"
      ],
      "text/plain": [
       "                    Pre-Tax Wages\n",
       "Employment Status                \n",
       "Employed             46313.573078\n",
       "Not in labor force   17704.986072\n",
       "Unemployed           18373.795334"
      ]
     },
     "metadata": {},
     "output_type": "display_data"
    },
    {
     "data": {
      "text/html": [
       "<div>\n",
       "<style scoped>\n",
       "    .dataframe tbody tr th:only-of-type {\n",
       "        vertical-align: middle;\n",
       "    }\n",
       "\n",
       "    .dataframe tbody tr th {\n",
       "        vertical-align: top;\n",
       "    }\n",
       "\n",
       "    .dataframe thead th {\n",
       "        text-align: right;\n",
       "    }\n",
       "</style>\n",
       "<table border=\"1\" class=\"dataframe\">\n",
       "  <thead>\n",
       "    <tr style=\"text-align: right;\">\n",
       "      <th></th>\n",
       "      <th>Pre-Tax Wages</th>\n",
       "    </tr>\n",
       "    <tr>\n",
       "      <th>Employment Status</th>\n",
       "      <th></th>\n",
       "    </tr>\n",
       "  </thead>\n",
       "  <tbody>\n",
       "    <tr>\n",
       "      <th>Employed</th>\n",
       "      <td>57157.621113</td>\n",
       "    </tr>\n",
       "    <tr>\n",
       "      <th>Not in labor force</th>\n",
       "      <td>16461.246908</td>\n",
       "    </tr>\n",
       "    <tr>\n",
       "      <th>Unemployed</th>\n",
       "      <td>21291.770419</td>\n",
       "    </tr>\n",
       "  </tbody>\n",
       "</table>\n",
       "</div>"
      ],
      "text/plain": [
       "                    Pre-Tax Wages\n",
       "Employment Status                \n",
       "Employed             57157.621113\n",
       "Not in labor force   16461.246908\n",
       "Unemployed           21291.770419"
      ]
     },
     "metadata": {},
     "output_type": "display_data"
    }
   ],
   "source": [
    "employment_income07 =emp_sector_2007.groupby('Employment Status').mean()[['Pre-Tax Wages']]\n",
    "employment_income17 = emp_sector_2017.groupby('Employment Status').mean()[['Pre-Tax Wages']]\n",
    "display(employment_income07, employment_income17)"
   ]
  },
  {
   "cell_type": "markdown",
   "metadata": {},
   "source": [
    "## Bibliography <a id = 'section7'></a>\n",
    "\n",
    "• https://www.census.gov/programs-surveys/saipe/guidance/model-input-data/cpsasec.html\n",
    "\n",
    "• https://www.investopedia.com/terms/c/consumerpriceindex.asp\n",
    "\n",
    "• https://en.wikipedia.org/wiki/Stratified_sampling\n",
    "\n",
    "• (TBD)"
   ]
  },
  {
   "cell_type": "markdown",
   "metadata": {},
   "source": [
    "___\n",
    "### Sidenotes:\n",
    "[1]: Since the size of the original dataset was too large, we are using Stratified Random Samples instead. Refer to the link in the bibliography for more information on our sampling approach. "
   ]
  },
  {
   "cell_type": "markdown",
   "metadata": {},
   "source": [
    "___\n",
    "### Getting extra help\n",
    "\n",
    "Interested in getting help with learning Python or applying computational analysis? Check out  [Data Peer Consulting](https://data.berkeley.edu/education/data-peer-consulting) in Moffitt library for drop-in, one-on-one questions. For additional workshops designed for people new to computational analysis, take a look at the workshops at [The Dlab](https://dlab.berkeley.edu) (free for Berkeley students!). \n",
    "\n",
    "Best  luck!"
   ]
  },
  {
   "cell_type": "markdown",
   "metadata": {},
   "source": [
    "------------------------------------------------------------------------------------------------------------------------\n",
    "\n",
    "### Feedback:\n",
    "Please let us know your thoughts on this notebook!\n",
    "\n",
    "Fill out the survey at this link: https://docs.google.com/forms/d/e/1FAIpQLSfahkYSKqlEEfC6WMKlaqeIxRVj0r7T4N5lgBf9bRVwRG58wQ/viewform"
   ]
  },
  {
   "cell_type": "markdown",
   "metadata": {},
   "source": [
    "------------------------------------------------------------------------------------------------------------------------\n",
    "Notebook developed by: Ritvik Iyer, Carlos Calderon\n",
    "\n",
    "Data Science Modules: http://data.berkeley.edu/education/modules"
   ]
  }
 ],
 "metadata": {
  "kernelspec": {
   "display_name": "Python 3",
   "language": "python",
   "name": "python3"
  },
  "language_info": {
   "codemirror_mode": {
    "name": "ipython",
    "version": 3
   },
   "file_extension": ".py",
   "mimetype": "text/x-python",
   "name": "python",
   "nbconvert_exporter": "python",
   "pygments_lexer": "ipython3",
   "version": "3.7.3"
  }
 },
 "nbformat": 4,
 "nbformat_minor": 2
}
