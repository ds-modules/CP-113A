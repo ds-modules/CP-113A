{
 "cells": [
  {
   "cell_type": "markdown",
   "metadata": {},
   "source": [
    "# [CP-113A] Analyzing the CPS ASEC \n",
    "\n",
    "\n",
    "---\n",
    "\n",
    "\n",
    "### Professors: Sara Hinkey\n",
    "\n",
    "Welcome to Analyzing the CPS ASEC! In this lab, we will introduce you to Jupyter Notebooks and the tools that you are going to use to conduct your data analysis of the Annual Social and Economic Supplement (ASEC) of the Current Population Survey (CPS). In the main part of this notebook, you will work with the CPS ASEC dataset using this Jupyter Notebook and learn how to read tabular datasets, interpret data visualizations, and compare various economic indicators. By the end of this notebook, you will also apply your knowledge to answer a set of short answer questions. \n",
    "\n",
    "Estimated Time: ______\n",
    "\n",
    "---\n",
    "\n",
    "\n",
    "## Table of Contents (TBD, will be updated later)\n",
    "\n",
    "1. \n",
    "\n",
    "---\n",
    "\n",
    "\n",
    "## Today's lab (TBD, will be updated later)\n",
    "\n",
    "\n",
    "1. Navigate the Jupyter Notebook \n",
    "\n",
    "\n"
   ]
  },
  {
   "cell_type": "markdown",
   "metadata": {},
   "source": [
    "# Part 1: The Jupyter Notebook <a id='section 0'></a>\n",
    "\n",
    "Before we start our lab, we want to give a brief introduction to Jupyter Notebooks (like this one) where you will work on conducting your survey analysis. \n",
    "\n",
    "**Jupyter notebooks** are documents that can contain a seamless compilation of text, code, visualizations, and more. A notebook is composed of two types of rectangular **cells**:  markdown and code. A **markdown cell**, such as this one, contains text. A **code cell** contains code. All of the code in this notebook is in a programming language called **Python**. You can select any cell by clicking it once. After a cell is selected, you can navigate the notebook using the up and down arrow keys or by simply scrolling.\n",
    "\n",
    "### 1.1 Run a cell <a id='subsection 0a'></a>\n",
    "To run a code cell once it's been selected, \n",
    "- press `Shift` + `Enter`, or\n",
    "- click the Run button in the toolbar at the top of the screen. \n",
    "\n",
    "If a code cell is running, you will see an asterisk (\\*) appear in the square brackets to the left of the cell. Once the cell has finished running, a number corresponding to the order in which the cell was run will replace the asterisk and any output from the code will appear under the cell."
   ]
  },
  {
   "cell_type": "markdown",
   "metadata": {},
   "source": [
    "### 1.2 Editing a cell <a id='subsection 0c'></a>\n",
    "\n",
    "**Question 1.2.1** You can edit a Markdown cell by clicking it twice. Text in Markdown cells is written in [**Markdown**](https://daringfireball.net/projects/markdown/), a formatting syntax for plain text, so you may see some funky symbols when you edit a text cell. Once you've made your changes, you can exit text editing mode by running the cell. Edit the next cell to fix the misspelling."
   ]
  },
  {
   "cell_type": "markdown",
   "metadata": {},
   "source": [
    "This is an analysis of economic survy data."
   ]
  },
  {
   "cell_type": "markdown",
   "metadata": {},
   "source": [
    "### 1.3 Saving and loading <a id='subsection 0d'></a>\n",
    "\n",
    "#### Saving and Loading\n",
    "\n",
    "Your notebook can record all of your text and code edits, as well as any graphs you generate or calculations you make. You can save the notebook in its current state by clicking `Control-S`/`Command-S`, clicking the **floppy disc icon** in the toolbar at the top of the page, or by navigating to **File > Save and Checkpoint** in the menu bar.\n",
    "\n",
    "The next time you open the notebook, it will look the same as when you last saved it.\n",
    "\n",
    "**Note:** After loading a notebook you will see all the outputs (graphs, computations, etc) from your last session, but you won't be able to use any variables you assigned or functions you defined. You can get the functions and variables back by re-running the cells where they were defined – the easiest way is to **highlight the cell where you left off work, then go to Cell > Run all above** in the menu bar. You can also use this menu to run all cells in the notebook by clicking **Run all**."
   ]
  },
  {
   "cell_type": "markdown",
   "metadata": {},
   "source": [
    "**Please run the cell below to load the modules we will be using throughout this notebook.**"
   ]
  },
  {
   "cell_type": "code",
   "execution_count": 3,
   "metadata": {},
   "outputs": [],
   "source": [
    "from datascience import *\n",
    "import pandas as pd\n",
    "import numpy as np\n",
    "import seaborn as sns \n",
    "import matplotlib.pyplot as plt\n",
    "%matplotlib inline\n",
    "import warnings\n",
    "warnings.filterwarnings(\"ignore\")\n",
    "sns.set_style(\"whitegrid\")"
   ]
  },
  {
   "cell_type": "markdown",
   "metadata": {},
   "source": [
    "# Part 2: Understanding the Dataset"
   ]
  },
  {
   "cell_type": "markdown",
   "metadata": {},
   "source": [
    "In today's lab, we will be analyzing data from the ASEC CPS, or the Annual Social and Economic Supplement of the Current Population Survey. In short, this is a source of official estimates of of poverty levels and rates and of widely used measures of income. In this part of the lab, we will get familiar with how to read tabular data and answer questions using statistical analysis. "
   ]
  },
  {
   "cell_type": "markdown",
   "metadata": {},
   "source": [
    "*First, run the cell below to get an idea of what our dataset looks like*"
   ]
  },
  {
   "cell_type": "code",
   "execution_count": 4,
   "metadata": {},
   "outputs": [
    {
     "data": {
      "text/html": [
       "<table border=\"1\" class=\"dataframe\">\n",
       "    <thead>\n",
       "        <tr>\n",
       "            <th>Year</th> <th>Household Weight</th> <th>State</th> <th>County</th> <th>City</th> <th>Ownership Status</th> <th>Household Income</th> <th>Foodstamp Recipient</th> <th>Age</th> <th>Race</th> <th>Hispanic</th> <th>Education Status</th> <th>Employment Status</th> <th>Part of Labor Force</th> <th>Occupation</th> <th>Industry</th> <th>Type of Worker</th> <th>Employment Sector</th> <th>Hours worked per week</th> <th>Personal Pre-Tax Income</th> <th>Pre-Tax Income</th> <th>Pre-Tax Wages</th> <th>Poverty Status</th>\n",
       "        </tr>\n",
       "    </thead>\n",
       "    <tbody>\n",
       "        <tr>\n",
       "            <td>2007</td> <td>266             </td> <td>California</td> <td>El Centro, CA           </td> <td>Not in identifiable city (or size group)</td> <td>Rented                      </td> <td>15000           </td> <td>No                 </td> <td>32  </td> <td>White</td> <td>Hispanic    </td> <td>No HS           </td> <td>Employed         </td> <td>Yes, in the labor force</td> <td>Farming, Fishing        </td> <td>Agriculture, Hunting, Forestry</td> <td>Works for wages</td> <td> non-profit      </td> <td>40                   </td> <td>15000                  </td> <td>15000         </td> <td>15000        </td> <td>Near Poverty  </td>\n",
       "        </tr>\n",
       "        <tr>\n",
       "            <td>2007</td> <td>67              </td> <td>California</td> <td>Not in identifiable area</td> <td>Not in identifiable city (or size group)</td> <td>Owned or being bought (loan)</td> <td>72000           </td> <td>No                 </td> <td>52  </td> <td>White</td> <td>Not hispanic</td> <td>Graduate        </td> <td>Employed         </td> <td>Yes, in the labor force</td> <td>Healthcare Practitioners</td> <td>Health Care                   </td> <td>Works for wages</td> <td> private         </td> <td>45                   </td> <td>70000                  </td> <td>72000         </td> <td>70000        </td> <td>Non-Poverty   </td>\n",
       "        </tr>\n",
       "    </tbody>\n",
       "</table>\n",
       "<p>... (367177 rows omitted)</p>"
      ],
      "text/plain": [
       "<IPython.core.display.HTML object>"
      ]
     },
     "metadata": {},
     "output_type": "display_data"
    }
   ],
   "source": [
    "asec_cps = Table().read_table('fulldata.csv')\n",
    "asec_cps.show(2)"
   ]
  },
  {
   "cell_type": "markdown",
   "metadata": {},
   "source": [
    "What you see above is a table which contains every survey response from the ASEC CPS survey. Each row of the table represents *an individual, unique response*. Along the top of the table are the columns: these represent *the questions that the survey asks* respondents about.\n",
    "\n",
    "Our dataset consists of two surveys of Californian residents, combined for the years 2007 and 2017. Our goal is to compare trends over time. "
   ]
  },
  {
   "cell_type": "markdown",
   "metadata": {},
   "source": [
    "**2.1 Task: Scroll through the table and write down any observations or questions you have.**"
   ]
  },
  {
   "cell_type": "markdown",
   "metadata": {},
   "source": [
    "[Double click on this cell and write your answer here]"
   ]
  },
  {
   "cell_type": "markdown",
   "metadata": {},
   "source": [
    "At the very bottom, notice that it tells us that ~360,000 rows have been omitted. This is because our dataset is really large. In fact, it's so large that it would be very difficult to visualize it in a single notebook! [1] \n",
    "\n",
    "This is why we turn to *computational analysis*. Instead of inspecting the data by hand, *we will write code to tell our computer to analyze the data* for us. \n",
    "\n",
    "In this notebook, we use tools like data visualizations to answer interesting questions based on our survey data. "
   ]
  },
  {
   "cell_type": "markdown",
   "metadata": {},
   "source": [
    "Here's a concrete example of the power of computation:\n",
    "\n",
    "Question: What percentage of all survey respondents are Foodstamp Recipients?\n",
    "\n",
    "Obviously, for a dataset with few entries, this would be pretty easy to answer. However, for our dataset of 360,000+ respondents, this would be very difficult to count by hand. However, with code, this is easy to answer! \n",
    "\n",
    "**Run the cell below to calculate the percent of Foodstamp Recipients in our dataset.**"
   ]
  },
  {
   "cell_type": "code",
   "execution_count": 22,
   "metadata": {},
   "outputs": [
    {
     "name": "stdout",
     "output_type": "stream",
     "text": [
      "5.76%\n"
     ]
    }
   ],
   "source": [
    "print(str(np.round(asec_cps.where('Foodstamp Recipient', 'Yes').num_rows/asec_cps.num_rows, 4)*100) + '%')"
   ]
  },
  {
   "cell_type": "markdown",
   "metadata": {},
   "source": [
    "In *one line of code*, we were able to get an idea of the demographics of a large population- this is the power of computational analysis!\n",
    "\n",
    "\n",
    "Now that you understand the idea behind computational analysis and , let's delve into the data analysis. "
   ]
  },
  {
   "cell_type": "markdown",
   "metadata": {},
   "source": [
    "# Part 3: Data Analysis"
   ]
  },
  {
   "cell_type": "markdown",
   "metadata": {},
   "source": [
    "## A) Wages by industry and occupation"
   ]
  },
  {
   "cell_type": "markdown",
   "metadata": {},
   "source": [
    "In this part, we will investigate trends in wages between various industries and occupations. First, we will examine wages, industry, and occupation separately, and then compare them against each other and other survey variables. \n",
    "\n",
    "**Run the cell below to load the relevant data sets.**"
   ]
  },
  {
   "cell_type": "code",
   "execution_count": 106,
   "metadata": {},
   "outputs": [],
   "source": [
    "industry_2007 = pd.read_csv('industry_2007.csv')\n",
    "industry_2017 = pd.read_csv('industry_2017.csv')\n",
    "occupation_2007 = pd.read_csv('occupation_2007.csv')\n",
    "occupation_2017 = pd.read_csv('occupation_2017.csv')\n",
    "poverty_2007 = pd.read_csv('poverty_2007.csv')\n",
    "poverty_2017 = pd.read_csv('poverty_2017.csv')\n",
    "emp_sector_2007 = pd.read_csv('emp_sector_2007.csv')\n",
    "emp_sector_2017 = pd.read_csv('emp_sector_2017.csv')"
   ]
  },
  {
   "cell_type": "markdown",
   "metadata": {},
   "source": [
    "### 1. Wages in 2007 vs. 2017"
   ]
  },
  {
   "cell_type": "markdown",
   "metadata": {},
   "source": [
    "One question we may ask is: How did average wages of Californians change between 2007 and 2017? Let's answer that question. "
   ]
  },
  {
   "cell_type": "markdown",
   "metadata": {},
   "source": [
    "**Run the cell below.**"
   ]
  },
  {
   "cell_type": "code",
   "execution_count": 33,
   "metadata": {},
   "outputs": [
    {
     "name": "stdout",
     "output_type": "stream",
     "text": [
      "The average wage in California in 2007 was: 42931.78 \n",
      "\n",
      "The average wage in California in 2017 was: 54052.12 \n",
      "\n",
      "The change in wages from 2007 to 2017 was: 11120.34\n"
     ]
    }
   ],
   "source": [
    "average_wages_2007 = np.round(industry_2007['Pre-Tax Wages'].mean(), 2)\n",
    "average_wages_2017 = np.round(industry_2017['Pre-Tax Wages'].mean(), 2)\n",
    "change_wages = np.round(average_wages_2017 - average_wages_2007, 2)\n",
    "print('The average wage in California in 2007 was: {}'.format(average_wages_2007), '\\n')\n",
    "print('The average wage in California in 2017 was: {}'.format(average_wages_2017), '\\n')\n",
    "print('The change in wages from 2007 to 2017 was: {}'.format(change_wages))"
   ]
  },
  {
   "cell_type": "markdown",
   "metadata": {},
   "source": [
    "**3A.1.1 Task: Speculate on what might be responsible for this change. Does this number tell us anything about the state of the economy itself?**"
   ]
  },
  {
   "cell_type": "markdown",
   "metadata": {},
   "source": [
    "[Double click on this cell and write your answer here]"
   ]
  },
  {
   "cell_type": "markdown",
   "metadata": {},
   "source": [
    "Perhaps, a better question would be: What is the *distribution of wages* in California over the period from 2007 to 2017? To answer this question, we will use a graph called a histogram. It tells us about the *spread* of a variable. \n",
    "\n",
    "**Run the cells below.**"
   ]
  },
  {
   "cell_type": "code",
   "execution_count": 42,
   "metadata": {},
   "outputs": [
    {
     "data": {
      "image/png": "[encoded data removed]",
      "text/plain": [
       "<Figure size 1080x504 with 1 Axes>"
      ]
     },
     "metadata": {},
     "output_type": "display_data"
    }
   ],
   "source": [
    "plt.figure(figsize = (15, 7))\n",
    "sns.distplot(industry_2007['Pre-Tax Wages'], label = 'Wages in 2007')\n",
    "plt.title('Histogram of Pre-Tax Wages in California in 2007')\n",
    "plt.xlabel('Pre-Tax Wages ($)');"
   ]
  },
  {
   "cell_type": "code",
   "execution_count": 41,
   "metadata": {},
   "outputs": [
    {
     "data": {
      "image/png": "[encoded data removed]",
      "text/plain": [
       "<Figure size 1080x504 with 1 Axes>"
      ]
     },
     "metadata": {},
     "output_type": "display_data"
    }
   ],
   "source": [
    "plt.figure(figsize = (15, 7))\n",
    "sns.distplot(industry_2017['Pre-Tax Wages'], label = 'Wages in 2017')\n",
    "plt.title('Histogram of Pre-Tax Wages in California in 2017')\n",
    "plt.xlabel('Pre-Tax Wages ($)');"
   ]
  },
  {
   "cell_type": "markdown",
   "metadata": {},
   "source": [
    "**3A.1.2 Task: Compare these two histograms. Is there a significant difference in distribution of wages between 2007 and 2017?**"
   ]
  },
  {
   "cell_type": "markdown",
   "metadata": {},
   "source": [
    "[Double click on this cell and write your answer here]"
   ]
  },
  {
   "cell_type": "markdown",
   "metadata": {},
   "source": [
    "Now that we have gotten a taste for analyzing data and interpreting graphs, let's move on to looking at industries and occupations of workers. "
   ]
  },
  {
   "cell_type": "markdown",
   "metadata": {},
   "source": [
    "### 2. Top Industries & Occupations in 2007 vs. 2017"
   ]
  },
  {
   "cell_type": "markdown",
   "metadata": {},
   "source": [
    "What were the top 10 industries that survey respondents worked in between 2007 and 2017? \n",
    "\n",
    "**Run the cell below. Adjust the slider to select the **"
   ]
  },
  {
   "cell_type": "code",
   "execution_count": 9,
   "metadata": {},
   "outputs": [
    {
     "data": {
      "text/plain": [
       "Transportation, Warehouse         11.834490\n",
       "Health Care                       10.863179\n",
       "Retail Trade                      10.753172\n",
       "Manufacturing                     10.230639\n",
       "Educational Services               9.164323\n",
       "Company Management                 7.976124\n",
       "Accomodation and Food Services     6.149759\n",
       "Other services                     4.885930\n",
       "Finance and Insurance              4.724670\n",
       "Public Administration              4.500906\n",
       "Name: Industry, dtype: float64"
      ]
     },
     "execution_count": 9,
     "metadata": {},
     "output_type": "execute_result"
    }
   ],
   "source": [
    "(industry_2007['Industry'].value_counts(normalize = True) * 100)[0:10]"
   ]
  },
  {
   "cell_type": "code",
   "execution_count": 23,
   "metadata": {},
   "outputs": [
    {
     "data": {
      "text/plain": [
       "Health Care                       12.395072\n",
       "Transportation, Warehouse         10.925615\n",
       "Retail Trade                       9.993062\n",
       "Company Management                 9.558038\n",
       "Educational Services               9.356151\n",
       "Manufacturing                      9.324274\n",
       "Accomodation and Food Services     7.011019\n",
       "Other services                     5.086536\n",
       "Public Administration              4.454626\n",
       "Waste Management                   4.378996\n",
       "Name: Industry, dtype: float64"
      ]
     },
     "execution_count": 23,
     "metadata": {},
     "output_type": "execute_result"
    }
   ],
   "source": [
    "(industry_2017['Industry'].value_counts(normalize = True) * 100)[0:10]"
   ]
  },
  {
   "cell_type": "markdown",
   "metadata": {},
   "source": [
    "**3A.2.1 Task: How have the top 10 industries of workers between 2007 and 2017 changed?**"
   ]
  },
  {
   "cell_type": "markdown",
   "metadata": {},
   "source": [
    "[Double click on this cell and write your answer here]"
   ]
  },
  {
   "cell_type": "markdown",
   "metadata": {},
   "source": [
    "## B) Income Distribution"
   ]
  },
  {
   "cell_type": "markdown",
   "metadata": {},
   "source": [
    "For this category, we will look at distributions of income with respect to other variables. First, we will simply compare the distribution of incomes for survey respondents. \n",
    "\n",
    "**Run the cells below.**"
   ]
  },
  {
   "cell_type": "markdown",
   "metadata": {},
   "source": [
    "### 1. Distributions of Income"
   ]
  },
  {
   "cell_type": "code",
   "execution_count": 34,
   "metadata": {},
   "outputs": [
    {
     "data": {
      "image/png": "[encoded data removed]",
      "text/plain": [
       "<Figure size 1080x504 with 1 Axes>"
      ]
     },
     "metadata": {},
     "output_type": "display_data"
    }
   ],
   "source": [
    "plt.figure(figsize = (15, 7))\n",
    "sns.distplot(poverty_2007['Personal Pre-Tax Income'], label = 'Wages in 2007')\n",
    "plt.title('Histogram of Personal Pre-Tax Income in California in 2007')\n",
    "plt.xlabel('Pre-Tax Income ($)');"
   ]
  },
  {
   "cell_type": "code",
   "execution_count": 35,
   "metadata": {},
   "outputs": [
    {
     "data": {
      "image/png": "[encoded data removed]",
      "text/plain": [
       "<Figure size 1080x504 with 1 Axes>"
      ]
     },
     "metadata": {},
     "output_type": "display_data"
    }
   ],
   "source": [
    "plt.figure(figsize = (15, 7))\n",
    "sns.distplot(industry_2007['Personal Pre-Tax Income'], label = 'Wages in 2007')\n",
    "plt.title('Histogram of Personal Pre-Tax Income in California in 2007')\n",
    "plt.xlabel('Pre-Tax Income ($)');"
   ]
  },
  {
   "cell_type": "markdown",
   "metadata": {},
   "source": [
    "**3B.1.1 Task: Analyze the shapes of these histograms. How are they similar/different? Compare them with their respective histogram for wages, which we generated earlier. Are there any differences? Why might these differences arise?**"
   ]
  },
  {
   "cell_type": "markdown",
   "metadata": {},
   "source": [
    "[Double click on this cell and write your answer here]"
   ]
  },
  {
   "cell_type": "markdown",
   "metadata": {},
   "source": [
    "### 2. Statistics "
   ]
  },
  {
   "cell_type": "markdown",
   "metadata": {},
   "source": [
    "Over the past decade, the issue of income inequality has increasingly manifested, across the United States. Let's see if our dataset can provide evidence for this claim. \n",
    "\n",
    "Specifically, let's test if the gap between bottom and top percentile incomes have increased or decreased over a span of a decade. \n",
    "\n",
    "**Run the cell below. **"
   ]
  },
  {
   "cell_type": "code",
   "execution_count": 36,
   "metadata": {},
   "outputs": [
    {
     "name": "stdout",
     "output_type": "stream",
     "text": [
      "The gap between the 75th and 25th percentile income is: 48800.0\n",
      "The gap between the 10th and 90th percentile income is: 96000.0\n",
      "The gap between the 1st and 99th percentile income is: 437601.0\n"
     ]
    }
   ],
   "source": [
    "first_2007 = np.percentile(poverty_2007['Personal Pre-Tax Income'], 1)\n",
    "tenth_2007 = np.percentile(poverty_2007['Personal Pre-Tax Income'], 10)\n",
    "twenty_fifth_2007 = np.percentile(poverty_2007['Personal Pre-Tax Income'], 25)\n",
    "seventy_fifth_2007 = np.percentile(poverty_2007['Personal Pre-Tax Income'], 75)\n",
    "ninety_2007 = np.percentile(poverty_2007['Personal Pre-Tax Income'], 90)\n",
    "ninety_ninth_2007 = np.percentile(poverty_2007['Personal Pre-Tax Income'], 99)\n",
    "diff_1 = np.round(seventy_fifth_2007 - twenty_fifth_2007, 2)\n",
    "diff_2 = np.round(ninety_2007 - tenth_2007, 2)\n",
    "diff_3 = np.round(ninety_ninth_2007 - first_2007, 2)\n",
    "print(\"The gap between the 75th and 25th percentile income is: {}\".format(diff_1))\n",
    "print(\"The gap between the 10th and 90th percentile income is: {}\".format(diff_2))\n",
    "print(\"The gap between the 1st and 99th percentile income is: {}\".format(diff_3))"
   ]
  },
  {
   "cell_type": "code",
   "execution_count": 37,
   "metadata": {},
   "outputs": [
    {
     "name": "stdout",
     "output_type": "stream",
     "text": [
      "The gap between the 75th and 25th percentile income is: 59000.0\n",
      "The gap between the 10th and 90th percentile income is: 122000.0\n",
      "The gap between the 1st and 99th percentile income is: 492400.0\n"
     ]
    }
   ],
   "source": [
    "first_2017 = np.percentile(poverty_2017['Personal Pre-Tax Income'], 1)\n",
    "tenth_2017 = np.percentile(poverty_2017['Personal Pre-Tax Income'], 10)\n",
    "twenty_fifth_2017 = np.percentile(poverty_2017['Personal Pre-Tax Income'], 25)\n",
    "seventy_fifth_2017 = np.percentile(poverty_2017['Personal Pre-Tax Income'], 75)\n",
    "ninety_2017 = np.percentile(poverty_2017['Personal Pre-Tax Income'], 90)\n",
    "ninety_ninth_2017 = np.percentile(poverty_2017['Personal Pre-Tax Income'], 99)\n",
    "diff_1 = np.round(seventy_fifth_2017 - twenty_fifth_2017, 2)\n",
    "diff_2 = np.round(ninety_2017 - tenth_2017, 2)\n",
    "diff_3 = np.round(ninety_ninth_2017 - first_2017, 2)\n",
    "print(\"The gap between the 75th and 25th percentile income is: {}\".format(diff_1))\n",
    "print(\"The gap between the 10th and 90th percentile income is: {}\".format(diff_2))\n",
    "print(\"The gap between the 1st and 99th percentile income is: {}\".format(diff_3))"
   ]
  },
  {
   "cell_type": "markdown",
   "metadata": {},
   "source": [
    "**Compare these statistics. Can we say that there has been a definite increase in income inequality from 2007 to 2017? Why might these numbers be misleading?**"
   ]
  },
  {
   "cell_type": "markdown",
   "metadata": {},
   "source": [
    "[Double click on this cell and write your answer here]\n"
   ]
  },
  {
   "cell_type": "markdown",
   "metadata": {},
   "source": [
    "### 3. Income by City"
   ]
  },
  {
   "cell_type": "code",
   "execution_count": 39,
   "metadata": {},
   "outputs": [
    {
     "data": {
      "text/html": [
       "<div>\n",
       "<style scoped>\n",
       "    .dataframe tbody tr th:only-of-type {\n",
       "        vertical-align: middle;\n",
       "    }\n",
       "\n",
       "    .dataframe tbody tr th {\n",
       "        vertical-align: top;\n",
       "    }\n",
       "\n",
       "    .dataframe thead th {\n",
       "        text-align: right;\n",
       "    }\n",
       "</style>\n",
       "<table border=\"1\" class=\"dataframe\">\n",
       "  <thead>\n",
       "    <tr style=\"text-align: right;\">\n",
       "      <th></th>\n",
       "      <th>Personal Pre-Tax Income</th>\n",
       "    </tr>\n",
       "    <tr>\n",
       "      <th>City</th>\n",
       "      <th></th>\n",
       "    </tr>\n",
       "  </thead>\n",
       "  <tbody>\n",
       "    <tr>\n",
       "      <th>East Los Angeles, CA</th>\n",
       "      <td>26866.930456</td>\n",
       "    </tr>\n",
       "    <tr>\n",
       "      <th>El Monte, CA</th>\n",
       "      <td>27217.303103</td>\n",
       "    </tr>\n",
       "    <tr>\n",
       "      <th>Santa Ana, CA</th>\n",
       "      <td>30245.612645</td>\n",
       "    </tr>\n",
       "    <tr>\n",
       "      <th>Norwalk, CA</th>\n",
       "      <td>31825.310345</td>\n",
       "    </tr>\n",
       "    <tr>\n",
       "      <th>Pomona, CA</th>\n",
       "      <td>32019.225694</td>\n",
       "    </tr>\n",
       "    <tr>\n",
       "      <th>San Bernardino, CA</th>\n",
       "      <td>33204.606335</td>\n",
       "    </tr>\n",
       "    <tr>\n",
       "      <th>Ontario, CA</th>\n",
       "      <td>33451.720395</td>\n",
       "    </tr>\n",
       "    <tr>\n",
       "      <th>Inglewood, CA</th>\n",
       "      <td>34733.271357</td>\n",
       "    </tr>\n",
       "    <tr>\n",
       "      <th>Oxnard, CA</th>\n",
       "      <td>35242.936556</td>\n",
       "    </tr>\n",
       "    <tr>\n",
       "      <th>Moreno Valley, CA</th>\n",
       "      <td>35708.525659</td>\n",
       "    </tr>\n",
       "    <tr>\n",
       "      <th>Fontana, CA</th>\n",
       "      <td>35728.824534</td>\n",
       "    </tr>\n",
       "    <tr>\n",
       "      <th>Fresno, CA</th>\n",
       "      <td>36527.118943</td>\n",
       "    </tr>\n",
       "    <tr>\n",
       "      <th>Salinas, CA</th>\n",
       "      <td>37623.070450</td>\n",
       "    </tr>\n",
       "    <tr>\n",
       "      <th>Stockton, CA</th>\n",
       "      <td>38270.126706</td>\n",
       "    </tr>\n",
       "    <tr>\n",
       "      <th>Garden Grove, CA</th>\n",
       "      <td>39096.033654</td>\n",
       "    </tr>\n",
       "    <tr>\n",
       "      <th>Riverside, CA</th>\n",
       "      <td>41597.601990</td>\n",
       "    </tr>\n",
       "    <tr>\n",
       "      <th>Lancaster, CA</th>\n",
       "      <td>41983.514286</td>\n",
       "    </tr>\n",
       "    <tr>\n",
       "      <th>Bakersfield, CA</th>\n",
       "      <td>42181.589724</td>\n",
       "    </tr>\n",
       "    <tr>\n",
       "      <th>West Covina, CA</th>\n",
       "      <td>42388.020690</td>\n",
       "    </tr>\n",
       "    <tr>\n",
       "      <th>Anaheim, CA</th>\n",
       "      <td>42458.635604</td>\n",
       "    </tr>\n",
       "    <tr>\n",
       "      <th>Palmdale, CA</th>\n",
       "      <td>42883.997930</td>\n",
       "    </tr>\n",
       "    <tr>\n",
       "      <th>Modesto, CA</th>\n",
       "      <td>43069.923077</td>\n",
       "    </tr>\n",
       "    <tr>\n",
       "      <th>Chula Vista, CA</th>\n",
       "      <td>44014.037832</td>\n",
       "    </tr>\n",
       "    <tr>\n",
       "      <th>Long Beach, CA</th>\n",
       "      <td>44650.681866</td>\n",
       "    </tr>\n",
       "    <tr>\n",
       "      <th>Sacramento, CA</th>\n",
       "      <td>44693.393379</td>\n",
       "    </tr>\n",
       "    <tr>\n",
       "      <th>Downey, CA</th>\n",
       "      <td>45767.877976</td>\n",
       "    </tr>\n",
       "    <tr>\n",
       "      <th>Costa Mesa, CA</th>\n",
       "      <td>47208.757576</td>\n",
       "    </tr>\n",
       "    <tr>\n",
       "      <th>Los Angeles, CA</th>\n",
       "      <td>47945.855977</td>\n",
       "    </tr>\n",
       "    <tr>\n",
       "      <th>Burbank, CA</th>\n",
       "      <td>49736.284424</td>\n",
       "    </tr>\n",
       "    <tr>\n",
       "      <th>San Buenaventura (Ventura), CA</th>\n",
       "      <td>49793.258317</td>\n",
       "    </tr>\n",
       "    <tr>\n",
       "      <th>Glendale, CA</th>\n",
       "      <td>50235.328571</td>\n",
       "    </tr>\n",
       "    <tr>\n",
       "      <th>Corona, CA</th>\n",
       "      <td>50887.208517</td>\n",
       "    </tr>\n",
       "    <tr>\n",
       "      <th>Fullerton, CA</th>\n",
       "      <td>52080.774790</td>\n",
       "    </tr>\n",
       "    <tr>\n",
       "      <th>Rancho Cucamonga, CA</th>\n",
       "      <td>52608.015432</td>\n",
       "    </tr>\n",
       "    <tr>\n",
       "      <th>Not in identifiable city (or size group)</th>\n",
       "      <td>53350.178584</td>\n",
       "    </tr>\n",
       "    <tr>\n",
       "      <th>Santa Clarita, CA</th>\n",
       "      <td>54741.114286</td>\n",
       "    </tr>\n",
       "    <tr>\n",
       "      <th>Simi Valley, CA</th>\n",
       "      <td>56978.648819</td>\n",
       "    </tr>\n",
       "    <tr>\n",
       "      <th>Orange, CA</th>\n",
       "      <td>57868.885886</td>\n",
       "    </tr>\n",
       "    <tr>\n",
       "      <th>Torrance, CA</th>\n",
       "      <td>58822.712798</td>\n",
       "    </tr>\n",
       "    <tr>\n",
       "      <th>Oakland, CA</th>\n",
       "      <td>59060.448196</td>\n",
       "    </tr>\n",
       "    <tr>\n",
       "      <th>Pasadena, CA</th>\n",
       "      <td>63182.824089</td>\n",
       "    </tr>\n",
       "    <tr>\n",
       "      <th>Huntington Beach, CA</th>\n",
       "      <td>63310.519671</td>\n",
       "    </tr>\n",
       "    <tr>\n",
       "      <th>San Francisco, CA</th>\n",
       "      <td>68656.012778</td>\n",
       "    </tr>\n",
       "    <tr>\n",
       "      <th>Sunnyvale, CA</th>\n",
       "      <td>69783.245640</td>\n",
       "    </tr>\n",
       "    <tr>\n",
       "      <th>Irvine, CA</th>\n",
       "      <td>72001.980981</td>\n",
       "    </tr>\n",
       "    <tr>\n",
       "      <th>Thousand Oaks, CA</th>\n",
       "      <td>76228.745313</td>\n",
       "    </tr>\n",
       "  </tbody>\n",
       "</table>\n",
       "</div>"
      ],
      "text/plain": [
       "                                          Personal Pre-Tax Income\n",
       "City                                                             \n",
       "East Los Angeles, CA                                 26866.930456\n",
       "El Monte, CA                                         27217.303103\n",
       "Santa Ana, CA                                        30245.612645\n",
       "Norwalk, CA                                          31825.310345\n",
       "Pomona, CA                                           32019.225694\n",
       "San Bernardino, CA                                   33204.606335\n",
       "Ontario, CA                                          33451.720395\n",
       "Inglewood, CA                                        34733.271357\n",
       "Oxnard, CA                                           35242.936556\n",
       "Moreno Valley, CA                                    35708.525659\n",
       "Fontana, CA                                          35728.824534\n",
       "Fresno, CA                                           36527.118943\n",
       "Salinas, CA                                          37623.070450\n",
       "Stockton, CA                                         38270.126706\n",
       "Garden Grove, CA                                     39096.033654\n",
       "Riverside, CA                                        41597.601990\n",
       "Lancaster, CA                                        41983.514286\n",
       "Bakersfield, CA                                      42181.589724\n",
       "West Covina, CA                                      42388.020690\n",
       "Anaheim, CA                                          42458.635604\n",
       "Palmdale, CA                                         42883.997930\n",
       "Modesto, CA                                          43069.923077\n",
       "Chula Vista, CA                                      44014.037832\n",
       "Long Beach, CA                                       44650.681866\n",
       "Sacramento, CA                                       44693.393379\n",
       "Downey, CA                                           45767.877976\n",
       "Costa Mesa, CA                                       47208.757576\n",
       "Los Angeles, CA                                      47945.855977\n",
       "Burbank, CA                                          49736.284424\n",
       "San Buenaventura (Ventura), CA                       49793.258317\n",
       "Glendale, CA                                         50235.328571\n",
       "Corona, CA                                           50887.208517\n",
       "Fullerton, CA                                        52080.774790\n",
       "Rancho Cucamonga, CA                                 52608.015432\n",
       "Not in identifiable city (or size group)             53350.178584\n",
       "Santa Clarita, CA                                    54741.114286\n",
       "Simi Valley, CA                                      56978.648819\n",
       "Orange, CA                                           57868.885886\n",
       "Torrance, CA                                         58822.712798\n",
       "Oakland, CA                                          59060.448196\n",
       "Pasadena, CA                                         63182.824089\n",
       "Huntington Beach, CA                                 63310.519671\n",
       "San Francisco, CA                                    68656.012778\n",
       "Sunnyvale, CA                                        69783.245640\n",
       "Irvine, CA                                           72001.980981\n",
       "Thousand Oaks, CA                                    76228.745313"
      ]
     },
     "execution_count": 39,
     "metadata": {},
     "output_type": "execute_result"
    }
   ],
   "source": [
    "income_by_city = poverty_2007.groupby('City').mean()[['Personal Pre-Tax Income']].sort_values('Personal Pre-Tax Income')\n",
    "income_by_city"
   ]
  },
  {
   "cell_type": "code",
   "execution_count": 53,
   "metadata": {},
   "outputs": [
    {
     "data": {
      "image/png": "[encoded data removed]",
      "text/plain": [
       "<Figure size 1080x576 with 1 Axes>"
      ]
     },
     "metadata": {},
     "output_type": "display_data"
    }
   ],
   "source": [
    "plt.figure(figsize = (15, 8))\n",
    "top_5_income_by_city = income_by_city.sort_values('Personal Pre-Tax Income', ascending = False)[0:5].reset_index()\n",
    "sns.barplot(x = 'City', y = 'Personal Pre-Tax Income', data = top_5_income_by_city)\n",
    "plt.title('Bar Plot of Top 5 Cities with Highest Pre-Tax Income');"
   ]
  },
  {
   "cell_type": "markdown",
   "metadata": {},
   "source": [
    "**Do some research into these cities. How may they be related and why might that explain their presence in the highest average incomes in California?**"
   ]
  },
  {
   "cell_type": "markdown",
   "metadata": {},
   "source": [
    "[Double click on this cell and write your answer here]\n"
   ]
  },
  {
   "cell_type": "code",
   "execution_count": 54,
   "metadata": {},
   "outputs": [
    {
     "data": {
      "image/png": "[encoded data removed]",
      "text/plain": [
       "<Figure size 1080x576 with 1 Axes>"
      ]
     },
     "metadata": {},
     "output_type": "display_data"
    }
   ],
   "source": [
    "plt.figure(figsize = (15, 8))\n",
    "bottom_5_income_by_city = income_by_city.sort_values('Personal Pre-Tax Income', ascending = True)[0:5].reset_index()\n",
    "sns.barplot(x = 'City', y = 'Personal Pre-Tax Income', data = bottom_5_income_by_city)\n",
    "plt.title('Top 5 Cities with Highest Personal Pre-Tax Income');"
   ]
  },
  {
   "cell_type": "markdown",
   "metadata": {},
   "source": [
    "**Do some research into these cities. How may they be related and why might that explain their presence in the lowest average incomes in California?**"
   ]
  },
  {
   "cell_type": "markdown",
   "metadata": {},
   "source": [
    "[Double click on this cell and write your answer here]\n"
   ]
  },
  {
   "cell_type": "code",
   "execution_count": 58,
   "metadata": {},
   "outputs": [
    {
     "data": {
      "image/png": "[encoded data removed]",
      "text/plain": [
       "<Figure size 1080x576 with 1 Axes>"
      ]
     },
     "metadata": {},
     "output_type": "display_data"
    }
   ],
   "source": [
    "plt.figure(figsize = (15, 8))\n",
    "income_by_city_2017 = poverty_2017.groupby('City').mean()[['Personal Pre-Tax Income']].sort_values('Personal Pre-Tax Income')\n",
    "top_5_income_by_city_2017 = income_by_city_2017.sort_values('Personal Pre-Tax Income', ascending = False)[0:5].reset_index()\n",
    "sns.barplot(x = 'City', y = 'Personal Pre-Tax Income', data = top_5_income_by_city_2017)\n",
    "plt.title('Bar Plot of Top 5 Cities with Highest Pre-Tax Income in 2017');"
   ]
  },
  {
   "cell_type": "code",
   "execution_count": 59,
   "metadata": {},
   "outputs": [
    {
     "data": {
      "image/png": "[encoded data removed]",
      "text/plain": [
       "<Figure size 1080x576 with 1 Axes>"
      ]
     },
     "metadata": {},
     "output_type": "display_data"
    }
   ],
   "source": [
    "plt.figure(figsize = (15, 8))\n",
    "income_by_city_2017 = poverty_2017.groupby('City').mean()[['Personal Pre-Tax Income']].sort_values('Personal Pre-Tax Income')\n",
    "bottom_5_income_by_city_2017 = income_by_city_2017.sort_values('Personal Pre-Tax Income', ascending = True)[0:5].reset_index()\n",
    "sns.barplot(x = 'City', y = 'Personal Pre-Tax Income', data = bottom_5_income_by_city_2017)\n",
    "plt.title('Bar Plot of Top 5 Cities with Lowest Pre-Tax Income in 2017');"
   ]
  },
  {
   "cell_type": "markdown",
   "metadata": {},
   "source": [
    "### 4. Income by Type of Worker "
   ]
  },
  {
   "cell_type": "code",
   "execution_count": 63,
   "metadata": {},
   "outputs": [
    {
     "data": {
      "text/html": [
       "<div>\n",
       "<style scoped>\n",
       "    .dataframe tbody tr th:only-of-type {\n",
       "        vertical-align: middle;\n",
       "    }\n",
       "\n",
       "    .dataframe tbody tr th {\n",
       "        vertical-align: top;\n",
       "    }\n",
       "\n",
       "    .dataframe thead th {\n",
       "        text-align: right;\n",
       "    }\n",
       "</style>\n",
       "<table border=\"1\" class=\"dataframe\">\n",
       "  <thead>\n",
       "    <tr style=\"text-align: right;\">\n",
       "      <th></th>\n",
       "      <th>Personal Pre-Tax Income</th>\n",
       "    </tr>\n",
       "    <tr>\n",
       "      <th>Type of Worker</th>\n",
       "      <th></th>\n",
       "    </tr>\n",
       "  </thead>\n",
       "  <tbody>\n",
       "    <tr>\n",
       "      <th>Self-employed</th>\n",
       "      <td>71069.465883</td>\n",
       "    </tr>\n",
       "    <tr>\n",
       "      <th>Works for wages</th>\n",
       "      <td>48653.903814</td>\n",
       "    </tr>\n",
       "  </tbody>\n",
       "</table>\n",
       "</div>"
      ],
      "text/plain": [
       "                 Personal Pre-Tax Income\n",
       "Type of Worker                          \n",
       "Self-employed               71069.465883\n",
       "Works for wages             48653.903814"
      ]
     },
     "execution_count": 63,
     "metadata": {},
     "output_type": "execute_result"
    }
   ],
   "source": [
    "tow_inc_2007 = poverty_2007.groupby('Type of Worker').mean()[['Personal Pre-Tax Income']]\n",
    "tow_inc_2007"
   ]
  },
  {
   "cell_type": "code",
   "execution_count": 64,
   "metadata": {},
   "outputs": [
    {
     "data": {
      "text/html": [
       "<div>\n",
       "<style scoped>\n",
       "    .dataframe tbody tr th:only-of-type {\n",
       "        vertical-align: middle;\n",
       "    }\n",
       "\n",
       "    .dataframe tbody tr th {\n",
       "        vertical-align: top;\n",
       "    }\n",
       "\n",
       "    .dataframe thead th {\n",
       "        text-align: right;\n",
       "    }\n",
       "</style>\n",
       "<table border=\"1\" class=\"dataframe\">\n",
       "  <thead>\n",
       "    <tr style=\"text-align: right;\">\n",
       "      <th></th>\n",
       "      <th>Personal Pre-Tax Income</th>\n",
       "    </tr>\n",
       "    <tr>\n",
       "      <th>Type of Worker</th>\n",
       "      <th></th>\n",
       "    </tr>\n",
       "  </thead>\n",
       "  <tbody>\n",
       "    <tr>\n",
       "      <th>Self-employed</th>\n",
       "      <td>74207.358162</td>\n",
       "    </tr>\n",
       "    <tr>\n",
       "      <th>Works for wages</th>\n",
       "      <td>61249.418921</td>\n",
       "    </tr>\n",
       "  </tbody>\n",
       "</table>\n",
       "</div>"
      ],
      "text/plain": [
       "                 Personal Pre-Tax Income\n",
       "Type of Worker                          \n",
       "Self-employed               74207.358162\n",
       "Works for wages             61249.418921"
      ]
     },
     "execution_count": 64,
     "metadata": {},
     "output_type": "execute_result"
    }
   ],
   "source": [
    "tow_inc_2017 = poverty_2017.groupby('Type of Worker').mean()[['Personal Pre-Tax Income']]\n",
    "tow_inc_2017"
   ]
  },
  {
   "cell_type": "markdown",
   "metadata": {},
   "source": [
    "### 5. Income by Ownership Status"
   ]
  },
  {
   "cell_type": "code",
   "execution_count": 66,
   "metadata": {},
   "outputs": [
    {
     "data": {
      "text/html": [
       "<div>\n",
       "<style scoped>\n",
       "    .dataframe tbody tr th:only-of-type {\n",
       "        vertical-align: middle;\n",
       "    }\n",
       "\n",
       "    .dataframe tbody tr th {\n",
       "        vertical-align: top;\n",
       "    }\n",
       "\n",
       "    .dataframe thead th {\n",
       "        text-align: right;\n",
       "    }\n",
       "</style>\n",
       "<table border=\"1\" class=\"dataframe\">\n",
       "  <thead>\n",
       "    <tr style=\"text-align: right;\">\n",
       "      <th></th>\n",
       "      <th>Personal Pre-Tax Income</th>\n",
       "    </tr>\n",
       "    <tr>\n",
       "      <th>Ownership Status</th>\n",
       "      <th></th>\n",
       "    </tr>\n",
       "  </thead>\n",
       "  <tbody>\n",
       "    <tr>\n",
       "      <th>Owned or being bought (loan)</th>\n",
       "      <td>60044.236154</td>\n",
       "    </tr>\n",
       "    <tr>\n",
       "      <th>Rented</th>\n",
       "      <td>35233.887965</td>\n",
       "    </tr>\n",
       "  </tbody>\n",
       "</table>\n",
       "</div>"
      ],
      "text/plain": [
       "                              Personal Pre-Tax Income\n",
       "Ownership Status                                     \n",
       "Owned or being bought (loan)             60044.236154\n",
       "Rented                                   35233.887965"
      ]
     },
     "execution_count": 66,
     "metadata": {},
     "output_type": "execute_result"
    }
   ],
   "source": [
    "own_inc_2007 = poverty_2007.groupby('Ownership Status').mean()[['Personal Pre-Tax Income']]\n",
    "own_inc_2007"
   ]
  },
  {
   "cell_type": "code",
   "execution_count": 68,
   "metadata": {},
   "outputs": [
    {
     "data": {
      "text/html": [
       "<div>\n",
       "<style scoped>\n",
       "    .dataframe tbody tr th:only-of-type {\n",
       "        vertical-align: middle;\n",
       "    }\n",
       "\n",
       "    .dataframe tbody tr th {\n",
       "        vertical-align: top;\n",
       "    }\n",
       "\n",
       "    .dataframe thead th {\n",
       "        text-align: right;\n",
       "    }\n",
       "</style>\n",
       "<table border=\"1\" class=\"dataframe\">\n",
       "  <thead>\n",
       "    <tr style=\"text-align: right;\">\n",
       "      <th></th>\n",
       "      <th>Personal Pre-Tax Income</th>\n",
       "    </tr>\n",
       "    <tr>\n",
       "      <th>Ownership Status</th>\n",
       "      <th></th>\n",
       "    </tr>\n",
       "  </thead>\n",
       "  <tbody>\n",
       "    <tr>\n",
       "      <th>Owned or being bought (loan)</th>\n",
       "      <td>74237.355526</td>\n",
       "    </tr>\n",
       "    <tr>\n",
       "      <th>Rented</th>\n",
       "      <td>45512.805127</td>\n",
       "    </tr>\n",
       "  </tbody>\n",
       "</table>\n",
       "</div>"
      ],
      "text/plain": [
       "                              Personal Pre-Tax Income\n",
       "Ownership Status                                     \n",
       "Owned or being bought (loan)             74237.355526\n",
       "Rented                                   45512.805127"
      ]
     },
     "execution_count": 68,
     "metadata": {},
     "output_type": "execute_result"
    }
   ],
   "source": [
    "own_inc_2017 = poverty_2017.groupby('Ownership Status').mean()[['Personal Pre-Tax Income']]\n",
    "own_inc_2017"
   ]
  },
  {
   "cell_type": "code",
   "execution_count": 73,
   "metadata": {},
   "outputs": [
    {
     "data": {
      "text/html": [
       "<div>\n",
       "<style scoped>\n",
       "    .dataframe tbody tr th:only-of-type {\n",
       "        vertical-align: middle;\n",
       "    }\n",
       "\n",
       "    .dataframe tbody tr th {\n",
       "        vertical-align: top;\n",
       "    }\n",
       "\n",
       "    .dataframe thead th {\n",
       "        text-align: right;\n",
       "    }\n",
       "</style>\n",
       "<table border=\"1\" class=\"dataframe\">\n",
       "  <thead>\n",
       "    <tr style=\"text-align: right;\">\n",
       "      <th></th>\n",
       "      <th></th>\n",
       "      <th>Personal Pre-Tax Income</th>\n",
       "    </tr>\n",
       "    <tr>\n",
       "      <th>Ownership Status</th>\n",
       "      <th>City</th>\n",
       "      <th></th>\n",
       "    </tr>\n",
       "  </thead>\n",
       "  <tbody>\n",
       "    <tr>\n",
       "      <th rowspan=\"30\" valign=\"top\">Owned or being bought (loan)</th>\n",
       "      <th>Anaheim, CA</th>\n",
       "      <td>52404.806522</td>\n",
       "    </tr>\n",
       "    <tr>\n",
       "      <th>Bakersfield, CA</th>\n",
       "      <td>47214.492553</td>\n",
       "    </tr>\n",
       "    <tr>\n",
       "      <th>Burbank, CA</th>\n",
       "      <td>54982.591549</td>\n",
       "    </tr>\n",
       "    <tr>\n",
       "      <th>Chula Vista, CA</th>\n",
       "      <td>50499.746667</td>\n",
       "    </tr>\n",
       "    <tr>\n",
       "      <th>Corona, CA</th>\n",
       "      <td>54511.200361</td>\n",
       "    </tr>\n",
       "    <tr>\n",
       "      <th>Costa Mesa, CA</th>\n",
       "      <td>57185.922535</td>\n",
       "    </tr>\n",
       "    <tr>\n",
       "      <th>Downey, CA</th>\n",
       "      <td>50777.866359</td>\n",
       "    </tr>\n",
       "    <tr>\n",
       "      <th>East Los Angeles, CA</th>\n",
       "      <td>34494.235294</td>\n",
       "    </tr>\n",
       "    <tr>\n",
       "      <th>El Monte, CA</th>\n",
       "      <td>31644.814815</td>\n",
       "    </tr>\n",
       "    <tr>\n",
       "      <th>Fontana, CA</th>\n",
       "      <td>38638.169884</td>\n",
       "    </tr>\n",
       "    <tr>\n",
       "      <th>Fresno, CA</th>\n",
       "      <td>43288.422399</td>\n",
       "    </tr>\n",
       "    <tr>\n",
       "      <th>Fullerton, CA</th>\n",
       "      <td>61387.991957</td>\n",
       "    </tr>\n",
       "    <tr>\n",
       "      <th>Garden Grove, CA</th>\n",
       "      <td>43636.528169</td>\n",
       "    </tr>\n",
       "    <tr>\n",
       "      <th>Glendale, CA</th>\n",
       "      <td>70809.713068</td>\n",
       "    </tr>\n",
       "    <tr>\n",
       "      <th>Huntington Beach, CA</th>\n",
       "      <td>71852.437337</td>\n",
       "    </tr>\n",
       "    <tr>\n",
       "      <th>Inglewood, CA</th>\n",
       "      <td>41903.357143</td>\n",
       "    </tr>\n",
       "    <tr>\n",
       "      <th>Irvine, CA</th>\n",
       "      <td>84453.133013</td>\n",
       "    </tr>\n",
       "    <tr>\n",
       "      <th>Lancaster, CA</th>\n",
       "      <td>47197.389503</td>\n",
       "    </tr>\n",
       "    <tr>\n",
       "      <th>Long Beach, CA</th>\n",
       "      <td>59638.727554</td>\n",
       "    </tr>\n",
       "    <tr>\n",
       "      <th>Los Angeles, CA</th>\n",
       "      <td>65581.982653</td>\n",
       "    </tr>\n",
       "    <tr>\n",
       "      <th>Modesto, CA</th>\n",
       "      <td>48867.444444</td>\n",
       "    </tr>\n",
       "    <tr>\n",
       "      <th>Moreno Valley, CA</th>\n",
       "      <td>38863.046679</td>\n",
       "    </tr>\n",
       "    <tr>\n",
       "      <th>Norwalk, CA</th>\n",
       "      <td>33164.417910</td>\n",
       "    </tr>\n",
       "    <tr>\n",
       "      <th>Not in identifiable city (or size group)</th>\n",
       "      <td>60902.439741</td>\n",
       "    </tr>\n",
       "    <tr>\n",
       "      <th>Oakland, CA</th>\n",
       "      <td>74496.445918</td>\n",
       "    </tr>\n",
       "    <tr>\n",
       "      <th>Ontario, CA</th>\n",
       "      <td>35773.446078</td>\n",
       "    </tr>\n",
       "    <tr>\n",
       "      <th>Orange, CA</th>\n",
       "      <td>67975.970954</td>\n",
       "    </tr>\n",
       "    <tr>\n",
       "      <th>Oxnard, CA</th>\n",
       "      <td>39744.535797</td>\n",
       "    </tr>\n",
       "    <tr>\n",
       "      <th>Palmdale, CA</th>\n",
       "      <td>45450.562667</td>\n",
       "    </tr>\n",
       "    <tr>\n",
       "      <th>Pasadena, CA</th>\n",
       "      <td>80024.095506</td>\n",
       "    </tr>\n",
       "    <tr>\n",
       "      <th>...</th>\n",
       "      <th>...</th>\n",
       "      <td>...</td>\n",
       "    </tr>\n",
       "    <tr>\n",
       "      <th rowspan=\"30\" valign=\"top\">Rented</th>\n",
       "      <th>Irvine, CA</th>\n",
       "      <td>51283.264000</td>\n",
       "    </tr>\n",
       "    <tr>\n",
       "      <th>Lancaster, CA</th>\n",
       "      <td>30404.233129</td>\n",
       "    </tr>\n",
       "    <tr>\n",
       "      <th>Long Beach, CA</th>\n",
       "      <td>29183.784878</td>\n",
       "    </tr>\n",
       "    <tr>\n",
       "      <th>Los Angeles, CA</th>\n",
       "      <td>32052.982804</td>\n",
       "    </tr>\n",
       "    <tr>\n",
       "      <th>Modesto, CA</th>\n",
       "      <td>27723.542986</td>\n",
       "    </tr>\n",
       "    <tr>\n",
       "      <th>Moreno Valley, CA</th>\n",
       "      <td>24994.695122</td>\n",
       "    </tr>\n",
       "    <tr>\n",
       "      <th>Norwalk, CA</th>\n",
       "      <td>27339.300000</td>\n",
       "    </tr>\n",
       "    <tr>\n",
       "      <th>Not in identifiable city (or size group)</th>\n",
       "      <td>35796.892803</td>\n",
       "    </tr>\n",
       "    <tr>\n",
       "      <th>Oakland, CA</th>\n",
       "      <td>38562.781843</td>\n",
       "    </tr>\n",
       "    <tr>\n",
       "      <th>Ontario, CA</th>\n",
       "      <td>28715.400000</td>\n",
       "    </tr>\n",
       "    <tr>\n",
       "      <th>Orange, CA</th>\n",
       "      <td>31392.717391</td>\n",
       "    </tr>\n",
       "    <tr>\n",
       "      <th>Oxnard, CA</th>\n",
       "      <td>26731.179039</td>\n",
       "    </tr>\n",
       "    <tr>\n",
       "      <th>Palmdale, CA</th>\n",
       "      <td>33972.314815</td>\n",
       "    </tr>\n",
       "    <tr>\n",
       "      <th>Pasadena, CA</th>\n",
       "      <td>41381.032727</td>\n",
       "    </tr>\n",
       "    <tr>\n",
       "      <th>Pomona, CA</th>\n",
       "      <td>22988.317308</td>\n",
       "    </tr>\n",
       "    <tr>\n",
       "      <th>Rancho Cucamonga, CA</th>\n",
       "      <td>35169.328671</td>\n",
       "    </tr>\n",
       "    <tr>\n",
       "      <th>Riverside, CA</th>\n",
       "      <td>30020.291005</td>\n",
       "    </tr>\n",
       "    <tr>\n",
       "      <th>Sacramento, CA</th>\n",
       "      <td>32111.467153</td>\n",
       "    </tr>\n",
       "    <tr>\n",
       "      <th>Salinas, CA</th>\n",
       "      <td>30661.965812</td>\n",
       "    </tr>\n",
       "    <tr>\n",
       "      <th>San Bernardino, CA</th>\n",
       "      <td>25562.610879</td>\n",
       "    </tr>\n",
       "    <tr>\n",
       "      <th>San Buenaventura (Ventura), CA</th>\n",
       "      <td>36113.485714</td>\n",
       "    </tr>\n",
       "    <tr>\n",
       "      <th>San Francisco, CA</th>\n",
       "      <td>55011.727454</td>\n",
       "    </tr>\n",
       "    <tr>\n",
       "      <th>Santa Ana, CA</th>\n",
       "      <td>23682.338926</td>\n",
       "    </tr>\n",
       "    <tr>\n",
       "      <th>Santa Clarita, CA</th>\n",
       "      <td>34892.649425</td>\n",
       "    </tr>\n",
       "    <tr>\n",
       "      <th>Simi Valley, CA</th>\n",
       "      <td>46860.190909</td>\n",
       "    </tr>\n",
       "    <tr>\n",
       "      <th>Stockton, CA</th>\n",
       "      <td>25619.186813</td>\n",
       "    </tr>\n",
       "    <tr>\n",
       "      <th>Sunnyvale, CA</th>\n",
       "      <td>60659.596154</td>\n",
       "    </tr>\n",
       "    <tr>\n",
       "      <th>Thousand Oaks, CA</th>\n",
       "      <td>46295.388430</td>\n",
       "    </tr>\n",
       "    <tr>\n",
       "      <th>Torrance, CA</th>\n",
       "      <td>52634.582222</td>\n",
       "    </tr>\n",
       "    <tr>\n",
       "      <th>West Covina, CA</th>\n",
       "      <td>33224.897959</td>\n",
       "    </tr>\n",
       "  </tbody>\n",
       "</table>\n",
       "<p>92 rows × 1 columns</p>\n",
       "</div>"
      ],
      "text/plain": [
       "                                                                       Personal Pre-Tax Income\n",
       "Ownership Status             City                                                             \n",
       "Owned or being bought (loan) Anaheim, CA                                          52404.806522\n",
       "                             Bakersfield, CA                                      47214.492553\n",
       "                             Burbank, CA                                          54982.591549\n",
       "                             Chula Vista, CA                                      50499.746667\n",
       "                             Corona, CA                                           54511.200361\n",
       "                             Costa Mesa, CA                                       57185.922535\n",
       "                             Downey, CA                                           50777.866359\n",
       "                             East Los Angeles, CA                                 34494.235294\n",
       "                             El Monte, CA                                         31644.814815\n",
       "                             Fontana, CA                                          38638.169884\n",
       "                             Fresno, CA                                           43288.422399\n",
       "                             Fullerton, CA                                        61387.991957\n",
       "                             Garden Grove, CA                                     43636.528169\n",
       "                             Glendale, CA                                         70809.713068\n",
       "                             Huntington Beach, CA                                 71852.437337\n",
       "                             Inglewood, CA                                        41903.357143\n",
       "                             Irvine, CA                                           84453.133013\n",
       "                             Lancaster, CA                                        47197.389503\n",
       "                             Long Beach, CA                                       59638.727554\n",
       "                             Los Angeles, CA                                      65581.982653\n",
       "                             Modesto, CA                                          48867.444444\n",
       "                             Moreno Valley, CA                                    38863.046679\n",
       "                             Norwalk, CA                                          33164.417910\n",
       "                             Not in identifiable city (or size group)             60902.439741\n",
       "                             Oakland, CA                                          74496.445918\n",
       "                             Ontario, CA                                          35773.446078\n",
       "                             Orange, CA                                           67975.970954\n",
       "                             Oxnard, CA                                           39744.535797\n",
       "                             Palmdale, CA                                         45450.562667\n",
       "                             Pasadena, CA                                         80024.095506\n",
       "...                                                                                        ...\n",
       "Rented                       Irvine, CA                                           51283.264000\n",
       "                             Lancaster, CA                                        30404.233129\n",
       "                             Long Beach, CA                                       29183.784878\n",
       "                             Los Angeles, CA                                      32052.982804\n",
       "                             Modesto, CA                                          27723.542986\n",
       "                             Moreno Valley, CA                                    24994.695122\n",
       "                             Norwalk, CA                                          27339.300000\n",
       "                             Not in identifiable city (or size group)             35796.892803\n",
       "                             Oakland, CA                                          38562.781843\n",
       "                             Ontario, CA                                          28715.400000\n",
       "                             Orange, CA                                           31392.717391\n",
       "                             Oxnard, CA                                           26731.179039\n",
       "                             Palmdale, CA                                         33972.314815\n",
       "                             Pasadena, CA                                         41381.032727\n",
       "                             Pomona, CA                                           22988.317308\n",
       "                             Rancho Cucamonga, CA                                 35169.328671\n",
       "                             Riverside, CA                                        30020.291005\n",
       "                             Sacramento, CA                                       32111.467153\n",
       "                             Salinas, CA                                          30661.965812\n",
       "                             San Bernardino, CA                                   25562.610879\n",
       "                             San Buenaventura (Ventura), CA                       36113.485714\n",
       "                             San Francisco, CA                                    55011.727454\n",
       "                             Santa Ana, CA                                        23682.338926\n",
       "                             Santa Clarita, CA                                    34892.649425\n",
       "                             Simi Valley, CA                                      46860.190909\n",
       "                             Stockton, CA                                         25619.186813\n",
       "                             Sunnyvale, CA                                        60659.596154\n",
       "                             Thousand Oaks, CA                                    46295.388430\n",
       "                             Torrance, CA                                         52634.582222\n",
       "                             West Covina, CA                                      33224.897959\n",
       "\n",
       "[92 rows x 1 columns]"
      ]
     },
     "execution_count": 73,
     "metadata": {},
     "output_type": "execute_result"
    }
   ],
   "source": [
    "own_inc_2007 = poverty_2007.groupby(['Ownership Status', 'City']).mean()[['Personal Pre-Tax Income']]\n",
    "own_inc_2007"
   ]
  },
  {
   "cell_type": "code",
   "execution_count": 74,
   "metadata": {},
   "outputs": [
    {
     "data": {
      "text/html": [
       "<div>\n",
       "<style scoped>\n",
       "    .dataframe tbody tr th:only-of-type {\n",
       "        vertical-align: middle;\n",
       "    }\n",
       "\n",
       "    .dataframe tbody tr th {\n",
       "        vertical-align: top;\n",
       "    }\n",
       "\n",
       "    .dataframe thead th {\n",
       "        text-align: right;\n",
       "    }\n",
       "</style>\n",
       "<table border=\"1\" class=\"dataframe\">\n",
       "  <thead>\n",
       "    <tr style=\"text-align: right;\">\n",
       "      <th></th>\n",
       "      <th></th>\n",
       "      <th>Personal Pre-Tax Income</th>\n",
       "    </tr>\n",
       "    <tr>\n",
       "      <th>Ownership Status</th>\n",
       "      <th>City</th>\n",
       "      <th></th>\n",
       "    </tr>\n",
       "  </thead>\n",
       "  <tbody>\n",
       "    <tr>\n",
       "      <th rowspan=\"23\" valign=\"top\">Owned or being bought (loan)</th>\n",
       "      <th>Antioch, CA</th>\n",
       "      <td>54393.255814</td>\n",
       "    </tr>\n",
       "    <tr>\n",
       "      <th>Downey, CA</th>\n",
       "      <td>62622.563025</td>\n",
       "    </tr>\n",
       "    <tr>\n",
       "      <th>East Los Angeles, CA</th>\n",
       "      <td>36348.074866</td>\n",
       "    </tr>\n",
       "    <tr>\n",
       "      <th>Elk Grove, CA</th>\n",
       "      <td>65293.436853</td>\n",
       "    </tr>\n",
       "    <tr>\n",
       "      <th>Glendale, CA</th>\n",
       "      <td>83969.771987</td>\n",
       "    </tr>\n",
       "    <tr>\n",
       "      <th>Huntington Beach, CA</th>\n",
       "      <td>86214.152249</td>\n",
       "    </tr>\n",
       "    <tr>\n",
       "      <th>Inglewood, CA</th>\n",
       "      <td>51310.105263</td>\n",
       "    </tr>\n",
       "    <tr>\n",
       "      <th>Long Beach, CA</th>\n",
       "      <td>68126.365442</td>\n",
       "    </tr>\n",
       "    <tr>\n",
       "      <th>Los Angeles, CA</th>\n",
       "      <td>76368.469466</td>\n",
       "    </tr>\n",
       "    <tr>\n",
       "      <th>Moreno Valley, CA</th>\n",
       "      <td>46875.282651</td>\n",
       "    </tr>\n",
       "    <tr>\n",
       "      <th>Not in identifiable city (or size group)</th>\n",
       "      <td>73992.253532</td>\n",
       "    </tr>\n",
       "    <tr>\n",
       "      <th>Oakland, CA</th>\n",
       "      <td>94657.629151</td>\n",
       "    </tr>\n",
       "    <tr>\n",
       "      <th>Ontario, CA</th>\n",
       "      <td>49070.765550</td>\n",
       "    </tr>\n",
       "    <tr>\n",
       "      <th>Palmdale, CA</th>\n",
       "      <td>51602.248244</td>\n",
       "    </tr>\n",
       "    <tr>\n",
       "      <th>Pasadena, CA</th>\n",
       "      <td>105921.229050</td>\n",
       "    </tr>\n",
       "    <tr>\n",
       "      <th>Pomona, CA</th>\n",
       "      <td>44137.109974</td>\n",
       "    </tr>\n",
       "    <tr>\n",
       "      <th>Rancho Cucamonga, CA</th>\n",
       "      <td>58783.742455</td>\n",
       "    </tr>\n",
       "    <tr>\n",
       "      <th>Roseville, CA</th>\n",
       "      <td>76182.494279</td>\n",
       "    </tr>\n",
       "    <tr>\n",
       "      <th>Salinas, CA</th>\n",
       "      <td>47579.129213</td>\n",
       "    </tr>\n",
       "    <tr>\n",
       "      <th>San Francisco, CA</th>\n",
       "      <td>108896.925734</td>\n",
       "    </tr>\n",
       "    <tr>\n",
       "      <th>Santa Ana, CA</th>\n",
       "      <td>41524.915254</td>\n",
       "    </tr>\n",
       "    <tr>\n",
       "      <th>Sunnyvale, CA</th>\n",
       "      <td>132590.297297</td>\n",
       "    </tr>\n",
       "    <tr>\n",
       "      <th>Visalia, CA</th>\n",
       "      <td>60329.774436</td>\n",
       "    </tr>\n",
       "    <tr>\n",
       "      <th rowspan=\"23\" valign=\"top\">Rented</th>\n",
       "      <th>Antioch, CA</th>\n",
       "      <td>41091.632653</td>\n",
       "    </tr>\n",
       "    <tr>\n",
       "      <th>Downey, CA</th>\n",
       "      <td>35301.767956</td>\n",
       "    </tr>\n",
       "    <tr>\n",
       "      <th>East Los Angeles, CA</th>\n",
       "      <td>26532.170819</td>\n",
       "    </tr>\n",
       "    <tr>\n",
       "      <th>Elk Grove, CA</th>\n",
       "      <td>41227.923077</td>\n",
       "    </tr>\n",
       "    <tr>\n",
       "      <th>Glendale, CA</th>\n",
       "      <td>46979.910314</td>\n",
       "    </tr>\n",
       "    <tr>\n",
       "      <th>Huntington Beach, CA</th>\n",
       "      <td>52194.017341</td>\n",
       "    </tr>\n",
       "    <tr>\n",
       "      <th>Inglewood, CA</th>\n",
       "      <td>34789.709544</td>\n",
       "    </tr>\n",
       "    <tr>\n",
       "      <th>Long Beach, CA</th>\n",
       "      <td>36634.863636</td>\n",
       "    </tr>\n",
       "    <tr>\n",
       "      <th>Los Angeles, CA</th>\n",
       "      <td>42003.549304</td>\n",
       "    </tr>\n",
       "    <tr>\n",
       "      <th>Moreno Valley, CA</th>\n",
       "      <td>30760.478088</td>\n",
       "    </tr>\n",
       "    <tr>\n",
       "      <th>Not in identifiable city (or size group)</th>\n",
       "      <td>44536.753718</td>\n",
       "    </tr>\n",
       "    <tr>\n",
       "      <th>Oakland, CA</th>\n",
       "      <td>52449.133921</td>\n",
       "    </tr>\n",
       "    <tr>\n",
       "      <th>Ontario, CA</th>\n",
       "      <td>32622.914980</td>\n",
       "    </tr>\n",
       "    <tr>\n",
       "      <th>Palmdale, CA</th>\n",
       "      <td>34120.885417</td>\n",
       "    </tr>\n",
       "    <tr>\n",
       "      <th>Pasadena, CA</th>\n",
       "      <td>53747.307692</td>\n",
       "    </tr>\n",
       "    <tr>\n",
       "      <th>Pomona, CA</th>\n",
       "      <td>25823.433476</td>\n",
       "    </tr>\n",
       "    <tr>\n",
       "      <th>Rancho Cucamonga, CA</th>\n",
       "      <td>43150.348259</td>\n",
       "    </tr>\n",
       "    <tr>\n",
       "      <th>Roseville, CA</th>\n",
       "      <td>47529.096045</td>\n",
       "    </tr>\n",
       "    <tr>\n",
       "      <th>Salinas, CA</th>\n",
       "      <td>28943.660131</td>\n",
       "    </tr>\n",
       "    <tr>\n",
       "      <th>San Francisco, CA</th>\n",
       "      <td>84654.203017</td>\n",
       "    </tr>\n",
       "    <tr>\n",
       "      <th>Santa Ana, CA</th>\n",
       "      <td>29188.143526</td>\n",
       "    </tr>\n",
       "    <tr>\n",
       "      <th>Sunnyvale, CA</th>\n",
       "      <td>92820.906667</td>\n",
       "    </tr>\n",
       "    <tr>\n",
       "      <th>Visalia, CA</th>\n",
       "      <td>39000.661765</td>\n",
       "    </tr>\n",
       "  </tbody>\n",
       "</table>\n",
       "</div>"
      ],
      "text/plain": [
       "                                                                       Personal Pre-Tax Income\n",
       "Ownership Status             City                                                             \n",
       "Owned or being bought (loan) Antioch, CA                                          54393.255814\n",
       "                             Downey, CA                                           62622.563025\n",
       "                             East Los Angeles, CA                                 36348.074866\n",
       "                             Elk Grove, CA                                        65293.436853\n",
       "                             Glendale, CA                                         83969.771987\n",
       "                             Huntington Beach, CA                                 86214.152249\n",
       "                             Inglewood, CA                                        51310.105263\n",
       "                             Long Beach, CA                                       68126.365442\n",
       "                             Los Angeles, CA                                      76368.469466\n",
       "                             Moreno Valley, CA                                    46875.282651\n",
       "                             Not in identifiable city (or size group)             73992.253532\n",
       "                             Oakland, CA                                          94657.629151\n",
       "                             Ontario, CA                                          49070.765550\n",
       "                             Palmdale, CA                                         51602.248244\n",
       "                             Pasadena, CA                                        105921.229050\n",
       "                             Pomona, CA                                           44137.109974\n",
       "                             Rancho Cucamonga, CA                                 58783.742455\n",
       "                             Roseville, CA                                        76182.494279\n",
       "                             Salinas, CA                                          47579.129213\n",
       "                             San Francisco, CA                                   108896.925734\n",
       "                             Santa Ana, CA                                        41524.915254\n",
       "                             Sunnyvale, CA                                       132590.297297\n",
       "                             Visalia, CA                                          60329.774436\n",
       "Rented                       Antioch, CA                                          41091.632653\n",
       "                             Downey, CA                                           35301.767956\n",
       "                             East Los Angeles, CA                                 26532.170819\n",
       "                             Elk Grove, CA                                        41227.923077\n",
       "                             Glendale, CA                                         46979.910314\n",
       "                             Huntington Beach, CA                                 52194.017341\n",
       "                             Inglewood, CA                                        34789.709544\n",
       "                             Long Beach, CA                                       36634.863636\n",
       "                             Los Angeles, CA                                      42003.549304\n",
       "                             Moreno Valley, CA                                    30760.478088\n",
       "                             Not in identifiable city (or size group)             44536.753718\n",
       "                             Oakland, CA                                          52449.133921\n",
       "                             Ontario, CA                                          32622.914980\n",
       "                             Palmdale, CA                                         34120.885417\n",
       "                             Pasadena, CA                                         53747.307692\n",
       "                             Pomona, CA                                           25823.433476\n",
       "                             Rancho Cucamonga, CA                                 43150.348259\n",
       "                             Roseville, CA                                        47529.096045\n",
       "                             Salinas, CA                                          28943.660131\n",
       "                             San Francisco, CA                                    84654.203017\n",
       "                             Santa Ana, CA                                        29188.143526\n",
       "                             Sunnyvale, CA                                        92820.906667\n",
       "                             Visalia, CA                                          39000.661765"
      ]
     },
     "execution_count": 74,
     "metadata": {},
     "output_type": "execute_result"
    }
   ],
   "source": [
    "own_inc_2017 = poverty_2017.groupby(['Ownership Status', 'City']).mean()[['Personal Pre-Tax Income']]\n",
    "own_inc_2017"
   ]
  },
  {
   "cell_type": "markdown",
   "metadata": {},
   "source": [
    "### 6. Income by Race"
   ]
  },
  {
   "cell_type": "code",
   "execution_count": 85,
   "metadata": {},
   "outputs": [
    {
     "data": {
      "text/html": [
       "<div>\n",
       "<style scoped>\n",
       "    .dataframe tbody tr th:only-of-type {\n",
       "        vertical-align: middle;\n",
       "    }\n",
       "\n",
       "    .dataframe tbody tr th {\n",
       "        vertical-align: top;\n",
       "    }\n",
       "\n",
       "    .dataframe thead th {\n",
       "        text-align: right;\n",
       "    }\n",
       "</style>\n",
       "<table border=\"1\" class=\"dataframe\">\n",
       "  <thead>\n",
       "    <tr style=\"text-align: right;\">\n",
       "      <th></th>\n",
       "      <th>Personal Pre-Tax Income</th>\n",
       "    </tr>\n",
       "    <tr>\n",
       "      <th>Race</th>\n",
       "      <th></th>\n",
       "    </tr>\n",
       "  </thead>\n",
       "  <tbody>\n",
       "    <tr>\n",
       "      <th>African American</th>\n",
       "      <td>42253.078032</td>\n",
       "    </tr>\n",
       "    <tr>\n",
       "      <th>American Indian or Alaska Native</th>\n",
       "      <td>38693.112462</td>\n",
       "    </tr>\n",
       "    <tr>\n",
       "      <th>Asian/Pacific Islander</th>\n",
       "      <td>53093.695701</td>\n",
       "    </tr>\n",
       "    <tr>\n",
       "      <th>Other</th>\n",
       "      <td>29607.611318</td>\n",
       "    </tr>\n",
       "    <tr>\n",
       "      <th>Two or more races</th>\n",
       "      <td>40089.936180</td>\n",
       "    </tr>\n",
       "    <tr>\n",
       "      <th>White</th>\n",
       "      <td>57140.808708</td>\n",
       "    </tr>\n",
       "  </tbody>\n",
       "</table>\n",
       "</div>"
      ],
      "text/plain": [
       "                                  Personal Pre-Tax Income\n",
       "Race                                                     \n",
       "African American                             42253.078032\n",
       "American Indian or Alaska Native             38693.112462\n",
       "Asian/Pacific Islander                       53093.695701\n",
       "Other                                        29607.611318\n",
       "Two or more races                            40089.936180\n",
       "White                                        57140.808708"
      ]
     },
     "execution_count": 85,
     "metadata": {},
     "output_type": "execute_result"
    }
   ],
   "source": [
    "race_inc_2007 = poverty_2007.groupby('Race').mean()[['Personal Pre-Tax Income']]\n",
    "race_inc_2007"
   ]
  },
  {
   "cell_type": "code",
   "execution_count": 84,
   "metadata": {},
   "outputs": [
    {
     "data": {
      "text/html": [
       "<div>\n",
       "<style scoped>\n",
       "    .dataframe tbody tr th:only-of-type {\n",
       "        vertical-align: middle;\n",
       "    }\n",
       "\n",
       "    .dataframe tbody tr th {\n",
       "        vertical-align: top;\n",
       "    }\n",
       "\n",
       "    .dataframe thead th {\n",
       "        text-align: right;\n",
       "    }\n",
       "</style>\n",
       "<table border=\"1\" class=\"dataframe\">\n",
       "  <thead>\n",
       "    <tr style=\"text-align: right;\">\n",
       "      <th></th>\n",
       "      <th>Personal Pre-Tax Income</th>\n",
       "    </tr>\n",
       "    <tr>\n",
       "      <th>Race</th>\n",
       "      <th></th>\n",
       "    </tr>\n",
       "  </thead>\n",
       "  <tbody>\n",
       "    <tr>\n",
       "      <th>African American</th>\n",
       "      <td>50433.852112</td>\n",
       "    </tr>\n",
       "    <tr>\n",
       "      <th>American Indian or Alaska Native</th>\n",
       "      <td>41311.756168</td>\n",
       "    </tr>\n",
       "    <tr>\n",
       "      <th>Asian/Pacific Islander</th>\n",
       "      <td>69363.302402</td>\n",
       "    </tr>\n",
       "    <tr>\n",
       "      <th>Other</th>\n",
       "      <td>34215.242148</td>\n",
       "    </tr>\n",
       "    <tr>\n",
       "      <th>Two or more races</th>\n",
       "      <td>53662.714804</td>\n",
       "    </tr>\n",
       "    <tr>\n",
       "      <th>White</th>\n",
       "      <td>68593.558074</td>\n",
       "    </tr>\n",
       "  </tbody>\n",
       "</table>\n",
       "</div>"
      ],
      "text/plain": [
       "                                  Personal Pre-Tax Income\n",
       "Race                                                     \n",
       "African American                             50433.852112\n",
       "American Indian or Alaska Native             41311.756168\n",
       "Asian/Pacific Islander                       69363.302402\n",
       "Other                                        34215.242148\n",
       "Two or more races                            53662.714804\n",
       "White                                        68593.558074"
      ]
     },
     "execution_count": 84,
     "metadata": {},
     "output_type": "execute_result"
    }
   ],
   "source": [
    "race_inc_2017 = poverty_2017.groupby('Race').mean()[['Personal Pre-Tax Income']]\n",
    "race_inc_2017"
   ]
  },
  {
   "cell_type": "code",
   "execution_count": 87,
   "metadata": {},
   "outputs": [
    {
     "data": {
      "image/png": "[encoded data removed]",
      "text/plain": [
       "<Figure size 1080x576 with 1 Axes>"
      ]
     },
     "metadata": {},
     "output_type": "display_data"
    }
   ],
   "source": [
    "plt.figure(figsize = (15, 8))\n",
    "race_income_2007 = race_inc_2007.reset_index()\n",
    "sns.barplot(x = 'Race', y = 'Personal Pre-Tax Income', data = race_income_2007)\n",
    "plt.title('Bar Plot of Income by Race');"
   ]
  },
  {
   "cell_type": "code",
   "execution_count": 88,
   "metadata": {},
   "outputs": [
    {
     "data": {
      "image/png": "[encoded data removed]",
      "text/plain": [
       "<Figure size 1080x576 with 1 Axes>"
      ]
     },
     "metadata": {},
     "output_type": "display_data"
    }
   ],
   "source": [
    "plt.figure(figsize = (15, 8))\n",
    "race_income_2017 = race_inc_2017.reset_index()\n",
    "sns.barplot(x = 'Race', y = 'Personal Pre-Tax Income', data = race_income_2017)\n",
    "plt.title('Bar Plot of Income by Race');"
   ]
  },
  {
   "cell_type": "markdown",
   "metadata": {},
   "source": [
    "## C) Education level "
   ]
  },
  {
   "cell_type": "markdown",
   "metadata": {},
   "source": [
    "**Insert code and analysis, as well as short answer questions.**"
   ]
  },
  {
   "cell_type": "markdown",
   "metadata": {},
   "source": [
    "## D) Indicators of poverty"
   ]
  },
  {
   "cell_type": "markdown",
   "metadata": {},
   "source": [
    "**Insert code and analysis, as well as short answer questions.**"
   ]
  },
  {
   "cell_type": "markdown",
   "metadata": {},
   "source": [
    "## E) Employment"
   ]
  },
  {
   "cell_type": "markdown",
   "metadata": {},
   "source": [
    "### 1. Total Employment Statistics by Year"
   ]
  },
  {
   "cell_type": "code",
   "execution_count": 107,
   "metadata": {},
   "outputs": [
    {
     "data": {
      "text/html": [
       "<div>\n",
       "<style scoped>\n",
       "    .dataframe tbody tr th:only-of-type {\n",
       "        vertical-align: middle;\n",
       "    }\n",
       "\n",
       "    .dataframe tbody tr th {\n",
       "        vertical-align: top;\n",
       "    }\n",
       "\n",
       "    .dataframe thead th {\n",
       "        text-align: right;\n",
       "    }\n",
       "</style>\n",
       "<table border=\"1\" class=\"dataframe\">\n",
       "  <thead>\n",
       "    <tr style=\"text-align: right;\">\n",
       "      <th></th>\n",
       "      <th>Personal Pre-Tax Income</th>\n",
       "    </tr>\n",
       "    <tr>\n",
       "      <th>Employment Status</th>\n",
       "      <th></th>\n",
       "    </tr>\n",
       "  </thead>\n",
       "  <tbody>\n",
       "    <tr>\n",
       "      <th>Employed</th>\n",
       "      <td>55187.306045</td>\n",
       "    </tr>\n",
       "    <tr>\n",
       "      <th>Not in labor force</th>\n",
       "      <td>27299.733291</td>\n",
       "    </tr>\n",
       "    <tr>\n",
       "      <th>Unemployed</th>\n",
       "      <td>22349.844229</td>\n",
       "    </tr>\n",
       "  </tbody>\n",
       "</table>\n",
       "</div>"
      ],
      "text/plain": [
       "                    Personal Pre-Tax Income\n",
       "Employment Status                          \n",
       "Employed                       55187.306045\n",
       "Not in labor force             27299.733291\n",
       "Unemployed                     22349.844229"
      ]
     },
     "execution_count": 107,
     "metadata": {},
     "output_type": "execute_result"
    }
   ],
   "source": [
    "employment_07 =emp_sector_2007.groupby('Employment Status').mean()[['Personal Pre-Tax Income']]\n",
    "employment_07"
   ]
  },
  {
   "cell_type": "code",
   "execution_count": 108,
   "metadata": {},
   "outputs": [
    {
     "data": {
      "text/html": [
       "<div>\n",
       "<style scoped>\n",
       "    .dataframe tbody tr th:only-of-type {\n",
       "        vertical-align: middle;\n",
       "    }\n",
       "\n",
       "    .dataframe tbody tr th {\n",
       "        vertical-align: top;\n",
       "    }\n",
       "\n",
       "    .dataframe thead th {\n",
       "        text-align: right;\n",
       "    }\n",
       "</style>\n",
       "<table border=\"1\" class=\"dataframe\">\n",
       "  <thead>\n",
       "    <tr style=\"text-align: right;\">\n",
       "      <th></th>\n",
       "      <th>Personal Pre-Tax Income</th>\n",
       "    </tr>\n",
       "    <tr>\n",
       "      <th>Employment Status</th>\n",
       "      <th></th>\n",
       "    </tr>\n",
       "  </thead>\n",
       "  <tbody>\n",
       "    <tr>\n",
       "      <th>Employed</th>\n",
       "      <td>65696.244687</td>\n",
       "    </tr>\n",
       "    <tr>\n",
       "      <th>Not in labor force</th>\n",
       "      <td>32112.935507</td>\n",
       "    </tr>\n",
       "    <tr>\n",
       "      <th>Unemployed</th>\n",
       "      <td>27047.457650</td>\n",
       "    </tr>\n",
       "  </tbody>\n",
       "</table>\n",
       "</div>"
      ],
      "text/plain": [
       "                    Personal Pre-Tax Income\n",
       "Employment Status                          \n",
       "Employed                       65696.244687\n",
       "Not in labor force             32112.935507\n",
       "Unemployed                     27047.457650"
      ]
     },
     "execution_count": 108,
     "metadata": {},
     "output_type": "execute_result"
    }
   ],
   "source": [
    "employment_17 = emp_sector_2017.groupby('Employment Status').mean()[['Personal Pre-Tax Income']]\n",
    "employment_17"
   ]
  },
  {
   "cell_type": "code",
   "execution_count": 109,
   "metadata": {},
   "outputs": [
    {
     "data": {
      "text/plain": [
       "10508.938642390356"
      ]
     },
     "execution_count": 109,
     "metadata": {},
     "output_type": "execute_result"
    }
   ],
   "source": [
    "change_in_wages_employed = employment_17['Personal Pre-Tax Income'][0] - employment_07['Personal Pre-Tax Income'][0]\n",
    "change_in_wages_employed"
   ]
  },
  {
   "cell_type": "markdown",
   "metadata": {},
   "source": [
    "### 2. Work Status and Foodstamp Recipient"
   ]
  },
  {
   "cell_type": "code",
   "execution_count": 110,
   "metadata": {},
   "outputs": [
    {
     "data": {
      "text/html": [
       "<div>\n",
       "<style scoped>\n",
       "    .dataframe tbody tr th:only-of-type {\n",
       "        vertical-align: middle;\n",
       "    }\n",
       "\n",
       "    .dataframe tbody tr th {\n",
       "        vertical-align: top;\n",
       "    }\n",
       "\n",
       "    .dataframe thead th {\n",
       "        text-align: right;\n",
       "    }\n",
       "</style>\n",
       "<table border=\"1\" class=\"dataframe\">\n",
       "  <thead>\n",
       "    <tr style=\"text-align: right;\">\n",
       "      <th></th>\n",
       "      <th></th>\n",
       "      <th>Count</th>\n",
       "    </tr>\n",
       "    <tr>\n",
       "      <th>Employment Status</th>\n",
       "      <th>Foodstamp Recipient</th>\n",
       "      <th></th>\n",
       "    </tr>\n",
       "  </thead>\n",
       "  <tbody>\n",
       "    <tr>\n",
       "      <th rowspan=\"2\" valign=\"top\">Employed</th>\n",
       "      <th>No</th>\n",
       "      <td>137054</td>\n",
       "    </tr>\n",
       "    <tr>\n",
       "      <th>Yes</th>\n",
       "      <td>3994</td>\n",
       "    </tr>\n",
       "    <tr>\n",
       "      <th rowspan=\"2\" valign=\"top\">Not in labor force</th>\n",
       "      <th>No</th>\n",
       "      <td>11901</td>\n",
       "    </tr>\n",
       "    <tr>\n",
       "      <th>Yes</th>\n",
       "      <td>652</td>\n",
       "    </tr>\n",
       "    <tr>\n",
       "      <th rowspan=\"2\" valign=\"top\">Unemployed</th>\n",
       "      <th>No</th>\n",
       "      <td>5747</td>\n",
       "    </tr>\n",
       "    <tr>\n",
       "      <th>Yes</th>\n",
       "      <td>647</td>\n",
       "    </tr>\n",
       "  </tbody>\n",
       "</table>\n",
       "</div>"
      ],
      "text/plain": [
       "                                         Count\n",
       "Employment Status  Foodstamp Recipient        \n",
       "Employed           No                   137054\n",
       "                   Yes                    3994\n",
       "Not in labor force No                    11901\n",
       "                   Yes                     652\n",
       "Unemployed         No                     5747\n",
       "                   Yes                     647"
      ]
     },
     "metadata": {},
     "output_type": "display_data"
    },
    {
     "data": {
      "text/html": [
       "<div>\n",
       "<style scoped>\n",
       "    .dataframe tbody tr th:only-of-type {\n",
       "        vertical-align: middle;\n",
       "    }\n",
       "\n",
       "    .dataframe tbody tr th {\n",
       "        vertical-align: top;\n",
       "    }\n",
       "\n",
       "    .dataframe thead th {\n",
       "        text-align: right;\n",
       "    }\n",
       "</style>\n",
       "<table border=\"1\" class=\"dataframe\">\n",
       "  <thead>\n",
       "    <tr style=\"text-align: right;\">\n",
       "      <th></th>\n",
       "      <th></th>\n",
       "      <th>Count</th>\n",
       "    </tr>\n",
       "    <tr>\n",
       "      <th>Employment Status</th>\n",
       "      <th>Foodstamp Recipient</th>\n",
       "      <th></th>\n",
       "    </tr>\n",
       "  </thead>\n",
       "  <tbody>\n",
       "    <tr>\n",
       "      <th rowspan=\"2\" valign=\"top\">Employed</th>\n",
       "      <th>No</th>\n",
       "      <td>136006</td>\n",
       "    </tr>\n",
       "    <tr>\n",
       "      <th>Yes</th>\n",
       "      <td>11137</td>\n",
       "    </tr>\n",
       "    <tr>\n",
       "      <th rowspan=\"2\" valign=\"top\">Not in labor force</th>\n",
       "      <th>No</th>\n",
       "      <td>7431</td>\n",
       "    </tr>\n",
       "    <tr>\n",
       "      <th>Yes</th>\n",
       "      <td>911</td>\n",
       "    </tr>\n",
       "    <tr>\n",
       "      <th rowspan=\"2\" valign=\"top\">Unemployed</th>\n",
       "      <th>No</th>\n",
       "      <td>3665</td>\n",
       "    </tr>\n",
       "    <tr>\n",
       "      <th>Yes</th>\n",
       "      <td>845</td>\n",
       "    </tr>\n",
       "  </tbody>\n",
       "</table>\n",
       "</div>"
      ],
      "text/plain": [
       "                                         Count\n",
       "Employment Status  Foodstamp Recipient        \n",
       "Employed           No                   136006\n",
       "                   Yes                   11137\n",
       "Not in labor force No                     7431\n",
       "                   Yes                     911\n",
       "Unemployed         No                     3665\n",
       "                   Yes                     845"
      ]
     },
     "metadata": {},
     "output_type": "display_data"
    }
   ],
   "source": [
    "employment_07 =emp_sector_2007.groupby(['Employment Status', 'Foodstamp Recipient']).count()[['Personal Pre-Tax Income']].rename(columns = {'Personal Pre-Tax Income':'Count'})\n",
    "employment_17 = emp_sector_2017.groupby(['Employment Status', 'Foodstamp Recipient']).count()[['Personal Pre-Tax Income']].rename(columns = {'Personal Pre-Tax Income':'Count'})\n",
    "display(employment_07, employment_17)"
   ]
  },
  {
   "cell_type": "markdown",
   "metadata": {},
   "source": [
    "### 3. Employment Sector vs. Personal Income"
   ]
  },
  {
   "cell_type": "code",
   "execution_count": 111,
   "metadata": {},
   "outputs": [
    {
     "data": {
      "text/html": [
       "<div>\n",
       "<style scoped>\n",
       "    .dataframe tbody tr th:only-of-type {\n",
       "        vertical-align: middle;\n",
       "    }\n",
       "\n",
       "    .dataframe tbody tr th {\n",
       "        vertical-align: top;\n",
       "    }\n",
       "\n",
       "    .dataframe thead th {\n",
       "        text-align: right;\n",
       "    }\n",
       "</style>\n",
       "<table border=\"1\" class=\"dataframe\">\n",
       "  <thead>\n",
       "    <tr style=\"text-align: right;\">\n",
       "      <th></th>\n",
       "      <th>Personal Pre-Tax Income</th>\n",
       "    </tr>\n",
       "    <tr>\n",
       "      <th>Employment Status</th>\n",
       "      <th></th>\n",
       "    </tr>\n",
       "  </thead>\n",
       "  <tbody>\n",
       "    <tr>\n",
       "      <th>Employed</th>\n",
       "      <td>55187.306045</td>\n",
       "    </tr>\n",
       "    <tr>\n",
       "      <th>Not in labor force</th>\n",
       "      <td>27299.733291</td>\n",
       "    </tr>\n",
       "    <tr>\n",
       "      <th>Unemployed</th>\n",
       "      <td>22349.844229</td>\n",
       "    </tr>\n",
       "  </tbody>\n",
       "</table>\n",
       "</div>"
      ],
      "text/plain": [
       "                    Personal Pre-Tax Income\n",
       "Employment Status                          \n",
       "Employed                       55187.306045\n",
       "Not in labor force             27299.733291\n",
       "Unemployed                     22349.844229"
      ]
     },
     "metadata": {},
     "output_type": "display_data"
    },
    {
     "data": {
      "text/html": [
       "<div>\n",
       "<style scoped>\n",
       "    .dataframe tbody tr th:only-of-type {\n",
       "        vertical-align: middle;\n",
       "    }\n",
       "\n",
       "    .dataframe tbody tr th {\n",
       "        vertical-align: top;\n",
       "    }\n",
       "\n",
       "    .dataframe thead th {\n",
       "        text-align: right;\n",
       "    }\n",
       "</style>\n",
       "<table border=\"1\" class=\"dataframe\">\n",
       "  <thead>\n",
       "    <tr style=\"text-align: right;\">\n",
       "      <th></th>\n",
       "      <th>Personal Pre-Tax Income</th>\n",
       "    </tr>\n",
       "    <tr>\n",
       "      <th>Employment Status</th>\n",
       "      <th></th>\n",
       "    </tr>\n",
       "  </thead>\n",
       "  <tbody>\n",
       "    <tr>\n",
       "      <th>Employed</th>\n",
       "      <td>65696.244687</td>\n",
       "    </tr>\n",
       "    <tr>\n",
       "      <th>Not in labor force</th>\n",
       "      <td>32112.935507</td>\n",
       "    </tr>\n",
       "    <tr>\n",
       "      <th>Unemployed</th>\n",
       "      <td>27047.457650</td>\n",
       "    </tr>\n",
       "  </tbody>\n",
       "</table>\n",
       "</div>"
      ],
      "text/plain": [
       "                    Personal Pre-Tax Income\n",
       "Employment Status                          \n",
       "Employed                       65696.244687\n",
       "Not in labor force             32112.935507\n",
       "Unemployed                     27047.457650"
      ]
     },
     "metadata": {},
     "output_type": "display_data"
    }
   ],
   "source": [
    "employment_income07 =emp_sector_2007.groupby('Employment Status').mean()[['Personal Pre-Tax Income']]\n",
    "employment_income17 = emp_sector_2017.groupby('Employment Status').mean()[['Personal Pre-Tax Income']]\n",
    "display(employment_income07, employment_income17)"
   ]
  },
  {
   "cell_type": "markdown",
   "metadata": {},
   "source": [
    "## Bibliography <a id = 'section7'></a>\n",
    "\n",
    "• https://www.census.gov/programs-surveys/saipe/guidance/model-input-data/cpsasec.html\n",
    "\n",
    "• https://en.wikipedia.org/wiki/Stratified_sampling\n",
    "\n",
    "• (TBD)\n",
    "\n",
    "• (TBD)"
   ]
  },
  {
   "cell_type": "markdown",
   "metadata": {},
   "source": [
    "___\n",
    "### Sidenotes:\n",
    "[1]: Since the size of the original dataset was too large, we are using Stratified Random Samples instead. Refer to the link in the bibliography for more information on our sampling approach. "
   ]
  },
  {
   "cell_type": "markdown",
   "metadata": {},
   "source": [
    "___\n",
    "### Getting extra help\n",
    "\n",
    "Interested in getting help with learning Python or applying computational analysis? Check out  [Data Peer Consulting](https://data.berkeley.edu/education/data-peer-consulting) in Moffitt library for drop-in, one-on-one questions. For additional workshops designed for people new to computational analysis, take a look at the workshops at [The Dlab](https://dlab.berkeley.edu) (free for Berkeley students!). \n",
    "\n",
    "Best  luck!"
   ]
  },
  {
   "cell_type": "markdown",
   "metadata": {},
   "source": [
    "------------------------------------------------------------------------------------------------------------------------\n",
    "\n",
    "### Feedback:\n",
    "Please let us know your thoughts on this notebook!\n",
    "\n",
    "Fill out the survey at this link: https://docs.google.com/forms/d/e/1FAIpQLSfahkYSKqlEEfC6WMKlaqeIxRVj0r7T4N5lgBf9bRVwRG58wQ/viewform"
   ]
  },
  {
   "cell_type": "markdown",
   "metadata": {},
   "source": [
    "------------------------------------------------------------------------------------------------------------------------\n",
    "Notebook developed by: Ritvik Iyer, Carlos Calderon\n",
    "\n",
    "Data Science Modules: http://data.berkeley.edu/education/modules"
   ]
  }
 ],
 "metadata": {
  "kernelspec": {
   "display_name": "Python 3",
   "language": "python",
   "name": "python3"
  },
  "language_info": {
   "codemirror_mode": {
    "name": "ipython",
    "version": 3
   },
   "file_extension": ".py",
   "mimetype": "text/x-python",
   "name": "python",
   "nbconvert_exporter": "python",
   "pygments_lexer": "ipython3",
   "version": "3.6.5"
  }
 },
 "nbformat": 4,
 "nbformat_minor": 2
}
