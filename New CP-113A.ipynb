{
 "cells": [
  {
   "cell_type": "code",
   "execution_count": 4,
   "metadata": {},
   "outputs": [],
   "source": [
    "from datascience import *\n",
    "import pandas as pd\n",
    "import numpy as np\n",
    "import seaborn as sns \n",
    "import matplotlib as plt\n",
    "%matplotlib inline\n",
    "\n",
    "import seaborn as sns\n",
    "import csv\n",
    "import numpy as np\n",
    "import pandas as pd\n",
    "import matplotlib.pyplot as plt\n",
    "import zipfile\n",
    "from pathlib import Path"
   ]
  },
  {
   "cell_type": "code",
   "execution_count": 5,
   "metadata": {},
   "outputs": [],
   "source": [
    "data = Table.read_table('113Adata.csv')"
   ]
  },
  {
   "cell_type": "code",
   "execution_count": 6,
   "metadata": {},
   "outputs": [
    {
     "data": {
      "text/html": [
       "<table border=\"1\" class=\"dataframe\">\n",
       "    <thead>\n",
       "        <tr>\n",
       "            <th>year</th> <th>hhwt</th> <th>statefip</th> <th>countyfip</th> <th>ownershp</th> <th>hhincome</th> <th>foodstmp</th> <th>perwt</th> <th>age</th> <th>educ</th> <th>empstat</th> <th>labforce</th> <th>occ</th> <th>ind</th> <th>wkswork1</th> <th>uhrswork</th> <th>wrklstwk</th> <th>looking</th> <th>inctot</th> <th>incwage</th> <th>poverty</th> <th>pwcounty</th> <th>racecat</th> <th>hisp</th>\n",
       "        </tr>\n",
       "    </thead>\n",
       "    <tbody>\n",
       "        <tr>\n",
       "            <td>2007</td> <td>332 </td> <td>California</td> <td>37       </td> <td>Rented                      </td> <td>110519  </td> <td>No      </td> <td>333  </td> <td>38  </td> <td>Grade 12           </td> <td>Employed          </td> <td>Yes, in the labor force   </td> <td>410 </td> <td>7070</td> <td>52      </td> <td>56      </td> <td>Worked      </td> <td>Not reported             </td> <td>77501  </td> <td>77501  </td> <td>501    </td> <td>37      </td> <td>API     </td> <td>No  </td>\n",
       "        </tr>\n",
       "        <tr>\n",
       "            <td>2007</td> <td>332 </td> <td>California</td> <td>37       </td> <td>Rented                      </td> <td>110519  </td> <td>No      </td> <td>299  </td> <td>34  </td> <td>Grade 12           </td> <td>Employed          </td> <td>Yes, in the labor force   </td> <td>2540</td> <td>7860</td> <td>52      </td> <td>25      </td> <td>Worked      </td> <td>Not reported             </td> <td>33018  </td> <td>33018  </td> <td>315    </td> <td>37      </td> <td>White   </td> <td>Yes </td>\n",
       "        </tr>\n",
       "        <tr>\n",
       "            <td>2007</td> <td>66  </td> <td>California</td> <td>67       </td> <td>Owned or being bought (loan)</td> <td>78563   </td> <td>No      </td> <td>65   </td> <td>65  </td> <td>Grade 12           </td> <td>Not in labor force</td> <td>No, not in the labor force</td> <td>0   </td> <td>0   </td> <td>0       </td> <td>nan     </td> <td>Did not work</td> <td>No, did not look for work</td> <td>0      </td> <td>0      </td> <td>481    </td> <td>0       </td> <td>Multiple</td> <td>No  </td>\n",
       "        </tr>\n",
       "        <tr>\n",
       "            <td>2007</td> <td>66  </td> <td>California</td> <td>67       </td> <td>Owned or being bought (loan)</td> <td>78563   </td> <td>No      </td> <td>45   </td> <td>59  </td> <td>2 years of college </td> <td>Employed          </td> <td>Yes, in the labor force   </td> <td>4760</td> <td>4670</td> <td>52      </td> <td>40      </td> <td>Worked      </td> <td>Not reported             </td> <td>78563  </td> <td>16987  </td> <td>481    </td> <td>67      </td> <td>Multiple</td> <td>No  </td>\n",
       "        </tr>\n",
       "        <tr>\n",
       "            <td>2007</td> <td>66  </td> <td>California</td> <td>67       </td> <td>Owned or being bought (loan)</td> <td>78563   </td> <td>No      </td> <td>42   </td> <td>4   </td> <td>N/A or no schooling</td> <td>nan               </td> <td>nan                       </td> <td>0   </td> <td>0   </td> <td>0       </td> <td>nan     </td> <td>nan         </td> <td>nan                      </td> <td>9999999</td> <td>999999 </td> <td>481    </td> <td>0       </td> <td>Multiple</td> <td>No  </td>\n",
       "        </tr>\n",
       "        <tr>\n",
       "            <td>2007</td> <td>25  </td> <td>California</td> <td>73       </td> <td>Owned or being bought (loan)</td> <td>159249  </td> <td>No      </td> <td>25   </td> <td>61  </td> <td>4 years of college </td> <td>Not in labor force</td> <td>No, not in the labor force</td> <td>430 </td> <td>9370</td> <td>0       </td> <td>nan     </td> <td>Did not work</td> <td>No, did not look for work</td> <td>63700  </td> <td>0      </td> <td>501    </td> <td>0       </td> <td>White   </td> <td>No  </td>\n",
       "        </tr>\n",
       "        <tr>\n",
       "            <td>2007</td> <td>25  </td> <td>California</td> <td>73       </td> <td>Owned or being bought (loan)</td> <td>159249  </td> <td>No      </td> <td>25   </td> <td>35  </td> <td>4 years of college </td> <td>Employed          </td> <td>Yes, in the labor force   </td> <td>4960</td> <td>9480</td> <td>52      </td> <td>40      </td> <td>Worked      </td> <td>No, did not look for work</td> <td>95549  </td> <td>95549  </td> <td>501    </td> <td>73      </td> <td>White   </td> <td>No  </td>\n",
       "        </tr>\n",
       "        <tr>\n",
       "            <td>2007</td> <td>28  </td> <td>California</td> <td>65       </td> <td>Rented                      </td> <td>49686   </td> <td>No      </td> <td>28   </td> <td>53  </td> <td>Grade 12           </td> <td>Employed          </td> <td>Yes, in the labor force   </td> <td>5550</td> <td>6370</td> <td>52      </td> <td>40      </td> <td>Worked      </td> <td>Not reported             </td> <td>42466  </td> <td>42466  </td> <td>300    </td> <td>65      </td> <td>Other   </td> <td>Yes </td>\n",
       "        </tr>\n",
       "        <tr>\n",
       "            <td>2007</td> <td>28  </td> <td>California</td> <td>65       </td> <td>Rented                      </td> <td>49686   </td> <td>No      </td> <td>28   </td> <td>51  </td> <td>Grade 12           </td> <td>Employed          </td> <td>Yes, in the labor force   </td> <td>4130</td> <td>7860</td> <td>40      </td> <td>30      </td> <td>Worked      </td> <td>Not reported             </td> <td>5308   </td> <td>5308   </td> <td>300    </td> <td>65      </td> <td>Other   </td> <td>Yes </td>\n",
       "        </tr>\n",
       "        <tr>\n",
       "            <td>2007</td> <td>28  </td> <td>California</td> <td>65       </td> <td>Rented                      </td> <td>49686   </td> <td>No      </td> <td>25   </td> <td>17  </td> <td>Grade 12           </td> <td>Employed          </td> <td>Yes, in the labor force   </td> <td>4720</td> <td>4980</td> <td>50      </td> <td>17      </td> <td>Worked      </td> <td>Not reported             </td> <td>1911   </td> <td>1911   </td> <td>300    </td> <td>65      </td> <td>Other   </td> <td>Yes </td>\n",
       "        </tr>\n",
       "    </tbody>\n",
       "</table>\n",
       "<p>... (2901065 rows omitted)</p>"
      ],
      "text/plain": [
       "year | hhwt | statefip   | countyfip | ownershp                     | hhincome | foodstmp | perwt | age  | educ                | empstat            | labforce                   | occ  | ind  | wkswork1 | uhrswork | wrklstwk     | looking                   | inctot  | incwage | poverty | pwcounty | racecat  | hisp\n",
       "2007 | 332  | California | 37        | Rented                       | 110519   | No       | 333   | 38   | Grade 12            | Employed           | Yes, in the labor force    | 410  | 7070 | 52       | 56       | Worked       | Not reported              | 77501   | 77501   | 501     | 37       | API      | No\n",
       "2007 | 332  | California | 37        | Rented                       | 110519   | No       | 299   | 34   | Grade 12            | Employed           | Yes, in the labor force    | 2540 | 7860 | 52       | 25       | Worked       | Not reported              | 33018   | 33018   | 315     | 37       | White    | Yes\n",
       "2007 | 66   | California | 67        | Owned or being bought (loan) | 78563    | No       | 65    | 65   | Grade 12            | Not in labor force | No, not in the labor force | 0    | 0    | 0        | nan      | Did not work | No, did not look for work | 0       | 0       | 481     | 0        | Multiple | No\n",
       "2007 | 66   | California | 67        | Owned or being bought (loan) | 78563    | No       | 45    | 59   | 2 years of college  | Employed           | Yes, in the labor force    | 4760 | 4670 | 52       | 40       | Worked       | Not reported              | 78563   | 16987   | 481     | 67       | Multiple | No\n",
       "2007 | 66   | California | 67        | Owned or being bought (loan) | 78563    | No       | 42    | 4    | N/A or no schooling | nan                | nan                        | 0    | 0    | 0        | nan      | nan          | nan                       | 9999999 | 999999  | 481     | 0        | Multiple | No\n",
       "2007 | 25   | California | 73        | Owned or being bought (loan) | 159249   | No       | 25    | 61   | 4 years of college  | Not in labor force | No, not in the labor force | 430  | 9370 | 0        | nan      | Did not work | No, did not look for work | 63700   | 0       | 501     | 0        | White    | No\n",
       "2007 | 25   | California | 73        | Owned or being bought (loan) | 159249   | No       | 25    | 35   | 4 years of college  | Employed           | Yes, in the labor force    | 4960 | 9480 | 52       | 40       | Worked       | No, did not look for work | 95549   | 95549   | 501     | 73       | White    | No\n",
       "2007 | 28   | California | 65        | Rented                       | 49686    | No       | 28    | 53   | Grade 12            | Employed           | Yes, in the labor force    | 5550 | 6370 | 52       | 40       | Worked       | Not reported              | 42466   | 42466   | 300     | 65       | Other    | Yes\n",
       "2007 | 28   | California | 65        | Rented                       | 49686    | No       | 28    | 51   | Grade 12            | Employed           | Yes, in the labor force    | 4130 | 7860 | 40       | 30       | Worked       | Not reported              | 5308    | 5308    | 300     | 65       | Other    | Yes\n",
       "2007 | 28   | California | 65        | Rented                       | 49686    | No       | 25    | 17   | Grade 12            | Employed           | Yes, in the labor force    | 4720 | 4980 | 50       | 17       | Worked       | Not reported              | 1911    | 1911    | 300     | 65       | Other    | Yes\n",
       "... (2901065 rows omitted)"
      ]
     },
     "execution_count": 6,
     "metadata": {},
     "output_type": "execute_result"
    }
   ],
   "source": [
    "data"
   ]
  },
  {
   "cell_type": "markdown",
   "metadata": {},
   "source": [
    "#### Lets divide our data by year"
   ]
  },
  {
   "cell_type": "code",
   "execution_count": 39,
   "metadata": {},
   "outputs": [],
   "source": [
    "#Assigning DATA_SEVEN to the table for our 2007 data. \n",
    "data_seven = data.where(data['year'] == 2007)\n",
    "\n",
    "#Assigning DATA_SEVENTEEN to the table for our 2017 data.\n",
    "data_seventeen = data.where(data['year'] == 2017)"
   ]
  },
  {
   "cell_type": "markdown",
   "metadata": {},
   "source": [
    "Now, let's visualize the difference in levels of education between both years."
   ]
  },
  {
   "cell_type": "code",
   "execution_count": 48,
   "metadata": {},
   "outputs": [
    {
     "data": {
      "image/png": "[encoded data removed]",
      "text/plain": [
       "<Figure size 1080x720 with 1 Axes>"
      ]
     },
     "metadata": {
      "needs_background": "light"
     },
     "output_type": "display_data"
    }
   ],
   "source": [
    "plt.figure(figsize=(15,10));\n",
    "ax = sns.countplot(data_seven['educ'])\n",
    "ax.set_xticklabels(ax.get_xticklabels(), rotation=90);\n",
    "ax.set_title('Levels in Education in 2007');"
   ]
  },
  {
   "cell_type": "code",
   "execution_count": 46,
   "metadata": {},
   "outputs": [
    {
     "data": {
      "image/png": "[encoded data removed]",
      "text/plain": [
       "<Figure size 1080x720 with 1 Axes>"
      ]
     },
     "metadata": {
      "needs_background": "light"
     },
     "output_type": "display_data"
    }
   ],
   "source": [
    "plt.figure(figsize=(15,10));\n",
    "ax = sns.countplot(data_seventeen['educ'])\n",
    "ax.set_xticklabels(ax.get_xticklabels(), rotation=90);\n",
    "ax.set_title('Levels of Education in 2017');"
   ]
  },
  {
   "cell_type": "markdown",
   "metadata": {},
   "source": [
    "Do you see any changes in level of education between 2007 and 2017? If so, what are they?"
   ]
  },
  {
   "cell_type": "code",
   "execution_count": 9,
   "metadata": {},
   "outputs": [
    {
     "data": {
      "text/html": [
       "<div>\n",
       "<style scoped>\n",
       "    .dataframe tbody tr th:only-of-type {\n",
       "        vertical-align: middle;\n",
       "    }\n",
       "\n",
       "    .dataframe tbody tr th {\n",
       "        vertical-align: top;\n",
       "    }\n",
       "\n",
       "    .dataframe thead th {\n",
       "        text-align: right;\n",
       "    }\n",
       "</style>\n",
       "<table border=\"1\" class=\"dataframe\">\n",
       "  <thead>\n",
       "    <tr style=\"text-align: right;\">\n",
       "      <th></th>\n",
       "      <th>year</th>\n",
       "      <th>hhwt</th>\n",
       "      <th>statefip</th>\n",
       "      <th>countyfip</th>\n",
       "      <th>ownershp</th>\n",
       "      <th>hhincome</th>\n",
       "      <th>foodstmp</th>\n",
       "      <th>perwt</th>\n",
       "      <th>age</th>\n",
       "      <th>educ</th>\n",
       "      <th>...</th>\n",
       "      <th>wkswork1</th>\n",
       "      <th>uhrswork</th>\n",
       "      <th>wrklstwk</th>\n",
       "      <th>looking</th>\n",
       "      <th>inctot</th>\n",
       "      <th>incwage</th>\n",
       "      <th>poverty</th>\n",
       "      <th>pwcounty</th>\n",
       "      <th>racecat</th>\n",
       "      <th>hisp</th>\n",
       "    </tr>\n",
       "  </thead>\n",
       "  <tbody>\n",
       "    <tr>\n",
       "      <th>0</th>\n",
       "      <td>2007</td>\n",
       "      <td>332</td>\n",
       "      <td>California</td>\n",
       "      <td>37</td>\n",
       "      <td>Rented</td>\n",
       "      <td>110519</td>\n",
       "      <td>No</td>\n",
       "      <td>333</td>\n",
       "      <td>38</td>\n",
       "      <td>Grade 12</td>\n",
       "      <td>...</td>\n",
       "      <td>52.0</td>\n",
       "      <td>56</td>\n",
       "      <td>Worked</td>\n",
       "      <td>Not reported</td>\n",
       "      <td>77501</td>\n",
       "      <td>77501</td>\n",
       "      <td>501</td>\n",
       "      <td>37</td>\n",
       "      <td>API</td>\n",
       "      <td>No</td>\n",
       "    </tr>\n",
       "    <tr>\n",
       "      <th>1</th>\n",
       "      <td>2007</td>\n",
       "      <td>332</td>\n",
       "      <td>California</td>\n",
       "      <td>37</td>\n",
       "      <td>Rented</td>\n",
       "      <td>110519</td>\n",
       "      <td>No</td>\n",
       "      <td>299</td>\n",
       "      <td>34</td>\n",
       "      <td>Grade 12</td>\n",
       "      <td>...</td>\n",
       "      <td>52.0</td>\n",
       "      <td>25</td>\n",
       "      <td>Worked</td>\n",
       "      <td>Not reported</td>\n",
       "      <td>33018</td>\n",
       "      <td>33018</td>\n",
       "      <td>315</td>\n",
       "      <td>37</td>\n",
       "      <td>White</td>\n",
       "      <td>Yes</td>\n",
       "    </tr>\n",
       "  </tbody>\n",
       "</table>\n",
       "<p>2 rows × 24 columns</p>\n",
       "</div>"
      ],
      "text/plain": [
       "   year  hhwt    statefip  countyfip ownershp  hhincome foodstmp  perwt age  \\\n",
       "0  2007   332  California         37   Rented    110519       No    333  38   \n",
       "1  2007   332  California         37   Rented    110519       No    299  34   \n",
       "\n",
       "       educ  ... wkswork1 uhrswork  wrklstwk       looking  inctot incwage  \\\n",
       "0  Grade 12  ...     52.0       56    Worked  Not reported   77501   77501   \n",
       "1  Grade 12  ...     52.0       25    Worked  Not reported   33018   33018   \n",
       "\n",
       "  poverty pwcounty  racecat  hisp  \n",
       "0     501       37      API    No  \n",
       "1     315       37    White   Yes  \n",
       "\n",
       "[2 rows x 24 columns]"
      ]
     },
     "execution_count": 9,
     "metadata": {},
     "output_type": "execute_result"
    }
   ],
   "source": [
    "data_one = pd.read_csv('113Adata.csv')\n",
    "data_one.head(2)"
   ]
  },
  {
   "cell_type": "code",
   "execution_count": 20,
   "metadata": {},
   "outputs": [],
   "source": [
    "counts = list(data_one['year'].value_counts())\n",
    "seven, seventeen = counts[0], counts[1]"
   ]
  },
  {
   "cell_type": "code",
   "execution_count": 21,
   "metadata": {},
   "outputs": [
    {
     "data": {
      "text/plain": [
       "1872509"
      ]
     },
     "execution_count": 21,
     "metadata": {},
     "output_type": "execute_result"
    }
   ],
   "source": [
    "seven"
   ]
  },
  {
   "cell_type": "code",
   "execution_count": 22,
   "metadata": {},
   "outputs": [
    {
     "data": {
      "text/plain": [
       "1028566"
      ]
     },
     "execution_count": 22,
     "metadata": {},
     "output_type": "execute_result"
    }
   ],
   "source": [
    "seventeen"
   ]
  },
  {
   "cell_type": "code",
   "execution_count": 23,
   "metadata": {},
   "outputs": [
    {
     "data": {
      "text/plain": [
       "843943"
      ]
     },
     "execution_count": 23,
     "metadata": {},
     "output_type": "execute_result"
    }
   ],
   "source": [
    "seven - seventeen"
   ]
  },
  {
   "cell_type": "code",
   "execution_count": null,
   "metadata": {},
   "outputs": [],
   "source": []
  }
 ],
 "metadata": {
  "kernelspec": {
   "display_name": "Python 3",
   "language": "python",
   "name": "python3"
  },
  "language_info": {
   "codemirror_mode": {
    "name": "ipython",
    "version": 3
   },
   "file_extension": ".py",
   "mimetype": "text/x-python",
   "name": "python",
   "nbconvert_exporter": "python",
   "pygments_lexer": "ipython3",
   "version": "3.7.3"
  }
 },
 "nbformat": 4,
 "nbformat_minor": 2
}
