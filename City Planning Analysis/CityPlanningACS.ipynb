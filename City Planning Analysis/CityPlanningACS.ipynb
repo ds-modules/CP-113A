{
 "cells": [
  {
   "cell_type": "markdown",
   "metadata": {
    "#student": false
   },
   "source": [
    "# CP-113A: Analyzing the American Community Survey (ACS)\n",
    "\n",
    "\n",
    "---\n",
    "\n",
    "**Estimated Time:** 60 Minutes\n",
    "\n",
    "**Professor:** Sara Hinkley\n",
    "\n",
    "**Developers:** Carlos Calderon and Ritvik Iyer\n",
    "\n",
    "Welcome to Analyzing the ACS! In this lab, we will introduce you to Jupyter Notebooks and the tools that you are going to use to conduct your data analysis of the American Community Survey (ACS). In the main part of this notebook, you will learn how to read tabular datasets, interpret data visualizations, and compare various economic indicators. By the end of this notebook, you will also apply your knowledge to answer a set of short answer questions.\n",
    "\n",
    "---\n",
    "\n",
    "\n",
    "## Table of Contents\n",
    "\n",
    "1. [Introduction to the Jupyter Notebook](#introduction)<a name=\"introduction\"></a><br>\n",
    "2. [Understanding the Dataset](#pt2) <a name='pt2'></a><br>\n",
    "3. [Analysis on Wages](#wages) <a name='wages'></a><br>\n",
    "4. [Top Industries and Occupations in California](#industries) <a name='industries'></a><br>\n",
    "5. [Income Analysis](#income) <a name='income'></a><br>\n",
    "6. [Educational Level Analysis](#education) <a name='education'></a><br>\n",
    "7. [Indicators of Poverty](#poverty) <a name='poverty'></a><br>\n",
    "8. [Bibliography](#bibliography) <a name='bibliography'></a><br>\n",
    "9. [Data Science Opportunities at UC Berkeley](#6) <a name='6'></a><br>\n",
    "---"
   ]
  },
  {
   "cell_type": "markdown",
   "metadata": {
    "#student": false
   },
   "source": [
    "## Assistance\n",
    "\n",
    "If you need assistance with this notebook, our peer advisors are happy to help. You can find their drop-in hours [here](https://data.berkeley.edu/academics/resources/peer-consulting). \n",
    "\n",
    "You can also email ds-peer-consulting@berkeley.edu to book an appointment if the times conflict with your schedule."
   ]
  },
  {
   "cell_type": "markdown",
   "metadata": {
    "#student": false
   },
   "source": [
    "<br><br>\n",
    "# Part 1: The Jupyter Notebook <a id='intrduction'></a>\n",
    "\n",
    "Before we start our lab, we want to give a brief introduction to Jupyter Notebooks (like this one) where you will work on conducting your survey analysis. \n",
    "\n",
    "**Jupyter notebooks** are documents that can contain a seamless compilation of text, code, visualizations, and more. A notebook is composed of two types of rectangular **cells**:  markdown and code. A **markdown cell**, such as this one, contains text. A **code cell** contains code. All of the code in this notebook is written in a programming language called **Python**. You can select any cell by clicking it once. After a cell is selected, you can navigate the notebook using the up and down arrow keys or by simply scrolling.\n",
    "\n",
    "<br><br>\n",
    "### 1.1 Run a cell <a id='subsection 0a'></a>\n",
    "To run a code cell once it's been selected, \n",
    "- press `Shift` + `Enter`, or\n",
    "- click the Run button in the toolbar at the top of the screen. \n",
    "\n",
    "If a **code cell** is running, you will see an asterisk (\\*) appear in the square brackets to the left of the cell. Once the cell has finished running, a number corresponding to the order in which the cell was run will replace the asterisk and any output from the code will appear under the cell."
   ]
  },
  {
   "cell_type": "markdown",
   "metadata": {
    "#student": false
   },
   "source": [
    "<br><br>\n",
    "### 1.2 Editing a cell <a id='subsection 0c'></a>\n",
    "\n",
    "**Question 1.2.1** You can edit a Markdown cell by clicking it twice. Text in Markdown cells is written in [**Markdown**](https://daringfireball.net/projects/markdown/), a formatting syntax for plain text, so you may see some funky symbols when you edit a text cell. Once you've made your changes, you can exit text editing mode by running the cell. \n",
    "\n",
    "**Task: Edit the next cell to fix the misspelling of the word, \"survey.\"**"
   ]
  },
  {
   "cell_type": "markdown",
   "metadata": {
    "#student": false
   },
   "source": [
    "This is an analysis of economic survy data."
   ]
  },
  {
   "cell_type": "markdown",
   "metadata": {
    "#student": false
   },
   "source": [
    "<br><br>\n",
    "### 1.3 Saving and loading <a id='subsection 0d'></a>\n",
    "\n",
    "#### Saving and Loading\n",
    "\n",
    "Your notebook can record all of your text and code edits, as well as any graphs you generate or calculations you make. You can save the notebook in its current state by clicking `Control-S`/`Command-S`, clicking the **floppy disc icon** in the toolbar at the top of the page, or by navigating to **File > Save and Checkpoint** in the menu bar.\n",
    "\n",
    "The next time you open the notebook, it will look the same as when you last saved it.\n",
    "\n",
    "**Note:** After loading a notebook you will see all the outputs (graphs, computations, etc) from your last session, but you won't be able to use any variables you assigned or functions you defined. You can get the functions and variables back by re-running the cells where they were defined – the easiest way is to **highlight the cell where you left off work, then go to Cell > Run all above** in the menu bar. You can also use this menu to run all cells in the notebook by clicking **Run all**."
   ]
  },
  {
   "cell_type": "markdown",
   "metadata": {
    "#student": false
   },
   "source": [
    "<br><br><br>\n",
    "**Please run the cell below to load the modules we will be using throughout this notebook.**"
   ]
  },
  {
   "cell_type": "code",
   "execution_count": 1,
   "metadata": {
    "#student": false
   },
   "outputs": [],
   "source": [
    "from datascience import *\n",
    "import pandas as pd\n",
    "import numpy as np\n",
    "import seaborn as sns \n",
    "import matplotlib.pyplot as plt\n",
    "%matplotlib inline\n",
    "import warnings\n",
    "from utils import dollar_formatter\n",
    "sns.set_palette(\"Blues_d\")\n",
    "\n",
    "from IPython.display import HTML\n",
    "\n",
    "# import the widgets module\n",
    "import ipywidgets as widgets\n",
    "from ipywidgets import interact, interactive, fixed, interact_manual\n",
    "\n",
    "warnings.filterwarnings(\"ignore\")\n",
    "sns.set(style=\"whitegrid\")"
   ]
  },
  {
   "cell_type": "markdown",
   "metadata": {
    "#student": false
   },
   "source": [
    "<br><br><br><br><br>\n",
    "# Part 2: Understanding the Dataset <a id ='pt2'></a>"
   ]
  },
  {
   "cell_type": "markdown",
   "metadata": {
    "#student": false
   },
   "source": [
    "Many times data comes in the form of a **dataset**, or table, with rows and columns that contain information about a certain topic. In this lab, we will be analyzing data from the **American Community Survey (ACS)**. This data is a sample survey of U.S. households, which asks questions about demographics, income, employment, education, and public assistance. According to the **United States Census Bureau**,\n",
    "\n",
    "> \"The American Community Survey (ACS) helps local officials, community leaders, and businesses understand the changes taking place in their communities. It is the premier source for detailed population and housing information about our nation.\"\n",
    "\n",
    "More Information on the data can be found [here](https://www.census.gov/programs-surveys/acs). "
   ]
  },
  {
   "cell_type": "markdown",
   "metadata": {
    "#student": false
   },
   "source": [
    "<br><br>\n",
    "First, run the cell below to get an idea of what our dataset looks like"
   ]
  },
  {
   "cell_type": "code",
   "execution_count": null,
   "metadata": {},
   "outputs": [],
   "source": [
    "acs_data = Table().read_table('industry_2007.csv')\n",
    "acs_data.show(2)"
   ]
  },
  {
   "cell_type": "markdown",
   "metadata": {
    "#student": false
   },
   "source": [
    "The table above displays a random sample of every survey response from the ACS survey in 2007. Here we show you the first two rows.\n",
    "\n",
    "Each **row** of the table represents *an individual, unique response*. Along the top of the table are the **columns:** these represent *the questions that the survey asks* respondents about. Our dataset consists of two surveys of Californian residents, combined for the years 2007 and 2017. Our goal is to compare trends over time. \n",
    "\n",
    "You can also scroll left and right while hovering over the table to see all the columns."
   ]
  },
  {
   "cell_type": "markdown",
   "metadata": {
    "#student": false
   },
   "source": [
    "<br><br><br>\n",
    "### 2.1 Computational Analysis <a id='pt2.1'></a>"
   ]
  },
  {
   "cell_type": "markdown",
   "metadata": {
    "#student": false
   },
   "source": [
    "At the very bottom, notice that the dataset is states `(367177 rows omitted) rows have been omitted`. This is because our dataset is really large. In fact, it's so large that it would be very difficult to visualize it in a single notebook! Therefore, we turn to **computational analysis**, a method of answering questions about data by using a computer. In this notebook, we use tools like data visualizations to answer interesting questions based on our survey data."
   ]
  },
  {
   "cell_type": "markdown",
   "metadata": {
    "#student": false
   },
   "source": [
    "<br><br>\n",
    "Suppose we want to answer the question: **What percentage of all survey respondents are Foodstamp Recipients?**\n",
    "\n",
    "Obviously, for a dataset with few entries, this would be pretty easy to answer. However, for our dataset of 360,000+ respondents, this would be very difficult to count by hand. However, with code, this is easy to answer! \n",
    "\n",
    "\n",
    "*Run the cell below to calculate the percentage of Foodstamp Recipients in our dataset.* \n",
    "<br><br>"
   ]
  },
  {
   "cell_type": "code",
   "execution_count": null,
   "metadata": {},
   "outputs": [],
   "source": [
    "print(str(np.round(acs_data.where('Foodstamp Recipient', 'Yes').num_rows/acs_data.num_rows, 5)*100) + '%')"
   ]
  },
  {
   "cell_type": "markdown",
   "metadata": {
    "#student": false
   },
   "source": [
    "In *one line of code*, we were able to get an idea of the demographics of a large population- this is the power of computational analysis!\n",
    "\n",
    "\n",
    "Now, let's delve into the data analysis."
   ]
  },
  {
   "cell_type": "markdown",
   "metadata": {
    "#student": false
   },
   "source": [
    "<br><br><br><br><br>\n",
    "# 3. Analysis on Wages <a id='wages'></a>"
   ]
  },
  {
   "cell_type": "markdown",
   "metadata": {
    "#student": false
   },
   "source": [
    "In this section, we will investigate trends in wages between various industries and occupations. First, we will examine wages, industry, and occupation separately, and then compare them against each other and other survey variables. \n",
    "\n",
    "**Run the cell below to load the relevant datasets.**"
   ]
  },
  {
   "cell_type": "code",
   "execution_count": null,
   "metadata": {},
   "outputs": [],
   "source": [
    "industry_2007 = pd.read_csv('industry_2007.csv')\n",
    "industry_2017 = pd.read_csv('industry_2017.csv')\n",
    "occupation_2007 = pd.read_csv('occupation_2007.csv')\n",
    "occupation_2017 = pd.read_csv('occupation_2017.csv')\n",
    "poverty_2007 = pd.read_csv('poverty_2007.csv')\n",
    "poverty_2017 = pd.read_csv('poverty_2017.csv')\n",
    "education_2007 = pd.read_csv('education_2007.csv')\n",
    "education_2017 = pd.read_csv('education_2017.csv')"
   ]
  },
  {
   "cell_type": "markdown",
   "metadata": {
    "#student": false
   },
   "source": [
    "<br><br><br>\n",
    "## 3.1 Consumer Price Index <a id='pt31'></a>\n",
    "\n",
    "One question we may ask is: **How did average wages of Californians change between 2007 and 2017?**\n",
    "\n",
    "To do this, we we need to account for change in dollar amounts over time by using the *inflation rate*. A common way to measure this is through the **Consumer Price Index**, commonly denoted as the **CPI**. \n",
    "\n",
    "According to the [Investopedia](https://www.investopedia.com/terms/c/consumerpriceindex.asp), \n",
    "\n",
    "> \"The CPI measures the average change in prices over time that consumers pay for a basket of goods and services, commonly known as inflation. Essentially it attempts to [...] measure the purchasing power of a country's unit of currency.\" \n",
    "\n",
    "Given that the CPI in California in 2007 was *217.424* and the CPI in California in 2017 was *262.802*, let's adjust the wages of workers in 2017 for inflation to find the *real* change in wages. "
   ]
  },
  {
   "cell_type": "markdown",
   "metadata": {
    "#student": false
   },
   "source": [
    "*Run the cells below to see the change in wages.*"
   ]
  },
  {
   "cell_type": "code",
   "execution_count": null,
   "metadata": {},
   "outputs": [],
   "source": [
    "cpi_2017, cpi_2007 = 262.802, 217.424\n",
    "inflation_rate = (cpi_2017 - cpi_2007)/cpi_2007 \n",
    "adjust_rate = 1 + inflation_rate\n",
    "\n",
    "average_wages_2007 = industry_2007['Pre-Tax Wages'].mean()\n",
    "average_wages_2017 = industry_2017['Pre-Tax Wages'].mean()\n",
    "change_wages = (average_wages_2017/adjust_rate) - average_wages_2007\n",
    "\n",
    "print('Inflation rate from 2007 to 2017 was:', np.round(inflation_rate, 4), '%'), print()\n",
    "print('Nominal average wage in California in 2017 was:', \"$\", round(average_wages_2017, 4)), print()\n",
    "print('Real average wage in California in 2017 was:', '$', round(average_wages_2017/adjust_rate, 4)), print()\n",
    "print('Real change in average wages in California between 2007 and 2017 was:', '$', round(change_wages, 4))"
   ]
  },
  {
   "cell_type": "markdown",
   "metadata": {
    "#student": true
   },
   "source": [
    "<br><br>\n",
    "### Question 1\n",
    "\n",
    "Speculate on what might be responsible for this change. Does this number tell us anything about the state of the economy itself? Write your answer in the cell below by double clicking on it."
   ]
  },
  {
   "cell_type": "markdown",
   "metadata": {
    "#student": true
   },
   "source": [
    "##### WRITE YOUR ANSWER HERE."
   ]
  },
  {
   "cell_type": "markdown",
   "metadata": {
    "#student": false
   },
   "source": [
    "<br><br><br>\n",
    "## 3.2 Wages by Type of Worker  <a id='pt32'></a>\n",
    "\n",
    "With this dataset, we can also analyze the wages based off of the type of worker they are. Here, we are specifically looking a pre-tax wages from 2007 and 2017. Run the code cells below to see the changes in the wages of workers over the span of a decade.\n",
    "\n",
    "**Run the code cell below.**"
   ]
  },
  {
   "cell_type": "code",
   "execution_count": null,
   "metadata": {},
   "outputs": [],
   "source": [
    "tow_inc_2007 = poverty_2007.groupby('Type of Worker').mean()[['Pre-Tax Wages']]\n",
    "tow_inc_2007['Pre-Tax Wages in 2007'] = tow_inc_2007['Pre-Tax Wages'].astype(float).apply(dollar_formatter)\n",
    "tow_inc_2007.drop(columns = ['Pre-Tax Wages'])"
   ]
  },
  {
   "cell_type": "code",
   "execution_count": null,
   "metadata": {},
   "outputs": [],
   "source": [
    "tow_inc_2017 = poverty_2017.groupby('Type of Worker').mean()[['Pre-Tax Wages']]\n",
    "tow_inc_2017['Pre-Tax Wages in 2017'] = tow_inc_2017['Pre-Tax Wages'].astype(float).apply(dollar_formatter)\n",
    "tow_inc_2017.drop(columns = ['Pre-Tax Wages'])"
   ]
  },
  {
   "cell_type": "markdown",
   "metadata": {
    "#student": true
   },
   "source": [
    "### Question 2\n",
    "\n",
    "Comment on any patterns you notice in average wages by type of worker."
   ]
  },
  {
   "cell_type": "markdown",
   "metadata": {
    "#student": true
   },
   "source": [
    "##### WRITE YOUR ANSWER HERE."
   ]
  },
  {
   "cell_type": "markdown",
   "metadata": {
    "#student": false
   },
   "source": [
    "<br><br><br>\n",
    "## 3.3 Wages by Race  <a id='pt33'></a>\n",
    "\n",
    "Wages can also be analyzed based on race. By running the cell below, you will be able to see two different barplots: (1) Wage by Race in 2007 and (2) Wage by Race in 2017. Look carefully at the Pre-Taxes wages on the y-axis for each race. Do you notice any changes?\n",
    "\n",
    "**Run the code cell below.**"
   ]
  },
  {
   "cell_type": "code",
   "execution_count": null,
   "metadata": {},
   "outputs": [],
   "source": [
    "race_inc_2007 = poverty_2007.groupby('Race').mean()[['Pre-Tax Wages']]\n",
    "race_inc_2017 = poverty_2017.groupby('Race').mean()[['Pre-Tax Wages']]\n",
    "\n",
    "fig = plt.figure(figsize = (40, 12))\n",
    "fig.add_subplot(221)\n",
    "race_income_2007 = race_inc_2007.reset_index()\n",
    "sns.barplot(x = 'Race', y = 'Pre-Tax Wages', data = race_income_2007)\n",
    "plt.title('Bar Plot of Wage by Race: 2007');\n",
    "\n",
    "fig.add_subplot(223)\n",
    "race_income_2017 = race_inc_2017.reset_index()\n",
    "sns.barplot(x = 'Race', y = 'Pre-Tax Wages', data = race_income_2017)\n",
    "plt.title('Bar Plot of Wage by Race: 2017');"
   ]
  },
  {
   "cell_type": "markdown",
   "metadata": {
    "#student": true
   },
   "source": [
    "### Question 3\n",
    "\n",
    "Comment on any patterns you notice in average wages by race."
   ]
  },
  {
   "cell_type": "markdown",
   "metadata": {
    "#student": true
   },
   "source": [
    "##### WRITE YOUR ANSWER HERE."
   ]
  },
  {
   "cell_type": "markdown",
   "metadata": {
    "#student": false
   },
   "source": [
    "<br><br><br>\n",
    "\n",
    "# 4. Top Industries and Occupations in California <a id='industries'></a>\n",
    "<br>\n",
    "\n",
    "## 4.1. Top Industries in California <a id='pt3.2.1'></a>\n",
    "\n",
    "\n",
    "\n",
    "Suppose we wanted to see what the top 10 industries the suvery respondents worked in between 2007 and 2017. We can bascially run a few lines of code to output another table that gives us the percentage of workers employed by each industry in 2007 and 2017.\n",
    "\n",
    "**Run the cells below.**"
   ]
  },
  {
   "cell_type": "code",
   "execution_count": null,
   "metadata": {},
   "outputs": [],
   "source": [
    "round((industry_2007['Industry'].value_counts(normalize = True))[0:10] * 100, 2).to_frame(\n",
    ").rename(columns={'Industry': 'Percentage of Workers Employed by Industry in 2007'})"
   ]
  },
  {
   "cell_type": "code",
   "execution_count": null,
   "metadata": {},
   "outputs": [],
   "source": [
    "round((industry_2017['Industry'].value_counts(normalize = True))[0:10] * 100, 2).to_frame(\n",
    ").rename(columns={'Industry': 'Percentage of Workers Employed by Industry in 2017'})"
   ]
  },
  {
   "cell_type": "markdown",
   "metadata": {
    "#student": true
   },
   "source": [
    "### Question 4\n",
    "\n",
    "Based on the outputs of the tables above, what can you say about the changes in the top 10 industries of workers between 2007 and 2017 changed? Are there any extreme changes in percentages for a particular industry? Write your answer in the cell below by double clicking on it."
   ]
  },
  {
   "cell_type": "markdown",
   "metadata": {
    "#student": true
   },
   "source": [
    "##### WRITE YOUR ANSWER HERE."
   ]
  },
  {
   "cell_type": "markdown",
   "metadata": {
    "#student": false
   },
   "source": [
    "<br><br><br>\n",
    "## 4.2. Top Industries in California by Metro Area <a id='pt3.2.2'></a>\n",
    "\n",
    "The top 5 industries depicted above represented the top 5 industries in all of California. What if were interested in looking at specific metro areas in California?\n",
    "\n",
    "Run the code cell below. Then use the dropdown cell to select the San Francisco-Oakland-Hayward Metro Area. You can then select another metro area that interest you to see the top 5 industries in that area.\n",
    "\n",
    "**Run the cell below.**"
   ]
  },
  {
   "cell_type": "code",
   "execution_count": null,
   "metadata": {},
   "outputs": [],
   "source": [
    "#Joining both 2007 and 2017 tables.\n",
    "industry = pd.concat([industry_2007, industry_2017])\n",
    "\n",
    "def plot_occupations(county):\n",
    "    plt.figure(figsize=(15,8));\n",
    "    county_top_5 = industry[industry['County'] == county]\n",
    "    p = sns.countplot(data=county_top_5,\n",
    "                  x = 'Industry',\n",
    "                  hue = 'Year', order=county_top_5['Industry'].value_counts(sort=True).index[0:5], \n",
    "                     palette = sns.color_palette(\"twilight_r\"))\n",
    "    p.set_xticklabels(p.get_xticklabels(), rotation=45, ha='right')\n",
    "    p.set_title('Top 5 Industries in 2007 & 2017 in ' + str(county));\n",
    "    p.set_xlabel('Industries');\n",
    "    \n",
    "county_widget = widgets.Dropdown(\n",
    "    options=list(industry['County'].value_counts().index),\n",
    "    value=list(industry['County'].value_counts().index)[0],\n",
    "    description='Metro Area:',\n",
    "    disabled=False,\n",
    ")\n",
    "\n",
    "interact(plot_occupations, county=county_widget);"
   ]
  },
  {
   "cell_type": "markdown",
   "metadata": {
    "#student": true
   },
   "source": [
    "### Question 5\n",
    "\n",
    "What difference, if any, do you see in the top 5 industries in both years between California (the full dataset) and the metro area you selected? After reading a bit about your metro area's economy, what do you think? Write your answer in the cell below by double clicking on it."
   ]
  },
  {
   "cell_type": "markdown",
   "metadata": {
    "#student": true
   },
   "source": [
    "##### WRITE YOUR ANSWER HERE."
   ]
  },
  {
   "cell_type": "markdown",
   "metadata": {
    "#student": false
   },
   "source": [
    "<br><br><br>\n",
    "## 4.3. Top Occupations in California by Metro Area <a id='pt3.2.3'></a> \n",
    "\n",
    "\n",
    "We can narrow our scope by analyzing the top 5 occupations in California by each Metro Area between 2007 and 2017. Run the cell below to see the Top 5 Occupations in 2007 and 2017.\n",
    "\n",
    "**Run the cell below.**"
   ]
  },
  {
   "cell_type": "code",
   "execution_count": null,
   "metadata": {},
   "outputs": [],
   "source": [
    "occupation = pd.DataFrame()\n",
    "occupation = occupation.append(occupation_2007)\n",
    "occupation = occupation.append(occupation_2017)\n",
    "plt.figure(figsize=(15,8))\n",
    "p = sns.countplot(data=occupation,\n",
    "                  x = 'Occupation',\n",
    "                  hue = 'Year', order=occupation['Occupation'].value_counts(sort=True).index[0:5], \n",
    "                 palette = sns.color_palette(\"PiYG\", 10))\n",
    "p.set_xticklabels(p.get_xticklabels(), rotation=45, ha=\"right\")\n",
    "p.set_title('Top 5 Occupations in 2007 & 2017', fontdict= {'fontsize' : 20});\n",
    "p.set_xlabel('Industries');"
   ]
  },
  {
   "cell_type": "markdown",
   "metadata": {
    "#student": false
   },
   "source": [
    "<br><br>\n",
    "We can increase our understanding of the top 5 Occupation by narrowing our scope to specific Metro Areas.\n",
    "\n",
    "Run the code cell below. Then use the dropdown cell to select the San Francisco-Oakland-Hayward Metro Area. You can then select another metro area that interest you to see the top 5 industries in that area.\n",
    "\n",
    "**Run the cell below.**"
   ]
  },
  {
   "cell_type": "code",
   "execution_count": null,
   "metadata": {},
   "outputs": [],
   "source": [
    "def plot_occupations(county):\n",
    "    plt.figure(figsize=(15,8));\n",
    "    county_top_5 = occupation[occupation['County'] == county]\n",
    "    p = sns.countplot(data=county_top_5,\n",
    "                  x = 'Occupation',\n",
    "                  hue = 'Year', order=county_top_5['Occupation'].value_counts(sort=True).index[0:5], \n",
    "                     palette = sns.color_palette(\"twilight\"))\n",
    "    p.set_xticklabels(p.get_xticklabels(), rotation=45, ha='right')\n",
    "    p.set_title('Top 5 Occupations in 2007 & 2017 in ' + str(county));\n",
    "    p.set_xlabel('Occupations');\n",
    "    \n",
    "county_widget = widgets.Dropdown(\n",
    "    options=list(occupation['County'].value_counts().index),\n",
    "    value=list(occupation['County'].value_counts().index)[0],\n",
    "    description='Metro Area:',\n",
    "    disabled=False,\n",
    ")\n",
    "\n",
    "interact(plot_occupations, county=county_widget);"
   ]
  },
  {
   "cell_type": "markdown",
   "metadata": {
    "#student": true
   },
   "source": [
    "### Question 6\n",
    "\n",
    "What difference, if any, do you see in the top 5 occupations in both years between California (the full dataset) and the metro area you selected? After reading a bit about your metro area's economy, what do you think? Write your answer in the cell below by double clicking on it."
   ]
  },
  {
   "cell_type": "markdown",
   "metadata": {
    "#student": true
   },
   "source": [
    "##### WRITE YOUR ANSWER HERE."
   ]
  },
  {
   "cell_type": "markdown",
   "metadata": {
    "#student": false
   },
   "source": [
    "<br><br><br><br><br>\n",
    "# 5. Income Analysis <a id='income'></a> \n",
    "\n",
    "In this section, we will analyze the distributions of household income. We will then look at percentiles of income gaps. Then we will look at the top five cities with highest and lowest income in 2007 and 2017.\n",
    "\n",
    "<br><br>\n",
    "## 5.1 Distributions of Household Income <a id='pt3.3.1'></a> \n",
    "\n",
    "For this section, we will analyze the distribution of household income from 2007 and 2017. To visualize this we use and **histogram**. Each rectangle in a histogram represents the proportion of values that fall in that range. In a sense, it is similar to a bar chart, but instead of categories on the x-axis, we group values into ranges. To learn more about histograms, you can click [here](https://en.wikipedia.org/wiki/Histogram).\n",
    "\n",
    "An example can be seen in the code cell below. This should output two histograms: one representing income in 2007 and one representing income in 2017.\n",
    "\n",
    "**Run the cell below.**"
   ]
  },
  {
   "cell_type": "code",
   "execution_count": null,
   "metadata": {},
   "outputs": [],
   "source": [
    "fig = plt.figure(figsize=(20,10))\n",
    "plt.title('Histogram of Household Income in California in 2007 and 2017')\n",
    "\n",
    "sns.distplot(poverty_2007['Household Income'], label = 'Income in 2007')\n",
    "plt.xlabel('Household Income ($)');\n",
    "\n",
    "sns.distplot(poverty_2017['Household Income'], label = 'Income in 2017')\n",
    "plt.xlabel('Pre-Tax Income ($)');\n",
    "\n",
    "plt.legend();\n",
    "plt.show();"
   ]
  },
  {
   "cell_type": "markdown",
   "metadata": {
    "#student": true
   },
   "source": [
    "### Question 7\n",
    "\n",
    "Analyze the shapes of these histograms. How are they similar/different? Compare them with their respective histogram for wages, which we generated earlier. Are there any differences? Why might these differences arise? </b> \n",
    "</div>"
   ]
  },
  {
   "cell_type": "markdown",
   "metadata": {
    "#student": true
   },
   "source": [
    "##### WRITE YOUR ANSWER HERE."
   ]
  },
  {
   "cell_type": "markdown",
   "metadata": {
    "#student": false
   },
   "source": [
    "<br><br>\n",
    "## 5.2 Income Inequality Statistics <a id='pt3.3.2'></a> "
   ]
  },
  {
   "cell_type": "markdown",
   "metadata": {
    "#student": false
   },
   "source": [
    "Over the past decade, the issue of income inequality has increasingly manifested, across the United States. Let's see if our dataset can provide evidence for this claim. \n",
    "\n",
    "Specifically, let's test if the gap between bottom and top percentile incomes have increased or decreased over a span of a decade. The first cell below computes income gaps in 2007, while the second cell computes income gaps in 2017. \n",
    "\n",
    "**Run the cells below.**"
   ]
  },
  {
   "cell_type": "code",
   "execution_count": null,
   "metadata": {},
   "outputs": [],
   "source": [
    "first_2007, tenth_2007 = np.percentile(poverty_2007['Household Income'], 1), np.percentile(poverty_2007['Household Income'], 10)\n",
    "twenty_fifth_2007, seventy_fifth_2007 = np.percentile(poverty_2007['Household Income'], 25), np.percentile(poverty_2007['Household Income'], 75)\n",
    "ninety_2007, ninety_ninth_2007 = np.percentile(poverty_2007['Household Income'], 90), np.percentile(poverty_2007['Household Income'], 99)\n",
    "\n",
    "print(\"The 75th and 25th percentile income gap is:\", '$', np.round(seventy_fifth_2007 - twenty_fifth_2007, 2))\n",
    "print(\"The 10th and 90th percentile income gap is:\", '$', np.round(ninety_2007 - tenth_2007, 2))\n",
    "print(\"The 1st and 99th percentile income gap is:\", '$', np.round(ninety_ninth_2007 - first_2007, 2))"
   ]
  },
  {
   "cell_type": "code",
   "execution_count": null,
   "metadata": {},
   "outputs": [],
   "source": [
    "first_2017, tenth_2017 = np.percentile(poverty_2017['Household Income'], 1), np.percentile(poverty_2017['Household Income'], 10)\n",
    "twenty_fifth_2017, seventy_fifth_2017 = np.percentile(poverty_2017['Household Income'], 25), np.percentile(poverty_2017['Household Income'], 75)\n",
    "ninety_2017, ninety_ninth_2017 = np.percentile(poverty_2017['Household Income'], 90), np.percentile(poverty_2017['Household Income'], 99)\n",
    "\n",
    "print(\"The 75th and 25th percentile income gap is:\", '$', np.round(seventy_fifth_2017 - twenty_fifth_2017, 2))\n",
    "print(\"The 10th and 90th percentile income gap is:\", '$', np.round(ninety_2017 - tenth_2017, 2))\n",
    "print(\"The 1st and 99th percentile income gap is:\", '$', np.round(ninety_ninth_2017 - first_2017, 2))"
   ]
  },
  {
   "cell_type": "markdown",
   "metadata": {
    "#student": true
   },
   "source": [
    "### Question 8\n",
    "\n",
    "Compare these statistics. Can we say that there has been a definite increase in income inequality from 2007 to 2017? Why might these numbers be misleading? Write your answer in the cell below by double clicking on it."
   ]
  },
  {
   "cell_type": "markdown",
   "metadata": {
    "#student": true
   },
   "source": [
    "##### WRITE YOUR ANSWER HERE."
   ]
  },
  {
   "cell_type": "markdown",
   "metadata": {
    "#student": false
   },
   "source": [
    "<br><br><br>\n",
    "## 5.3 Household Incomes in Cities <a id='pt3.3.3'></a>  \n",
    "\n",
    "Now, let's visualize the top cities with the highest and lowest average income in 2007 and 2017. The bar graph below will let you see the change in household income over the span of a decade. Run the cell below to visualize this output.\n",
    "\n",
    "**Run the cell below.**"
   ]
  },
  {
   "cell_type": "code",
   "execution_count": null,
   "metadata": {},
   "outputs": [],
   "source": [
    "income_by_city = poverty_2007.groupby('City').mean()[['Household Income']].sort_values('Household Income')\n",
    "fig = plt.figure(figsize = (22, 13))\n",
    "plt.suptitle('Top 5 Cities with Highest and Lowest Income in 2007 and 2017')\n",
    "\n",
    "fig.add_subplot(221)\n",
    "top_5_income_by_city = income_by_city.sort_values('Household Income', ascending = False)[0:5].reset_index()\n",
    "sns.barplot(x = 'City', y = 'Household Income', data = top_5_income_by_city)\n",
    "plt.title('Top 5 Cities with Highest Household Income in 2007');\n",
    "\n",
    "fig.add_subplot(222)\n",
    "bottom_5_income_by_city = income_by_city.sort_values('Household Income', ascending = True)[0:5].reset_index()\n",
    "sns.barplot(x = 'City', y = 'Household Income', data = bottom_5_income_by_city)\n",
    "plt.title('Top 5 Cities with Lowest Household Income in 2007');\n",
    "\n",
    "fig.add_subplot(223)\n",
    "income_by_city_2017 = poverty_2017.groupby('City').mean()[['Household Income']].sort_values('Household Income')\n",
    "top_5_income_by_city_2017 = income_by_city_2017.sort_values('Household Income', ascending = False)[0:5].reset_index()\n",
    "sns.barplot(x = 'City', y = 'Household Income', data = top_5_income_by_city_2017)\n",
    "plt.title('Bar Plot of Top 5 Cities with Highest Household in 2017');\n",
    "\n",
    "fig.add_subplot(224)\n",
    "income_by_city_2017 = poverty_2017.groupby('City').mean()[['Household Income']].sort_values('Household Income')\n",
    "bottom_5_income_by_city_2017 = income_by_city_2017.sort_values('Household Income', ascending = True)[0:5].reset_index()\n",
    "sns.barplot(x = 'City', y = 'Household Income', data = bottom_5_income_by_city_2017)\n",
    "plt.title('Bar Plot of Top 5 Cities with Lowest Household Income in 2017');\n",
    "\n",
    "plt.show();"
   ]
  },
  {
   "cell_type": "markdown",
   "metadata": {
    "#student": true
   },
   "source": [
    "### Question 9\n",
    "\n",
    "Choose one of these cities in the top or bottom 5. Then, research the city and find out what county they are in. Finally, go to [this link](https://docs.google.com/spreadsheets/d/11qrDbIF3jszPh7NZj_Wqy014idYDgxI3IK9JUTtfhoQ/edit#gid=1014771596)\n",
    " and look up their mix of industries. Comment on your findings. Write your answer in the cell below by double clicking on it."
   ]
  },
  {
   "cell_type": "markdown",
   "metadata": {
    "#student": true
   },
   "source": [
    "##### WRITE YOUR ANSWER HERE."
   ]
  },
  {
   "cell_type": "markdown",
   "metadata": {
    "#student": true
   },
   "source": [
    "### Question 10\n",
    "\n",
    "Write down any observations you have about these cities' placements. How they have changed? Does income inequality have some geographical component? Write your answer in the cell below by double clicking on it."
   ]
  },
  {
   "cell_type": "markdown",
   "metadata": {
    "#student": true
   },
   "source": [
    "##### WRITE YOUR ANSWER HERE."
   ]
  },
  {
   "cell_type": "markdown",
   "metadata": {
    "#student": false
   },
   "source": [
    "<br><br><br><br><br>\n",
    "# 6. Educational Level Analysis <a id='education'></a>  "
   ]
  },
  {
   "cell_type": "markdown",
   "metadata": {
    "#student": false
   },
   "source": [
    "Now, let's do analysis on the educational level of survey respondents in California. First, we will analyze personal pre-tax wages based on education. Then, we will analyze the education levels of different races in California.\n",
    "\n",
    "**Run the cell below to load the education datasets.**"
   ]
  },
  {
   "cell_type": "code",
   "execution_count": null,
   "metadata": {},
   "outputs": [],
   "source": [
    "education_seven = pd.read_csv('education_2007.csv') #={'Hours worked per week': int})\n",
    "education_seventeen = pd.read_csv('education_2017.csv')# dtype={'Hours worked per week': int})\n",
    "education = pd.concat([education_seven, education_seventeen])\n",
    "education.replace(to_replace='99 (Topcode)', value=90, inplace=True)\n",
    "education['Hours worked per week']=education['Hours worked per week'].astype('int64')"
   ]
  },
  {
   "cell_type": "markdown",
   "metadata": {
    "#student": false
   },
   "source": [
    "<br><br><br><br>\n",
    "## 6.1 Education and Income <a id='pt3.4.1'></a>  \n",
    "\n",
    "Our dataset contains two columns for income: `Household Income` (measured for the entire household) and `Pre-Tax Wages`. For our purposes, we will be focusing on `Pre-Tax Wages`. The graph below maps out wages received based on education level. The education levels can be seen in the x-axis, while the y-axis represents the total income. \n",
    "\n",
    "**Run the cell below.**"
   ]
  },
  {
   "cell_type": "code",
   "execution_count": null,
   "metadata": {},
   "outputs": [],
   "source": [
    "plt.figure(figsize=(15, 10))\n",
    "ax = sns.barplot(x='Education Status', y='Pre-Tax Wages', \n",
    "                 hue='Year', data=education, \n",
    "                palette = sns.color_palette(\"twilight\"))\n",
    "ax.set_xlabel('Level of Education')\n",
    "ax.set_ylabel('Pre-Tax Wages')\n",
    "ax.set_title('Personal Pre-Tax Wages per Education Level', fontdict={'fontsize': 20});"
   ]
  },
  {
   "cell_type": "markdown",
   "metadata": {
    "#student": true
   },
   "source": [
    "### Question 11\n",
    "\n",
    "How do the incomes you see above compare to our discussion aabout self-sufficiency incomes? What are some interpretations you can make from this chart? For more information on how family need is acessed, you can go to the [Family Need Calculator](https://insightcced.org/2018-family-needs-calculator/). Write your answer in the cell below by double clicking on it."
   ]
  },
  {
   "cell_type": "markdown",
   "metadata": {
    "#student": true
   },
   "source": [
    "##### WRITE YOUR ANSWER HERE."
   ]
  },
  {
   "cell_type": "markdown",
   "metadata": {
    "#student": false
   },
   "source": [
    "<br><br><br>\n",
    "## 6.2. Education by Race <a id='pt3.4.2'></a>  \n",
    "\n",
    "Another question we can ask is: How is race distributed among educational levels? Are race and education related?\n",
    "\n",
    "First, let's look at the the precentages of each race based on educational level. We can see this directly from the dataset below. We can also visualize this in a bar graph.\n",
    "\n",
    "**Run the cell below to load the education datasets.**"
   ]
  },
  {
   "cell_type": "code",
   "execution_count": null,
   "metadata": {},
   "outputs": [],
   "source": [
    "education_race = pd.crosstab(education['Race'],education['Education Status'], normalize='index') * 100\n",
    "education_race"
   ]
  },
  {
   "cell_type": "code",
   "execution_count": null,
   "metadata": {},
   "outputs": [],
   "source": [
    "ax = sns.catplot(x='Education Status', col='Race', \n",
    "            data=education, kind='count', col_wrap=3, orient=\"h\");"
   ]
  },
  {
   "cell_type": "markdown",
   "metadata": {
    "#student": true
   },
   "source": [
    "### Question 12\n",
    "\n",
    "What conclusions can you draw about the relationship between race and education based on these charts?"
   ]
  },
  {
   "cell_type": "markdown",
   "metadata": {
    "#student": true
   },
   "source": [
    "##### WRITE YOUR ANSWER HERE."
   ]
  },
  {
   "cell_type": "markdown",
   "metadata": {
    "#student": false
   },
   "source": [
    "<br><br><br>\n",
    "One thing to note is that the dataset contains a separate column for Hispanic-identifying individuals. We can display the same visualization for those in each category in the `Hispanic` column. The categories include: (1) Hispanic = Not Hispanic, (2) Hispanic = Hispanic, and (3) Hispanic = other."
   ]
  },
  {
   "cell_type": "code",
   "execution_count": null,
   "metadata": {},
   "outputs": [],
   "source": [
    "plt.figure(figsize=(20, 10));\n",
    "ax = sns.catplot(x='Education Status', col='Hispanic', data=education, kind='count', col_wrap=3, orient=\"h\");\n",
    "plt.show();"
   ]
  },
  {
   "cell_type": "markdown",
   "metadata": {
    "#student": true
   },
   "source": [
    "### Question 13\n",
    "\n",
    "Are the results any different from the ones above? If so, what are the differences?"
   ]
  },
  {
   "cell_type": "markdown",
   "metadata": {
    "#student": true
   },
   "source": [
    "##### WRITE YOUR ANSWER HERE."
   ]
  },
  {
   "cell_type": "markdown",
   "metadata": {
    "#student": false
   },
   "source": [
    "<br><br><br><br>\n",
    "# 7. Indicators of Poverty <a id='poverty'></a>  \n",
    "\n",
    "What are the indicators of poverty? What relationship does poverty have with the other features (columns) in our dataset? In this section we will answer some of these questions as well as do analysis based on employment status and see which occupations fall under high poverty."
   ]
  },
  {
   "cell_type": "code",
   "execution_count": null,
   "metadata": {},
   "outputs": [],
   "source": [
    "poverty_seven = pd.read_csv('poverty_2007.csv')\n",
    "poverty_seventeen = pd.read_csv('poverty_2017.csv')\n",
    "poverty = pd.concat([poverty_seven, poverty_seventeen])\n",
    "poverty.replace(to_replace='99 (Topcode)', value=90, inplace=True)\n",
    "poverty['Hours worked per week'] = poverty['Hours worked per week'].astype(int)"
   ]
  },
  {
   "cell_type": "markdown",
   "metadata": {
    "#student": false
   },
   "source": [
    "<br><br><br>\n",
    "## 7.1 Employment Status <a id='pt3.5.1'></a>  \n",
    "\n",
    "For poverty, our data categorizes an individual into one of three categories: `Near Poverty`, `Non-Poverty`, and `Poverty`. We will be looking at those who are in `Poverty` or `Near Poverty`."
   ]
  },
  {
   "cell_type": "code",
   "execution_count": null,
   "metadata": {},
   "outputs": [],
   "source": [
    "plt.figure(figsize=(15, 5))\n",
    "all_poverty = poverty[(poverty['Poverty Status'] == 'Poverty') | (poverty['Poverty Status'] == 'Near Poverty')]\n",
    "sns.countplot(x='Employment Status', data=all_poverty, hue='Poverty Status')\n",
    "plt.title('Amount of Individuals At or Near Poverty by Employment Status');"
   ]
  },
  {
   "cell_type": "markdown",
   "metadata": {
    "#student": false
   },
   "source": [
    "<br><br><br>\n",
    "## 7.2 Occupations in High-Poverty Areas <a id='pt3.5.2'></a>  "
   ]
  },
  {
   "cell_type": "markdown",
   "metadata": {
    "#student": false
   },
   "source": [
    "What are the top 5 occupations for people in poverty? Run the cell below, it should output the top 5 occupations for those at OR near poverty."
   ]
  },
  {
   "cell_type": "code",
   "execution_count": null,
   "metadata": {},
   "outputs": [],
   "source": [
    "j = 1\n",
    "for i in occupation[(occupation['Poverty Status'] == 'Poverty') | \n",
    "                    (occupation['Poverty Status'] == 'Near Poverty')]['Occupation'].value_counts(\n",
    "    sort=True).index[0:5]:\n",
    "    print(j, 'Top Occupation:', i)\n",
    "    j +=1"
   ]
  },
  {
   "cell_type": "markdown",
   "metadata": {
    "#student": false
   },
   "source": [
    "<br><br><br><br>\n",
    "## Conclusion"
   ]
  },
  {
   "cell_type": "markdown",
   "metadata": {
    "#student": false
   },
   "source": [
    "Congratulations! You've now reached the end of the lab. For some of you, this may have been your first time being introduced into using computer programming to automate data analysis. We hope you gained some insight on how to analyze data about communities with their respective deomographics and had fun along the way. "
   ]
  },
  {
   "cell_type": "markdown",
   "metadata": {},
   "source": [
    "## Submitting your work\n",
    "To convert your work to a pdf:\n",
    "- run the following cell\n",
    "- right-click the link that says \"Download this and submit to gradescope\"\n",
    "- click \"save link as\" to save the pdf\n",
    "\n",
    "<div class=\"alert alert-warning\">\n",
    "NOTE: the link will say \"Submit to Gradescope\", but please follow your professor's instructions on where to submit the pdf \n",
    "</div>\n",
    "\n",
    "<div class=\"alert alert-warning\">\n",
    "NOTE II: if you're having trouble downloading the databook, make sure you're <b>right-clicking</b> the link and selecting \"save link as\"\n",
    "</div>"
   ]
  },
  {
   "cell_type": "code",
   "execution_count": null,
   "metadata": {},
   "outputs": [],
   "source": [
    "!pip install gsExport -q\n",
    "import gsExport\n",
    "gsExport.generateSubmission(\"CityPlanningACS.ipynb\")"
   ]
  },
  {
   "cell_type": "markdown",
   "metadata": {
    "#student": false
   },
   "source": [
    "<br><br><br>\n",
    "# 8. Bibliography <a id = 'bibliography'></a>\n",
    "\n",
    "• https://www.census.gov/programs-surveys/saipe/guidance/model-input-data/cpsasec.html\n",
    "\n",
    "• https://www.investopedia.com/terms/c/consumerpriceindex.asp\n",
    "\n",
    "• https://en.wikipedia.org/wiki/Stratified_sampling\n",
    "\n",
    "• https://www.census.gov/programs-surveys/acs"
   ]
  },
  {
   "cell_type": "markdown",
   "metadata": {
    "#student": false
   },
   "source": [
    "<br>\n",
    "\n",
    "# 9. Data Science Resources at UC Berkeley <a id='6'></a>\n",
    "If you need assistance with this notebook, our peer advisors are happy to help. You can find their drop-in hours [here](https://data.berkeley.edu/academics/resources/peer-consulting). You can also email ds-peer-consulting@berkeley.edu to book an appointment if the times conflict with your schedule.\n",
    "\n",
    "If you are interested in data science, a great course to start with is Data 8, designed for students with no previous programming or statistics experience. For the full list of courses and degree programs we offer, click [here](https://data.berkeley.edu/academics/undergraduate-programs/data-science-offerings)."
   ]
  },
  {
   "cell_type": "markdown",
   "metadata": {
    "#student": false
   },
   "source": [
    "### Feedback:\n",
    "\n",
    "Please let us know your thoughts on this notebook!\n",
    "\n",
    "Fill out the survey at this link: https://docs.google.com/forms/d/e/1FAIpQLSfahkYSKqlEEfC6WMKlaqeIxRVj0r7T4N5lgBf9bRVwRG58wQ/viewform"
   ]
  },
  {
   "cell_type": "markdown",
   "metadata": {
    "#student": false
   },
   "source": [
    "___\n",
    "### Sidenotes:\n",
    "[1]: Since the size of the original dataset was too large, we are using Stratified Random Samples instead. Refer to the link in the bibliography for more information on our sampling approach. "
   ]
  }
 ],
 "metadata": {
  "checksums": [
   "381e1c5f4535b73c5c241422cad69579",
   "56df8fe15bea9c106dccb4a12ac110cf",
   "b72660d1c49a18d36440248c83f9b2bd",
   "125f6899ebc23b88216a18972db296f0",
   "aff3c3bc4f28301e753527118f24c974",
   "0d588f89ec1c313a310a9fda4398513b",
   "4eabc4708dd085c72d861b2a0f7b42f3",
   "01269b3a94245901760cfaf927d1561d",
   "f67714538636d1a8bda931c5831fad98",
   "500b33eab0856baa15fa930e1a6f9d54",
   "1157f15d2bdd69db6b4eee79ee0e59b6",
   "c8fec8d216c39c28948f2b42a43cdf5c",
   "f28746614b105e0e796a1e1f6e76cdd2",
   "c89a8154eac69a9c828b7633fa42e3f8",
   "db139faf30ad643a73a1c569681fc009",
   "41c9199b2abb5af82ab3c4e1503f036a",
   "ff96c583d312a4e845dc1c5e65a669a9",
   "9f892217b34c550f1a03cca9d01f0943",
   "a574d39c4f22a02664077b3da9cbdc0e",
   "9115df841f1c824a83f1ffbb247136ce",
   "37673106d7ddffd36f9e5efe6f2e0efa",
   "c4895256f976a83bea62482ee7ffd0b5",
   "7bdab85a0ec48b25de82cb2b487179cf",
   "4a29a7e1e0ffe130389227d525c2c4dc",
   "e0a85356f02d7483500fe261f0a9e507",
   "f0e46015f5bfeb3fd0b4b3efb91a686e",
   "126bb5d8f5b848c1b5fd308c3963a80e",
   "ff3e713a270fd89b0e743ff845999609",
   "6eb692a3668ebc1c77167fa630b5d368",
   "898da2271b285ac5befe0fa90f6becfd",
   "f0e46015f5bfeb3fd0b4b3efb91a686e",
   "4b2644ce5ea41d50c3a1f4f4d4d2bc0a",
   "a5efa9380862f5b8d775b627f6b16f31",
   "e779a1c3bf522dfe4af487f17bd7d988",
   "f0e46015f5bfeb3fd0b4b3efb91a686e",
   "85daeaad09529a04dec04f139748b84b",
   "36ed6a0c11dcad697bd4d25c1d4b51cb",
   "8fd8701c297ea620b75a6b7652dce4fb",
   "51eee40b7a908b26a722879f204ddc01",
   "f0e46015f5bfeb3fd0b4b3efb91a686e",
   "06aadcd9a2c44fc474114f218e57cdee",
   "3bf3c1ed5f63d75d8dff945ded6c765d",
   "d0b3da1baab988c5f91132a1fce62aaf",
   "f0e46015f5bfeb3fd0b4b3efb91a686e",
   "0c5a57898277be588ae6c438d5e11cf4",
   "f1502346bbe5d777282b35dab9d52216",
   "29114f31564370cd74eaf47d536f3d26",
   "336642f086d091676efc16b11f46b3ed",
   "521984c73990cff81cc855fa2ac9ddf2",
   "f0e46015f5bfeb3fd0b4b3efb91a686e",
   "651f5d3947b573de6afeac5999f9d6f0",
   "93833021bdc0b3aefc22f330dd3c5bff",
   "5afc727fca3ce59ff9bd32337dd3a75e",
   "f0e46015f5bfeb3fd0b4b3efb91a686e",
   "9bbe834ab702e401333ae8491001fca8",
   "fc6e6b451c8013b914429fcab678c42a",
   "e25eb87a014fed9673b4f81efaee7dfe",
   "12c2ab12d161e53fe934e35142302e9a",
   "c4e75bd8331e1c27919bd480d3890dc5",
   "f0e46015f5bfeb3fd0b4b3efb91a686e",
   "daff41bdd1ded6ebfda185cbc6620f5a",
   "e4a350b9f9d14505c61835b9bde4ef6e",
   "306ad402f7b6f8ad7d183b851b7cf6a2",
   "f0e46015f5bfeb3fd0b4b3efb91a686e",
   "7aaa18cc5bf1908b42d90b9e56527445",
   "f0e46015f5bfeb3fd0b4b3efb91a686e",
   "4ba65b7faec16e95348911196942a4da",
   "302ad90027a02acf779f765e23248b68",
   "2f8a1be6d4aac44779fb8c02dd2cf054",
   "01552e7102f7e9fb037319121a303b15",
   "868880f81921d99ce79f09907eebccbe",
   "5c8b8d13762fdd517a2bf8118ac5920c",
   "f0e46015f5bfeb3fd0b4b3efb91a686e",
   "1672a0ddac63eec05187c76092f263e0",
   "cca725f13033a3ae9e99136b229e42e1",
   "e687e5d16723cfccf1669abfe2a1e6d9",
   "c4959303c6c596a19e6cb8ffe829d3c8",
   "f0e46015f5bfeb3fd0b4b3efb91a686e",
   "0f6e6ed1cf227fcfa1186bb3622acbc2",
   "67d4e46186b2f0e9f58430eee0268286",
   "fb1d5ea8382275f33b118049e0d008d7",
   "f0e46015f5bfeb3fd0b4b3efb91a686e",
   "35fa3960407fd5b03b0a276f3e8d0320",
   "ed60d55b3d5e76ef4f2465cdf734e2b9",
   "66a5d4ad1573473d626c3f495a92d93b",
   "ef101f0b10c81322b5b03c877c1611a2",
   "83bd6167304c37f5dba38ac8635a5c45",
   "7454f1fc9ed5496f9b7f4fe8a663cee2",
   "a4ba2464a4d6943c509bddbb4a524645",
   "700fb3d45161d69a0aa657f2b43ad0ad",
   "6b2d0c49410180471d930ab740d708f6",
   "dd0b614bf9cb6d21aee0e3879553b658",
   "29186783629baca70af6c8cd429f50ec",
   "5094af084508bced74bdcadf069218d1",
   "ab7de330ec2fdcbbed71c6b17606371a",
   "de906e21b3db83276eac37f6736a3f4d",
   "f906eb0c88afe702cf5ae61657388252"
  ],
  "kernelspec": {
   "display_name": "Python 3",
   "language": "python",
   "name": "python3"
  },
  "language_info": {
   "codemirror_mode": {
    "name": "ipython",
    "version": 3
   },
   "file_extension": ".py",
   "mimetype": "text/x-python",
   "name": "python",
   "nbconvert_exporter": "python",
   "pygments_lexer": "ipython3",
   "version": "3.6.8"
  },
  "number_of_pagebreaks": 0
 },
 "nbformat": 4,
 "nbformat_minor": 2
}
