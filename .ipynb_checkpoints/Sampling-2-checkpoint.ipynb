{
 "cells": [
  {
   "cell_type": "code",
   "execution_count": 2,
   "metadata": {},
   "outputs": [],
   "source": [
    "from datascience import *\n",
    "import pandas as pd\n",
    "import numpy as np\n",
    "import seaborn as sns \n",
    "import matplotlib as plt\n",
    "%matplotlib inline\n",
    "\n",
    "import csv\n",
    "import zipfile\n",
    "from pathlib import Path\n",
    "import re"
   ]
  },
  {
   "cell_type": "code",
   "execution_count": 24,
   "metadata": {},
   "outputs": [],
   "source": [
    "data = pd.read_csv('fulldata_v2.csv')\n",
    "data.replace(to_replace='99 (Topcode)', value=90, inplace=True)\n",
    "data2 = pd.read_csv('fullData.csv')\n",
    "data2.replace(to_replace='99 (Topcode)', value=90, inplace=True)"
   ]
  },
  {
   "cell_type": "code",
   "execution_count": 6,
   "metadata": {},
   "outputs": [],
   "source": [
    "def takeTableSample(data, column, feature, year):\n",
    "    data = data[data['Year'] == year]\n",
    "    percentage = data[column].value_counts(normalize=True, sort=True)[feature]\n",
    "    sample_size = 60000 * percentage\n",
    "    data = data[data[column] == feature]\n",
    "    return data.sample(int(sample_size))\n",
    "\n",
    "def sampledTable(data, column, year):\n",
    "    sample = pd.DataFrame()\n",
    "    for feature in data[data['Year'] == year][column].value_counts(normalize=True, sort=True).index:\n",
    "        new_sample = takeTableSample(data, column, feature, year)\n",
    "        sample = pd.concat([sample, new_sample])\n",
    "    return sample"
   ]
  },
  {
   "cell_type": "code",
   "execution_count": 9,
   "metadata": {},
   "outputs": [],
   "source": [
    "occupation_sample_seven = sampledTable(data, 'Occupation', 2007)\n",
    "occupation_sample_seventeen = sampledTable(data, 'Occupation', 2017)"
   ]
  },
  {
   "cell_type": "code",
   "execution_count": 16,
   "metadata": {},
   "outputs": [],
   "source": [
    "occupation_sample_seventeen.to_csv('occupation_2017.csv', index=False, header=True)\n",
    "occupation_sample_seven.to_csv('occupation_2007.csv', index=False, header=True)"
   ]
  },
  {
   "cell_type": "code",
   "execution_count": 26,
   "metadata": {},
   "outputs": [],
   "source": [
    "education_sample_seven = sampledTable(data2, 'Education Status', 2007)\n",
    "education_sample_seventeen = sampledTable(data2, 'Education Status', 2017)"
   ]
  },
  {
   "cell_type": "code",
   "execution_count": 27,
   "metadata": {},
   "outputs": [],
   "source": [
    "education_sample_seven.to_csv('education_2007.csv', index=False, header=True)\n",
    "education_sample_seventeen.to_csv('education_2017.csv', index=False, header=True)"
   ]
  },
  {
   "cell_type": "code",
   "execution_count": 19,
   "metadata": {},
   "outputs": [],
   "source": [
    "poverty_sample_seven = sampledTable(data, 'Poverty Status', 2007)\n",
    "poverty_sample_seventeen = sampledTable(data, 'Poverty Status', 2017)"
   ]
  },
  {
   "cell_type": "code",
   "execution_count": 20,
   "metadata": {},
   "outputs": [],
   "source": [
    "poverty_sample_seven.to_csv('poverty_2007.csv', index=False, header=True)\n",
    "poverty_sample_seventeen.to_csv('poverty_2017.csv', index=False, header=True)"
   ]
  },
  {
   "cell_type": "code",
   "execution_count": 21,
   "metadata": {},
   "outputs": [],
   "source": [
    "industry_sample_seven = sampledTable(data, 'Industry', 2007)\n",
    "industry_sample_seventeen = sampledTable(data, 'Industry', 2017)\n",
    "industry_sample_seven.to_csv('industry_2007.csv', index=False, header=True)\n",
    "industry_sample_seventeen.to_csv('industry_2017.csv', index=False)"
   ]
  }
 ],
 "metadata": {
  "kernelspec": {
   "display_name": "Python 3",
   "language": "python",
   "name": "python3"
  },
  "language_info": {
   "codemirror_mode": {
    "name": "ipython",
    "version": 3
   },
   "file_extension": ".py",
   "mimetype": "text/x-python",
   "name": "python",
   "nbconvert_exporter": "python",
   "pygments_lexer": "ipython3",
   "version": "3.7.3"
  }
 },
 "nbformat": 4,
 "nbformat_minor": 2
}
