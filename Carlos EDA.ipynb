{
 "cells": [
  {
   "cell_type": "code",
   "execution_count": 178,
   "metadata": {},
   "outputs": [],
   "source": [
    "from datascience import *\n",
    "import pandas as pd\n",
    "import numpy as np\n",
    "import seaborn as sns \n",
    "import matplotlib as plt\n",
    "%matplotlib inline\n",
    "\n",
    "import csv\n",
    "import zipfile\n",
    "from pathlib import Path\n",
    "import re"
   ]
  },
  {
   "cell_type": "code",
   "execution_count": 179,
   "metadata": {},
   "outputs": [],
   "source": [
    "sampled = pd.read_csv('cp113.csv')\n",
    "data = Table().from_df(sampled, keep_index=False)\n",
    "pd_data = data.to_df()\n",
    "pd_data = pd_data.drop(columns=['classwkr', 'classwkrd', 'empstatd', 'inctot'])"
   ]
  },
  {
   "cell_type": "code",
   "execution_count": 180,
   "metadata": {},
   "outputs": [],
   "source": [
    "def replace_column(lst, data, column, new_value):\n",
    "    return data[column].replace(lst, new_value, inplace=True)"
   ]
  },
  {
   "cell_type": "code",
   "execution_count": 181,
   "metadata": {},
   "outputs": [],
   "source": [
    "rangeLst = [np.arange(170, 490+1), np.arange(570, 960+1), np.arange(770, 771), \n",
    "           np.arange(1070, 3990+1), np.arange(4070, 4590+1), np.arange(4670, 5790+1), \n",
    "           np.arange(6070, 6390+1), np.arange(6470, 6780+1), np.arange(6870, 6990+1), \n",
    "           np.arange(7070, 7190+1), np.arange(7270, 7570+1), np.arange(7580, 7790+1),\n",
    "           np.arange(7860, 7890+1), np.arange(7970, 8470+1), np.arange(8560, 8590+1), \n",
    "           np.arange(8660, 8690+1), np.arange(8770, 9290+1), np.arange(9370, 9590+1), \n",
    "           np.arange(9670, 9870+1)]\n",
    "occLst = [np.arange(10, 430+1), np.arange(500, 741), np.arange(800, 950+1), \n",
    "         np.arange(1000, 1240+1), np.arange(1300, 1560+1), np.arange(1600, 1965+1),\n",
    "         np.arange(2000, 2060+1), np.arange(2100, 2160+1), np.arange(2200, 2550+1), \n",
    "         np.arange(2600, 2921), np.arange(3000, 3541), np.arange(3600,3656),\n",
    "         np.arange(3700,3955+1), np.arange(4000, 4151), np.arange(4200,4251), \n",
    "         np.arange(4300,4651), np.arange(4700,4966), np.arange(5000, 5941), \n",
    "         np.arange(6000, 6131), np.arange(6200, 6941), np.arange(7000, 7631), \n",
    "         np.arange(7700, 8966), np.arange(9000,9751), np.arange(9800, 9831)]\n",
    "povertyLst = [np.arange(0, 101), np.arange(100, 201), np.arange(200, 601)]"
   ]
  },
  {
   "cell_type": "code",
   "execution_count": 182,
   "metadata": {},
   "outputs": [],
   "source": [
    "data_copy = pd_data.copy()"
   ]
  },
  {
   "cell_type": "code",
   "execution_count": 183,
   "metadata": {},
   "outputs": [],
   "source": [
    "j=0\n",
    "for i in rangeLst:\n",
    "    replace_column(i, data_copy, 'ind', j)\n",
    "    j +=1\n",
    "k=0\n",
    "for i in occLst:\n",
    "    replace_column(i, data_copy, 'occ', k)\n",
    "    k+=1\n",
    "m=0\n",
    "for i in povertyLst:\n",
    "    replace_column(i, data_copy, 'poverty', m)\n",
    "    m +=1"
   ]
  },
  {
   "cell_type": "code",
   "execution_count": 184,
   "metadata": {},
   "outputs": [],
   "source": [
    "occupation_dict = {\n",
    "    0: 'Management, Business',\n",
    "    1: 'Business Operations',\n",
    "    2: 'Financial Specialists', \n",
    "    3: 'Computer Operations',\n",
    "    4: 'Architecture & Engineering',\n",
    "    5: 'Life & Social Sciences',\n",
    "    6: 'Community & Social Services',\n",
    "    7: 'Legal Occupations' ,\n",
    "    8: 'Education & Training',\n",
    "    9: 'Arts, Design & Entertainment',\n",
    "    10: 'Healthcare Practitioners',\n",
    "    11: 'Healthcare Support',\n",
    "    12: 'Protective Services',\n",
    "    13: 'Food Preparation', \n",
    "    14: 'Building & Grounds Cleaning',\n",
    "    15: 'Personal Care & Service', \n",
    "    16: 'Sales',\n",
    "    17: 'Office & Administrative Support', \n",
    "    18: 'Farming, Fishing',\n",
    "    19: 'Construction',\n",
    "    20: 'Installation',\n",
    "    21: 'Production',\n",
    "    22: 'Transportation of Materials',\n",
    "    23: 'Military Specific '\n",
    "}\n",
    "\n",
    "industry_dict = {\n",
    "    0: 'Agriculture, Hunting, Forestry',\n",
    "    1: 'Transportation, Warehouse',\n",
    "    2: 'Construction',\n",
    "    3: 'Manufacturing',\n",
    "    4: 'Wholesale Trade',\n",
    "    5: 'Retail Trade',\n",
    "    6: 'Transportation, Warehouse',\n",
    "    7: 'Information',\n",
    "    8: 'Finance and Insurance',\n",
    "    9: 'Real Estate, Rental, Leasing',\n",
    "    10: 'Company Management',\n",
    "    11: 'Waste Management',\n",
    "    12: 'Educational Services',\n",
    "    13: 'Health Care', \n",
    "    14: 'Arts & Recreation', \n",
    "    15: 'Accomodation and Food Services', \n",
    "    16: 'Other services', \n",
    "    17: 'Public Administration',\n",
    "    18: 'Active Duty Military'\n",
    "}\n",
    "\n",
    "hispanic_dict = {'Puerto Rican': 'Hispanic', 'Mexican': 'Hispanic', 'Cuban': \n",
    "                 'Hispanic',  'Other hispan': 'Hispanic', 'Not Hispanic': 'Not hispanic'}\n",
    "\n",
    "poverty_dict = {\n",
    "        0: 'Poverty',\n",
    "        1: 'Near Poverty',\n",
    "        2: 'Non-Poverty',\n",
    "    }\n",
    "\n",
    "race_dict = {'Other Asian or Pacific Islander': 'Asian/Pacific Islander', \n",
    "            'Chinese': 'Asian/Pacific Islander', 'Japanese': 'Asian/Pacific Islander',\n",
    "            'Two major races': 'Two or more races', 'Three or more major races': 'Two or more races',\n",
    "            'Other race, nec': 'Other', 'Black/African American/Negro': 'African American'}\n",
    "\n",
    "education_dict = {'Grade 12': 'High School', '4 years of college': 'College',\n",
    "                  '5+ years of college': 'Graduate', 'Grade 5, 6, 7, or 8': 'No HS',\n",
    "                  'Grade 11': 'No HS', '2 years of college': 'Some college', \n",
    "                 'N/A or no schooling': 'No HS', 'Nursery school to grade 4':'No HS',\n",
    "                 'Grade 9': 'No HS', 'Grade 10':'No HS', '1 year of college': 'Some college'}"
   ]
  },
  {
   "cell_type": "code",
   "execution_count": 185,
   "metadata": {},
   "outputs": [],
   "source": [
    "data_copy.replace({'occ': occupation_dict, 'ind': industry_dict, 'poverty': poverty_dict,\n",
    "                          'hispan': hispanic_dict, 'race': race_dict, 'educ': education_dict}, inplace=True)"
   ]
  },
  {
   "cell_type": "code",
   "execution_count": 186,
   "metadata": {},
   "outputs": [],
   "source": [
    "data_copy.replace(to_replace='90 (90+ in 1980 and 1990)', value=90, inplace=True)"
   ]
  },
  {
   "cell_type": "code",
   "execution_count": 187,
   "metadata": {},
   "outputs": [],
   "source": [
    "cleaned_data = data_copy.to_csv('cleanedData.csv', index=None, header=True)"
   ]
  },
  {
   "cell_type": "code",
   "execution_count": 188,
   "metadata": {},
   "outputs": [],
   "source": [
    "original_data =  pd.read_csv('113Adata.csv')\n",
    "\n",
    "#almost all missing values for years in 2017, so drop that column\n",
    "original_data = original_data.drop(columns = ['wkswork1'])\n",
    "\n",
    "#filter out missing values (NaNs) to produce clean dataframe\n",
    "original_data = original_data.dropna()"
   ]
  },
  {
   "cell_type": "code",
   "execution_count": 189,
   "metadata": {},
   "outputs": [],
   "source": [
    "j=0\n",
    "for i in rangeLst:\n",
    "    replace_column(i, original_data, 'ind', j)\n",
    "    j +=1\n",
    "k=0\n",
    "for i in occLst:\n",
    "    replace_column(i, original_data, 'occ', k)\n",
    "    k+=1\n",
    "m=0\n",
    "for i in povertyLst:\n",
    "    replace_column(i, original_data, 'poverty', m)\n",
    "    m +=1"
   ]
  },
  {
   "cell_type": "code",
   "execution_count": 190,
   "metadata": {},
   "outputs": [],
   "source": [
    "original_data.replace({'occ': occupation_dict, 'ind': industry_dict, 'poverty': poverty_dict,\n",
    "                          'hispan': hispanic_dict, 'race': race_dict, 'educ': education_dict}, inplace=True)"
   ]
  },
  {
   "cell_type": "code",
   "execution_count": 191,
   "metadata": {},
   "outputs": [],
   "source": [
    "original_data.replace(to_replace='90 (90+ in 1980 and 1990)', value=90, inplace=True)\n",
    "original_data.to_csv('originalData.csv', index=None, header=True)"
   ]
  },
  {
   "cell_type": "code",
   "execution_count": 192,
   "metadata": {},
   "outputs": [],
   "source": [
    "seven_table = original_data[original_data['year'] == 2007]\n",
    "seventeen_table = original_data[original_data['year'] == 2017]"
   ]
  },
  {
   "cell_type": "code",
   "execution_count": 163,
   "metadata": {},
   "outputs": [],
   "source": [
    "def takeTableSample(data, column, feature, year):\n",
    "    data = data[data['year'] == year]\n",
    "    percentage = data[column].value_counts(normalize=True, sort=True)[feature]\n",
    "    sample_size = 160000 * percentage\n",
    "    data = data[data[column] == feature]\n",
    "    return data.sample(int(sample_size))"
   ]
  },
  {
   "cell_type": "code",
   "execution_count": 164,
   "metadata": {},
   "outputs": [],
   "source": [
    "def sampledTable(data, column, year):\n",
    "    sample = pd.DataFrame()\n",
    "    for feature in data[data['year'] == year][column].value_counts(normalize=True, sort=True).index:\n",
    "        new_sample = takeTableSample(data, column, feature, year)\n",
    "        sample = pd.concat([sample, new_sample])\n",
    "    return sample"
   ]
  },
  {
   "cell_type": "code",
   "execution_count": 165,
   "metadata": {},
   "outputs": [],
   "source": [
    "first_try = sampledTable(original_data, 'occ', 2007)"
   ]
  },
  {
   "cell_type": "code",
   "execution_count": 169,
   "metadata": {},
   "outputs": [],
   "source": [
    "prop_sample = first_try['occ'].value_counts(normalize=True)"
   ]
  },
  {
   "cell_type": "code",
   "execution_count": 167,
   "metadata": {},
   "outputs": [
    {
     "data": {
      "text/plain": [
       "(178339, 159988)"
      ]
     },
     "execution_count": 167,
     "metadata": {},
     "output_type": "execute_result"
    }
   ],
   "source": [
    "len(seven_table), len(first_try)"
   ]
  },
  {
   "cell_type": "code",
   "execution_count": 170,
   "metadata": {},
   "outputs": [],
   "source": [
    "prop_seven = seven_table['occ'].value_counts(normalize=True)"
   ]
  },
  {
   "cell_type": "code",
   "execution_count": 176,
   "metadata": {},
   "outputs": [
    {
     "data": {
      "text/plain": [
       "array([ 0.,  0.,  0.,  0., -0.,  0., -0., -0., -0., -0., -0., -0., -0.,\n",
       "       -0., -0., -0., -0.,  0., -0., -0., -0., -0., -0., -0.])"
      ]
     },
     "execution_count": 176,
     "metadata": {},
     "output_type": "execute_result"
    }
   ],
   "source": [
    "np.round(prop_sample.values - prop_seven.values)"
   ]
  },
  {
   "cell_type": "code",
   "execution_count": 177,
   "metadata": {},
   "outputs": [
    {
     "data": {
      "text/plain": [
       "-12"
      ]
     },
     "execution_count": 177,
     "metadata": {},
     "output_type": "execute_result"
    }
   ],
   "source": [
    "len(first_try) - 160000"
   ]
  },
  {
   "cell_type": "markdown",
   "metadata": {},
   "source": [
    "# Scratch work for final data analysis "
   ]
  },
  {
   "cell_type": "code",
   "execution_count": null,
   "metadata": {},
   "outputs": [],
   "source": [
    "p = sns.countplot(data=occupation_seven,\n",
    "                  x = 'ind',\n",
    "                  order=occupation_seven['ind'].value_counts(sort=True).index[0:5])\n",
    "p.set_xticklabels(p.get_xticklabels(), rotation=45, ha='right')\n",
    "p.set_title('Top 5 Industries in 2007');\n",
    "p.set_xlabel('Industry');"
   ]
  },
  {
   "cell_type": "code",
   "execution_count": null,
   "metadata": {},
   "outputs": [],
   "source": [
    "ax = sns.countplot(data=occupation_seventeen,\n",
    "                  x = 'ind',\n",
    "                   order=occupation_seventeen['ind'].value_counts(sort=True).index[0:5])\n",
    "ax.set_xticklabels(ax.get_xticklabels(), rotation=45, ha='right')\n",
    "ax.set_title('Top 5 Industries in 2017');\n",
    "ax.set_xlabel('Industries');"
   ]
  }
 ],
 "metadata": {
  "kernelspec": {
   "display_name": "Python 3",
   "language": "python",
   "name": "python3"
  },
  "language_info": {
   "codemirror_mode": {
    "name": "ipython",
    "version": 3
   },
   "file_extension": ".py",
   "mimetype": "text/x-python",
   "name": "python",
   "nbconvert_exporter": "python",
   "pygments_lexer": "ipython3",
   "version": "3.7.3"
  }
 },
 "nbformat": 4,
 "nbformat_minor": 2
}
