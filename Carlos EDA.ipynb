{
 "cells": [
  {
   "cell_type": "code",
   "execution_count": 142,
   "metadata": {},
   "outputs": [],
   "source": [
    "from datascience import *\n",
    "import pandas as pd\n",
    "import numpy as np\n",
    "import seaborn as sns \n",
    "import matplotlib as plt\n",
    "%matplotlib inline\n",
    "\n",
    "import csv\n",
    "import zipfile\n",
    "from pathlib import Path\n",
    "import re"
   ]
  },
  {
   "cell_type": "code",
   "execution_count": 146,
   "metadata": {},
   "outputs": [],
   "source": [
    "sampled = pd.read_csv('cp113.csv')\n",
    "data = Table().from_df(sampled, keep_index=False).drop(0)\n",
    "pd_data = data.to_df()\n",
    "pd_data = pd_data.drop(columns=['classwkr', 'classwkrd', 'empstatd', 'inctot'])"
   ]
  },
  {
   "cell_type": "code",
   "execution_count": 148,
   "metadata": {},
   "outputs": [],
   "source": [
    "def replace_column(lst, data, column, new_value):\n",
    "    return data[column].replace(lst, new_value, inplace=True)"
   ]
  },
  {
   "cell_type": "code",
   "execution_count": 149,
   "metadata": {},
   "outputs": [],
   "source": [
    "rangeLst = [np.arange(170, 490+1), np.arange(570, 960+1), np.arange(770, 771), \n",
    "           np.arange(1070, 3990+1), np.arange(4070, 4590+1), np.arange(4670, 5790+1), \n",
    "           np.arange(6070, 6390+1), np.arange(6470, 6780+1), np.arange(6870, 6990+1), \n",
    "           np.arange(7070, 7190+1), np.arange(7270, 7570+1), np.arange(7580, 7790+1),\n",
    "           np.arange(7860, 7890+1), np.arange(7970, 8470+1), np.arange(8560, 8590+1), \n",
    "           np.arange(8660, 8690+1), np.arange(8770, 9290+1), np.arange(9370, 9590+1), \n",
    "           np.arange(9670, 9870+1)]\n",
    "occLst = [np.arange(10, 430+1), np.arange(500, 741), np.arange(800, 950+1), \n",
    "         np.arange(1000, 1240+1), np.arange(1300, 1560+1), np.arange(1600, 1965+1),\n",
    "         np.arange(2000, 2060+1), np.arange(2100, 2160+1), np.arange(2200, 2550+1), \n",
    "         np.arange(2600, 2921), np.arange(3000, 3541), np.arange(3600,3656),\n",
    "         np.arange(3700,3955+1), np.arange(4000, 4151), np.arange(4200,4251), \n",
    "         np.arange(4300,4651), np.arange(4700,4966), np.arange(5000, 5941), \n",
    "         np.arange(6000, 6131), np.arange(6200, 6941), np.arange(7000, 7631), \n",
    "         np.arange(7700, 8966), np.arange(9000,9751), np.arange(9800, 9831)]\n",
    "povertyLst = [np.arange(0, 101), np.arange(100, 201), np.arange(200, 601)]"
   ]
  },
  {
   "cell_type": "code",
   "execution_count": 150,
   "metadata": {},
   "outputs": [],
   "source": [
    "data_copy = pd_data.copy()"
   ]
  },
  {
   "cell_type": "code",
   "execution_count": 151,
   "metadata": {},
   "outputs": [],
   "source": [
    "j=0\n",
    "for i in rangeLst:\n",
    "    replace_column(i, data_copy, 'ind', j)\n",
    "    j +=1\n",
    "k=0\n",
    "for i in occLst:\n",
    "    replace_column(i, data_copy, 'occ', k)\n",
    "    k+=1\n",
    "m=0\n",
    "for i in povertyLst:\n",
    "    replace_column(i, data_copy, 'poverty', m)\n",
    "    m +=1"
   ]
  },
  {
   "cell_type": "code",
   "execution_count": 170,
   "metadata": {},
   "outputs": [],
   "source": [
    "occupation_dict = {\n",
    "    0: 'Management, Business, Science, and Arts Occupations',\n",
    "    1: 'Business Operations',\n",
    "    2: 'Financial Specialists', \n",
    "    3: 'Computer Operations',\n",
    "    4: 'Architecture & Engineering',\n",
    "    5: 'Life & Social Sciences',\n",
    "    6: 'Community & Social Services',\n",
    "    7: 'Legal Occupations' ,\n",
    "    8: 'Education & Training',\n",
    "    9: 'Arts, Design & Entertainment',\n",
    "    10: 'Healthcare Practitioners',\n",
    "    11: 'Healthcare Support',\n",
    "    12: 'Protective Services',\n",
    "    13: 'Food Preparation', \n",
    "    14: 'Building & Grounds Cleaning',\n",
    "    15: 'Personal Care & Service', \n",
    "    16: 'Sales',\n",
    "    17: 'Office & Administrative Support', \n",
    "    18: 'Farming, Fishing',\n",
    "    19: 'Construction',\n",
    "    20: 'Installation',\n",
    "    21: 'Production',\n",
    "    22: 'Transportation and Material Moving',\n",
    "    23: 'Military Specific '\n",
    "}\n",
    "\n",
    "industry_dict = {\n",
    "    0: 'Agriculture, Hunting, Forestry',\n",
    "    1: 'Transportation, Warehouse',\n",
    "    2: 'Construction',\n",
    "    3: 'Manufacturing',\n",
    "    4: 'Wholesale Trade',\n",
    "    5: 'Retail Trade',\n",
    "    6: 'Transportation, Warehouse',\n",
    "    7: 'Information',\n",
    "    8: 'Finance and Insurance',\n",
    "    9: 'Real Estate, Rental, Leasing',\n",
    "    10: 'Company Management',\n",
    "    11: 'Waste Management',\n",
    "    12: 'Educational Services',\n",
    "    13: 'Health Care', \n",
    "    14: 'Arts & Recreation', \n",
    "    15: 'Accomodation and Food Services', \n",
    "    16: 'Other services', \n",
    "    17: 'Public Administration',\n",
    "    18: 'Active Duty Military'\n",
    "}\n",
    "\n",
    "hispanic_dict = {'Puerto Rican': 'Hispanic', 'Mexican': 'Hispanic', 'Cuban': \n",
    "                 'Hispanic',  'Other hispan': 'Hispanic', 'Not Hispanic': 'Not hispanic'}\n",
    "\n",
    "poverty_dict = {\n",
    "        0: 'Poverty',\n",
    "        1: 'Near Poverty',\n",
    "        2: 'Non-Poverty',\n",
    "    }\n",
    "\n",
    "race_dict = {'Other Asian or Pacific Islander': 'Asian/Pacific Islander', \n",
    "            'Chinese': 'Asian/Pacific Islander', 'Japanese': 'Asian/Pacific Islander',\n",
    "            'Two major races': 'Two or more races', 'Three or more major races': 'Two or more races',\n",
    "            'Other race, nec': 'Other', 'Black/African American/Negro': 'African American'}\n",
    "\n",
    "education_dict = {'Grade 12': 'High School', '4 years of college': 'College',\n",
    "                  '5+ years of college': 'Graduate', 'Grade 5, 6, 7, or 8': 'No HS',\n",
    "                  'Grade 11': 'No HS', '2 years of college': 'Some college', \n",
    "                 'N/A or no schooling': 'No HS', 'Nursery school to grade 4':'No HS',\n",
    "                 'Grade 9': 'No HS', 'Grade 10':'No HS', '1 year of college': 'Some college'}"
   ]
  },
  {
   "cell_type": "code",
   "execution_count": 172,
   "metadata": {},
   "outputs": [
    {
     "data": {
      "text/html": [
       "<div>\n",
       "<style scoped>\n",
       "    .dataframe tbody tr th:only-of-type {\n",
       "        vertical-align: middle;\n",
       "    }\n",
       "\n",
       "    .dataframe tbody tr th {\n",
       "        vertical-align: top;\n",
       "    }\n",
       "\n",
       "    .dataframe thead th {\n",
       "        text-align: right;\n",
       "    }\n",
       "</style>\n",
       "<table border=\"1\" class=\"dataframe\">\n",
       "  <thead>\n",
       "    <tr style=\"text-align: right;\">\n",
       "      <th></th>\n",
       "      <th>hhwt</th>\n",
       "      <th>statefip</th>\n",
       "      <th>countyfip</th>\n",
       "      <th>met2013</th>\n",
       "      <th>city</th>\n",
       "      <th>ownershp</th>\n",
       "      <th>hhincome</th>\n",
       "      <th>foodstmp</th>\n",
       "      <th>perwt</th>\n",
       "      <th>age</th>\n",
       "      <th>...</th>\n",
       "      <th>empstat</th>\n",
       "      <th>labforce</th>\n",
       "      <th>occ</th>\n",
       "      <th>ind</th>\n",
       "      <th>uhrswork</th>\n",
       "      <th>ftotinc</th>\n",
       "      <th>incwage</th>\n",
       "      <th>poverty</th>\n",
       "      <th>pwcounty</th>\n",
       "      <th>pwmet13</th>\n",
       "    </tr>\n",
       "  </thead>\n",
       "  <tbody>\n",
       "    <tr>\n",
       "      <th>0</th>\n",
       "      <td>68</td>\n",
       "      <td>California</td>\n",
       "      <td>65</td>\n",
       "      <td>Riverside-San Bernardino-Ontario, CA</td>\n",
       "      <td>Not in identifiable city (or size group)</td>\n",
       "      <td>Rented</td>\n",
       "      <td>25280</td>\n",
       "      <td>No</td>\n",
       "      <td>66</td>\n",
       "      <td>48</td>\n",
       "      <td>...</td>\n",
       "      <td>Employed</td>\n",
       "      <td>Yes, in the labor force</td>\n",
       "      <td>Management, Business, Science, and Arts Occupa...</td>\n",
       "      <td>Agriculture, Hunting, Forestry</td>\n",
       "      <td>30</td>\n",
       "      <td>25280</td>\n",
       "      <td>0</td>\n",
       "      <td>Near Poverty</td>\n",
       "      <td>65</td>\n",
       "      <td>Riverside-San Bernardino-Ontario, CA</td>\n",
       "    </tr>\n",
       "    <tr>\n",
       "      <th>1</th>\n",
       "      <td>94</td>\n",
       "      <td>California</td>\n",
       "      <td>71</td>\n",
       "      <td>Riverside-San Bernardino-Ontario, CA</td>\n",
       "      <td>Rancho Cucamonga, CA</td>\n",
       "      <td>Owned or being bought (loan)</td>\n",
       "      <td>147300</td>\n",
       "      <td>Yes</td>\n",
       "      <td>129</td>\n",
       "      <td>41</td>\n",
       "      <td>...</td>\n",
       "      <td>Employed</td>\n",
       "      <td>Yes, in the labor force</td>\n",
       "      <td>Sales</td>\n",
       "      <td>Wholesale Trade</td>\n",
       "      <td>40</td>\n",
       "      <td>147300</td>\n",
       "      <td>26200</td>\n",
       "      <td>Non-Poverty</td>\n",
       "      <td>71</td>\n",
       "      <td>Riverside-San Bernardino-Ontario, CA</td>\n",
       "    </tr>\n",
       "  </tbody>\n",
       "</table>\n",
       "<p>2 rows × 23 columns</p>\n",
       "</div>"
      ],
      "text/plain": [
       "   hhwt    statefip  countyfip                               met2013  \\\n",
       "0    68  California         65  Riverside-San Bernardino-Ontario, CA   \n",
       "1    94  California         71  Riverside-San Bernardino-Ontario, CA   \n",
       "\n",
       "                                       city                      ownershp  \\\n",
       "0  Not in identifiable city (or size group)                        Rented   \n",
       "1                      Rancho Cucamonga, CA  Owned or being bought (loan)   \n",
       "\n",
       "   hhincome foodstmp  perwt age  ...   empstat                 labforce  \\\n",
       "0     25280       No     66  48  ...  Employed  Yes, in the labor force   \n",
       "1    147300      Yes    129  41  ...  Employed  Yes, in the labor force   \n",
       "\n",
       "                                                 occ  \\\n",
       "0  Management, Business, Science, and Arts Occupa...   \n",
       "1                                              Sales   \n",
       "\n",
       "                              ind uhrswork ftotinc incwage       poverty  \\\n",
       "0  Agriculture, Hunting, Forestry       30   25280       0  Near Poverty   \n",
       "1                 Wholesale Trade       40  147300   26200   Non-Poverty   \n",
       "\n",
       "   pwcounty                               pwmet13  \n",
       "0        65  Riverside-San Bernardino-Ontario, CA  \n",
       "1        71  Riverside-San Bernardino-Ontario, CA  \n",
       "\n",
       "[2 rows x 23 columns]"
      ]
     },
     "execution_count": 172,
     "metadata": {},
     "output_type": "execute_result"
    }
   ],
   "source": [
    "data_copy.replace({'occ': occupation_dict, 'ind': industry_dict, 'poverty': poverty_dict,\n",
    "                          'hispan': hispanic_dict, 'race': race_dict, 'educ': education_dict}, inplace=True)\n",
    "data_copy.head(2)"
   ]
  },
  {
   "cell_type": "code",
   "execution_count": 154,
   "metadata": {},
   "outputs": [
    {
     "data": {
      "image/png": "[encoded data removed]",
      "text/plain": [
       "<Figure size 432x288 with 1 Axes>"
      ]
     },
     "metadata": {
      "needs_background": "light"
     },
     "output_type": "display_data"
    }
   ],
   "source": [
    "ax = sns.countplot(data_copy['ind'], order=np.unique(data_copy['ind']))\n",
    "ax.set_xticklabels(ax.get_xticklabels(), rotation=90);"
   ]
  },
  {
   "cell_type": "code",
   "execution_count": 163,
   "metadata": {},
   "outputs": [
    {
     "data": {
      "text/plain": [
       "White                               202047\n",
       "Asian/Pacific Islander               49044\n",
       "Other                                41282\n",
       "African American                     14287\n",
       "Two or more races                    10666\n",
       "American Indian or Alaska Native      2674\n",
       "Name: race, dtype: int64"
      ]
     },
     "execution_count": 163,
     "metadata": {},
     "output_type": "execute_result"
    }
   ],
   "source": [
    "data_copy['race'].value_counts()"
   ]
  },
  {
   "cell_type": "code",
   "execution_count": null,
   "metadata": {},
   "outputs": [],
   "source": []
  }
 ],
 "metadata": {
  "kernelspec": {
   "display_name": "Python 3",
   "language": "python",
   "name": "python3"
  },
  "language_info": {
   "codemirror_mode": {
    "name": "ipython",
    "version": 3
   },
   "file_extension": ".py",
   "mimetype": "text/x-python",
   "name": "python",
   "nbconvert_exporter": "python",
   "pygments_lexer": "ipython3",
   "version": "3.7.3"
  }
 },
 "nbformat": 4,
 "nbformat_minor": 2
}
