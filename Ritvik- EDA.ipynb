{
 "cells": [
  {
   "cell_type": "code",
   "execution_count": 95,
   "metadata": {},
   "outputs": [],
   "source": [
    "import pandas as pd\n",
    "import seaborn as sns \n",
    "import matplotlib.pyplot as plt\n",
    "import numpy as np\n",
    "%matplotlib inline\n",
    "sns.set(style=\"whitegrid\")"
   ]
  },
  {
   "cell_type": "code",
   "execution_count": 28,
   "metadata": {},
   "outputs": [
    {
     "data": {
      "text/html": [
       "<div>\n",
       "<style scoped>\n",
       "    .dataframe tbody tr th:only-of-type {\n",
       "        vertical-align: middle;\n",
       "    }\n",
       "\n",
       "    .dataframe tbody tr th {\n",
       "        vertical-align: top;\n",
       "    }\n",
       "\n",
       "    .dataframe thead th {\n",
       "        text-align: right;\n",
       "    }\n",
       "</style>\n",
       "<table border=\"1\" class=\"dataframe\">\n",
       "  <thead>\n",
       "    <tr style=\"text-align: right;\">\n",
       "      <th></th>\n",
       "      <th>year</th>\n",
       "      <th>hhwt</th>\n",
       "      <th>statefip</th>\n",
       "      <th>countyfip</th>\n",
       "      <th>met2013</th>\n",
       "      <th>city</th>\n",
       "      <th>ownershp</th>\n",
       "      <th>hhincome</th>\n",
       "      <th>foodstmp</th>\n",
       "      <th>perwt</th>\n",
       "      <th>...</th>\n",
       "      <th>ind</th>\n",
       "      <th>classwkr</th>\n",
       "      <th>classwkrd</th>\n",
       "      <th>uhrswork</th>\n",
       "      <th>inctot</th>\n",
       "      <th>ftotinc</th>\n",
       "      <th>incwage</th>\n",
       "      <th>poverty</th>\n",
       "      <th>pwcounty</th>\n",
       "      <th>pwmet13</th>\n",
       "    </tr>\n",
       "  </thead>\n",
       "  <tbody>\n",
       "    <tr>\n",
       "      <th>0</th>\n",
       "      <td>2007</td>\n",
       "      <td>71</td>\n",
       "      <td>California</td>\n",
       "      <td>37</td>\n",
       "      <td>Los Angeles-Long Beach-Anaheim, CA</td>\n",
       "      <td>Not in identifiable city (or size group)</td>\n",
       "      <td>Owned or being bought (loan)</td>\n",
       "      <td>138800</td>\n",
       "      <td>No</td>\n",
       "      <td>69</td>\n",
       "      <td>...</td>\n",
       "      <td>7270</td>\n",
       "      <td>Works for wages</td>\n",
       "      <td>Wage/salary, private</td>\n",
       "      <td>60</td>\n",
       "      <td>115000</td>\n",
       "      <td>138800</td>\n",
       "      <td>115000</td>\n",
       "      <td>501</td>\n",
       "      <td>37</td>\n",
       "      <td>Los Angeles-Long Beach-Anaheim, CA</td>\n",
       "    </tr>\n",
       "    <tr>\n",
       "      <th>1</th>\n",
       "      <td>2007</td>\n",
       "      <td>58</td>\n",
       "      <td>California</td>\n",
       "      <td>29</td>\n",
       "      <td>Bakersfield, CA</td>\n",
       "      <td>Not in identifiable city (or size group)</td>\n",
       "      <td>Rented</td>\n",
       "      <td>55200</td>\n",
       "      <td>No</td>\n",
       "      <td>72</td>\n",
       "      <td>...</td>\n",
       "      <td>170</td>\n",
       "      <td>Works for wages</td>\n",
       "      <td>Wage/salary, private</td>\n",
       "      <td>40</td>\n",
       "      <td>13200</td>\n",
       "      <td>55200</td>\n",
       "      <td>13200</td>\n",
       "      <td>216</td>\n",
       "      <td>29</td>\n",
       "      <td>Bakersfield, CA</td>\n",
       "    </tr>\n",
       "    <tr>\n",
       "      <th>2</th>\n",
       "      <td>2007</td>\n",
       "      <td>52</td>\n",
       "      <td>California</td>\n",
       "      <td>29</td>\n",
       "      <td>Bakersfield, CA</td>\n",
       "      <td>Not in identifiable city (or size group)</td>\n",
       "      <td>Owned or being bought (loan)</td>\n",
       "      <td>56000</td>\n",
       "      <td>No</td>\n",
       "      <td>57</td>\n",
       "      <td>...</td>\n",
       "      <td>5380</td>\n",
       "      <td>Works for wages</td>\n",
       "      <td>Wage/salary, private</td>\n",
       "      <td>40</td>\n",
       "      <td>28000</td>\n",
       "      <td>56000</td>\n",
       "      <td>28000</td>\n",
       "      <td>409</td>\n",
       "      <td>29</td>\n",
       "      <td>Bakersfield, CA</td>\n",
       "    </tr>\n",
       "  </tbody>\n",
       "</table>\n",
       "<p>3 rows × 28 columns</p>\n",
       "</div>"
      ],
      "text/plain": [
       "   year  hhwt    statefip  countyfip                             met2013  \\\n",
       "0  2007    71  California         37  Los Angeles-Long Beach-Anaheim, CA   \n",
       "1  2007    58  California         29                     Bakersfield, CA   \n",
       "2  2007    52  California         29                     Bakersfield, CA   \n",
       "\n",
       "                                       city                      ownershp  \\\n",
       "0  Not in identifiable city (or size group)  Owned or being bought (loan)   \n",
       "1  Not in identifiable city (or size group)                        Rented   \n",
       "2  Not in identifiable city (or size group)  Owned or being bought (loan)   \n",
       "\n",
       "   hhincome foodstmp  perwt  ...   ind         classwkr             classwkrd  \\\n",
       "0    138800       No     69  ...  7270  Works for wages  Wage/salary, private   \n",
       "1     55200       No     72  ...   170  Works for wages  Wage/salary, private   \n",
       "2     56000       No     57  ...  5380  Works for wages  Wage/salary, private   \n",
       "\n",
       "  uhrswork  inctot ftotinc incwage  poverty  pwcounty  \\\n",
       "0       60  115000  138800  115000      501        37   \n",
       "1       40   13200   55200   13200      216        29   \n",
       "2       40   28000   56000   28000      409        29   \n",
       "\n",
       "                              pwmet13  \n",
       "0  Los Angeles-Long Beach-Anaheim, CA  \n",
       "1                     Bakersfield, CA  \n",
       "2                     Bakersfield, CA  \n",
       "\n",
       "[3 rows x 28 columns]"
      ]
     },
     "execution_count": 28,
     "metadata": {},
     "output_type": "execute_result"
    }
   ],
   "source": [
    "data = pd.read_csv('cp113.csv', low_memory=False)\n",
    "data.head(3)"
   ]
  },
  {
   "cell_type": "markdown",
   "metadata": {},
   "source": [
    "### EDA: Wages by Industry and Occupation "
   ]
  },
  {
   "cell_type": "markdown",
   "metadata": {},
   "source": [
    "Let's try to look at how the top 10 industries have evolved over a decade from 2007 to 2017. "
   ]
  },
  {
   "cell_type": "code",
   "execution_count": 70,
   "metadata": {},
   "outputs": [
    {
     "data": {
      "text/html": [
       "<div>\n",
       "<style scoped>\n",
       "    .dataframe tbody tr th:only-of-type {\n",
       "        vertical-align: middle;\n",
       "    }\n",
       "\n",
       "    .dataframe tbody tr th {\n",
       "        vertical-align: top;\n",
       "    }\n",
       "\n",
       "    .dataframe thead th {\n",
       "        text-align: right;\n",
       "    }\n",
       "</style>\n",
       "<table border=\"1\" class=\"dataframe\">\n",
       "  <thead>\n",
       "    <tr style=\"text-align: right;\">\n",
       "      <th></th>\n",
       "      <th>year</th>\n",
       "      <th>occ</th>\n",
       "      <th>ind</th>\n",
       "    </tr>\n",
       "  </thead>\n",
       "  <tbody>\n",
       "    <tr>\n",
       "      <th>0</th>\n",
       "      <td>2007</td>\n",
       "      <td>2100</td>\n",
       "      <td>7270</td>\n",
       "    </tr>\n",
       "    <tr>\n",
       "      <th>1</th>\n",
       "      <td>2007</td>\n",
       "      <td>6050</td>\n",
       "      <td>170</td>\n",
       "    </tr>\n",
       "  </tbody>\n",
       "</table>\n",
       "</div>"
      ],
      "text/plain": [
       "   year   occ   ind\n",
       "0  2007  2100  7270\n",
       "1  2007  6050   170"
      ]
     },
     "execution_count": 70,
     "metadata": {},
     "output_type": "execute_result"
    }
   ],
   "source": [
    "wio = data[['year', 'occ', 'ind']]\n",
    "wio.head(2)"
   ]
  },
  {
   "cell_type": "code",
   "execution_count": 77,
   "metadata": {},
   "outputs": [
    {
     "data": {
      "text/plain": [
       "0.236325"
      ]
     },
     "execution_count": 77,
     "metadata": {},
     "output_type": "execute_result"
    }
   ],
   "source": [
    "top_5_occ_2007 = wio[wio['year'] == 2007].groupby('occ').count().sort_values('year', ascending = False).reset_index()['occ'].iloc[0:5]\n",
    "len(wio[wio['occ'].isin(top_5_occ_2007)])/len(wio[wio['year'] == 2007])"
   ]
  },
  {
   "cell_type": "code",
   "execution_count": 78,
   "metadata": {},
   "outputs": [
    {
     "data": {
      "text/plain": [
       "468"
      ]
     },
     "execution_count": 78,
     "metadata": {},
     "output_type": "execute_result"
    }
   ],
   "source": [
    "len(np.unique(wio[wio['year'] == 2007]['occ']))"
   ]
  },
  {
   "cell_type": "markdown",
   "metadata": {},
   "source": [
    "In 2007, over 23% of people worked in one of the top-5 most popular occupations. Let's try to see if the top-5 occupations have changed over a span of 10 years. "
   ]
  },
  {
   "cell_type": "code",
   "execution_count": 79,
   "metadata": {},
   "outputs": [
    {
     "data": {
      "text/plain": [
       "0    4760\n",
       "1     430\n",
       "2    5700\n",
       "3    2310\n",
       "4    4720\n",
       "Name: occ, dtype: int64"
      ]
     },
     "execution_count": 79,
     "metadata": {},
     "output_type": "execute_result"
    }
   ],
   "source": [
    "top_5_occ_2007"
   ]
  },
  {
   "cell_type": "code",
   "execution_count": 80,
   "metadata": {},
   "outputs": [
    {
     "data": {
      "text/plain": [
       "5"
      ]
     },
     "execution_count": 80,
     "metadata": {},
     "output_type": "execute_result"
    }
   ],
   "source": [
    "len(wio[(wio['year'] == 2017) & (wio['occ'].isin(top_5_occ_2007))].groupby('occ').count().sort_values('year', ascending = False)['year'].values)"
   ]
  },
  {
   "cell_type": "code",
   "execution_count": 81,
   "metadata": {},
   "outputs": [
    {
     "data": {
      "text/plain": [
       "5"
      ]
     },
     "execution_count": 81,
     "metadata": {},
     "output_type": "execute_result"
    }
   ],
   "source": [
    "len(wio[(wio['year'] == 2007) & (wio['occ'].isin(top_5_occ_2007))].groupby('occ').count().sort_values('year', ascending = False)['year'].values)"
   ]
  },
  {
   "cell_type": "code",
   "execution_count": 83,
   "metadata": {},
   "outputs": [
    {
     "data": {
      "text/html": [
       "<div>\n",
       "<style scoped>\n",
       "    .dataframe tbody tr th:only-of-type {\n",
       "        vertical-align: middle;\n",
       "    }\n",
       "\n",
       "    .dataframe tbody tr th {\n",
       "        vertical-align: top;\n",
       "    }\n",
       "\n",
       "    .dataframe thead th {\n",
       "        text-align: right;\n",
       "    }\n",
       "</style>\n",
       "<table border=\"1\" class=\"dataframe\">\n",
       "  <thead>\n",
       "    <tr style=\"text-align: right;\">\n",
       "      <th></th>\n",
       "      <th>occupation</th>\n",
       "      <th>2007 Count</th>\n",
       "      <th>2017 Count</th>\n",
       "      <th>Change (2017 - 2007)</th>\n",
       "    </tr>\n",
       "  </thead>\n",
       "  <tbody>\n",
       "    <tr>\n",
       "      <th>0</th>\n",
       "      <td>4760</td>\n",
       "      <td>4016</td>\n",
       "      <td>5109</td>\n",
       "      <td>1093</td>\n",
       "    </tr>\n",
       "    <tr>\n",
       "      <th>1</th>\n",
       "      <td>430</td>\n",
       "      <td>3925</td>\n",
       "      <td>3647</td>\n",
       "      <td>-278</td>\n",
       "    </tr>\n",
       "    <tr>\n",
       "      <th>2</th>\n",
       "      <td>5700</td>\n",
       "      <td>3827</td>\n",
       "      <td>3468</td>\n",
       "      <td>-359</td>\n",
       "    </tr>\n",
       "    <tr>\n",
       "      <th>3</th>\n",
       "      <td>2310</td>\n",
       "      <td>3827</td>\n",
       "      <td>3444</td>\n",
       "      <td>-383</td>\n",
       "    </tr>\n",
       "    <tr>\n",
       "      <th>4</th>\n",
       "      <td>4720</td>\n",
       "      <td>3547</td>\n",
       "      <td>3002</td>\n",
       "      <td>-545</td>\n",
       "    </tr>\n",
       "  </tbody>\n",
       "</table>\n",
       "</div>"
      ],
      "text/plain": [
       "   occupation  2007 Count  2017 Count  Change (2017 - 2007)\n",
       "0        4760        4016        5109                  1093\n",
       "1         430        3925        3647                  -278\n",
       "2        5700        3827        3468                  -359\n",
       "3        2310        3827        3444                  -383\n",
       "4        4720        3547        3002                  -545"
      ]
     },
     "execution_count": 83,
     "metadata": {},
     "output_type": "execute_result"
    }
   ],
   "source": [
    "frame = pd.DataFrame({'occupation':top_5_occ_2007.values, '2007 Count':wio[(wio['year'] == 2007) & (wio['occ'].isin(top_5_occ_2007))].groupby('occ').count().sort_values('year', ascending = False)['year'].values, '2017 Count':wio[(wio['year'] == 2017) & (wio['occ'].isin(top_5_occ_2007))].groupby('occ').count().sort_values('year', ascending = False)['year'].values})\n",
    "frame['Change (2017 - 2007)'] = frame['2017 Count'] - frame['2007 Count']\n",
    "frame"
   ]
  },
  {
   "cell_type": "code",
   "execution_count": 84,
   "metadata": {},
   "outputs": [
    {
     "data": {
      "text/plain": [
       "-472"
      ]
     },
     "execution_count": 84,
     "metadata": {},
     "output_type": "execute_result"
    }
   ],
   "source": [
    "net_change = np.sum(frame['Change (2017 - 2007)'])\n",
    "net_change"
   ]
  },
  {
   "cell_type": "markdown",
   "metadata": {},
   "source": [
    "Overall, there has been a decrease in participation in the top-5 occupations from 2007 to 2017. Let's visualize this change. "
   ]
  },
  {
   "cell_type": "code",
   "execution_count": 89,
   "metadata": {},
   "outputs": [
    {
     "data": {
      "text/plain": [
       "occupation\n",
       "4760    4016\n",
       "430     3925\n",
       "5700    3827\n",
       "2310    3827\n",
       "4720    3547\n",
       "Name: 2007 Count, dtype: int64"
      ]
     },
     "execution_count": 89,
     "metadata": {},
     "output_type": "execute_result"
    }
   ],
   "source": [
    "frame.set_index('occupation')['2007 Count']"
   ]
  },
  {
   "cell_type": "code",
   "execution_count": 96,
   "metadata": {},
   "outputs": [
    {
     "data": {
      "image/png": "[encoded data removed]",
      "text/plain": [
       "<Figure size 1080x720 with 1 Axes>"
      ]
     },
     "metadata": {},
     "output_type": "display_data"
    }
   ],
   "source": [
    "plt.figure(figsize=(15,10));\n",
    "ax = sns.barplot(x = 'occupation', y = '2007 Count', data = frame)\n",
    "ax.set_xticklabels(ax.get_xticklabels(), rotation=90);\n",
    "ax.set_title('Counts of Top-5 Occupation of Workers in 2007');"
   ]
  },
  {
   "cell_type": "code",
   "execution_count": 97,
   "metadata": {},
   "outputs": [
    {
     "data": {
      "image/png": "[encoded data removed]",
      "text/plain": [
       "<Figure size 1080x720 with 1 Axes>"
      ]
     },
     "metadata": {},
     "output_type": "display_data"
    }
   ],
   "source": [
    "plt.figure(figsize=(15,10));\n",
    "ax = sns.barplot(x = 'occupation', y = '2017 Count', data = frame)\n",
    "ax.set_xticklabels(ax.get_xticklabels(), rotation=90);\n",
    "ax.set_title('Counts of Top-5 Occupation of Workers in 2017');"
   ]
  },
  {
   "cell_type": "markdown",
   "metadata": {},
   "source": [
    "Use the data dictionary to see what specific occupations were affected. Speculate on reasons why this may have occured. "
   ]
  },
  {
   "cell_type": "markdown",
   "metadata": {},
   "source": [
    "### EDA: Employment "
   ]
  },
  {
   "cell_type": "markdown",
   "metadata": {},
   "source": [
    "Let's now turn our attention to employment over a span of 10 years. "
   ]
  },
  {
   "cell_type": "code",
   "execution_count": 99,
   "metadata": {},
   "outputs": [
    {
     "data": {
      "text/plain": [
       "Index(['year', 'hhwt', 'statefip', 'countyfip', 'met2013', 'city', 'ownershp',\n",
       "       'hhincome', 'foodstmp', 'perwt', 'age', 'race', 'hispan', 'educ',\n",
       "       'empstat', 'empstatd', 'labforce', 'occ', 'ind', 'classwkr',\n",
       "       'classwkrd', 'uhrswork', 'inctot', 'ftotinc', 'incwage', 'poverty',\n",
       "       'pwcounty', 'pwmet13'],\n",
       "      dtype='object')"
      ]
     },
     "execution_count": 99,
     "metadata": {},
     "output_type": "execute_result"
    }
   ],
   "source": [
    "data.columns"
   ]
  },
  {
   "cell_type": "code",
   "execution_count": 104,
   "metadata": {},
   "outputs": [
    {
     "data": {
      "text/plain": [
       "[1, 1]"
      ]
     },
     "execution_count": 104,
     "metadata": {},
     "output_type": "execute_result"
    }
   ],
   "source": [
    "[1] * 2"
   ]
  },
  {
   "cell_type": "code",
   "execution_count": 109,
   "metadata": {},
   "outputs": [
    {
     "name": "stderr",
     "output_type": "stream",
     "text": [
      "C:\\Anaconda3\\lib\\site-packages\\ipykernel_launcher.py:2: SettingWithCopyWarning: \n",
      "A value is trying to be set on a copy of a slice from a DataFrame.\n",
      "Try using .loc[row_indexer,col_indexer] = value instead\n",
      "\n",
      "See the caveats in the documentation: http://pandas.pydata.org/pandas-docs/stable/indexing.html#indexing-view-versus-copy\n",
      "  \n"
     ]
    },
    {
     "data": {
      "text/html": [
       "<div>\n",
       "<style scoped>\n",
       "    .dataframe tbody tr th:only-of-type {\n",
       "        vertical-align: middle;\n",
       "    }\n",
       "\n",
       "    .dataframe tbody tr th {\n",
       "        vertical-align: top;\n",
       "    }\n",
       "\n",
       "    .dataframe thead th {\n",
       "        text-align: right;\n",
       "    }\n",
       "</style>\n",
       "<table border=\"1\" class=\"dataframe\">\n",
       "  <thead>\n",
       "    <tr style=\"text-align: right;\">\n",
       "      <th></th>\n",
       "      <th></th>\n",
       "      <th>tally</th>\n",
       "    </tr>\n",
       "    <tr>\n",
       "      <th>year</th>\n",
       "      <th>empstat</th>\n",
       "      <th></th>\n",
       "    </tr>\n",
       "  </thead>\n",
       "  <tbody>\n",
       "    <tr>\n",
       "      <th rowspan=\"3\" valign=\"top\">2007</th>\n",
       "      <th>Employed</th>\n",
       "      <td>141009</td>\n",
       "    </tr>\n",
       "    <tr>\n",
       "      <th>Not in labor force</th>\n",
       "      <td>12542</td>\n",
       "    </tr>\n",
       "    <tr>\n",
       "      <th>Unemployed</th>\n",
       "      <td>6449</td>\n",
       "    </tr>\n",
       "    <tr>\n",
       "      <th rowspan=\"3\" valign=\"top\">2017</th>\n",
       "      <th>Employed</th>\n",
       "      <td>147090</td>\n",
       "    </tr>\n",
       "    <tr>\n",
       "      <th>Not in labor force</th>\n",
       "      <td>8367</td>\n",
       "    </tr>\n",
       "    <tr>\n",
       "      <th>Unemployed</th>\n",
       "      <td>4543</td>\n",
       "    </tr>\n",
       "  </tbody>\n",
       "</table>\n",
       "</div>"
      ],
      "text/plain": [
       "                          tally\n",
       "year empstat                   \n",
       "2007 Employed            141009\n",
       "     Not in labor force   12542\n",
       "     Unemployed            6449\n",
       "2017 Employed            147090\n",
       "     Not in labor force    8367\n",
       "     Unemployed            4543"
      ]
     },
     "execution_count": 109,
     "metadata": {},
     "output_type": "execute_result"
    }
   ],
   "source": [
    "first = data[['year', 'empstat']]\n",
    "first['tally'] = [1] * len(first)\n",
    "grouped = first.groupby(['year', 'empstat']).count()\n",
    "grouped"
   ]
  },
  {
   "cell_type": "code",
   "execution_count": 117,
   "metadata": {},
   "outputs": [
    {
     "data": {
      "text/plain": [
       "-6081"
      ]
     },
     "execution_count": 117,
     "metadata": {},
     "output_type": "execute_result"
    }
   ],
   "source": [
    "change_in_num_employed = grouped['tally'][0] - grouped['tally'][3]\n",
    "change_in_num_employed"
   ]
  },
  {
   "cell_type": "code",
   "execution_count": 119,
   "metadata": {},
   "outputs": [
    {
     "data": {
      "text/plain": [
       "4175"
      ]
     },
     "execution_count": 119,
     "metadata": {},
     "output_type": "execute_result"
    }
   ],
   "source": [
    "change_in_num_not_in_labor_force = grouped['tally'][1] - grouped['tally'][4]\n",
    "change_in_num_not_in_labor_force"
   ]
  },
  {
   "cell_type": "code",
   "execution_count": 120,
   "metadata": {},
   "outputs": [
    {
     "data": {
      "text/plain": [
       "1906"
      ]
     },
     "execution_count": 120,
     "metadata": {},
     "output_type": "execute_result"
    }
   ],
   "source": [
    "change_in_num_unemployed = grouped['tally'][2] - grouped['tally'][5]\n",
    "change_in_num_unemployed"
   ]
  },
  {
   "cell_type": "markdown",
   "metadata": {},
   "source": [
    "Interpret these numbers? Why might they have arisen?"
   ]
  }
 ],
 "metadata": {
  "kernelspec": {
   "display_name": "Python 3",
   "language": "python",
   "name": "python3"
  },
  "language_info": {
   "codemirror_mode": {
    "name": "ipython",
    "version": 3
   },
   "file_extension": ".py",
   "mimetype": "text/x-python",
   "name": "python",
   "nbconvert_exporter": "python",
   "pygments_lexer": "ipython3",
   "version": "3.6.5"
  }
 },
 "nbformat": 4,
 "nbformat_minor": 2
}
