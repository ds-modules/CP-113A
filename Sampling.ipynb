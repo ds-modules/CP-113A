{
 "cells": [
  {
   "cell_type": "code",
   "execution_count": 1,
   "metadata": {},
   "outputs": [],
   "source": [
    "from datascience import *\n",
    "import pandas as pd\n",
    "import numpy as np\n",
    "import seaborn as sns \n",
    "import matplotlib as plt\n",
    "%matplotlib inline\n",
    "\n",
    "import csv\n",
    "import zipfile\n",
    "from pathlib import Path\n",
    "import re"
   ]
  },
  {
   "cell_type": "code",
   "execution_count": 4,
   "metadata": {},
   "outputs": [],
   "source": [
    "data = pd.read_csv('originalData.csv')"
   ]
  },
  {
   "cell_type": "code",
   "execution_count": 20,
   "metadata": {},
   "outputs": [],
   "source": [
    "def takeTableSample(data, column, feature, year):\n",
    "    data = data[data['year'] == year]\n",
    "    percentage = data[column].value_counts(normalize=True, sort=True)[feature]\n",
    "    sample_size = 160000 * percentage\n",
    "    data = data[data[column] == feature]\n",
    "    return data.sample(int(sample_size))"
   ]
  },
  {
   "cell_type": "code",
   "execution_count": 22,
   "metadata": {},
   "outputs": [],
   "source": [
    "def sampledTable(data, column, year):\n",
    "    sample = pd.DataFrame()\n",
    "    for feature in data[data['year'] == year][column].value_counts(normalize=True, sort=True).index:\n",
    "        new_sample = takeTableSample(data, column, feature, year)\n",
    "        sample = pd.concat([sample, new_sample])\n",
    "    return sample"
   ]
  },
  {
   "cell_type": "code",
   "execution_count": 25,
   "metadata": {},
   "outputs": [],
   "source": [
    "seven = data[data['year'] == 2007]\n",
    "seventeen = data[data['year'] == 2017]"
   ]
  }
 ],
 "metadata": {
  "kernelspec": {
   "display_name": "Python 3",
   "language": "python",
   "name": "python3"
  },
  "language_info": {
   "codemirror_mode": {
    "name": "ipython",
    "version": 3
   },
   "file_extension": ".py",
   "mimetype": "text/x-python",
   "name": "python",
   "nbconvert_exporter": "python",
   "pygments_lexer": "ipython3",
   "version": "3.7.3"
  }
 },
 "nbformat": 4,
 "nbformat_minor": 2
}
