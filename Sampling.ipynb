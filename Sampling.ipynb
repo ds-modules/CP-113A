{
 "cells": [
  {
   "cell_type": "code",
   "execution_count": 84,
   "metadata": {},
   "outputs": [],
   "source": [
    "from datascience import *\n",
    "import pandas as pd\n",
    "import numpy as np\n",
    "import seaborn as sns \n",
    "import matplotlib as plt\n",
    "%matplotlib inline\n",
    "\n",
    "import csv\n",
    "import zipfile\n",
    "from pathlib import Path\n",
    "import re"
   ]
  },
  {
   "cell_type": "code",
<<<<<<< HEAD
   "execution_count": 85,
=======
   "execution_count": 2,
>>>>>>> 9f5b4e8dcc1e38d33fedc11c3fd886cc12be78e6
   "metadata": {},
   "outputs": [
    {
     "data": {
      "text/plain": [
       "Index(['Year', 'Household Weight', 'State', 'County', 'City',\n",
       "       'Ownership Status', 'Household Income', 'Foodstamp Recipient', 'Age',\n",
       "       'Race', 'Hispanic', 'Education Status', 'Employment Status',\n",
       "       'Part of Labor Force', 'Occupation', 'Industry', 'Type of Worker',\n",
       "       'Employment Sector', 'Hours worked per week', 'Personal Pre-Tax Income',\n",
       "       'Pre-Tax Income', 'Pre-Tax Wages', 'Poverty Status'],\n",
       "      dtype='object')"
      ]
     },
     "execution_count": 85,
     "metadata": {},
     "output_type": "execute_result"
    }
   ],
   "source": [
    "data = pd.read_csv('fullData.csv')\n",
    "data.columns"
   ]
  },
  {
   "cell_type": "code",
<<<<<<< HEAD
   "execution_count": 86,
   "metadata": {},
   "outputs": [
    {
     "data": {
      "text/plain": [
       "Works for wages    320290\n",
       "Self-employed       46889\n",
       "Name: Type of Worker, dtype: int64"
      ]
     },
     "execution_count": 86,
     "metadata": {},
     "output_type": "execute_result"
    }
   ],
   "source": [
    "data['Type of Worker'].value_counts()"
   ]
  },
  {
   "cell_type": "code",
   "execution_count": 87,
=======
   "execution_count": 3,
>>>>>>> 9f5b4e8dcc1e38d33fedc11c3fd886cc12be78e6
   "metadata": {},
   "outputs": [],
   "source": [
    "def takeTableSample(data, column, feature, year):\n",
    "    data = data[data['Year'] == year]\n",
    "    percentage = data[column].value_counts(normalize=True, sort=True)[feature]\n",
    "    sample_size = 160000 * percentage\n",
    "    data = data[data[column] == feature]\n",
    "    return data.sample(int(round(sample_size)))"
   ]
  },
  {
   "cell_type": "code",
<<<<<<< HEAD
   "execution_count": 88,
=======
   "execution_count": 4,
>>>>>>> 9f5b4e8dcc1e38d33fedc11c3fd886cc12be78e6
   "metadata": {},
   "outputs": [],
   "source": [
    "def sampledTable(data, column, year):\n",
    "    sample = pd.DataFrame()\n",
    "    for feature in data[data['Year'] == year][column].value_counts(normalize=True, sort=True).index:\n",
    "        new_sample = takeTableSample(data, column, feature, year)\n",
    "        sample = pd.concat([sample, new_sample])\n",
    "    return sample"
   ]
  },
  {
   "cell_type": "code",
<<<<<<< HEAD
   "execution_count": 89,
   "metadata": {},
   "outputs": [
    {
     "data": {
      "text/plain": [
       "Index(['Year', 'Household Weight', 'State', 'County', 'City',\n",
       "       'Ownership Status', 'Household Income', 'Foodstamp Recipient', 'Age',\n",
       "       'Race', 'Hispanic', 'Education Status', 'Employment Status',\n",
       "       'Part of Labor Force', 'Occupation', 'Industry', 'Type of Worker',\n",
       "       'Employment Sector', 'Hours worked per week', 'Personal Pre-Tax Income',\n",
       "       'Pre-Tax Income', 'Pre-Tax Wages', 'Poverty Status'],\n",
       "      dtype='object')"
      ]
     },
     "execution_count": 89,
     "metadata": {},
     "output_type": "execute_result"
    }
   ],
   "source": [
    "data.columns"
   ]
  },
  {
   "cell_type": "code",
   "execution_count": 90,
=======
   "execution_count": 5,
>>>>>>> 9f5b4e8dcc1e38d33fedc11c3fd886cc12be78e6
   "metadata": {},
   "outputs": [],
   "source": [
    "seven = data[data['Year'] == 2007]\n",
    "seventeen = data[data['Year'] == 2017]"
   ]
  },
  {
   "cell_type": "code",
<<<<<<< HEAD
   "execution_count": 91,
=======
   "execution_count": 6,
>>>>>>> 9f5b4e8dcc1e38d33fedc11c3fd886cc12be78e6
   "metadata": {},
   "outputs": [
    {
     "data": {
<<<<<<< HEAD
      "text/plain": [
       "(160002, 160001)"
      ]
     },
     "execution_count": 91,
=======
      "text/html": [
       "<div>\n",
       "<style scoped>\n",
       "    .dataframe tbody tr th:only-of-type {\n",
       "        vertical-align: middle;\n",
       "    }\n",
       "\n",
       "    .dataframe tbody tr th {\n",
       "        vertical-align: top;\n",
       "    }\n",
       "\n",
       "    .dataframe thead th {\n",
       "        text-align: right;\n",
       "    }\n",
       "</style>\n",
       "<table border=\"1\" class=\"dataframe\">\n",
       "  <thead>\n",
       "    <tr style=\"text-align: right;\">\n",
       "      <th></th>\n",
       "      <th>year</th>\n",
       "      <th>hhwt</th>\n",
       "      <th>statefip</th>\n",
       "      <th>countyfip</th>\n",
       "      <th>met2013</th>\n",
       "      <th>city</th>\n",
       "      <th>ownershp</th>\n",
       "      <th>hhincome</th>\n",
       "      <th>foodstmp</th>\n",
       "      <th>perwt</th>\n",
       "      <th>...</th>\n",
       "      <th>ind</th>\n",
       "      <th>classwkr</th>\n",
       "      <th>classwkrd</th>\n",
       "      <th>uhrswork</th>\n",
       "      <th>inctot</th>\n",
       "      <th>ftotinc</th>\n",
       "      <th>incwage</th>\n",
       "      <th>poverty</th>\n",
       "      <th>pwcounty</th>\n",
       "      <th>pwmet13</th>\n",
       "    </tr>\n",
       "  </thead>\n",
       "  <tbody>\n",
       "    <tr>\n",
       "      <th>0</th>\n",
       "      <td>2007</td>\n",
       "      <td>266</td>\n",
       "      <td>California</td>\n",
       "      <td>25</td>\n",
       "      <td>El Centro, CA</td>\n",
       "      <td>Not in identifiable city (or size group)</td>\n",
       "      <td>Rented</td>\n",
       "      <td>15000</td>\n",
       "      <td>No</td>\n",
       "      <td>270</td>\n",
       "      <td>...</td>\n",
       "      <td>Agriculture, Hunting, Forestry</td>\n",
       "      <td>Works for wages</td>\n",
       "      <td>Wage/salary at non-profit</td>\n",
       "      <td>40</td>\n",
       "      <td>15000</td>\n",
       "      <td>15000</td>\n",
       "      <td>15000</td>\n",
       "      <td>Near Poverty</td>\n",
       "      <td>25</td>\n",
       "      <td>El Centro, CA</td>\n",
       "    </tr>\n",
       "    <tr>\n",
       "      <th>1</th>\n",
       "      <td>2007</td>\n",
       "      <td>67</td>\n",
       "      <td>California</td>\n",
       "      <td>0</td>\n",
       "      <td>Not in identifiable area</td>\n",
       "      <td>Not in identifiable city (or size group)</td>\n",
       "      <td>Owned or being bought (loan)</td>\n",
       "      <td>72000</td>\n",
       "      <td>No</td>\n",
       "      <td>66</td>\n",
       "      <td>...</td>\n",
       "      <td>Health Care</td>\n",
       "      <td>Works for wages</td>\n",
       "      <td>Wage/salary, private</td>\n",
       "      <td>45</td>\n",
       "      <td>70000</td>\n",
       "      <td>72000</td>\n",
       "      <td>70000</td>\n",
       "      <td>Non-Poverty</td>\n",
       "      <td>0</td>\n",
       "      <td>Not in identifiable area</td>\n",
       "    </tr>\n",
       "    <tr>\n",
       "      <th>2</th>\n",
       "      <td>2007</td>\n",
       "      <td>67</td>\n",
       "      <td>California</td>\n",
       "      <td>0</td>\n",
       "      <td>Not in identifiable area</td>\n",
       "      <td>Not in identifiable city (or size group)</td>\n",
       "      <td>Owned or being bought (loan)</td>\n",
       "      <td>72000</td>\n",
       "      <td>No</td>\n",
       "      <td>86</td>\n",
       "      <td>...</td>\n",
       "      <td>Retail Trade</td>\n",
       "      <td>Works for wages</td>\n",
       "      <td>Wage/salary, private</td>\n",
       "      <td>20</td>\n",
       "      <td>2000</td>\n",
       "      <td>72000</td>\n",
       "      <td>2000</td>\n",
       "      <td>Non-Poverty</td>\n",
       "      <td>0</td>\n",
       "      <td>Not in identifiable area</td>\n",
       "    </tr>\n",
       "    <tr>\n",
       "      <th>3</th>\n",
       "      <td>2007</td>\n",
       "      <td>91</td>\n",
       "      <td>California</td>\n",
       "      <td>67</td>\n",
       "      <td>Sacramento--Roseville--Arden-Arcade, CA</td>\n",
       "      <td>Not in identifiable city (or size group)</td>\n",
       "      <td>Owned or being bought (loan)</td>\n",
       "      <td>147800</td>\n",
       "      <td>No</td>\n",
       "      <td>92</td>\n",
       "      <td>...</td>\n",
       "      <td>Company Management</td>\n",
       "      <td>Works for wages</td>\n",
       "      <td>Wage/salary at non-profit</td>\n",
       "      <td>25</td>\n",
       "      <td>147800</td>\n",
       "      <td>147800</td>\n",
       "      <td>86000</td>\n",
       "      <td>Non-Poverty</td>\n",
       "      <td>67</td>\n",
       "      <td>Sacramento--Roseville--Arden-Arcade, CA</td>\n",
       "    </tr>\n",
       "    <tr>\n",
       "      <th>4</th>\n",
       "      <td>2007</td>\n",
       "      <td>193</td>\n",
       "      <td>California</td>\n",
       "      <td>1</td>\n",
       "      <td>San Francisco-Oakland-Hayward, CA</td>\n",
       "      <td>Not in identifiable city (or size group)</td>\n",
       "      <td>Rented</td>\n",
       "      <td>52000</td>\n",
       "      <td>No</td>\n",
       "      <td>193</td>\n",
       "      <td>...</td>\n",
       "      <td>Finance and Insurance</td>\n",
       "      <td>Works for wages</td>\n",
       "      <td>Wage/salary, private</td>\n",
       "      <td>40</td>\n",
       "      <td>52000</td>\n",
       "      <td>52000</td>\n",
       "      <td>52000</td>\n",
       "      <td>Non-Poverty</td>\n",
       "      <td>1</td>\n",
       "      <td>San Francisco-Oakland-Hayward, CA</td>\n",
       "    </tr>\n",
       "  </tbody>\n",
       "</table>\n",
       "<p>5 rows × 28 columns</p>\n",
       "</div>"
      ],
      "text/plain": [
       "   year  hhwt    statefip  countyfip                                  met2013  \\\n",
       "0  2007   266  California         25                            El Centro, CA   \n",
       "1  2007    67  California          0                 Not in identifiable area   \n",
       "2  2007    67  California          0                 Not in identifiable area   \n",
       "3  2007    91  California         67  Sacramento--Roseville--Arden-Arcade, CA   \n",
       "4  2007   193  California          1        San Francisco-Oakland-Hayward, CA   \n",
       "\n",
       "                                       city                      ownershp  \\\n",
       "0  Not in identifiable city (or size group)                        Rented   \n",
       "1  Not in identifiable city (or size group)  Owned or being bought (loan)   \n",
       "2  Not in identifiable city (or size group)  Owned or being bought (loan)   \n",
       "3  Not in identifiable city (or size group)  Owned or being bought (loan)   \n",
       "4  Not in identifiable city (or size group)                        Rented   \n",
       "\n",
       "   hhincome foodstmp  perwt  ...                             ind  \\\n",
       "0     15000       No    270  ...  Agriculture, Hunting, Forestry   \n",
       "1     72000       No     66  ...                     Health Care   \n",
       "2     72000       No     86  ...                    Retail Trade   \n",
       "3    147800       No     92  ...              Company Management   \n",
       "4     52000       No    193  ...           Finance and Insurance   \n",
       "\n",
       "          classwkr                  classwkrd uhrswork  inctot ftotinc  \\\n",
       "0  Works for wages  Wage/salary at non-profit       40   15000   15000   \n",
       "1  Works for wages       Wage/salary, private       45   70000   72000   \n",
       "2  Works for wages       Wage/salary, private       20    2000   72000   \n",
       "3  Works for wages  Wage/salary at non-profit       25  147800  147800   \n",
       "4  Works for wages       Wage/salary, private       40   52000   52000   \n",
       "\n",
       "  incwage       poverty pwcounty                                  pwmet13  \n",
       "0   15000  Near Poverty       25                            El Centro, CA  \n",
       "1   70000   Non-Poverty        0                 Not in identifiable area  \n",
       "2    2000   Non-Poverty        0                 Not in identifiable area  \n",
       "3   86000   Non-Poverty       67  Sacramento--Roseville--Arden-Arcade, CA  \n",
       "4   52000   Non-Poverty        1        San Francisco-Oakland-Hayward, CA  \n",
       "\n",
       "[5 rows x 28 columns]"
      ]
     },
     "execution_count": 6,
>>>>>>> 9f5b4e8dcc1e38d33fedc11c3fd886cc12be78e6
     "metadata": {},
     "output_type": "execute_result"
    }
   ],
   "source": [
<<<<<<< HEAD
    "occupation_sample_seven = sampledTable(data, 'Occupation', 2007)\n",
    "occupation_sample_seventeen = sampledTable(data, 'Occupation', 2017)\n",
    "len(occupation_sample_seven), len(occupation_sample_seventeen)"
=======
    "seven.head()"
>>>>>>> 9f5b4e8dcc1e38d33fedc11c3fd886cc12be78e6
   ]
  },
  {
   "cell_type": "code",
<<<<<<< HEAD
   "execution_count": 104,
   "metadata": {},
   "outputs": [],
   "source": [
    "occupation_sample_seven.replace(to_replace='99 (Topcode)', value=90, inplace=True)\n",
    "occupation_sample_seventeen.replace(to_replace='99 (Topcode)', value=90, inplace=True)"
   ]
  },
  {
   "cell_type": "code",
   "execution_count": 106,
   "metadata": {},
   "outputs": [],
   "source": [
    "occupation_sample_seven.to_csv('occupation_sample_seven.csv', index=False, header=True)"
   ]
  },
  {
   "cell_type": "code",
   "execution_count": 107,
   "metadata": {},
   "outputs": [],
   "source": [
    "occupation_sample_seventeen.to_csv('occupation_sample_seventeen.csv', index=False, header=True)"
   ]
  },
  {
   "cell_type": "code",
   "execution_count": 95,
=======
   "execution_count": 7,
>>>>>>> 9f5b4e8dcc1e38d33fedc11c3fd886cc12be78e6
   "metadata": {},
   "outputs": [
    {
     "data": {
<<<<<<< HEAD
      "text/plain": [
       "(160000, 160000)"
      ]
     },
     "execution_count": 95,
=======
      "text/html": [
       "<div>\n",
       "<style scoped>\n",
       "    .dataframe tbody tr th:only-of-type {\n",
       "        vertical-align: middle;\n",
       "    }\n",
       "\n",
       "    .dataframe tbody tr th {\n",
       "        vertical-align: top;\n",
       "    }\n",
       "\n",
       "    .dataframe thead th {\n",
       "        text-align: right;\n",
       "    }\n",
       "</style>\n",
       "<table border=\"1\" class=\"dataframe\">\n",
       "  <thead>\n",
       "    <tr style=\"text-align: right;\">\n",
       "      <th></th>\n",
       "      <th>year</th>\n",
       "      <th>hhwt</th>\n",
       "      <th>statefip</th>\n",
       "      <th>countyfip</th>\n",
       "      <th>met2013</th>\n",
       "      <th>city</th>\n",
       "      <th>ownershp</th>\n",
       "      <th>hhincome</th>\n",
       "      <th>foodstmp</th>\n",
       "      <th>perwt</th>\n",
       "      <th>...</th>\n",
       "      <th>ind</th>\n",
       "      <th>classwkr</th>\n",
       "      <th>classwkrd</th>\n",
       "      <th>uhrswork</th>\n",
       "      <th>inctot</th>\n",
       "      <th>ftotinc</th>\n",
       "      <th>incwage</th>\n",
       "      <th>poverty</th>\n",
       "      <th>pwcounty</th>\n",
       "      <th>pwmet13</th>\n",
       "    </tr>\n",
       "  </thead>\n",
       "  <tbody>\n",
       "    <tr>\n",
       "      <th>178339</th>\n",
       "      <td>2017</td>\n",
       "      <td>59</td>\n",
       "      <td>California</td>\n",
       "      <td>67</td>\n",
       "      <td>Sacramento--Roseville--Arden-Arcade, CA</td>\n",
       "      <td>Not in identifiable city (or size group)</td>\n",
       "      <td>Rented</td>\n",
       "      <td>47000</td>\n",
       "      <td>Yes</td>\n",
       "      <td>59</td>\n",
       "      <td>...</td>\n",
       "      <td>Transportation, Warehouse</td>\n",
       "      <td>Self-employed</td>\n",
       "      <td>Self-employed, incorporated</td>\n",
       "      <td>48</td>\n",
       "      <td>40000</td>\n",
       "      <td>47000</td>\n",
       "      <td>40000</td>\n",
       "      <td>Non-Poverty</td>\n",
       "      <td>113</td>\n",
       "      <td>Sacramento--Roseville--Arden-Arcade, CA</td>\n",
       "    </tr>\n",
       "    <tr>\n",
       "      <th>178340</th>\n",
       "      <td>2017</td>\n",
       "      <td>59</td>\n",
       "      <td>California</td>\n",
       "      <td>67</td>\n",
       "      <td>Sacramento--Roseville--Arden-Arcade, CA</td>\n",
       "      <td>Not in identifiable city (or size group)</td>\n",
       "      <td>Rented</td>\n",
       "      <td>47000</td>\n",
       "      <td>Yes</td>\n",
       "      <td>57</td>\n",
       "      <td>...</td>\n",
       "      <td>Health Care</td>\n",
       "      <td>Works for wages</td>\n",
       "      <td>Federal govt employee</td>\n",
       "      <td>24</td>\n",
       "      <td>4000</td>\n",
       "      <td>47000</td>\n",
       "      <td>4000</td>\n",
       "      <td>Non-Poverty</td>\n",
       "      <td>67</td>\n",
       "      <td>Sacramento--Roseville--Arden-Arcade, CA</td>\n",
       "    </tr>\n",
       "    <tr>\n",
       "      <th>178341</th>\n",
       "      <td>2017</td>\n",
       "      <td>74</td>\n",
       "      <td>California</td>\n",
       "      <td>1</td>\n",
       "      <td>San Francisco-Oakland-Hayward, CA</td>\n",
       "      <td>Not in identifiable city (or size group)</td>\n",
       "      <td>Owned or being bought (loan)</td>\n",
       "      <td>130500</td>\n",
       "      <td>No</td>\n",
       "      <td>75</td>\n",
       "      <td>...</td>\n",
       "      <td>Company Management</td>\n",
       "      <td>Works for wages</td>\n",
       "      <td>Wage/salary, private</td>\n",
       "      <td>55</td>\n",
       "      <td>130500</td>\n",
       "      <td>130500</td>\n",
       "      <td>130000</td>\n",
       "      <td>Non-Poverty</td>\n",
       "      <td>85</td>\n",
       "      <td>San Jose-Sunnyvale-Santa Clara, CA</td>\n",
       "    </tr>\n",
       "    <tr>\n",
       "      <th>178342</th>\n",
       "      <td>2017</td>\n",
       "      <td>75</td>\n",
       "      <td>California</td>\n",
       "      <td>67</td>\n",
       "      <td>Sacramento--Roseville--Arden-Arcade, CA</td>\n",
       "      <td>Elk Grove, CA</td>\n",
       "      <td>Owned or being bought (loan)</td>\n",
       "      <td>104000</td>\n",
       "      <td>No</td>\n",
       "      <td>74</td>\n",
       "      <td>...</td>\n",
       "      <td>Public Administration</td>\n",
       "      <td>Works for wages</td>\n",
       "      <td>Federal govt employee</td>\n",
       "      <td>65</td>\n",
       "      <td>58000</td>\n",
       "      <td>104000</td>\n",
       "      <td>58000</td>\n",
       "      <td>Non-Poverty</td>\n",
       "      <td>67</td>\n",
       "      <td>Sacramento--Roseville--Arden-Arcade, CA</td>\n",
       "    </tr>\n",
       "    <tr>\n",
       "      <th>178343</th>\n",
       "      <td>2017</td>\n",
       "      <td>75</td>\n",
       "      <td>California</td>\n",
       "      <td>67</td>\n",
       "      <td>Sacramento--Roseville--Arden-Arcade, CA</td>\n",
       "      <td>Elk Grove, CA</td>\n",
       "      <td>Owned or being bought (loan)</td>\n",
       "      <td>104000</td>\n",
       "      <td>No</td>\n",
       "      <td>78</td>\n",
       "      <td>...</td>\n",
       "      <td>Other services</td>\n",
       "      <td>Works for wages</td>\n",
       "      <td>Wage/salary, private</td>\n",
       "      <td>40</td>\n",
       "      <td>38000</td>\n",
       "      <td>104000</td>\n",
       "      <td>38000</td>\n",
       "      <td>Non-Poverty</td>\n",
       "      <td>67</td>\n",
       "      <td>Sacramento--Roseville--Arden-Arcade, CA</td>\n",
       "    </tr>\n",
       "  </tbody>\n",
       "</table>\n",
       "<p>5 rows × 28 columns</p>\n",
       "</div>"
      ],
      "text/plain": [
       "        year  hhwt    statefip  countyfip  \\\n",
       "178339  2017    59  California         67   \n",
       "178340  2017    59  California         67   \n",
       "178341  2017    74  California          1   \n",
       "178342  2017    75  California         67   \n",
       "178343  2017    75  California         67   \n",
       "\n",
       "                                        met2013  \\\n",
       "178339  Sacramento--Roseville--Arden-Arcade, CA   \n",
       "178340  Sacramento--Roseville--Arden-Arcade, CA   \n",
       "178341        San Francisco-Oakland-Hayward, CA   \n",
       "178342  Sacramento--Roseville--Arden-Arcade, CA   \n",
       "178343  Sacramento--Roseville--Arden-Arcade, CA   \n",
       "\n",
       "                                            city  \\\n",
       "178339  Not in identifiable city (or size group)   \n",
       "178340  Not in identifiable city (or size group)   \n",
       "178341  Not in identifiable city (or size group)   \n",
       "178342                             Elk Grove, CA   \n",
       "178343                             Elk Grove, CA   \n",
       "\n",
       "                            ownershp  hhincome foodstmp  perwt  ...  \\\n",
       "178339                        Rented     47000      Yes     59  ...   \n",
       "178340                        Rented     47000      Yes     57  ...   \n",
       "178341  Owned or being bought (loan)    130500       No     75  ...   \n",
       "178342  Owned or being bought (loan)    104000       No     74  ...   \n",
       "178343  Owned or being bought (loan)    104000       No     78  ...   \n",
       "\n",
       "                              ind         classwkr  \\\n",
       "178339  Transportation, Warehouse    Self-employed   \n",
       "178340                Health Care  Works for wages   \n",
       "178341         Company Management  Works for wages   \n",
       "178342      Public Administration  Works for wages   \n",
       "178343             Other services  Works for wages   \n",
       "\n",
       "                          classwkrd uhrswork  inctot ftotinc incwage  \\\n",
       "178339  Self-employed, incorporated       48   40000   47000   40000   \n",
       "178340        Federal govt employee       24    4000   47000    4000   \n",
       "178341         Wage/salary, private       55  130500  130500  130000   \n",
       "178342        Federal govt employee       65   58000  104000   58000   \n",
       "178343         Wage/salary, private       40   38000  104000   38000   \n",
       "\n",
       "            poverty pwcounty                                  pwmet13  \n",
       "178339  Non-Poverty      113  Sacramento--Roseville--Arden-Arcade, CA  \n",
       "178340  Non-Poverty       67  Sacramento--Roseville--Arden-Arcade, CA  \n",
       "178341  Non-Poverty       85       San Jose-Sunnyvale-Santa Clara, CA  \n",
       "178342  Non-Poverty       67  Sacramento--Roseville--Arden-Arcade, CA  \n",
       "178343  Non-Poverty       67  Sacramento--Roseville--Arden-Arcade, CA  \n",
       "\n",
       "[5 rows x 28 columns]"
      ]
     },
     "execution_count": 7,
>>>>>>> 9f5b4e8dcc1e38d33fedc11c3fd886cc12be78e6
     "metadata": {},
     "output_type": "execute_result"
    }
   ],
   "source": [
<<<<<<< HEAD
    "education_sample_seven = sampledTable(data, 'Education Status', 2007)\n",
    "education_sample_seventeen = sampledTable(data, 'Education Status', 2017)\n",
    "len(education_sample_seven), len(education_sample_seventeen)"
   ]
  },
  {
   "cell_type": "code",
   "execution_count": 100,
   "metadata": {},
   "outputs": [],
   "source": [
    "education_sample_seven.replace(to_replace='99 (Topcode)', value=90, inplace=True)\n",
    "education_sample_seventeen.replace(to_replace='99 (Topcode)', value=90, inplace=True)"
=======
    "seventeen.head()"
>>>>>>> 9f5b4e8dcc1e38d33fedc11c3fd886cc12be78e6
   ]
  },
  {
   "cell_type": "code",
<<<<<<< HEAD
   "execution_count": 101,
   "metadata": {},
   "outputs": [],
   "source": [
    "education_sample_seven.to_csv('education_seven.csv', index=False, header=True)\n",
    "education_sample_seventeen.to_csv('education_seventeen.csv', index=False, header=True)"
   ]
  },
  {
   "cell_type": "code",
   "execution_count": 97,
   "metadata": {},
   "outputs": [],
   "source": [
    "education_sample_seven.replace(to_replace='99 (Topcode)', value=90, inplace=True)\n",
    "education_sample_seventeen.replace(to_replace='99 (Topcode)', value=90, inplace=True)"
   ]
  },
  {
   "cell_type": "code",
   "execution_count": 102,
   "metadata": {},
   "outputs": [
    {
     "data": {
      "text/plain": [
       "(160000, 160000)"
      ]
     },
     "execution_count": 102,
     "metadata": {},
     "output_type": "execute_result"
    }
   ],
   "source": [
    "poverty_sample_seven = sampledTable(data, 'Poverty Status', 2007)\n",
    "poverty_sample_seventeen = sampledTable(data, 'Poverty Status', 2017)\n",
    "len(poverty_sample_seven), len(poverty_sample_seventeen)"
   ]
  },
  {
   "cell_type": "code",
   "execution_count": 103,
   "metadata": {},
   "outputs": [],
   "source": [
    "poverty_sample_seven.to_csv('poverty_seven.csv', index=False, header=True)\n",
    "poverty_sample_seventeen.to_csv('poverty_seventeen.csv', index=False, header=True)"
   ]
  },
  {
   "cell_type": "code",
   "execution_count": null,
   "metadata": {},
   "outputs": [],
   "source": []
=======
   "execution_count": null,
   "metadata": {},
   "outputs": [],
   "source": [
    "sampledTable()"
   ]
>>>>>>> 9f5b4e8dcc1e38d33fedc11c3fd886cc12be78e6
  }
 ],
 "metadata": {
  "kernelspec": {
   "display_name": "Python 3",
   "language": "python",
   "name": "python3"
  },
  "language_info": {
   "codemirror_mode": {
    "name": "ipython",
    "version": 3
   },
   "file_extension": ".py",
   "mimetype": "text/x-python",
   "name": "python",
   "nbconvert_exporter": "python",
   "pygments_lexer": "ipython3",
   "version": "3.6.5"
  }
 },
 "nbformat": 4,
 "nbformat_minor": 2
}
