{
 "cells": [
  {
   "cell_type": "code",
   "execution_count": 84,
   "metadata": {},
   "outputs": [],
   "source": [
    "from datascience import *\n",
    "import pandas as pd\n",
    "import numpy as np\n",
    "import seaborn as sns \n",
    "import matplotlib as plt\n",
    "%matplotlib inline\n",
    "\n",
    "import csv\n",
    "import zipfile\n",
    "from pathlib import Path\n",
    "import re"
   ]
  },
  {
   "cell_type": "code",
   "execution_count": 85,
   "metadata": {},
   "outputs": [
    {
     "data": {
      "text/plain": [
       "Index(['Year', 'Household Weight', 'State', 'County', 'City',\n",
       "       'Ownership Status', 'Household Income', 'Foodstamp Recipient', 'Age',\n",
       "       'Race', 'Hispanic', 'Education Status', 'Employment Status',\n",
       "       'Part of Labor Force', 'Occupation', 'Industry', 'Type of Worker',\n",
       "       'Employment Sector', 'Hours worked per week', 'Personal Pre-Tax Income',\n",
       "       'Pre-Tax Income', 'Pre-Tax Wages', 'Poverty Status'],\n",
       "      dtype='object')"
      ]
     },
     "execution_count": 85,
     "metadata": {},
     "output_type": "execute_result"
    }
   ],
   "source": [
    "data = pd.read_csv('fullData.csv')\n",
    "data.columns"
   ]
  },
  {
   "cell_type": "code",
   "execution_count": 86,
   "metadata": {},
   "outputs": [
    {
     "data": {
      "text/plain": [
       "Works for wages    320290\n",
       "Self-employed       46889\n",
       "Name: Type of Worker, dtype: int64"
      ]
     },
     "execution_count": 86,
     "metadata": {},
     "output_type": "execute_result"
    }
   ],
   "source": [
    "data['Type of Worker'].value_counts()"
   ]
  },
  {
   "cell_type": "code",
   "execution_count": 87,
   "metadata": {},
   "outputs": [],
   "source": [
    "def takeTableSample(data, column, feature, year):\n",
    "    data = data[data['Year'] == year]\n",
    "    percentage = data[column].value_counts(normalize=True, sort=True)[feature]\n",
    "    sample_size = 160000 * percentage\n",
    "    data = data[data[column] == feature]\n",
    "    return data.sample(int(round(sample_size)))"
   ]
  },
  {
   "cell_type": "code",
   "execution_count": 88,
   "metadata": {},
   "outputs": [],
   "source": [
    "def sampledTable(data, column, year):\n",
    "    sample = pd.DataFrame()\n",
    "    for feature in data[data['Year'] == year][column].value_counts(normalize=True, sort=True).index:\n",
    "        new_sample = takeTableSample(data, column, feature, year)\n",
    "        sample = pd.concat([sample, new_sample])\n",
    "    return sample"
   ]
  },
  {
   "cell_type": "code",
   "execution_count": 89,
   "metadata": {},
   "outputs": [
    {
     "data": {
      "text/plain": [
       "Index(['Year', 'Household Weight', 'State', 'County', 'City',\n",
       "       'Ownership Status', 'Household Income', 'Foodstamp Recipient', 'Age',\n",
       "       'Race', 'Hispanic', 'Education Status', 'Employment Status',\n",
       "       'Part of Labor Force', 'Occupation', 'Industry', 'Type of Worker',\n",
       "       'Employment Sector', 'Hours worked per week', 'Personal Pre-Tax Income',\n",
       "       'Pre-Tax Income', 'Pre-Tax Wages', 'Poverty Status'],\n",
       "      dtype='object')"
      ]
     },
     "execution_count": 89,
     "metadata": {},
     "output_type": "execute_result"
    }
   ],
   "source": [
    "data.columns"
   ]
  },
  {
   "cell_type": "code",
   "execution_count": 90,
   "metadata": {},
   "outputs": [],
   "source": [
    "seven = data[data['Year'] == 2007]\n",
    "seventeen = data[data['Year'] == 2017]"
   ]
  },
  {
   "cell_type": "code",
   "execution_count": 91,
   "metadata": {},
   "outputs": [
    {
     "data": {
      "text/plain": [
       "(160002, 160001)"
      ]
     },
     "execution_count": 91,
     "metadata": {},
     "output_type": "execute_result"
    }
   ],
   "source": [
    "occupation_sample_seven = sampledTable(data, 'Occupation', 2007)\n",
    "occupation_sample_seventeen = sampledTable(data, 'Occupation', 2017)\n",
    "len(occupation_sample_seven), len(occupation_sample_seventeen)"
   ]
  },
  {
   "cell_type": "code",
   "execution_count": 104,
   "metadata": {},
   "outputs": [],
   "source": [
    "occupation_sample_seven.replace(to_replace='99 (Topcode)', value=90, inplace=True)\n",
    "occupation_sample_seventeen.replace(to_replace='99 (Topcode)', value=90, inplace=True)"
   ]
  },
  {
   "cell_type": "code",
   "execution_count": 106,
   "metadata": {},
   "outputs": [],
   "source": [
    "occupation_sample_seven.to_csv('occupation_sample_seven.csv', index=False, header=True)"
   ]
  },
  {
   "cell_type": "code",
   "execution_count": 107,
   "metadata": {},
   "outputs": [],
   "source": [
    "occupation_sample_seventeen.to_csv('occupation_sample_seventeen.csv', index=False, header=True)"
   ]
  },
  {
   "cell_type": "code",
   "execution_count": 95,
   "metadata": {},
   "outputs": [
    {
     "data": {
      "text/plain": [
       "(160000, 160000)"
      ]
     },
     "execution_count": 95,
     "metadata": {},
     "output_type": "execute_result"
    }
   ],
   "source": [
    "education_sample_seven = sampledTable(data, 'Education Status', 2007)\n",
    "education_sample_seventeen = sampledTable(data, 'Education Status', 2017)\n",
    "len(education_sample_seven), len(education_sample_seventeen)"
   ]
  },
  {
   "cell_type": "code",
   "execution_count": 100,
   "metadata": {},
   "outputs": [],
   "source": [
    "education_sample_seven.replace(to_replace='99 (Topcode)', value=90, inplace=True)\n",
    "education_sample_seventeen.replace(to_replace='99 (Topcode)', value=90, inplace=True)"
   ]
  },
  {
   "cell_type": "code",
   "execution_count": 101,
   "metadata": {},
   "outputs": [],
   "source": [
    "education_sample_seven.to_csv('education_seven.csv', index=False, header=True)\n",
    "education_sample_seventeen.to_csv('education_seventeen.csv', index=False, header=True)"
   ]
  },
  {
   "cell_type": "code",
   "execution_count": 97,
   "metadata": {},
   "outputs": [],
   "source": [
    "education_sample_seven.replace(to_replace='99 (Topcode)', value=90, inplace=True)\n",
    "education_sample_seventeen.replace(to_replace='99 (Topcode)', value=90, inplace=True)"
   ]
  },
  {
   "cell_type": "code",
   "execution_count": 102,
   "metadata": {},
   "outputs": [
    {
     "data": {
      "text/plain": [
       "(160000, 160000)"
      ]
     },
     "execution_count": 102,
     "metadata": {},
     "output_type": "execute_result"
    }
   ],
   "source": [
    "poverty_sample_seven = sampledTable(data, 'Poverty Status', 2007)\n",
    "poverty_sample_seventeen = sampledTable(data, 'Poverty Status', 2017)\n",
    "len(poverty_sample_seven), len(poverty_sample_seventeen)"
   ]
  },
  {
   "cell_type": "code",
   "execution_count": 103,
   "metadata": {},
   "outputs": [],
   "source": [
    "poverty_sample_seven.to_csv('poverty_seven.csv', index=False, header=True)\n",
    "poverty_sample_seventeen.to_csv('poverty_seventeen.csv', index=False, header=True)"
   ]
  },
  {
   "cell_type": "code",
   "execution_count": null,
   "metadata": {},
   "outputs": [],
   "source": []
  }
 ],
 "metadata": {
  "kernelspec": {
   "display_name": "Python 3",
   "language": "python",
   "name": "python3"
  },
  "language_info": {
   "codemirror_mode": {
    "name": "ipython",
    "version": 3
   },
   "file_extension": ".py",
   "mimetype": "text/x-python",
   "name": "python",
   "nbconvert_exporter": "python",
   "pygments_lexer": "ipython3",
   "version": "3.7.3"
  }
 },
 "nbformat": 4,
 "nbformat_minor": 2
}
